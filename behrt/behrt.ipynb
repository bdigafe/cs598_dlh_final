{
  "cells": [
    {
      "cell_type": "markdown",
      "metadata": {
        "id": "VDIyndGVBJZh"
      },
      "source": [
        "### Project: Application of BERT to Electronic Health Records to predit the next diagnosis"
      ]
    },
    {
      "cell_type": "code",
      "execution_count": 1,
      "metadata": {
        "id": "a0_92drJUdvs"
      },
      "outputs": [],
      "source": [
        "local_mode = False\n"
      ]
    },
    {
      "cell_type": "code",
      "source": [
        "if not local_mode:\n",
        "  !mkdir commons\n",
        "  !wget -P commons https://raw.githubusercontent.com/bdigafe/cs598_dlh_final/master/behrt/commons/utils.py\n",
        "  !wget -P commons https://raw.githubusercontent.com/bdigafe/cs598_dlh_final/master/behrt/commons/__init__.py\n",
        "\n",
        "  !mkdir data\n",
        "  !wget -P data https://raw.githubusercontent.com/bdigafe/cs598_dlh_final/master/behrt/data/ages.pkl\n",
        "  !wget -P data https://raw.githubusercontent.com/bdigafe/cs598_dlh_final/master/behrt/data/concept.pkl\n",
        "  !wget -P data https://raw.githubusercontent.com/bdigafe/cs598_dlh_final/master/behrt/data/condition_codes.pkl\n",
        "  !wget -P data https://raw.githubusercontent.com/bdigafe/cs598_dlh_final/master/behrt/data/conditions.pkl\n",
        "\n",
        "  !mkdir saved_models\n"
      ],
      "metadata": {
        "colab": {
          "base_uri": "https://localhost:8080/"
        },
        "id": "OeGwdqC_scn7",
        "outputId": "7db1e0cd-0574-4bf2-bbb3-dbc8ee7d0d74"
      },
      "execution_count": 15,
      "outputs": [
        {
          "output_type": "stream",
          "name": "stdout",
          "text": [
            "--2023-04-22 20:48:43--  https://raw.githubusercontent.com/bdigafe/cs598_dlh_final/master/behrt/commons/utils.py\n",
            "Resolving raw.githubusercontent.com (raw.githubusercontent.com)... 185.199.108.133, 185.199.109.133, 185.199.110.133, ...\n",
            "Connecting to raw.githubusercontent.com (raw.githubusercontent.com)|185.199.108.133|:443... connected.\n",
            "HTTP request sent, awaiting response... 200 OK\n",
            "Length: 10650 (10K) [text/plain]\n",
            "Saving to: ‘commons1/utils.py’\n",
            "\n",
            "\rutils.py              0%[                    ]       0  --.-KB/s               \rutils.py            100%[===================>]  10.40K  --.-KB/s    in 0s      \n",
            "\n",
            "2023-04-22 20:48:43 (115 MB/s) - ‘commons1/utils.py’ saved [10650/10650]\n",
            "\n",
            "--2023-04-22 20:48:43--  https://raw.githubusercontent.com/bdigafe/cs598_dlh_final/master/behrt/commons/__init__.py\n",
            "Resolving raw.githubusercontent.com (raw.githubusercontent.com)... 185.199.110.133, 185.199.109.133, 185.199.111.133, ...\n",
            "Connecting to raw.githubusercontent.com (raw.githubusercontent.com)|185.199.110.133|:443... connected.\n",
            "HTTP request sent, awaiting response... 200 OK\n",
            "Length: 0 [text/plain]\n",
            "Saving to: ‘commons1/__init__.py’\n",
            "\n",
            "__init__.py             [ <=>                ]       0  --.-KB/s    in 0s      \n",
            "\n",
            "2023-04-22 20:48:43 (0.00 B/s) - ‘commons1/__init__.py’ saved [0/0]\n",
            "\n"
          ]
        }
      ]
    },
    {
      "cell_type": "code",
      "execution_count": 2,
      "metadata": {
        "colab": {
          "base_uri": "https://localhost:8080/"
        },
        "id": "gCUA0c8cBgHD",
        "outputId": "b25fceee-7eaf-461e-ba84-b5159544ed75"
      },
      "outputs": [
        {
          "output_type": "stream",
          "name": "stdout",
          "text": [
            "Mounted at /content/gdrive\n"
          ]
        }
      ],
      "source": [
        "if not local_mode:\n",
        "    from google.colab import drive\n",
        "    drive.mount('/content/gdrive')\n",
        "\n",
        "    !cp -r gdrive/MyDrive/behrt/data/ data/\n",
        "    !cp -r gdrive/MyDrive/behrt/commons/ commons/\n",
        "    !cp -r gdrive/MyDrive/behrt/models/ models/"
      ]
    },
    {
      "cell_type": "code",
      "execution_count": 16,
      "metadata": {
        "id": "IayjuaWgBJZm"
      },
      "outputs": [],
      "source": [
        "import os\n",
        "import pdb\n",
        "import sys\n",
        "import time\n",
        "import pickle\n",
        "import random\n",
        "import numpy as np\n",
        "import torch\n",
        "from torch import nn\n",
        "import torch.nn.functional as F\n",
        "import commons.utils as utils\n",
        "\n",
        "# set random seed for reproducibility\n",
        "seed = 123\n",
        "random.seed(seed)\n",
        "np.random.seed(seed)\n",
        "torch.manual_seed(seed)\n",
        "torch.use_deterministic_algorithms(True)\n",
        "os.environ['PYTHONASHSEED'] = str(seed)\n",
        "\n",
        "global_params = {\n",
        "    'device': 'cuda' if torch.cuda.is_available() else 'cpu',\n",
        "    'max_seq_len': 256,\n",
        "    'max_age' : 110,\n",
        "    'age_month' : 1,\n",
        "    'min_visit': 5,\n",
        "\n",
        "    'batch_size': 128,\n",
        "    'num_epochs': 10,\n",
        "    'gradient_accumulation_steps': 1,\n",
        "    'training_sample': 0,\n",
        "    \n",
        "    # Bert model parameters to fine-tune\n",
        "    'attention_heads': 12,\n",
        "    'num_hidden_layers': 6,\n",
        "    'hidden_size': 288\n",
        "}\n",
        "\n",
        "optim_param = {\n",
        "    'lr': 3e-5,\n",
        "    'warmup_proportion': 0.1,\n",
        "    'weight_decay': 0.01\n",
        "}\n",
        "\n",
        "file_config = {\n",
        "    'vocab': ('C:/Birhanu/Education/UIL/cs598/Final/data/' if local_mode else 'data/') + 'condition_codes.pkl',\n",
        "    'data': ('C:/Birhanu/Education/UIL/cs598/Final/data/' if local_mode else 'data/') + 'conditions.pkl',\n",
        "    'ages': ('C:/Birhanu/Education/UIL/cs598/Final/data/' if local_mode else 'data/') + 'ages.pkl',\n",
        "    \n",
        "    'model_path': 'C:/Birhanu/Education/UIL/cs598/Final/saved_models/' if local_mode else 'data/',  # where to save model\n",
        "    'model_name': 'mlm128',  # model name\n",
        "    'log_file_name': 'log',  # log path\n",
        "}\n"
      ]
    },
    {
      "cell_type": "code",
      "execution_count": 19,
      "metadata": {
        "colab": {
          "base_uri": "https://localhost:8080/"
        },
        "id": "6v2r6vexFttq",
        "outputId": "450608f0-9e57-477a-88e4-c712be8030b8"
      },
      "outputs": [
        {
          "output_type": "stream",
          "name": "stdout",
          "text": [
            "cuda\n"
          ]
        }
      ],
      "source": [
        "print(global_params[\"device\"])"
      ]
    },
    {
      "cell_type": "code",
      "execution_count": 20,
      "metadata": {
        "id": "AkM2z7YqH0K6"
      },
      "outputs": [],
      "source": [
        "os.environ[\"CUBLAS_WORKSPACE_CONFIG\"]=\":4096:8\""
      ]
    },
    {
      "cell_type": "markdown",
      "metadata": {
        "id": "Tt_kVGeZBJZo"
      },
      "source": [
        "#### Load pre-processed data\n",
        "Data has been pre-processed and saved as pkl file.\n",
        "\n",
        "- conditions_seqs = [pid, [conditions]]\n",
        "- condition_codes = [code, frequency_count]\n",
        "- ages = [pid, [age for each condition]]"
      ]
    },
    {
      "cell_type": "code",
      "execution_count": 21,
      "metadata": {
        "colab": {
          "base_uri": "https://localhost:8080/"
        },
        "id": "Hf_4wsLcBJZo",
        "outputId": "f5fd6e37-ecfe-43b5-ef1b-8eb9f63824db"
      },
      "outputs": [
        {
          "output_type": "stream",
          "name": "stdout",
          "text": [
            "Condition sequences: \n",
            "      pid                                         conditions\n",
            "0  176101  [1572199, SEP, 35207924, SEP, 35209141, SEP, 1...\n",
            "1  176102  [35207924, 35211387, SEP, 1569634, SEP, 157606...\n",
            "2  176103  [1570669, SEP, 1570669, SEP, 35208969, SEP, 35...\n",
            "3  176104  [35208969, SEP, 35208968, 35208969, SEP, 35208...\n",
            "4  176105  [1568078, 1569178, 1572190, 1572239, SEP, 1568...\n",
            "Age sequences:\n",
            "      pid                                               ages\n",
            "0  176101  [947, 947, 947, 947, 949, 949, 949, 949, 949, ...\n",
            "1  176102  [230, 230, 230, 262, 262, 263, 263, 267, 267, ...\n",
            "2  176103           [664, 664, 666, 666, 672, 672, 684, 684]\n",
            "3  176104  [623, 623, 623, 623, 623, 623, 623, 623, 625, ...\n",
            "4  176105  [683, 683, 683, 683, 683, 684, 684, 684, 689, ...\n",
            "Condition codes:\n",
            "  condition                                     condition_name  counts\n",
            "0     10851  Sprain of joints and ligaments of other parts ...    4323\n",
            "1     11803                Sprain of ligaments of lumbar spine    4293\n",
            "2   1567286                                       Other sepsis    3217\n",
            "3   1567391                Viral infection of unspecified site    4177\n",
            "4   1567392                                    Dermatophytosis    4198\n"
          ]
        }
      ],
      "source": [
        "# Load pickle files\n",
        "conditions_seqs = pickle.load(open(file_config[\"data\"], 'rb'))\n",
        "age_seqs = pickle.load(open(file_config[\"ages\"], 'rb'))\n",
        "condition_codes = pickle.load(open(file_config[\"vocab\"], 'rb'))\n",
        "\n",
        "print(f\"Condition sequences: \\n{conditions_seqs.head()}\")\n",
        "print(f\"Age sequences:\\n{age_seqs.head()}\")\n",
        "print(f\"Condition codes:\\n{condition_codes.head()}\")\n",
        "\n",
        "# convert to numpy array\n",
        "conditions_seqs = np.array(conditions_seqs[\"conditions\"])\n",
        "age_seqs = np.array(age_seqs[\"ages\"])\n",
        "\n",
        "# Keep only a small size for training\n",
        "if (global_params[\"training_sample\"] > 0):\n",
        "    conditions_seqs = conditions_seqs[:global_params[\"training_sample\"]]\n",
        "    age_seqs = age_seqs[:global_params[\"training_sample\"]]\n"
      ]
    },
    {
      "cell_type": "code",
      "execution_count": 22,
      "metadata": {
        "colab": {
          "base_uri": "https://localhost:8080/"
        },
        "id": "Qn4L91F9BJZp",
        "outputId": "4bd10853-512d-441e-c0dd-8296de3534c1"
      },
      "outputs": [
        {
          "output_type": "stream",
          "name": "stdout",
          "text": [
            "Number of patients: 54498\n",
            "Max number of code sequences: 447\n",
            "Max number of age sequences: 447\n"
          ]
        }
      ],
      "source": [
        "# Get the max number of visits per patient for all patients\n",
        "max_code_seqs = np.max([len(seq) for seq in conditions_seqs])\n",
        "max_age_seqs = np.max([len(seq) for seq in age_seqs])\n",
        "\n",
        "# Inspect sequence data\n",
        "print(f\"Number of patients: {len(conditions_seqs)}\")\n",
        "print(f\"Max number of code sequences: {max_code_seqs}\")\n",
        "print(f\"Max number of age sequences: {max_age_seqs}\")\n",
        "\n"
      ]
    },
    {
      "cell_type": "markdown",
      "metadata": {
        "id": "Xw5aN5hdUdv5"
      },
      "source": [
        "#### Build ageVocab\n",
        "This allows conversion between a person's age to an index or an index to age."
      ]
    },
    {
      "cell_type": "code",
      "execution_count": 23,
      "metadata": {
        "id": "yyFbRqd7Udv6"
      },
      "outputs": [],
      "source": [
        "age2idx, idx2age = utils.age_vocab(max_age=110, mon=global_params[\"age_month\"])\n",
        "\n",
        "ageVocab = {\n",
        "    'token2idx': age2idx,\n",
        "    'idx2token': idx2age\n",
        "}\n",
        "\n",
        "assert ageVocab['token2idx'][\"30\"] == 32\n",
        "assert ageVocab['idx2token'][30] == \"28\""
      ]
    },
    {
      "cell_type": "markdown",
      "metadata": {
        "id": "8LbMHMCUBJZs"
      },
      "source": [
        "#### Build code from/to index vocab for condition codes\n",
        "The vocab will be used to convert from/to condition codes and indexes.\n",
        "All the diagnosis codes are loaded from the diag_codes.pkl file."
      ]
    },
    {
      "cell_type": "code",
      "execution_count": 24,
      "metadata": {
        "colab": {
          "base_uri": "https://localhost:8080/"
        },
        "id": "OLHZ-XR6BJZt",
        "outputId": "78f51e75-de76-44bf-d0d3-2def8e541605"
      },
      "outputs": [
        {
          "output_type": "stream",
          "name": "stdout",
          "text": [
            "10851\n"
          ]
        }
      ],
      "source": [
        "conditionsVocab = utils.get_codes_vocab(file_config['vocab'])\n",
        "\n",
        "print(conditionsVocab['idx2token'][5])\n",
        "\n",
        "assert conditionsVocab['idx2token'][5] == \"10851\"\n",
        "assert conditionsVocab['token2idx'][\"10851\"] == 5\n"
      ]
    },
    {
      "cell_type": "markdown",
      "metadata": {
        "id": "FzuVtN-QBJZt"
      },
      "source": [
        "### View distribution of condition codes.\n",
        "We removed conditions with less than 3000 ocurrences but it is good to see the prevalence of the remaining conditions."
      ]
    },
    {
      "cell_type": "code",
      "execution_count": 25,
      "metadata": {
        "colab": {
          "base_uri": "https://localhost:8080/"
        },
        "id": "HSIB0ZzmCpEt",
        "outputId": "622d0184-c6fe-41c3-b82c-b9c4c594b5bf"
      },
      "outputs": [
        {
          "output_type": "stream",
          "name": "stdout",
          "text": [
            "Looking in indexes: https://pypi.org/simple, https://us-python.pkg.dev/colab-wheels/public/simple/\n",
            "Collecting mplcursors\n",
            "  Downloading mplcursors-0.5.2.tar.gz (89 kB)\n",
            "\u001b[2K     \u001b[90m━━━━━━━━━━━━━━━━━━━━━━━━━━━━━━━━━━━━━━━━\u001b[0m \u001b[32m89.0/89.0 kB\u001b[0m \u001b[31m4.1 MB/s\u001b[0m eta \u001b[36m0:00:00\u001b[0m\n",
            "\u001b[?25h  Preparing metadata (setup.py) ... \u001b[?25l\u001b[?25hdone\n",
            "Requirement already satisfied: matplotlib>=3.1 in /usr/local/lib/python3.9/dist-packages (from mplcursors) (3.7.1)\n",
            "Requirement already satisfied: python-dateutil>=2.7 in /usr/local/lib/python3.9/dist-packages (from matplotlib>=3.1->mplcursors) (2.8.2)\n",
            "Requirement already satisfied: cycler>=0.10 in /usr/local/lib/python3.9/dist-packages (from matplotlib>=3.1->mplcursors) (0.11.0)\n",
            "Requirement already satisfied: pyparsing>=2.3.1 in /usr/local/lib/python3.9/dist-packages (from matplotlib>=3.1->mplcursors) (3.0.9)\n",
            "Requirement already satisfied: importlib-resources>=3.2.0 in /usr/local/lib/python3.9/dist-packages (from matplotlib>=3.1->mplcursors) (5.12.0)\n",
            "Requirement already satisfied: numpy>=1.20 in /usr/local/lib/python3.9/dist-packages (from matplotlib>=3.1->mplcursors) (1.22.4)\n",
            "Requirement already satisfied: pillow>=6.2.0 in /usr/local/lib/python3.9/dist-packages (from matplotlib>=3.1->mplcursors) (8.4.0)\n",
            "Requirement already satisfied: fonttools>=4.22.0 in /usr/local/lib/python3.9/dist-packages (from matplotlib>=3.1->mplcursors) (4.39.3)\n",
            "Requirement already satisfied: kiwisolver>=1.0.1 in /usr/local/lib/python3.9/dist-packages (from matplotlib>=3.1->mplcursors) (1.4.4)\n",
            "Requirement already satisfied: contourpy>=1.0.1 in /usr/local/lib/python3.9/dist-packages (from matplotlib>=3.1->mplcursors) (1.0.7)\n",
            "Requirement already satisfied: packaging>=20.0 in /usr/local/lib/python3.9/dist-packages (from matplotlib>=3.1->mplcursors) (23.1)\n",
            "Requirement already satisfied: zipp>=3.1.0 in /usr/local/lib/python3.9/dist-packages (from importlib-resources>=3.2.0->matplotlib>=3.1->mplcursors) (3.15.0)\n",
            "Requirement already satisfied: six>=1.5 in /usr/local/lib/python3.9/dist-packages (from python-dateutil>=2.7->matplotlib>=3.1->mplcursors) (1.16.0)\n",
            "Building wheels for collected packages: mplcursors\n",
            "  Building wheel for mplcursors (setup.py) ... \u001b[?25l\u001b[?25hdone\n",
            "  Created wheel for mplcursors: filename=mplcursors-0.5.2-py3-none-any.whl size=21071 sha256=b9afc8d61e00e8feb8ab68e97f77df056d3f1a53a0b28c60548aeb498634415b\n",
            "  Stored in directory: /root/.cache/pip/wheels/b1/98/ff/4885c231adf3d185efdc38cf8aa2527f1b255ca714a43cb125\n",
            "Successfully built mplcursors\n",
            "Installing collected packages: mplcursors\n",
            "Successfully installed mplcursors-0.5.2\n"
          ]
        }
      ],
      "source": [
        "if not local_mode:\n",
        "    %pip install mplcursors"
      ]
    },
    {
      "cell_type": "code",
      "execution_count": 26,
      "metadata": {
        "colab": {
          "base_uri": "https://localhost:8080/",
          "height": 445
        },
        "id": "oG3EbfukBJZt",
        "outputId": "d7dae2df-2cb9-4319-f329-193fb17a5c2d"
      },
      "outputs": [
        {
          "output_type": "display_data",
          "data": {
            "text/plain": [
              "<Figure size 1000x500 with 1 Axes>"
            ],
            "image/png": "[encoded data removed]"
          },
          "metadata": {}
        }
      ],
      "source": [
        "from matplotlib import pyplot as plt\n",
        "import mplcursors\n",
        "\n",
        "fig, ax = plt.subplots(figsize=(10, 5))\n",
        "scatter = ax.scatter(condition_codes.index, condition_codes[\"counts\"])\n",
        "\n",
        "mplcursor = mplcursors.cursor(scatter, hover=True)\n",
        "mplcursor.connect(\"add\", lambda sel: sel.annotation.set_text(\n",
        "    condition_codes[sel.target.index][\"condition\"]))\n",
        "\n",
        "\n",
        "plt.show()\n"
      ]
    },
    {
      "cell_type": "markdown",
      "metadata": {
        "id": "PoZN0AE7BJZv"
      },
      "source": [
        "### Create a collate function to flatten the diagnosis codes\n",
        "\n",
        "The seqs data has the following format: \n",
        "[pid, vid, [diagnosis codes]]"
      ]
    },
    {
      "cell_type": "code",
      "execution_count": 27,
      "metadata": {
        "id": "s-7Pm0UgBJZv"
      },
      "outputs": [],
      "source": [
        "class Collator:\n",
        "\n",
        "    def __call__(self, data):\n",
        "        \"\"\"\n",
        "            Arguments:\n",
        "                data: a list of samples fetched from 'MLMDataset'\n",
        "\n",
        "            Outputs:\n",
        "                code_seqs: a tensor of shape (# patients, len(condition_codes))\n",
        "                age_seqs: A tensor of shape(# patients, max_age)\n",
        "        \"\"\"\n",
        "        pass\n",
        "\n",
        "collate_fn = Collator()\n"
      ]
    },
    {
      "cell_type": "markdown",
      "metadata": {
        "id": "6Fv7Z3nHBJZv"
      },
      "source": [
        "### Define custom dataset"
      ]
    },
    {
      "cell_type": "code",
      "execution_count": 28,
      "metadata": {
        "id": "eJiaH88IBJZw"
      },
      "outputs": [],
      "source": [
        "from torch.utils.data.dataset import Dataset\n",
        "import numpy as np\n",
        "import torch\n",
        "\n",
        "\n",
        "class MLMDataset(Dataset):\n",
        "    \"\"\"\n",
        "        Dataloader for MLM task. \n",
        "        The input is a list of tokens specified by datafrmae and the output is a list of tokens with masking.\n",
        "        The output is used to train the model to predict the masked tokens.\n",
        "\n",
        "        The dataloaer will return the following:\n",
        "            code: list = list of tokens\n",
        "            age: list = list of age of the patient\n",
        "           \n",
        "            position: list = list of position indexes\n",
        "            segmentation: list = list of segment indexes\n",
        "            mask: list = list of mask indexes  (1 indicate the token is masked)\n",
        "            label: list = list of label indexes (the label is the index of the token in the original tokens)\n",
        "\n",
        "        the input dataframe must have the following columns:\n",
        "            code: list = list of tokens\n",
        "            age: list = list of age of the patient\n",
        "\n",
        "    \"\"\"\n",
        "\n",
        "    def __init__(self, code_seqs, age_seqs, token2idx, age2idx, max_len, code='code', age='age'):\n",
        "        self.max_len = max_len\n",
        "\n",
        "        self.code_seqs = code_seqs\n",
        "        self.age_seqs = age_seqs\n",
        "\n",
        "        self.token2idx = token2idx\n",
        "        self.age2idx = age2idx\n",
        "\n",
        "    def __getitem__(self, index):\n",
        "        \"\"\"\n",
        "        return: age, code, position, segmentation, mask, label\n",
        "        \"\"\"\n",
        "\n",
        "        # extract data\n",
        "        code_tokens = self.code_seqs[index][(-self.max_len+1):]\n",
        "        age_tokens = self.age_seqs[index][(-self.max_len+1):]\n",
        "\n",
        "        # avoid data cut with first element to be 'SEP'\n",
        "        if code_tokens[0] != 'CLS':\n",
        "            code_tokens = np.append(np.array(['CLS']), code_tokens)\n",
        "            age_tokens = np.append(age_tokens[0], age_tokens)\n",
        "\n",
        "        # mask 0:len(code) to 1, padding to be 0\n",
        "        mask = np.ones(self.max_len)\n",
        "        mask[len(code_tokens):] = 0\n",
        "        num_tokens = len(code_tokens)\n",
        "\n",
        "        # Get index for Unknown symbol and Pad symbol\n",
        "        pad_symbol = self.token2idx.get('PAD')\n",
        "\n",
        "        # Pad age sequences\n",
        "        age_tokens = utils.seq_padding(age_tokens, self.max_len, token2idx=self.age2idx)\n",
        "\n",
        "        # Masking: get masked code and label. Token -> Index\n",
        "        out_tokens, label = utils.random_mask(code_tokens, token2idx=self.token2idx)\n",
        "        code_tokens = utils.seq_padding(code_tokens, self.max_len)\n",
        "\n",
        "        # get the number of masked tokens\n",
        "        #n_mask = (torch.tensor(label) != -1).sum().item()\n",
        "        #print(f\"Index: {index}, Total: {num_tokens}, Masked tokens: {n_mask}, Percentage: {n_mask/num_tokens*100:.2f}%\")\n",
        "\n",
        "        # Additinal embeddings Position and Segment)\n",
        "        position = utils.position_idx(code_tokens)\n",
        "        segment = utils.index_seg(code_tokens)\n",
        "\n",
        "        # Pad tokens and lables\n",
        "        out_tokens = utils.seq_padding(out_tokens, self.max_len, symbol=pad_symbol)\n",
        "        label = utils.seq_padding(label, self.max_len, symbol=-1)     \n",
        "\n",
        "        return  torch.LongTensor(out_tokens), \\\n",
        "                torch.LongTensor(age_tokens), \\\n",
        "                torch.LongTensor(position), \\\n",
        "                torch.LongTensor(segment), \\\n",
        "                torch.LongTensor(mask), \\\n",
        "                torch.LongTensor(label)\n",
        "\n",
        "    def __len__(self):\n",
        "        return len(self.code_seqs)\n"
      ]
    },
    {
      "cell_type": "code",
      "execution_count": 29,
      "metadata": {
        "colab": {
          "base_uri": "https://localhost:8080/"
        },
        "id": "N2ooyo2FBJZx",
        "outputId": "a15296d7-b9ae-4050-8e48-aed313eced54"
      },
      "outputs": [
        {
          "output_type": "stream",
          "name": "stdout",
          "text": [
            "Length dataset: 54498\n",
            "\n",
            "UNK\n"
          ]
        }
      ],
      "source": [
        "\n",
        "token2idx = conditionsVocab[\"token2idx\"]\n",
        "age2idx = ageVocab[\"token2idx\"]\n",
        "\n",
        "dataset = MLMDataset(conditions_seqs, age_seqs, token2idx,age2idx, max_len=global_params['max_seq_len'])\n",
        "\n",
        "print(f\"Length dataset: {len(dataset)}\\n\")\n",
        "\n",
        "if (global_params[\"training_sample\"] > 0):\n",
        "    assert len(\n",
        "        dataset) == global_params[\"training_sample\"], \"The number of records is not correct\"\n",
        "else:\n",
        "    assert len(dataset) == 54498, \"The number of records is not correct\"\n",
        "\n",
        "print(conditionsVocab[\"idx2token\"][4])"
      ]
    },
    {
      "cell_type": "code",
      "execution_count": 30,
      "metadata": {
        "colab": {
          "base_uri": "https://localhost:8080/"
        },
        "id": "UgGDNTlxBJZx",
        "outputId": "1ec1e341-1f57-4c96-9171-2f1c6a50f77a"
      },
      "outputs": [
        {
          "output_type": "stream",
          "name": "stdout",
          "text": [
            "Input:\n",
            " tensor([  0, 254,   1, 133,   1,   3,   1, 133,   1, 133,   1, 133,   1, 133,\n",
            "          1, 133, 292,   1, 116, 133], device='cuda:0')\n",
            "\n",
            "Age:\n",
            "tensor([397, 397, 397, 411, 411, 412, 412, 412, 412, 412, 412, 412, 412, 412,\n",
            "        412, 412, 412, 412, 412, 412], device='cuda:0')\n",
            "\n",
            "Positions:\n",
            "tensor([0, 0, 0, 1, 1, 2, 2, 3, 3, 4, 4, 5, 5, 6, 6, 7, 7, 7, 8, 8],\n",
            "       device='cuda:0')\n",
            "\n",
            "Segments:\n",
            "tensor([0, 0, 0, 1, 1, 0, 0, 1, 1, 0, 0, 1, 1, 0, 0, 1, 1, 1, 0, 0],\n",
            "       device='cuda:0')\n",
            "\n",
            "tensor([1, 1, 1, 1, 1, 1, 1, 1, 1, 1], device='cuda:0')\n",
            "tensor([ -1,  -1,  -1,  -1,  -1, 133,  -1,  -1,  -1,  -1], device='cuda:0')\n",
            "0 == CLS\n",
            "1 == SEP\n",
            "2 == PAD\n",
            "3 == MASK\n",
            "4 == UNK\n",
            "tensor([  0,   3, 275,   3,  96,   1, 203,   3,  78, 163], device='cuda:0')\n"
          ]
        }
      ],
      "source": [
        "# Test batch data\n",
        "from torch.utils.data import DataLoader\n",
        "\n",
        "def inspect_batch():\n",
        "    dataset = MLMDataset(conditions_seqs, age_seqs, token2idx, age2idx, max_len=global_params['max_seq_len'])\n",
        "    train_loader = DataLoader(dataset=dataset, batch_size=global_params['batch_size'], shuffle=False)\n",
        "    loader_iter = iter(train_loader)\n",
        "    batch = next(loader_iter)\n",
        "\n",
        "    batch = tuple(t.to(global_params['device']) for t in batch)\n",
        "    input_ids, age_ids, posi_ids, segment_ids, attMask, masked_label = batch\n",
        "    \n",
        "    # Token codes\n",
        "    p = 10\n",
        "    print(f\"Input:\\n {input_ids[p, 0:20]}\\n\")\n",
        "    print(f\"Age:\\n{age_ids[p, 0:20]}\\n\")\n",
        "    print(f\"Positions:\\n{posi_ids[p, 0:20]}\\n\")\n",
        "    print(f\"Segments:\\n{segment_ids[p, 0:20]}\\n\")\n",
        "\n",
        "    print(attMask[p, 0:10])\n",
        "    print(masked_label[p, 0:10])\n",
        "\n",
        "    # Coditions vocab\n",
        "    for i in range(5):\n",
        "      print(f\"{i} == {conditionsVocab['idx2token'][i]}\")\n",
        "\n",
        "    # Display input ids for the 2nd record in the batch\n",
        "    print(input_ids[1, 0:10])\n",
        "\n",
        "inspect_batch()\n",
        "     "
      ]
    },
    {
      "cell_type": "code",
      "execution_count": 31,
      "metadata": {
        "id": "4Np8-oq3BJZy"
      },
      "outputs": [],
      "source": [
        "from torch.utils.data import DataLoader\n",
        "\n",
        "train_loader = DataLoader(dataset=dataset, batch_size=global_params['batch_size'], shuffle=True)\n",
        "\n",
        "loader_iter = iter(train_loader)\n",
        "code_tokens, age_tokens, position, segment, mask, label = next(loader_iter)\n",
        "\n",
        "assert code_tokens.shape == (global_params['batch_size'], global_params['max_seq_len'])\n",
        "assert age_tokens.shape == (global_params['batch_size'], global_params['max_seq_len'])\n",
        "assert position.shape == (global_params['batch_size'], global_params['max_seq_len'])\n",
        "assert segment.shape == (global_params['batch_size'], global_params['max_seq_len'])\n"
      ]
    },
    {
      "cell_type": "markdown",
      "metadata": {
        "id": "oks1uW0PBJZy"
      },
      "source": [
        "### Pre-taining BEHRT"
      ]
    },
    {
      "cell_type": "markdown",
      "metadata": {
        "id": "IURSi9PxUdwA"
      },
      "source": [
        "##### Define BERT model configuration"
      ]
    },
    {
      "cell_type": "code",
      "execution_count": 32,
      "metadata": {
        "id": "8u9Mihm3BJZy"
      },
      "outputs": [],
      "source": [
        "model_config = {\n",
        "    # number of disease + symbols for word embedding\n",
        "    'vocab_size': len(conditionsVocab['token2idx'].keys()),\n",
        "\n",
        "    # word embedding and seg embedding hidden size  \n",
        "    'hidden_size': global_params['hidden_size'],\n",
        "\n",
        "    # number of vocab for seg embedding\n",
        "    'seg_vocab_size': 2,  \n",
        "\n",
        "    # number of vocab for age embedding\n",
        "    'age_vocab_size': len(ageVocab['token2idx'].keys()),\n",
        "    \n",
        "    # maximum number of tokens\n",
        "    'max_position_embedding': global_params['max_seq_len'],\n",
        "\n",
        "    # dropout rate\n",
        "    'hidden_dropout_prob': 0.1, \n",
        "\n",
        "    # number of multi-head attention layers required\n",
        "    'num_hidden_layers': global_params['num_hidden_layers'] ,  \n",
        "\n",
        "    # number of attention heads\n",
        "    'num_attention_heads': global_params['attention_heads'], \n",
        "\n",
        "    # multi-head attention dropout rate\n",
        "    'attention_probs_dropout_prob': 0.1,  \n",
        "\n",
        "    # the size of the \"intermediate\" layer in the transformer encoder\n",
        "    'intermediate_size': 512,\n",
        "\n",
        "    # The non-linear activation function in the encoder and the pooler \"gelu\", 'relu', 'swish' are supported\n",
        "    'hidden_act': 'gelu',\n",
        "\n",
        "    # The layer normalization epsilon\n",
        "    'initializer_range': 0.02, \n",
        "}"
      ]
    },
    {
      "cell_type": "code",
      "execution_count": 33,
      "metadata": {
        "colab": {
          "base_uri": "https://localhost:8080/"
        },
        "id": "1WzYah5mDSyp",
        "outputId": "f59478c5-ede8-45f6-f1dc-9522840eed2a"
      },
      "outputs": [
        {
          "output_type": "stream",
          "name": "stdout",
          "text": [
            "Looking in indexes: https://pypi.org/simple, https://us-python.pkg.dev/colab-wheels/public/simple/\n",
            "Collecting pytorch_pretrained_bert\n",
            "  Downloading pytorch_pretrained_bert-0.6.2-py3-none-any.whl (123 kB)\n",
            "\u001b[?25l     \u001b[90m━━━━━━━━━━━━━━━━━━━━━━━━━━━━━━━━━━━━━━━━\u001b[0m \u001b[32m0.0/123.8 kB\u001b[0m \u001b[31m?\u001b[0m eta \u001b[36m-:--:--\u001b[0m\r\u001b[2K     \u001b[90m━━━━━━━━━━━━━━━━━━━━━━━━━━━━━━━━━━━━━━━\u001b[0m \u001b[32m123.8/123.8 kB\u001b[0m \u001b[31m4.8 MB/s\u001b[0m eta \u001b[36m0:00:00\u001b[0m\n",
            "\u001b[?25hRequirement already satisfied: tqdm in /usr/local/lib/python3.9/dist-packages (from pytorch_pretrained_bert) (4.65.0)\n",
            "Requirement already satisfied: numpy in /usr/local/lib/python3.9/dist-packages (from pytorch_pretrained_bert) (1.22.4)\n",
            "Requirement already satisfied: torch>=0.4.1 in /usr/local/lib/python3.9/dist-packages (from pytorch_pretrained_bert) (2.0.0+cu118)\n",
            "Requirement already satisfied: requests in /usr/local/lib/python3.9/dist-packages (from pytorch_pretrained_bert) (2.27.1)\n",
            "Requirement already satisfied: regex in /usr/local/lib/python3.9/dist-packages (from pytorch_pretrained_bert) (2022.10.31)\n",
            "Collecting boto3\n",
            "  Downloading boto3-1.26.118-py3-none-any.whl (135 kB)\n",
            "\u001b[2K     \u001b[90m━━━━━━━━━━━━━━━━━━━━━━━━━━━━━━━━━━━━━━\u001b[0m \u001b[32m135.6/135.6 kB\u001b[0m \u001b[31m16.6 MB/s\u001b[0m eta \u001b[36m0:00:00\u001b[0m\n",
            "\u001b[?25hRequirement already satisfied: jinja2 in /usr/local/lib/python3.9/dist-packages (from torch>=0.4.1->pytorch_pretrained_bert) (3.1.2)\n",
            "Requirement already satisfied: networkx in /usr/local/lib/python3.9/dist-packages (from torch>=0.4.1->pytorch_pretrained_bert) (3.1)\n",
            "Requirement already satisfied: triton==2.0.0 in /usr/local/lib/python3.9/dist-packages (from torch>=0.4.1->pytorch_pretrained_bert) (2.0.0)\n",
            "Requirement already satisfied: typing-extensions in /usr/local/lib/python3.9/dist-packages (from torch>=0.4.1->pytorch_pretrained_bert) (4.5.0)\n",
            "Requirement already satisfied: filelock in /usr/local/lib/python3.9/dist-packages (from torch>=0.4.1->pytorch_pretrained_bert) (3.11.0)\n",
            "Requirement already satisfied: sympy in /usr/local/lib/python3.9/dist-packages (from torch>=0.4.1->pytorch_pretrained_bert) (1.11.1)\n",
            "Requirement already satisfied: lit in /usr/local/lib/python3.9/dist-packages (from triton==2.0.0->torch>=0.4.1->pytorch_pretrained_bert) (16.0.1)\n",
            "Requirement already satisfied: cmake in /usr/local/lib/python3.9/dist-packages (from triton==2.0.0->torch>=0.4.1->pytorch_pretrained_bert) (3.25.2)\n",
            "Collecting jmespath<2.0.0,>=0.7.1\n",
            "  Downloading jmespath-1.0.1-py3-none-any.whl (20 kB)\n",
            "Collecting botocore<1.30.0,>=1.29.118\n",
            "  Downloading botocore-1.29.118-py3-none-any.whl (10.7 MB)\n",
            "\u001b[2K     \u001b[90m━━━━━━━━━━━━━━━━━━━━━━━━━━━━━━━━━━━━━━━━\u001b[0m \u001b[32m10.7/10.7 MB\u001b[0m \u001b[31m92.7 MB/s\u001b[0m eta \u001b[36m0:00:00\u001b[0m\n",
            "\u001b[?25hCollecting s3transfer<0.7.0,>=0.6.0\n",
            "  Downloading s3transfer-0.6.0-py3-none-any.whl (79 kB)\n",
            "\u001b[2K     \u001b[90m━━━━━━━━━━━━━━━━━━━━━━━━━━━━━━━━━━━━━━━━\u001b[0m \u001b[32m79.6/79.6 kB\u001b[0m \u001b[31m11.9 MB/s\u001b[0m eta \u001b[36m0:00:00\u001b[0m\n",
            "\u001b[?25hRequirement already satisfied: idna<4,>=2.5 in /usr/local/lib/python3.9/dist-packages (from requests->pytorch_pretrained_bert) (3.4)\n",
            "Requirement already satisfied: urllib3<1.27,>=1.21.1 in /usr/local/lib/python3.9/dist-packages (from requests->pytorch_pretrained_bert) (1.26.15)\n",
            "Requirement already satisfied: charset-normalizer~=2.0.0 in /usr/local/lib/python3.9/dist-packages (from requests->pytorch_pretrained_bert) (2.0.12)\n",
            "Requirement already satisfied: certifi>=2017.4.17 in /usr/local/lib/python3.9/dist-packages (from requests->pytorch_pretrained_bert) (2022.12.7)\n",
            "Requirement already satisfied: python-dateutil<3.0.0,>=2.1 in /usr/local/lib/python3.9/dist-packages (from botocore<1.30.0,>=1.29.118->boto3->pytorch_pretrained_bert) (2.8.2)\n",
            "Requirement already satisfied: MarkupSafe>=2.0 in /usr/local/lib/python3.9/dist-packages (from jinja2->torch>=0.4.1->pytorch_pretrained_bert) (2.1.2)\n",
            "Requirement already satisfied: mpmath>=0.19 in /usr/local/lib/python3.9/dist-packages (from sympy->torch>=0.4.1->pytorch_pretrained_bert) (1.3.0)\n",
            "Requirement already satisfied: six>=1.5 in /usr/local/lib/python3.9/dist-packages (from python-dateutil<3.0.0,>=2.1->botocore<1.30.0,>=1.29.118->boto3->pytorch_pretrained_bert) (1.16.0)\n",
            "Installing collected packages: jmespath, botocore, s3transfer, boto3, pytorch_pretrained_bert\n",
            "Successfully installed boto3-1.26.118 botocore-1.29.118 jmespath-1.0.1 pytorch_pretrained_bert-0.6.2 s3transfer-0.6.0\n"
          ]
        }
      ],
      "source": [
        "if not local_mode:\n",
        "    %pip install pytorch_pretrained_bert"
      ]
    },
    {
      "cell_type": "code",
      "execution_count": 34,
      "metadata": {
        "colab": {
          "base_uri": "https://localhost:8080/"
        },
        "id": "EpqTOfkfBJZz",
        "outputId": "887191be-2874-42b3-fedc-b14f0755c75e"
      },
      "outputs": [
        {
          "output_type": "stream",
          "name": "stdout",
          "text": [
            "Total parameters: 4488397\n"
          ]
        }
      ],
      "source": [
        "import models\n",
        "import pytorch_pretrained_bert as Bert\n",
        "import sklearn.metrics as skm\n",
        "\n",
        "import models.BertConfig as BertConfig\n",
        "import models.MLM as MLM\n",
        "from models.optimizer import adam\n",
        "\n",
        "conf = BertConfig.BertConfig(model_config)\n",
        "model = MLM.BertForMaskedLM(conf)\n",
        "model\n",
        "\n",
        "total_params = sum(p.numel() for p in model.parameters())\n",
        "print(f\"Total parameters: {total_params}\")"
      ]
    },
    {
      "cell_type": "code",
      "execution_count": 35,
      "metadata": {
        "colab": {
          "base_uri": "https://localhost:8080/"
        },
        "id": "T3UBaFLSBJZz",
        "outputId": "1dd472a2-285f-4533-f977-6254736be86e"
      },
      "outputs": [
        {
          "output_type": "stream",
          "name": "stderr",
          "text": [
            "WARNING:pytorch_pretrained_bert.optimization:t_total value of -1 results in schedule not being applied\n"
          ]
        }
      ],
      "source": [
        "model = model.to(global_params['device'])\n",
        "optim = adam(params=list(model.named_parameters()), config=optim_param)\n"
      ]
    },
    {
      "cell_type": "code",
      "execution_count": 36,
      "metadata": {
        "id": "Ra0pTkvhBJZ0"
      },
      "outputs": [],
      "source": [
        "def cal_acc(label, pred):\n",
        "    logs = nn.LogSoftmax()\n",
        "    \n",
        "    label = label.cpu().numpy()\n",
        "\n",
        "    # Exclude tokens that were not masked\n",
        "    ind = np.where(label != -1)[0]\n",
        "\n",
        "    # Get True label\n",
        "    truelabel = label[ind]\n",
        "\n",
        "    # Get the true prediction\n",
        "    truepred = pred.detach().cpu().numpy()\n",
        "    truepred = truepred[ind]\n",
        "    truepred = logs(torch.tensor(truepred))\n",
        "    outs = [np.argmax(pred_x) for pred_x in truepred.numpy()]\n",
        "\n",
        "    # Calculate precision\n",
        "    precision = skm.precision_score(truelabel, outs, average='micro')\n",
        "\n",
        "    return precision\n"
      ]
    },
    {
      "cell_type": "code",
      "execution_count": null,
      "metadata": {
        "id": "uhPjyDWwBJZ1"
      },
      "outputs": [],
      "source": [
        "def train(e, loader):\n",
        "    tr_loss = 0\n",
        "    temp_loss = 0\n",
        "    nb_tr_examples, nb_tr_steps = 0, 0\n",
        "    cnt = 0\n",
        "    start = time.time()\n",
        "\n",
        "    for step, batch in enumerate(loader):\n",
        "        cnt += 1\n",
        "        batch = tuple(t.to(global_params['device']) for t in batch)\n",
        "        token_ids, age_ids, posi_ids, segment_ids, attMask, masked_label = batch\n",
        "\n",
        "        # Call Bert Model\n",
        "        loss, pred, label= model(token_ids, age_ids, segment_ids, posi_ids,attention_mask=attMask, masked_lm_labels=masked_label)\n",
        "\n",
        "        if global_params['gradient_accumulation_steps'] > 1:\n",
        "            loss = loss/global_params['gradient_accumulation_steps']\n",
        "            \n",
        "        loss.backward()\n",
        "\n",
        "        temp_loss += loss.item()\n",
        "        tr_loss += loss.item()\n",
        "\n",
        "        # TBD: Remove? They are not used anywhere\n",
        "        nb_tr_examples += token_ids.size(0)\n",
        "        nb_tr_steps += 1\n",
        "\n",
        "        if step % 200 == 0:\n",
        "            print(\"epoch: {}\\t| cnt: {}\\t|Loss: {}\\t| precision: {:.4f}\\t| time: {:.2f}\".format(\n",
        "                e, cnt, temp_loss/200, cal_acc(label, pred), time.time()-start))\n",
        "            temp_loss = 0\n",
        "            start = time.time()\n",
        "\n",
        "        if (step + 1) % global_params['gradient_accumulation_steps'] == 0:\n",
        "            optim.step()\n",
        "            optim.zero_grad()\n",
        "\n",
        "    print(\"** ** * Saving fine - tuned model ** ** * \")\n",
        "    model_to_save = model.module if hasattr(model, 'module') else model  # Only save the model it-self\n",
        "    \n",
        "    utils.create_folder(file_config['model_path'])\n",
        "    output_model_file = os.path.join(file_config['model_path'], file_config['model_name'] +'.pt')\n",
        "    torch.save(model_to_save.state_dict(), output_model_file)\n",
        "        \n",
        "    cost = time.time() - start\n",
        "    return tr_loss, cost"
      ]
    },
    {
      "cell_type": "markdown",
      "metadata": {
        "id": "8bkyhlHfUdwC"
      },
      "source": [
        "#### Train MLM model\n",
        "Train model, get token embeddings and save to disk."
      ]
    },
    {
      "cell_type": "code",
      "execution_count": null,
      "metadata": {
        "colab": {
          "base_uri": "https://localhost:8080/"
        },
        "id": "o-Vx6GbZBJZ1",
        "outputId": "b8e1fac2-0962-41b4-ffb2-1d9941dd5257"
      },
      "outputs": [
        {
          "output_type": "stream",
          "name": "stdout",
          "text": [
            "epoch\tloss\ttime\n",
            "\n"
          ]
        },
        {
          "output_type": "stream",
          "name": "stderr",
          "text": [
            "<ipython-input-21-fb6d785aeb47>:15: UserWarning: Implicit dimension choice for log_softmax has been deprecated. Change the call to include dim=X as an argument.\n",
            "  truepred = logs(torch.tensor(truepred))\n",
            "/usr/local/lib/python3.9/dist-packages/pytorch_pretrained_bert/optimization.py:275: UserWarning: This overload of add_ is deprecated:\n",
            "\tadd_(Number alpha, Tensor other)\n",
            "Consider using one of the following signatures instead:\n",
            "\tadd_(Tensor other, *, Number alpha) (Triggered internally at ../torch/csrc/utils/python_arg_parser.cpp:1485.)\n",
            "  next_m.mul_(beta1).add_(1 - beta1, grad)\n"
          ]
        },
        {
          "output_type": "stream",
          "name": "stdout",
          "text": [
            "epoch: 0\t| cnt: 1\t|Loss: 0.028977675437927244\t| precision: 0.0014\t| time: 4.01\n"
          ]
        },
        {
          "output_type": "stream",
          "name": "stderr",
          "text": [
            "<ipython-input-21-fb6d785aeb47>:15: UserWarning: Implicit dimension choice for log_softmax has been deprecated. Change the call to include dim=X as an argument.\n",
            "  truepred = logs(torch.tensor(truepred))\n"
          ]
        },
        {
          "output_type": "stream",
          "name": "stdout",
          "text": [
            "epoch: 0\t| cnt: 201\t|Loss: 4.072461158037186\t| precision: 0.3221\t| time: 161.94\n"
          ]
        },
        {
          "output_type": "stream",
          "name": "stderr",
          "text": [
            "<ipython-input-21-fb6d785aeb47>:15: UserWarning: Implicit dimension choice for log_softmax has been deprecated. Change the call to include dim=X as an argument.\n",
            "  truepred = logs(torch.tensor(truepred))\n"
          ]
        },
        {
          "output_type": "stream",
          "name": "stdout",
          "text": [
            "epoch: 0\t| cnt: 401\t|Loss: 3.7413227307796477\t| precision: 0.3591\t| time: 161.28\n",
            "** ** * Saving fine - tuned model ** ** * \n"
          ]
        },
        {
          "output_type": "stream",
          "name": "stderr",
          "text": [
            "<ipython-input-21-fb6d785aeb47>:15: UserWarning: Implicit dimension choice for log_softmax has been deprecated. Change the call to include dim=X as an argument.\n",
            "  truepred = logs(torch.tensor(truepred))\n"
          ]
        },
        {
          "output_type": "stream",
          "name": "stdout",
          "text": [
            "epoch: 1\t| cnt: 1\t|Loss: 0.017899478673934936\t| precision: 0.3748\t| time: 0.80\n"
          ]
        },
        {
          "output_type": "stream",
          "name": "stderr",
          "text": [
            "<ipython-input-21-fb6d785aeb47>:15: UserWarning: Implicit dimension choice for log_softmax has been deprecated. Change the call to include dim=X as an argument.\n",
            "  truepred = logs(torch.tensor(truepred))\n"
          ]
        },
        {
          "output_type": "stream",
          "name": "stdout",
          "text": [
            "epoch: 1\t| cnt: 201\t|Loss: 3.431744898557663\t| precision: 0.3946\t| time: 163.59\n"
          ]
        },
        {
          "output_type": "stream",
          "name": "stderr",
          "text": [
            "<ipython-input-21-fb6d785aeb47>:15: UserWarning: Implicit dimension choice for log_softmax has been deprecated. Change the call to include dim=X as an argument.\n",
            "  truepred = logs(torch.tensor(truepred))\n"
          ]
        },
        {
          "output_type": "stream",
          "name": "stdout",
          "text": [
            "epoch: 1\t| cnt: 401\t|Loss: 3.2819991624355316\t| precision: 0.3997\t| time: 164.16\n",
            "** ** * Saving fine - tuned model ** ** * \n"
          ]
        },
        {
          "output_type": "stream",
          "name": "stderr",
          "text": [
            "<ipython-input-21-fb6d785aeb47>:15: UserWarning: Implicit dimension choice for log_softmax has been deprecated. Change the call to include dim=X as an argument.\n",
            "  truepred = logs(torch.tensor(truepred))\n"
          ]
        },
        {
          "output_type": "stream",
          "name": "stdout",
          "text": [
            "epoch: 2\t| cnt: 1\t|Loss: 0.016615333557128905\t| precision: 0.3631\t| time: 0.80\n"
          ]
        },
        {
          "output_type": "stream",
          "name": "stderr",
          "text": [
            "<ipython-input-21-fb6d785aeb47>:15: UserWarning: Implicit dimension choice for log_softmax has been deprecated. Change the call to include dim=X as an argument.\n",
            "  truepred = logs(torch.tensor(truepred))\n"
          ]
        },
        {
          "output_type": "stream",
          "name": "stdout",
          "text": [
            "epoch: 2\t| cnt: 201\t|Loss: 3.154599176645279\t| precision: 0.3600\t| time: 163.84\n"
          ]
        },
        {
          "output_type": "stream",
          "name": "stderr",
          "text": [
            "<ipython-input-21-fb6d785aeb47>:15: UserWarning: Implicit dimension choice for log_softmax has been deprecated. Change the call to include dim=X as an argument.\n",
            "  truepred = logs(torch.tensor(truepred))\n"
          ]
        },
        {
          "output_type": "stream",
          "name": "stdout",
          "text": [
            "epoch: 2\t| cnt: 401\t|Loss: 3.0583008444309234\t| precision: 0.3861\t| time: 163.93\n",
            "** ** * Saving fine - tuned model ** ** * \n"
          ]
        },
        {
          "output_type": "stream",
          "name": "stderr",
          "text": [
            "<ipython-input-21-fb6d785aeb47>:15: UserWarning: Implicit dimension choice for log_softmax has been deprecated. Change the call to include dim=X as an argument.\n",
            "  truepred = logs(torch.tensor(truepred))\n"
          ]
        },
        {
          "output_type": "stream",
          "name": "stdout",
          "text": [
            "epoch: 3\t| cnt: 1\t|Loss: 0.014446134567260743\t| precision: 0.3914\t| time: 0.85\n"
          ]
        },
        {
          "output_type": "stream",
          "name": "stderr",
          "text": [
            "<ipython-input-21-fb6d785aeb47>:15: UserWarning: Implicit dimension choice for log_softmax has been deprecated. Change the call to include dim=X as an argument.\n",
            "  truepred = logs(torch.tensor(truepred))\n"
          ]
        },
        {
          "output_type": "stream",
          "name": "stdout",
          "text": [
            "epoch: 3\t| cnt: 201\t|Loss: 2.9645525670051573\t| precision: 0.4027\t| time: 163.91\n"
          ]
        },
        {
          "output_type": "stream",
          "name": "stderr",
          "text": [
            "<ipython-input-21-fb6d785aeb47>:15: UserWarning: Implicit dimension choice for log_softmax has been deprecated. Change the call to include dim=X as an argument.\n",
            "  truepred = logs(torch.tensor(truepred))\n"
          ]
        },
        {
          "output_type": "stream",
          "name": "stdout",
          "text": [
            "epoch: 3\t| cnt: 401\t|Loss: 2.908556672334671\t| precision: 0.4054\t| time: 163.98\n",
            "** ** * Saving fine - tuned model ** ** * \n"
          ]
        },
        {
          "output_type": "stream",
          "name": "stderr",
          "text": [
            "<ipython-input-21-fb6d785aeb47>:15: UserWarning: Implicit dimension choice for log_softmax has been deprecated. Change the call to include dim=X as an argument.\n",
            "  truepred = logs(torch.tensor(truepred))\n"
          ]
        },
        {
          "output_type": "stream",
          "name": "stdout",
          "text": [
            "epoch: 4\t| cnt: 1\t|Loss: 0.01460595965385437\t| precision: 0.3958\t| time: 0.80\n"
          ]
        },
        {
          "output_type": "stream",
          "name": "stderr",
          "text": [
            "<ipython-input-21-fb6d785aeb47>:15: UserWarning: Implicit dimension choice for log_softmax has been deprecated. Change the call to include dim=X as an argument.\n",
            "  truepred = logs(torch.tensor(truepred))\n"
          ]
        },
        {
          "output_type": "stream",
          "name": "stdout",
          "text": [
            "epoch: 4\t| cnt: 201\t|Loss: 2.8449848794937136\t| precision: 0.4135\t| time: 163.90\n"
          ]
        },
        {
          "output_type": "stream",
          "name": "stderr",
          "text": [
            "<ipython-input-21-fb6d785aeb47>:15: UserWarning: Implicit dimension choice for log_softmax has been deprecated. Change the call to include dim=X as an argument.\n",
            "  truepred = logs(torch.tensor(truepred))\n"
          ]
        },
        {
          "output_type": "stream",
          "name": "stdout",
          "text": [
            "epoch: 4\t| cnt: 401\t|Loss: 2.819020326137543\t| precision: 0.3911\t| time: 163.89\n",
            "** ** * Saving fine - tuned model ** ** * \n"
          ]
        },
        {
          "output_type": "stream",
          "name": "stderr",
          "text": [
            "<ipython-input-21-fb6d785aeb47>:15: UserWarning: Implicit dimension choice for log_softmax has been deprecated. Change the call to include dim=X as an argument.\n",
            "  truepred = logs(torch.tensor(truepred))\n"
          ]
        },
        {
          "output_type": "stream",
          "name": "stdout",
          "text": [
            "epoch: 5\t| cnt: 1\t|Loss: 0.012713123559951783\t| precision: 0.4470\t| time: 0.80\n"
          ]
        },
        {
          "output_type": "stream",
          "name": "stderr",
          "text": [
            "<ipython-input-21-fb6d785aeb47>:15: UserWarning: Implicit dimension choice for log_softmax has been deprecated. Change the call to include dim=X as an argument.\n",
            "  truepred = logs(torch.tensor(truepred))\n"
          ]
        },
        {
          "output_type": "stream",
          "name": "stdout",
          "text": [
            "epoch: 5\t| cnt: 201\t|Loss: 2.759024910926819\t| precision: 0.4444\t| time: 163.81\n"
          ]
        },
        {
          "output_type": "stream",
          "name": "stderr",
          "text": [
            "<ipython-input-21-fb6d785aeb47>:15: UserWarning: Implicit dimension choice for log_softmax has been deprecated. Change the call to include dim=X as an argument.\n",
            "  truepred = logs(torch.tensor(truepred))\n"
          ]
        },
        {
          "output_type": "stream",
          "name": "stdout",
          "text": [
            "epoch: 5\t| cnt: 401\t|Loss: 2.7259127247333526\t| precision: 0.4446\t| time: 163.96\n",
            "** ** * Saving fine - tuned model ** ** * \n"
          ]
        },
        {
          "output_type": "stream",
          "name": "stderr",
          "text": [
            "<ipython-input-21-fb6d785aeb47>:15: UserWarning: Implicit dimension choice for log_softmax has been deprecated. Change the call to include dim=X as an argument.\n",
            "  truepred = logs(torch.tensor(truepred))\n"
          ]
        },
        {
          "output_type": "stream",
          "name": "stdout",
          "text": [
            "epoch: 6\t| cnt: 1\t|Loss: 0.014285910129547118\t| precision: 0.4090\t| time: 0.85\n"
          ]
        },
        {
          "output_type": "stream",
          "name": "stderr",
          "text": [
            "<ipython-input-21-fb6d785aeb47>:15: UserWarning: Implicit dimension choice for log_softmax has been deprecated. Change the call to include dim=X as an argument.\n",
            "  truepred = logs(torch.tensor(truepred))\n"
          ]
        },
        {
          "output_type": "stream",
          "name": "stdout",
          "text": [
            "epoch: 6\t| cnt: 201\t|Loss: 2.6875480926036834\t| precision: 0.4618\t| time: 164.05\n"
          ]
        },
        {
          "output_type": "stream",
          "name": "stderr",
          "text": [
            "<ipython-input-21-fb6d785aeb47>:15: UserWarning: Implicit dimension choice for log_softmax has been deprecated. Change the call to include dim=X as an argument.\n",
            "  truepred = logs(torch.tensor(truepred))\n"
          ]
        },
        {
          "output_type": "stream",
          "name": "stdout",
          "text": [
            "epoch: 6\t| cnt: 401\t|Loss: 2.66043873667717\t| precision: 0.4567\t| time: 164.96\n",
            "** ** * Saving fine - tuned model ** ** * \n"
          ]
        },
        {
          "output_type": "stream",
          "name": "stderr",
          "text": [
            "<ipython-input-21-fb6d785aeb47>:15: UserWarning: Implicit dimension choice for log_softmax has been deprecated. Change the call to include dim=X as an argument.\n",
            "  truepred = logs(torch.tensor(truepred))\n"
          ]
        },
        {
          "output_type": "stream",
          "name": "stdout",
          "text": [
            "epoch: 7\t| cnt: 1\t|Loss: 0.012503813505172729\t| precision: 0.4588\t| time: 0.80\n"
          ]
        },
        {
          "output_type": "stream",
          "name": "stderr",
          "text": [
            "<ipython-input-21-fb6d785aeb47>:15: UserWarning: Implicit dimension choice for log_softmax has been deprecated. Change the call to include dim=X as an argument.\n",
            "  truepred = logs(torch.tensor(truepred))\n"
          ]
        },
        {
          "output_type": "stream",
          "name": "stdout",
          "text": [
            "epoch: 7\t| cnt: 201\t|Loss: 2.627442145347595\t| precision: 0.4290\t| time: 163.97\n"
          ]
        },
        {
          "output_type": "stream",
          "name": "stderr",
          "text": [
            "<ipython-input-21-fb6d785aeb47>:15: UserWarning: Implicit dimension choice for log_softmax has been deprecated. Change the call to include dim=X as an argument.\n",
            "  truepred = logs(torch.tensor(truepred))\n"
          ]
        },
        {
          "output_type": "stream",
          "name": "stdout",
          "text": [
            "epoch: 7\t| cnt: 401\t|Loss: 2.6003056168556213\t| precision: 0.4672\t| time: 163.92\n",
            "** ** * Saving fine - tuned model ** ** * \n"
          ]
        },
        {
          "output_type": "stream",
          "name": "stderr",
          "text": [
            "<ipython-input-21-fb6d785aeb47>:15: UserWarning: Implicit dimension choice for log_softmax has been deprecated. Change the call to include dim=X as an argument.\n",
            "  truepred = logs(torch.tensor(truepred))\n"
          ]
        },
        {
          "output_type": "stream",
          "name": "stdout",
          "text": [
            "epoch: 8\t| cnt: 1\t|Loss: 0.012338752746582032\t| precision: 0.5007\t| time: 0.80\n"
          ]
        },
        {
          "output_type": "stream",
          "name": "stderr",
          "text": [
            "<ipython-input-21-fb6d785aeb47>:15: UserWarning: Implicit dimension choice for log_softmax has been deprecated. Change the call to include dim=X as an argument.\n",
            "  truepred = logs(torch.tensor(truepred))\n"
          ]
        },
        {
          "output_type": "stream",
          "name": "stdout",
          "text": [
            "epoch: 8\t| cnt: 201\t|Loss: 2.569991865158081\t| precision: 0.4518\t| time: 163.90\n"
          ]
        },
        {
          "output_type": "stream",
          "name": "stderr",
          "text": [
            "<ipython-input-21-fb6d785aeb47>:15: UserWarning: Implicit dimension choice for log_softmax has been deprecated. Change the call to include dim=X as an argument.\n",
            "  truepred = logs(torch.tensor(truepred))\n"
          ]
        },
        {
          "output_type": "stream",
          "name": "stdout",
          "text": [
            "epoch: 8\t| cnt: 401\t|Loss: 2.5460326433181764\t| precision: 0.4791\t| time: 163.75\n",
            "** ** * Saving fine - tuned model ** ** * \n"
          ]
        },
        {
          "output_type": "stream",
          "name": "stderr",
          "text": [
            "<ipython-input-21-fb6d785aeb47>:15: UserWarning: Implicit dimension choice for log_softmax has been deprecated. Change the call to include dim=X as an argument.\n",
            "  truepred = logs(torch.tensor(truepred))\n"
          ]
        },
        {
          "output_type": "stream",
          "name": "stdout",
          "text": [
            "epoch: 9\t| cnt: 1\t|Loss: 0.013305566310882568\t| precision: 0.4453\t| time: 0.85\n"
          ]
        },
        {
          "output_type": "stream",
          "name": "stderr",
          "text": [
            "<ipython-input-21-fb6d785aeb47>:15: UserWarning: Implicit dimension choice for log_softmax has been deprecated. Change the call to include dim=X as an argument.\n",
            "  truepred = logs(torch.tensor(truepred))\n"
          ]
        },
        {
          "output_type": "stream",
          "name": "stdout",
          "text": [
            "epoch: 9\t| cnt: 201\t|Loss: 2.5177639365196227\t| precision: 0.4565\t| time: 164.30\n"
          ]
        },
        {
          "output_type": "stream",
          "name": "stderr",
          "text": [
            "<ipython-input-21-fb6d785aeb47>:15: UserWarning: Implicit dimension choice for log_softmax has been deprecated. Change the call to include dim=X as an argument.\n",
            "  truepred = logs(torch.tensor(truepred))\n"
          ]
        },
        {
          "output_type": "stream",
          "name": "stdout",
          "text": [
            "epoch: 9\t| cnt: 401\t|Loss: 2.5146160674095155\t| precision: 0.4195\t| time: 164.18\n",
            "** ** * Saving fine - tuned model ** ** * \n"
          ]
        }
      ],
      "source": [
        "f = open(os.path.join(file_config['model_path'],file_config['log_file_name']), \"w\")\n",
        "print('{}\\t{}\\t{}\\n'.format('epoch', 'loss', 'time'))\n",
        "\n",
        "model.train(True)\n",
        "\n",
        "for e in range(global_params[\"num_epochs\"]):\n",
        "    loss, time_cost = train(e, train_loader)\n",
        "    data_len = len(train_loader)\n",
        "    loss = loss/data_len\n",
        "\n",
        "    f.write('{}\\t{}\\t{}\\n'.format(e, loss, time_cost))\n",
        "f.close()\n"
      ]
    },
    {
      "cell_type": "markdown",
      "metadata": {
        "id": "D4NKFPFSUdwC"
      },
      "source": [
        "#### Reload the model from disk"
      ]
    },
    {
      "cell_type": "code",
      "execution_count": 37,
      "metadata": {
        "colab": {
          "base_uri": "https://localhost:8080/"
        },
        "id": "7Fscv_8gUdwC",
        "outputId": "93974a0f-41fe-43ab-a9f8-9bddd93a2fcf"
      },
      "outputs": [
        {
          "output_type": "stream",
          "name": "stdout",
          "text": [
            "odict_keys(['bert.embeddings.word_embeddings.weight', 'bert.embeddings.segment_embeddings.weight', 'bert.embeddings.age_embeddings.weight', 'bert.embeddings.posi_embeddings.weight', 'bert.embeddings.LayerNorm.weight', 'bert.embeddings.LayerNorm.bias', 'bert.encoder.layer.0.attention.self.query.weight', 'bert.encoder.layer.0.attention.self.query.bias', 'bert.encoder.layer.0.attention.self.key.weight', 'bert.encoder.layer.0.attention.self.key.bias', 'bert.encoder.layer.0.attention.self.value.weight', 'bert.encoder.layer.0.attention.self.value.bias', 'bert.encoder.layer.0.attention.output.dense.weight', 'bert.encoder.layer.0.attention.output.dense.bias', 'bert.encoder.layer.0.attention.output.LayerNorm.weight', 'bert.encoder.layer.0.attention.output.LayerNorm.bias', 'bert.encoder.layer.0.intermediate.dense.weight', 'bert.encoder.layer.0.intermediate.dense.bias', 'bert.encoder.layer.0.output.dense.weight', 'bert.encoder.layer.0.output.dense.bias', 'bert.encoder.layer.0.output.LayerNorm.weight', 'bert.encoder.layer.0.output.LayerNorm.bias', 'bert.encoder.layer.1.attention.self.query.weight', 'bert.encoder.layer.1.attention.self.query.bias', 'bert.encoder.layer.1.attention.self.key.weight', 'bert.encoder.layer.1.attention.self.key.bias', 'bert.encoder.layer.1.attention.self.value.weight', 'bert.encoder.layer.1.attention.self.value.bias', 'bert.encoder.layer.1.attention.output.dense.weight', 'bert.encoder.layer.1.attention.output.dense.bias', 'bert.encoder.layer.1.attention.output.LayerNorm.weight', 'bert.encoder.layer.1.attention.output.LayerNorm.bias', 'bert.encoder.layer.1.intermediate.dense.weight', 'bert.encoder.layer.1.intermediate.dense.bias', 'bert.encoder.layer.1.output.dense.weight', 'bert.encoder.layer.1.output.dense.bias', 'bert.encoder.layer.1.output.LayerNorm.weight', 'bert.encoder.layer.1.output.LayerNorm.bias', 'bert.encoder.layer.2.attention.self.query.weight', 'bert.encoder.layer.2.attention.self.query.bias', 'bert.encoder.layer.2.attention.self.key.weight', 'bert.encoder.layer.2.attention.self.key.bias', 'bert.encoder.layer.2.attention.self.value.weight', 'bert.encoder.layer.2.attention.self.value.bias', 'bert.encoder.layer.2.attention.output.dense.weight', 'bert.encoder.layer.2.attention.output.dense.bias', 'bert.encoder.layer.2.attention.output.LayerNorm.weight', 'bert.encoder.layer.2.attention.output.LayerNorm.bias', 'bert.encoder.layer.2.intermediate.dense.weight', 'bert.encoder.layer.2.intermediate.dense.bias', 'bert.encoder.layer.2.output.dense.weight', 'bert.encoder.layer.2.output.dense.bias', 'bert.encoder.layer.2.output.LayerNorm.weight', 'bert.encoder.layer.2.output.LayerNorm.bias', 'bert.encoder.layer.3.attention.self.query.weight', 'bert.encoder.layer.3.attention.self.query.bias', 'bert.encoder.layer.3.attention.self.key.weight', 'bert.encoder.layer.3.attention.self.key.bias', 'bert.encoder.layer.3.attention.self.value.weight', 'bert.encoder.layer.3.attention.self.value.bias', 'bert.encoder.layer.3.attention.output.dense.weight', 'bert.encoder.layer.3.attention.output.dense.bias', 'bert.encoder.layer.3.attention.output.LayerNorm.weight', 'bert.encoder.layer.3.attention.output.LayerNorm.bias', 'bert.encoder.layer.3.intermediate.dense.weight', 'bert.encoder.layer.3.intermediate.dense.bias', 'bert.encoder.layer.3.output.dense.weight', 'bert.encoder.layer.3.output.dense.bias', 'bert.encoder.layer.3.output.LayerNorm.weight', 'bert.encoder.layer.3.output.LayerNorm.bias', 'bert.encoder.layer.4.attention.self.query.weight', 'bert.encoder.layer.4.attention.self.query.bias', 'bert.encoder.layer.4.attention.self.key.weight', 'bert.encoder.layer.4.attention.self.key.bias', 'bert.encoder.layer.4.attention.self.value.weight', 'bert.encoder.layer.4.attention.self.value.bias', 'bert.encoder.layer.4.attention.output.dense.weight', 'bert.encoder.layer.4.attention.output.dense.bias', 'bert.encoder.layer.4.attention.output.LayerNorm.weight', 'bert.encoder.layer.4.attention.output.LayerNorm.bias', 'bert.encoder.layer.4.intermediate.dense.weight', 'bert.encoder.layer.4.intermediate.dense.bias', 'bert.encoder.layer.4.output.dense.weight', 'bert.encoder.layer.4.output.dense.bias', 'bert.encoder.layer.4.output.LayerNorm.weight', 'bert.encoder.layer.4.output.LayerNorm.bias', 'bert.encoder.layer.5.attention.self.query.weight', 'bert.encoder.layer.5.attention.self.query.bias', 'bert.encoder.layer.5.attention.self.key.weight', 'bert.encoder.layer.5.attention.self.key.bias', 'bert.encoder.layer.5.attention.self.value.weight', 'bert.encoder.layer.5.attention.self.value.bias', 'bert.encoder.layer.5.attention.output.dense.weight', 'bert.encoder.layer.5.attention.output.dense.bias', 'bert.encoder.layer.5.attention.output.LayerNorm.weight', 'bert.encoder.layer.5.attention.output.LayerNorm.bias', 'bert.encoder.layer.5.intermediate.dense.weight', 'bert.encoder.layer.5.intermediate.dense.bias', 'bert.encoder.layer.5.output.dense.weight', 'bert.encoder.layer.5.output.dense.bias', 'bert.encoder.layer.5.output.LayerNorm.weight', 'bert.encoder.layer.5.output.LayerNorm.bias', 'bert.pooler.dense.weight', 'bert.pooler.dense.bias', 'cls.predictions.bias', 'cls.predictions.transform.dense.weight', 'cls.predictions.transform.dense.bias', 'cls.predictions.transform.LayerNorm.weight', 'cls.predictions.transform.LayerNorm.bias', 'cls.predictions.decoder.weight'])\n",
            "torch.Size([301, 288])\n"
          ]
        }
      ],
      "source": [
        "output_model_file = os.path.join(file_config['model_path'], file_config['model_name']) + '.pt'\n",
        "model.eval()\n",
        "\n",
        "data = torch.load(output_model_file, map_location='cpu')\n",
        "print(data.keys())\n",
        "word_embedding = data['bert.embeddings.word_embeddings.weight']\n",
        "print(word_embedding.shape)\n"
      ]
    },
    {
      "cell_type": "code",
      "source": [
        "output_model_file = os.path.join(file_config['model_path'], file_config['model_name'])+'.pt'\n",
        "torch.save(model.state_dict(), output_model_file)\n",
        "if not local_mode:\n",
        "  !cp data/mlm128.pt gdrive/MyDrive/behrt/data/"
      ],
      "metadata": {
        "id": "2cTbGtzmtPIL"
      },
      "execution_count": 38,
      "outputs": []
    },
    {
      "cell_type": "markdown",
      "metadata": {
        "id": "zrBUO5yBUdwD"
      },
      "source": [
        "#### Map the word embedding to the original vocab in 2D space"
      ]
    },
    {
      "cell_type": "code",
      "source": [
        "if not local_mode:\n",
        "  %pip install mpld3"
      ],
      "metadata": {
        "colab": {
          "base_uri": "https://localhost:8080/"
        },
        "id": "MYRI0JKoW8Rs",
        "outputId": "21faf753-039e-499f-d9ce-a136911723af"
      },
      "execution_count": 39,
      "outputs": [
        {
          "output_type": "stream",
          "name": "stdout",
          "text": [
            "Looking in indexes: https://pypi.org/simple, https://us-python.pkg.dev/colab-wheels/public/simple/\n",
            "Collecting mpld3\n",
            "  Downloading mpld3-0.5.9-py3-none-any.whl (201 kB)\n",
            "\u001b[?25l     \u001b[90m━━━━━━━━━━━━━━━━━━━━━━━━━━━━━━━━━━━━━━━━\u001b[0m \u001b[32m0.0/201.2 kB\u001b[0m \u001b[31m?\u001b[0m eta \u001b[36m-:--:--\u001b[0m\r\u001b[2K     \u001b[90m━━━━━━━━━━━━━━━━━━━━━━━━━━━━━━━━━━━━━━━\u001b[0m \u001b[32m201.2/201.2 kB\u001b[0m \u001b[31m6.3 MB/s\u001b[0m eta \u001b[36m0:00:00\u001b[0m\n",
            "\u001b[?25hRequirement already satisfied: matplotlib in /usr/local/lib/python3.9/dist-packages (from mpld3) (3.7.1)\n",
            "Requirement already satisfied: jinja2 in /usr/local/lib/python3.9/dist-packages (from mpld3) (3.1.2)\n",
            "Requirement already satisfied: MarkupSafe>=2.0 in /usr/local/lib/python3.9/dist-packages (from jinja2->mpld3) (2.1.2)\n",
            "Requirement already satisfied: pyparsing>=2.3.1 in /usr/local/lib/python3.9/dist-packages (from matplotlib->mpld3) (3.0.9)\n",
            "Requirement already satisfied: packaging>=20.0 in /usr/local/lib/python3.9/dist-packages (from matplotlib->mpld3) (23.1)\n",
            "Requirement already satisfied: pillow>=6.2.0 in /usr/local/lib/python3.9/dist-packages (from matplotlib->mpld3) (8.4.0)\n",
            "Requirement already satisfied: cycler>=0.10 in /usr/local/lib/python3.9/dist-packages (from matplotlib->mpld3) (0.11.0)\n",
            "Requirement already satisfied: importlib-resources>=3.2.0 in /usr/local/lib/python3.9/dist-packages (from matplotlib->mpld3) (5.12.0)\n",
            "Requirement already satisfied: python-dateutil>=2.7 in /usr/local/lib/python3.9/dist-packages (from matplotlib->mpld3) (2.8.2)\n",
            "Requirement already satisfied: numpy>=1.20 in /usr/local/lib/python3.9/dist-packages (from matplotlib->mpld3) (1.22.4)\n",
            "Requirement already satisfied: fonttools>=4.22.0 in /usr/local/lib/python3.9/dist-packages (from matplotlib->mpld3) (4.39.3)\n",
            "Requirement already satisfied: contourpy>=1.0.1 in /usr/local/lib/python3.9/dist-packages (from matplotlib->mpld3) (1.0.7)\n",
            "Requirement already satisfied: kiwisolver>=1.0.1 in /usr/local/lib/python3.9/dist-packages (from matplotlib->mpld3) (1.4.4)\n",
            "Requirement already satisfied: zipp>=3.1.0 in /usr/local/lib/python3.9/dist-packages (from importlib-resources>=3.2.0->matplotlib->mpld3) (3.15.0)\n",
            "Requirement already satisfied: six>=1.5 in /usr/local/lib/python3.9/dist-packages (from python-dateutil>=2.7->matplotlib->mpld3) (1.16.0)\n",
            "Installing collected packages: mpld3\n",
            "Successfully installed mpld3-0.5.9\n"
          ]
        }
      ]
    },
    {
      "cell_type": "code",
      "execution_count": 40,
      "metadata": {
        "colab": {
          "base_uri": "https://localhost:8080/",
          "height": 842
        },
        "id": "k2rLOZJqUdwD",
        "outputId": "37a2050e-ac1e-42cd-ff52-27d839ee7bdf"
      },
      "outputs": [
        {
          "output_type": "execute_result",
          "data": {
            "text/plain": [
              "<IPython.core.display.HTML object>"
            ],
            "text/html": [
              "\n",
              "\n",
              "<style>\n",
              "\n",
              "</style>\n",
              "\n",
              "<div id=\"fig_el10731402931726194887748556814\"></div>\n",
              "<script>\n",
              "function mpld3_load_lib(url, callback){\n",
              "  var s = document.createElement('script');\n",
              "  s.src = url;\n",
              "  s.async = true;\n",
              "  s.onreadystatechange = s.onload = callback;\n",
              "  s.onerror = function(){console.warn(\"failed to load library \" + url);};\n",
              "  document.getElementsByTagName(\"head\")[0].appendChild(s);\n",
              "}\n",
              "\n",
              "if(typeof(mpld3) !== \"undefined\" && mpld3._mpld3IsLoaded){\n",
              "   // already loaded: just create the figure\n",
              "   !function(mpld3){\n",
              "       \n",
              "       mpld3.draw_figure(\"fig_el10731402931726194887748556814\", {\"width\": 1500.0, \"height\": 800.0, \"axes\": [{\"bbox\": [0.125, 0.10999999999999999, 0.775, 0.77], \"xlim\": [-0.2298508061765009, 0.27442818153701926], \"ylim\": [-0.2775126987196053, 0.2887113099136067], \"xdomain\": [-0.2298508061765009, 0.27442818153701926], \"ydomain\": [-0.2775126987196053, 0.2887113099136067], \"xscale\": \"linear\", \"yscale\": \"linear\", \"axes\": [{\"position\": \"bottom\", \"nticks\": 7, \"tickvalues\": null, \"tickformat_formatter\": \"\", \"tickformat\": null, \"scale\": \"linear\", \"fontsize\": 10.0, \"grid\": {\"gridOn\": false}, \"visible\": true}, {\"position\": \"left\", \"nticks\": 7, \"tickvalues\": null, \"tickformat_formatter\": \"\", \"tickformat\": null, \"scale\": \"linear\", \"fontsize\": 10.0, \"grid\": {\"gridOn\": false}, \"visible\": true}], \"axesbg\": \"#FFFFFF\", \"axesbgalpha\": null, \"zoomable\": true, \"id\": \"el1073140293172619584\", \"lines\": [], \"paths\": [], \"markers\": [], \"texts\": [], \"collections\": [{\"offsets\": \"data01\", \"xindex\": 0, \"yindex\": 1, \"paths\": [[[[0.0, -0.5], [0.13260155, -0.5], [0.25978993539242673, -0.44731684579412084], [0.3535533905932738, -0.3535533905932738], [0.44731684579412084, -0.25978993539242673], [0.5, -0.13260155], [0.5, 0.0], [0.5, 0.13260155], [0.44731684579412084, 0.25978993539242673], [0.3535533905932738, 0.3535533905932738], [0.25978993539242673, 0.44731684579412084], [0.13260155, 0.5], [0.0, 0.5], [-0.13260155, 0.5], [-0.25978993539242673, 0.44731684579412084], [-0.3535533905932738, 0.3535533905932738], [-0.44731684579412084, 0.25978993539242673], [-0.5, 0.13260155], [-0.5, 0.0], [-0.5, -0.13260155], [-0.44731684579412084, -0.25978993539242673], [-0.3535533905932738, -0.3535533905932738], [-0.25978993539242673, -0.44731684579412084], [-0.13260155, -0.5], [0.0, -0.5]], [\"M\", \"C\", \"C\", \"C\", \"C\", \"C\", \"C\", \"C\", \"C\", \"Z\"]]], \"pathtransforms\": [[8.333333333333334, 0.0, 0.0, 8.333333333333334, 0.0, 0.0]], \"alphas\": [null], \"edgecolors\": [\"#56F6C9\", \"#56F6C9\", \"#56F6C9\", \"#56F6C9\", \"#56F6C9\", \"#FF783E\", \"#FF783E\", \"#2F78F7\", \"#FF9A51\", \"#6528FE\", \"#FF5028\", \"#FF783E\", \"#FF5028\", \"#2F78F7\", \"#2F78F7\", \"#6528FE\", \"#2F78F7\", \"#FF5028\", \"#DED478\", \"#FF5028\", \"#06BBE9\", \"#7F00FF\", \"#A8F69C\", \"#FF5028\", \"#FF5028\", \"#DED478\", \"#72FEBB\", \"#06BBE9\", \"#FF0000\", \"#DED478\", \"#6528FE\", \"#8CFEAC\", \"#8CFEAC\", \"#2F78F7\", \"#FF0000\", \"#6528FE\", \"#72FEBB\", \"#2F78F7\", \"#6528FE\", \"#DED478\", \"#2F78F7\", \"#6528FE\", \"#2F78F7\", \"#8CFEAC\", \"#8CFEAC\", \"#FF9A51\", \"#20D4E0\", \"#20D4E0\", \"#2F78F7\", \"#2F78F7\", \"#8CFEAC\", \"#6528FE\", \"#DED478\", \"#7F00FF\", \"#7F00FF\", \"#FF5028\", \"#7F00FF\", \"#FF5028\", \"#A8F69C\", \"#20D4E0\", \"#06BBE9\", \"#A8F69C\", \"#FF5028\", \"#06BBE9\", \"#2F78F7\", \"#2F78F7\", \"#FF0000\", \"#8CFEAC\", \"#FF9A51\", \"#4B50FB\", \"#6528FE\", \"#06BBE9\", \"#A8F69C\", \"#06BBE9\", \"#A8F69C\", \"#FF5028\", \"#FF0000\", \"#159AF1\", \"#FF9A51\", \"#4B50FB\", \"#FF9A51\", \"#FF0000\", \"#FF0000\", \"#FF9A51\", \"#FF0000\", \"#3CE9D5\", \"#FF0000\", \"#FF0000\", \"#4B50FB\", \"#FF5028\", \"#20D4E0\", \"#159AF1\", \"#DED478\", \"#2F78F7\", \"#8CFEAC\", \"#DED478\", \"#20D4E0\", \"#FF5028\", \"#7F00FF\", \"#FF0000\", \"#159AF1\", \"#6528FE\", \"#DED478\", \"#DED478\", \"#FF783E\", \"#6528FE\", \"#2F78F7\", \"#2F78F7\", \"#8CFEAC\", \"#20D4E0\", \"#FF5028\", \"#20D4E0\", \"#06BBE9\", \"#06BBE9\", \"#A8F69C\", \"#06BBE9\", \"#A8F69C\", \"#DED478\", \"#72FEBB\", \"#06BBE9\", \"#A8F69C\", \"#06BBE9\", \"#A8F69C\", \"#FF5028\", \"#FF783E\", \"#A8F69C\", \"#06BBE9\", \"#7F00FF\", \"#A8F69C\", \"#FF5028\", \"#A8F69C\", \"#A8F69C\", \"#FF5028\", \"#FF783E\", \"#FF5028\", \"#FF5028\", \"#7F00FF\", \"#DED478\", \"#DED478\", \"#72FEBB\", \"#FF5028\", \"#7F00FF\", \"#2F78F7\", \"#FF5028\", \"#6528FE\", \"#2F78F7\", \"#2F78F7\", \"#06BBE9\", \"#20D4E0\", \"#159AF1\", \"#FF0000\", \"#FF0000\", \"#20D4E0\", \"#3CE9D5\", \"#6528FE\", \"#6528FE\", \"#2F78F7\", \"#72FEBB\", \"#8CFEAC\", \"#6528FE\", \"#72FEBB\", \"#FF0000\", \"#8CFEAC\", \"#2F78F7\", \"#8CFEAC\", \"#159AF1\", \"#159AF1\", \"#20D4E0\", \"#FF0000\", \"#DED478\", \"#6528FE\", \"#DED478\", \"#FF0000\", \"#6528FE\", \"#6528FE\", \"#6528FE\", \"#6528FE\", \"#8CFEAC\", \"#FF9A51\", \"#DED478\", \"#72FEBB\", \"#DED478\", \"#FF9A51\", \"#8CFEAC\", \"#06BBE9\", \"#A8F69C\", \"#DED478\", \"#7F00FF\", \"#20D4E0\", \"#20D4E0\", \"#20D4E0\", \"#159AF1\", \"#6528FE\", \"#2F78F7\", \"#FF783E\", \"#2F78F7\", \"#2F78F7\", \"#2F78F7\", \"#6528FE\", \"#6528FE\", \"#FF783E\", \"#2F78F7\", \"#8CFEAC\", \"#20D4E0\", \"#3CE9D5\", \"#DED478\", \"#20D4E0\", \"#56F6C9\", \"#4B50FB\", \"#C2E98B\", \"#8CFEAC\", \"#FF783E\", \"#8CFEAC\", \"#56F6C9\", \"#8CFEAC\", \"#A8F69C\", \"#A8F69C\", \"#7F00FF\", \"#7F00FF\", \"#72FEBB\", \"#A8F69C\", \"#A8F69C\", \"#A8F69C\", \"#FF783E\", \"#56F6C9\", \"#8CFEAC\", \"#72FEBB\", \"#FF783E\", \"#F8BB66\", \"#8CFEAC\", \"#72FEBB\", \"#3CE9D5\", \"#56F6C9\", \"#56F6C9\", \"#FF2814\", \"#7F00FF\", \"#7F00FF\", \"#F8BB66\", \"#4B50FB\", \"#4B50FB\", \"#159AF1\", \"#159AF1\", \"#3CE9D5\", \"#159AF1\", \"#F8BB66\", \"#7F00FF\", \"#72FEBB\", \"#159AF1\", \"#7F00FF\", \"#159AF1\", \"#7F00FF\", \"#4B50FB\", \"#A8F69C\", \"#7F00FF\", \"#7F00FF\", \"#FF783E\", \"#72FEBB\", \"#FF783E\", \"#7F00FF\", \"#FF783E\", \"#7F00FF\", \"#FF783E\", \"#72FEBB\", \"#159AF1\", \"#3CE9D5\", \"#3CE9D5\", \"#72FEBB\", \"#72FEBB\", \"#F8BB66\", \"#159AF1\", \"#F8BB66\", \"#7F00FF\", \"#159AF1\", \"#56F6C9\", \"#56F6C9\", \"#4B50FB\", \"#56F6C9\", \"#56F6C9\", \"#56F6C9\", \"#72FEBB\", \"#6528FE\", \"#A8F69C\", \"#72FEBB\", \"#8CFEAC\", \"#4B50FB\", \"#159AF1\", \"#A8F69C\", \"#159AF1\", \"#8CFEAC\", \"#F8BB66\", \"#8CFEAC\", \"#159AF1\", \"#8CFEAC\", \"#C2E98B\", \"#3CE9D5\", \"#56F6C9\", \"#7F00FF\", \"#159AF1\", \"#7F00FF\", \"#159AF1\", \"#7F00FF\"], \"facecolors\": [\"#56F6C9\", \"#56F6C9\", \"#56F6C9\", \"#56F6C9\", \"#56F6C9\", \"#FF783E\", \"#FF783E\", \"#2F78F7\", \"#FF9A51\", \"#6528FE\", \"#FF5028\", \"#FF783E\", \"#FF5028\", \"#2F78F7\", \"#2F78F7\", \"#6528FE\", \"#2F78F7\", \"#FF5028\", \"#DED478\", \"#FF5028\", \"#06BBE9\", \"#7F00FF\", \"#A8F69C\", \"#FF5028\", \"#FF5028\", \"#DED478\", \"#72FEBB\", \"#06BBE9\", \"#FF0000\", \"#DED478\", \"#6528FE\", \"#8CFEAC\", \"#8CFEAC\", \"#2F78F7\", \"#FF0000\", \"#6528FE\", \"#72FEBB\", \"#2F78F7\", \"#6528FE\", \"#DED478\", \"#2F78F7\", \"#6528FE\", \"#2F78F7\", \"#8CFEAC\", \"#8CFEAC\", \"#FF9A51\", \"#20D4E0\", \"#20D4E0\", \"#2F78F7\", \"#2F78F7\", \"#8CFEAC\", \"#6528FE\", \"#DED478\", \"#7F00FF\", \"#7F00FF\", \"#FF5028\", \"#7F00FF\", \"#FF5028\", \"#A8F69C\", \"#20D4E0\", \"#06BBE9\", \"#A8F69C\", \"#FF5028\", \"#06BBE9\", \"#2F78F7\", \"#2F78F7\", \"#FF0000\", \"#8CFEAC\", \"#FF9A51\", \"#4B50FB\", \"#6528FE\", \"#06BBE9\", \"#A8F69C\", \"#06BBE9\", \"#A8F69C\", \"#FF5028\", \"#FF0000\", \"#159AF1\", \"#FF9A51\", \"#4B50FB\", \"#FF9A51\", \"#FF0000\", \"#FF0000\", \"#FF9A51\", \"#FF0000\", \"#3CE9D5\", \"#FF0000\", \"#FF0000\", \"#4B50FB\", \"#FF5028\", \"#20D4E0\", \"#159AF1\", \"#DED478\", \"#2F78F7\", \"#8CFEAC\", \"#DED478\", \"#20D4E0\", \"#FF5028\", \"#7F00FF\", \"#FF0000\", \"#159AF1\", \"#6528FE\", \"#DED478\", \"#DED478\", \"#FF783E\", \"#6528FE\", \"#2F78F7\", \"#2F78F7\", \"#8CFEAC\", \"#20D4E0\", \"#FF5028\", \"#20D4E0\", \"#06BBE9\", \"#06BBE9\", \"#A8F69C\", \"#06BBE9\", \"#A8F69C\", \"#DED478\", \"#72FEBB\", \"#06BBE9\", \"#A8F69C\", \"#06BBE9\", \"#A8F69C\", \"#FF5028\", \"#FF783E\", \"#A8F69C\", \"#06BBE9\", \"#7F00FF\", \"#A8F69C\", \"#FF5028\", \"#A8F69C\", \"#A8F69C\", \"#FF5028\", \"#FF783E\", \"#FF5028\", \"#FF5028\", \"#7F00FF\", \"#DED478\", \"#DED478\", \"#72FEBB\", \"#FF5028\", \"#7F00FF\", \"#2F78F7\", \"#FF5028\", \"#6528FE\", \"#2F78F7\", \"#2F78F7\", \"#06BBE9\", \"#20D4E0\", \"#159AF1\", \"#FF0000\", \"#FF0000\", \"#20D4E0\", \"#3CE9D5\", \"#6528FE\", \"#6528FE\", \"#2F78F7\", \"#72FEBB\", \"#8CFEAC\", \"#6528FE\", \"#72FEBB\", \"#FF0000\", \"#8CFEAC\", \"#2F78F7\", \"#8CFEAC\", \"#159AF1\", \"#159AF1\", \"#20D4E0\", \"#FF0000\", \"#DED478\", \"#6528FE\", \"#DED478\", \"#FF0000\", \"#6528FE\", \"#6528FE\", \"#6528FE\", \"#6528FE\", \"#8CFEAC\", \"#FF9A51\", \"#DED478\", \"#72FEBB\", \"#DED478\", \"#FF9A51\", \"#8CFEAC\", \"#06BBE9\", \"#A8F69C\", \"#DED478\", \"#7F00FF\", \"#20D4E0\", \"#20D4E0\", \"#20D4E0\", \"#159AF1\", \"#6528FE\", \"#2F78F7\", \"#FF783E\", \"#2F78F7\", \"#2F78F7\", \"#2F78F7\", \"#6528FE\", \"#6528FE\", \"#FF783E\", \"#2F78F7\", \"#8CFEAC\", \"#20D4E0\", \"#3CE9D5\", \"#DED478\", \"#20D4E0\", \"#56F6C9\", \"#4B50FB\", \"#C2E98B\", \"#8CFEAC\", \"#FF783E\", \"#8CFEAC\", \"#56F6C9\", \"#8CFEAC\", \"#A8F69C\", \"#A8F69C\", \"#7F00FF\", \"#7F00FF\", \"#72FEBB\", \"#A8F69C\", \"#A8F69C\", \"#A8F69C\", \"#FF783E\", \"#56F6C9\", \"#8CFEAC\", \"#72FEBB\", \"#FF783E\", \"#F8BB66\", \"#8CFEAC\", \"#72FEBB\", \"#3CE9D5\", \"#56F6C9\", \"#56F6C9\", \"#FF2814\", \"#7F00FF\", \"#7F00FF\", \"#F8BB66\", \"#4B50FB\", \"#4B50FB\", \"#159AF1\", \"#159AF1\", \"#3CE9D5\", \"#159AF1\", \"#F8BB66\", \"#7F00FF\", \"#72FEBB\", \"#159AF1\", \"#7F00FF\", \"#159AF1\", \"#7F00FF\", \"#4B50FB\", \"#A8F69C\", \"#7F00FF\", \"#7F00FF\", \"#FF783E\", \"#72FEBB\", \"#FF783E\", \"#7F00FF\", \"#FF783E\", \"#7F00FF\", \"#FF783E\", \"#72FEBB\", \"#159AF1\", \"#3CE9D5\", \"#3CE9D5\", \"#72FEBB\", \"#72FEBB\", \"#F8BB66\", \"#159AF1\", \"#F8BB66\", \"#7F00FF\", \"#159AF1\", \"#56F6C9\", \"#56F6C9\", \"#4B50FB\", \"#56F6C9\", \"#56F6C9\", \"#56F6C9\", \"#72FEBB\", \"#6528FE\", \"#A8F69C\", \"#72FEBB\", \"#8CFEAC\", \"#4B50FB\", \"#159AF1\", \"#A8F69C\", \"#159AF1\", \"#8CFEAC\", \"#F8BB66\", \"#8CFEAC\", \"#159AF1\", \"#8CFEAC\", \"#C2E98B\", \"#3CE9D5\", \"#56F6C9\", \"#7F00FF\", \"#159AF1\", \"#7F00FF\", \"#159AF1\", \"#7F00FF\"], \"edgewidths\": [1.0], \"offsetcoordinates\": \"data\", \"pathcoordinates\": \"display\", \"zorder\": 1, \"id\": \"el1073140292747118960\"}], \"images\": [], \"sharex\": [], \"sharey\": []}], \"data\": {\"data01\": [[0.04631266666244666, 0.062147951658414], [-0.0017326233866917877, -0.07220940912418562], [-0.028581907656708462, 0.04568589576570725], [-0.02415402721883229, -0.016469913753169422], [-0.032107009705482845, 0.0456226897831003], [0.12330117655841834, 0.0028288126550440823], [0.1174474662354917, -0.023728024004343838], [-0.13881400158059654, 0.010289721033014744], [-0.16155303649908365, 0.21713322245518843], [-0.16255460966315174, -0.008106529707029835], [-0.1079546398696636, -0.07935348166077698], [0.10140113917215872, -0.06662622256443923], [-0.14560979642486566, -0.12832052764731647], [-0.16572825111958103, 0.051728083859030785], [-0.1677262287552744, 0.028436523927714966], [-0.18609367507925348, 0.003860557507095811], [-0.17363647972508026, 0.031565381137876734], [-0.16132302831828, -0.15669223607273258], [-0.14317623472839092, -0.07673741957551179], [-0.11555062879429404, -0.08153054441526168], [-0.1418531019858292, -0.1984219569199232], [0.13599338525508767, -0.09495007230804185], [0.1660133789507025, -0.13049524070373061], [-0.13039947924982187, -0.14416785009990554], [-0.17435522947697446, -0.12551158350638492], [-0.17642436999090416, -0.059388196450213177], [0.20014491661138975, -0.046144212787230354], [-0.15594290576765635, -0.2462612501740801], [-0.16978140674004383, 0.07220866161551108], [-0.1640834651521666, -0.08331434158832847], [-0.14072811632153218, -0.02802343639680876], [0.1206049559036602, 0.04473397434783119], [0.11198605333030465, 0.019048258912784322], [-0.14003251887873364, 0.025931713507290777], [-0.1526799543045105, 0.07392580108523364], [-0.17761641667514688, -0.031509253722433433], [0.17326875896031352, -0.010828374445696285], [-0.12327078709472025, 0.02950227999428637], [-0.16426869867161908, -0.01629108332158609], [-0.14333952736239558, -0.05608506245862208], [-0.1220464556685447, 0.042736598610083214], [-0.16052205134771358, -0.014838160263203032], [-0.14326825443337163, 0.04713361706676201], [0.09947262263832908, 0.07654454553448084], [0.11726281901134587, 0.05761237821358527], [-0.11712462306418041, 0.18908628381171091], [-0.15533201428924143, 0.12171196548231704], [-0.1275834298931912, 0.14595040397392323], [-0.1538976432317109, 0.05512598377018228], [-0.15322348733635396, 0.02627872434601869], [0.13717299272708966, 0.024670746616684388], [-0.13982370146148668, -0.012001611173503299], [-0.16499274121833038, -0.09592342356362012], [0.16890827061601427, -0.05565450502973842], [0.1785180748263521, -0.09654785329012996], [-0.141963466156987, -0.12123123848757557], [0.14768080670030498, -0.0936217273863688], [-0.18379592776464945, -0.13931935519338876], [0.17713865035841328, -0.11651337688839788], [-0.1601946090024536, 0.16307926424175442], [-0.13554788813148985, -0.1948179357500539], [0.1568276731822564, -0.13100808541293876], [-0.15247012548909605, -0.12787514605252492], [-0.14008140583027262, -0.17375411486670275], [-0.16722148118163088, 0.023159474803378963], [-0.16515616213778087, 0.03196343810745134], [-0.1585592988649677, 0.074632861149946], [0.136172388110855, 0.08125999593077252], [-0.15148361702541846, 0.22705842128449213], [0.13431138234127915, 0.24774234060938718], [-0.15549992566963936, -0.018469696248694413], [-0.12875479571205378, -0.22769810044529326], [0.1943952697875427, -0.17724834447061655], [-0.10299704709262507, -0.1720944263963569], [0.1705077623609682, -0.15494393290714845], [-0.12389005460094744, -0.12292677162067353], [-0.15297874227650826, 0.1091173707802065], [0.1737925373532028, 0.13218497856756858], [-0.1769950210501959, 0.22422314329362394], [0.09184611007438366, 0.24600755139536892], [-0.16681675229903897, 0.19940409342739862], [-0.14414357734777192, 0.08753049663912449], [-0.13476834770081084, 0.08229990715771111], [-0.1255425654493714, 0.21258815602005168], [-0.17357442290184896, 0.0890081240619886], [0.08515777575769472, 0.1390455779536221], [-0.15065928485204094, 0.06532106357758084], [-0.16178656354577162, 0.09659697654199029], [0.14712143607974093, 0.18714160312201208], [-0.11664646444498243, -0.11185215875621302], [-0.1685379230618848, 0.13054731792648686], [0.16385921260491348, 0.1250841933329334], [-0.17730523715544808, -0.05055406120369107], [-0.1744623082867485, 0.01880704074825444], [0.15237148575916365, 0.04070339677273246], [-0.15637980653367453, -0.05229672488932985], [-0.17732675878065654, 0.14260259500071568], [-0.15377350423653058, -0.11833756637172371], [0.17199184486359037, -0.08857526639132629], [-0.19910053155896024, 0.1015741695421848], [0.1737573157435968, 0.1251251719674899], [-0.1649788379323196, -0.03475312347138774], [-0.15783326941397705, -0.07200905700484575], [-0.16526853022449764, -0.07791746009817944], [0.1438563514020102, -0.04301515162787099], [-0.1608276368172749, -0.0396700084903599], [-0.17121698332330187, 0.055263443014725806], [-0.16935865216317827, 0.0349019744382669], [0.14965071022339613, 0.037236543791682154], [-0.1606379258874707, 0.13522366083445436], [-0.1361905413784598, -0.13166839883472056], [-0.15873726568239138, 0.1680663325886946], [-0.12745861303041356, -0.18556359356294605], [-0.1386419787257941, -0.23187148371464347], [0.1416571867464166, -0.13952983418677653], [-0.15572433263910826, -0.2372430583523023], [0.19166554660202992, -0.18201146639559895], [-0.18612626775669358, -0.10554584836614991], [0.2284267140109372, -0.06645499310777328], [-0.13648615358506158, -0.20259564538538544], [0.19415835494214495, -0.16544747850782482], [-0.1263331841958454, -0.20923895714495652], [0.16834551321746613, -0.18998782719001794], [-0.12691692605028407, -0.12860775732770358], [0.11952832862918951, -0.06615116065392358], [0.14926456219395443, -0.13125871992249], [-0.15306531423298703, -0.20194097114623627], [0.1505361208675319, -0.11979215543136151], [0.18167190714151454, -0.18915753510518749], [-0.16078332215159136, -0.12308560261145253], [0.17516139412990067, -0.12846403833696307], [0.1408220481781275, -0.1289640928232075], [-0.16025740137360248, -0.10758575284055824], [0.15476048199144987, -0.03440754515663829], [-0.13918576662377619, -0.1058020487924321], [-0.1255107872761573, -0.1388754802993373], [0.1489153321325661, -0.08560732586029546], [-0.14407114221575185, -0.08133957790695896], [-0.17735698605880318, -0.07270788322895924], [0.19759825108691553, -0.029202789138194254], [-0.1196023364104423, -0.10479617440324382], [0.11922777343057403, -0.09444848744839571], [-0.14297707319499847, 0.012075801333576969], [-0.13067814069275646, -0.15311061189817604], [-0.15821178572560793, -0.033071717251072864], [-0.15252476118129707, 0.03176893546649317], [-0.18215733853052052, 0.03412070986453894], [-0.14614659956889434, -0.16873139122483735], [-0.17726191882374898, 0.13556820588117016], [0.12005940243230497, 0.1103306250159252], [-0.16327542990792365, 0.10345461446187211], [-0.12018009213294359, 0.1081450457027843], [-0.14547316509461825, 0.12132571667854275], [0.09408629076752938, 0.1495497358998424], [-0.17723725804625345, -0.03469477991887282], [-0.1663288678733401, -0.023805788772934332], [-0.17754842647950697, 0.03513215219234565], [0.19925025019505005, 0.031018754720846687], [0.191381814268106, 0.06431481389023234], [-0.17304497907762426, -0.02837878446748102], [0.17909578744988705, 0.007878155744267944], [-0.15271475168558743, 0.08187706252482153], [0.119493752665537, 0.04290953268402588], [-0.20692903400770452, 0.04838559596139229], [0.17903565091606172, 0.06783251841923078], [0.19055550165061202, 0.11073467363102973], [0.1664279269084353, 0.1154669797468875], [-0.1843785211732644, 0.14471128084757257], [-0.19210876569106197, 0.07420593749559982], [-0.16982093507991858, -0.07261192955694877], [-0.18797786764684113, 0.0039520419962220535], [-0.15631957418023992, -0.06728632796197573], [-0.17618642708726312, 0.0740092671398835], [-0.17189595214964717, -0.002966644847520909], [-0.16426064622857434, -0.026478773189600482], [-0.1468018951165902, -0.030074296755159848], [-0.18078772526042147, -0.015771305429623777], [0.14277228442151746, 0.05080976333108122], [-0.1686305039591227, 0.2075829162169905], [-0.19194296463291508, -0.07872033578439055], [0.20853680837763802, -0.046850047401633683], [-0.16665972425245684, -0.08525114541281124], [-0.14743631005474303, 0.2094588631572941], [0.1522423352677946, 0.06403531932987516], [-0.16551791349446257, -0.16906850690296346], [0.17322218971295017, -0.14285567670495222], [-0.1706838060043966, -0.06855776615665178], [0.16889756080558704, -0.06859047615508712], [-0.16240580410935762, 0.14588469677648833], [-0.1537633307819331, 0.14582241710602387], [-0.16003531576717123, 0.12113510621372285], [0.128221091257245, 0.1335993701032109], [-0.12908618621097664, -0.007602377083497496], [-0.14896165288968688, 0.01703228018286113], [0.11723050439006528, -0.039646554831426005], [-0.15116793001547424, 0.055638616825535975], [-0.1695530687430109, 0.028345410146391744], [-0.1676342644128169, 0.04321329741469898], [-0.11718364206270991, 0.0032458844915363616], [-0.15291084053573614, -0.03398931136611996], [0.11310924824736958, -0.04192077468939224], [-0.16008506703310876, 0.043861456286393194], [0.12360132134339678, 0.04251912746590367], [-0.14308424849853915, 0.14070665928366263], [0.07323899023249715, 0.2101507437872507], [-0.18942941029766674, -0.09443343186352757], [-0.1682526567432147, 0.11898056016214968], [0.008227701738867952, 0.0052856632560085185], [0.1293235013458035, 0.26297385497573345], [0.04949897234949927, -0.12884493529867375], [0.11164796468766906, 0.07774929861564514], [0.14698970023105606, -0.021683406662994016], [0.1312115081220607, 0.054418512873996405], [0.008736759833591644, -0.029471603822390533], [0.16646361128827353, 0.02717057880328012], [0.16879702182960693, -0.1411775739675473], [0.2084160613436923, -0.16107561041080598], [0.1362407693113568, -0.11352171751583885], [0.16751638762681412, -0.0967292614429103], [0.1841182462827774, -0.04791310639579123], [0.17625904061604367, -0.14823164973666705], [0.16100463214805014, -0.15315801761604045], [0.23196115089683672, -0.2091730867462533], [0.14345202322995393, -0.007969299089154272], [0.01860844828530584, 0.0488530875234902], [0.14147131227754176, 0.06206319215858349], [0.18351188593151815, -0.028644757927084635], [0.12442329854531854, -0.023532169234051645], [0.007291695230656084, 0.08244454003170201], [0.11780280291905398, 0.03926504477529249], [0.19075993014146642, 0.02260853331855129], [0.09778879681443528, 0.17868020229950043], [0.02590827265798798, -0.053546560118586176], [0.005970200173021941, -0.0018193480140091308], [-0.007688773580581927, -0.25177524378173205], [0.15020234297128018, -0.05530088327737171], [0.14665190790908725, -0.06523216828924434], [-0.021650200407345825, 0.21494891139373606], [0.15379989185896012, 0.23458307575287365], [0.1772812720621589, 0.21905725027101877], [0.14550752770502215, 0.12122067480495628], [0.17402647615302, 0.10889775985989611], [0.09939519459349459, 0.11903427052279676], [0.1586254934475664, 0.11945447037346031], [0.02961233394234276, 0.10563934981145576], [0.17923225737243484, -0.07997704630866133], [0.20999287287010604, 0.011321047987843965], [0.14280943484952646, 0.15050996966046587], [0.15569524857922676, -0.07474890270742017], [0.14706086839211466, 0.15676067175914102], [0.15264892201186964, -0.11445162550856443], [0.09771948072103681, 0.22566236090845512], [0.1580583989509175, -0.1639275308006361], [0.17359920075054885, -0.07074550470922522], [0.190138635550557, -0.08971687130112159], [0.1321056068665961, -0.01176440151103171], [0.20015177515763063, -0.05829444469994693], [0.11228876200677068, -0.06271678051956006], [0.1554696132955255, -0.061678093357539106], [0.15491396534840285, -0.001669260561665851], [0.14417686885025766, -0.07025441517415384], [0.1354065881363522, -0.009817218665451322], [0.17175278576038944, -0.007965767465392475], [0.19320820542817851, 0.0968395242954284], [0.1334355991328922, 0.15859053767910372], [0.11481868803263914, 0.13609357860059387], [0.16912705465117364, -0.03819102644052046], [0.1664350942521114, -0.03305535956658863], [0.01212997546831764, 0.1246573529764375], [0.157789335295178, 0.11336605262051153], [0.00043401451494990366, 0.18862378672402938], [0.13040655222948042, -0.07378882988900076], [0.14902537726833914, 0.13141494225613248], [0.008657125187879682, 0.027057680796395495], [0.04427182389697346, -0.05234874192839142], [0.16576489763144256, 0.25283094339581], [0.01835479349943755, 0.019544478082903813], [0.029528256208762014, -0.026308511211527042], [0.018527829161597245, -0.02078814420142843], [0.16942559004743274, -0.03998436461466384], [-0.16181738840777998, -0.002210256292797425], [0.2515064093682229, -0.18353628155170315], [0.2066923815137483, -0.020656646386083947], [0.1481525431026217, 0.08299222988202942], [0.1439497466553708, 0.21238445073438414], [0.18025924054303358, 0.13146676615857966], [0.1570882567100974, -0.12314243370244604], [0.13830601720599714, 0.09295256074913888], [0.13049546870408352, 0.09006538813333637], [-0.06038295651598185, 0.16357728349561607], [0.14559498505903715, 0.04485841276403273], [0.2047571236055421, 0.10464050041608917], [0.1644589289677145, 0.05560732982187026], [0.04871186970395903, -0.14158108524136293], [0.11556827734848578, 0.18147987000086], [-0.004019270234266133, 0.02111652730661668], [0.15756705244106503, -0.0985568470651055], [0.1699170848950091, 0.12465739626015518], [0.13259058840780472, -0.10354397747661856], [0.14405907778735466, 0.12842836020415915], [0.16989518804534345, -0.06396256179254237]]}, \"id\": \"el1073140293172619488\", \"plugins\": [{\"type\": \"reset\"}, {\"type\": \"zoom\", \"button\": true, \"enabled\": false}, {\"type\": \"boxzoom\", \"button\": true, \"enabled\": false}, {\"type\": \"tooltip\", \"id\": \"el1073140292747118960\", \"labels\": [\"Sprain of joints and ligaments of other parts of neck\", \"Sprain of ligaments of lumbar spine\", \"Other sepsis\", \"Viral infection of unspecified site\", \"Dermatophytosis\", \"Malignant neoplasm of breast\", \"Malignant neoplasm of breast of unspecified site\", \"Benign neoplasm of colon, rectum, anus and anal canal\", \"Leiomyoma of uterus\", \"Iron deficiency anemia\", \"Other anemias\", \"Other disorders of white blood cells\", \"Other hypothyroidism\", \"Other nontoxic goiter\", \"Type 1 diabetes mellitus\", \"Type 2 diabetes mellitus\", \"Type 2 diabetes mellitus with neurological complications\", \"Type 2 diabetes mellitus with other specified complications\", \"Testicular dysfunction\", \"Vitamin D deficiency\", \"Overweight and obesity\", \"Obesity due to excess calories\", \"Disorders of lipoprotein metabolism and other lipidemias\", \"Volume depletion\", \"Other disorders of fluid, electrolyte and acid-base balance\", \"Alcohol related disorders\", \"Alcohol abuse\", \"Alcohol dependence\", \"Opioid related disorders\", \"Cannabis related disorders\", \"Nicotine dependence\", \"Nicotine dependence\", \"Bipolar disorder\", \"Depressive episode\", \"Major depressive disorder, recurrent\", \"Persistent mood [affective] disorders\", \"Other anxiety disorders\", \"Reaction to severe stress, and adjustment disorders\", \"Post-traumatic stress disorder (PTSD)\", \"Adjustment disorders\", \"Specific developmental disorders of speech and language\", \"Attention-deficit hyperactivity disorders\", \"Conduct disorders\", \"Epilepsy and recurrent seizures\", \"Migraine\", \"Migraine, unspecified\", \"Other headache syndromes\", \"Sleep disorders\", \"Insomnia\", \"Sleep apnea\", \"Mononeuropathies of upper limb\", \"Carpal tunnel syndrome\", \"Pain, not elsewhere classified\", \"Chronic pain, not elsewhere classified\", \"Conjunctivitis\", \"Age-related cataract\", \"Age-related nuclear cataract\", \"Other retinal disorders\", \"Glaucoma\", \"Disorders of refraction and accommodation\", \"Visual disturbances\", \"Other disorders of external ear\", \"Impacted cerumen\", \"Suppurative and unspecified otitis media\", \"Otitis media, unspecified\", \"Conductive and sensorineural hearing loss\", \"Chronic ischemic heart disease\", \"Atherosclerotic heart disease of native coronary artery\", \"Atrial fibrillation and flutter\", \"Unspecified atrial fibrillation and atrial flutter\", \"Heart failure\", \"Acute sinusitis\", \"Acute sinusitis, unspecified\", \"Acute pharyngitis\", \"Streptococcal tonsillitis\", \"Acute upper respiratory infections of multiple and unspecified sites\", \"Pneumonia, unspecified organism\", \"Acute bronchitis\", \"Acute bronchiolitis\", \"Vasomotor and allergic rhinitis\", \"Other allergic rhinitis\", \"Chronic sinusitis\", \"Other and unspecified disorders of nose and nasal sinuses\", \"Other specified disorders of nose and nasal sinuses\", \"Other chronic obstructive pulmonary disease\", \"Asthma\", \"Other and unspecified asthma\", \"Gastro-esophageal reflux disease\", \"Gastritis and duodenitis\", \"Gastroduodenitis, unspecified\", \"Inguinal hernia\", \"Other and unspecified noninfective gastroenteritis and colitis\", \"Diverticular disease of intestine\", \"Diverticular disease of large intestine without perforation or abscess\", \"Other functional intestinal disorders\", \"Constipation\", \"Other diseases of anus and rectum\", \"Other diseases of intestine\", \"Hemorrhoids and perianal venous thrombosis\", \"Other hemorrhoids\", \"Cholelithiasis\", \"Cutaneous abscess, furuncle and carbuncle\", \"Cellulitis and acute lymphangitis\", \"Cellulitis and acute lymphangitis of other parts of limb\", \"Other and unspecified dermatitis\", \"Skin changes due to chronic exposure to nonionizing radiation\", \"Acne\", \"Osteoarthritis of hip\", \"Osteoarthritis of knee\", \"Unilateral primary osteoarthritis of knee\", \"Other and unspecified osteoarthritis\", \"Osteoarthritis, unspecified site\", \"Other joint disorder, not elsewhere classified\", \"Pain in joint\", \"Spondylosis\", \"Other spondylosis\", \"Other spondylopathies\", \"Spinal stenosis\", \"Cervical disc disorders\", \"Other cervical disc displacement\", \"Other cervical disc degeneration\", \"Thoracic, thoracolumbar, and lumbosacral intervertebral disc disorders\", \"Other thoracic, thoracolumbar and lumbosacral intervertebral disc displacement\", \"Other thoracic, thoracolumbar and lumbosacral intervertebral disc degeneration\", \"Dorsalgia\", \"Radiculopathy\", \"Sciatica\", \"Other disorders of muscle\", \"Other specified disorders of muscle\", \"Synovitis and tenosynovitis\", \"Shoulder lesions\", \"Bursitis of shoulder\", \"Other enthesopathies\", \"Other and unspecified soft tissue disorders, not elsewhere classified\", \"Pain in limb, hand, foot, fingers and toes\", \"Biomechanical lesions, not elsewhere classified\", \"Segmental and somatic dysfunction\", \"Obstructive and reflux uropathy\", \"Chronic kidney disease (CKD)\", \"Calculus of kidney and ureter\", \"Cystitis\", \"Other disorders of urinary system\", \"Benign prostatic hyperplasia\", \"Other inflammation of vagina and vulva\", \"Other and unspecified ovarian cysts\", \"Excessive, frequent and irregular menstruation\", \"Supervision of high risk pregnancy\", \"Other maternal diseases classifiable elsewhere but complicating pregnancy, childbirth and the puerperium\", \"Endocrine, nutritional and metabolic diseases complicating pregnancy, childbirth and the puerperium\", \"Abnormalities of heart beat\", \"Abnormal blood-pressure reading, without diagnosis\", \"Abnormalities of breathing\", \"Dyspnea\", \"Other abnormalities of breathing\", \"Pain in throat and chest\", \"Other chest pain\", \"Other symptoms and signs involving the circulatory and respiratory system\", \"Asphyxia and hypoxemia\", \"Abdominal and pelvic pain\", \"Pain localized to upper abdomen\", \"Pain localized to other parts of lower abdomen\", \"Other abdominal pain\", \"Nausea and vomiting\", \"Other symptoms and signs involving the digestive system and abdomen\", \"Disturbances of skin sensation\", \"Localized swelling, mass and lump of skin and subcutaneous tissue\", \"Other symptoms and signs involving the nervous and musculoskeletal systems\", \"Pain associated with micturition\", \"Hematuria\", \"Polyuria\", \"Other and unspecified symptoms and signs involving the genitourinary system\", \"Other symptoms and signs involving cognitive functions and awareness\", \"Other symptoms and signs involving cognitive functions and awareness\", \"Fever of other and unknown origin\", \"Malaise and fatigue\", \"Other malaise and fatigue\", \"Edema, not elsewhere classified\", \"Lack of expected normal physiological development in childhood and adults\", \"Other general symptoms and signs\", \"Elevated blood glucose level\", \"Abnormal glucose\", \"Abnormal results of function studies\", \"Abnormal results of cardiovascular function studies\", \"Superficial injury of head\", \"Open wound of head\", \"Other and unspecified injuries of head\", \"Unspecified injury of face and head\", \"Dislocation and sprain of joints and ligaments at neck level\", \"Other and unspecified injuries of abdomen, lower back, pelvis and external genitals\", \"Sprain of shoulder joint\", \"Fracture of forearm\", \"Open wound of wrist, hand and fingers\", \"Fracture at wrist and hand level\", \"Fracture of lower leg, including ankle\", \"Dislocation and sprain of joints and ligaments of knee\", \"Tear of meniscus, current injury\", \"Dislocation and sprain of joints and ligaments at ankle, foot and toe level\", \"Injury of unspecified muscle and tendon at ankle and foot level\", \"Weeks of gestation\", \"Single liveborn infant, born in hospital\", \"Other postprocedural states\", \"Viral warts\", \"Human immunodeficiency virus [HIV] disease\", \"Other viral agents as the cause of diseases classified elsewhere\", \"Malignant neoplasm of prostate\", \"Leiomyoma of uterus, unspecified\", \"Neoplasm of uncertain behavior of skin\", \"Iron deficiency anemia, unspecified\", \"Acute posthemorrhagic anemia\", \"Anemia, unspecified\", \"Hypothyroidism, unspecified\", \"Type 2 diabetes mellitus without complications\", \"Testicular hypofunction\", \"Vitamin D deficiency, unspecified\", \"Obesity, unspecified\", \"Pure hypercholesterolemia\", \"Mixed hyperlipidemia\", \"Hyperlipidemia, unspecified\", \"Hypokalemia\", \"Unspecified psychosis not due to a substance or known physiological condition\", \"Bipolar disorder, unspecified\", \"Major depressive disorder, single episode, unspecified\", \"Dysthymic disorder\", \"Unspecified mood [affective] disorder\", \"Generalized anxiety disorder\", \"Anxiety disorder, unspecified\", \"Attention-deficit hyperactivity disorder, unspecified type\", \"Parkinson's disease\", \"Multiple sclerosis\", \"Essential (primary) hypertension\", \"Heart failure, unspecified\", \"Other specified cerebrovascular diseases\", \"Acute nasopharyngitis [common cold]\", \"Acute pharyngitis, unspecified\", \"Acute upper respiratory infection, unspecified\", \"Pneumonia, unspecified organism\", \"Acute bronchitis, unspecified\", \"Allergic rhinitis due to pollen\", \"Chronic sinusitis, unspecified\", \"Bronchitis, not specified as acute or chronic\", \"Chronic obstructive pulmonary disease, unspecified\", \"Gastro-esophageal reflux disease without esophagitis\", \"Noninfective gastroenteritis and colitis, unspecified\", \"Polyp of colon\", \"Unspecified contact dermatitis, unspecified cause\", \"Actinic keratosis\", \"Other acne\", \"Osteoarthritis of knee, unspecified\", \"Cervicalgia\", \"Low back pain\", \"Pain in thoracic spine\", \"Dorsalgia, unspecified\", \"Neuralgia and neuritis, unspecified\", \"Fibromyalgia\", \"Other specified soft tissue disorders\", \"Disorder of cartilage, unspecified\", \"Acute kidney failure, unspecified\", \"Calculus of kidney\", \"Urinary tract infection, site not specified\", \"Subacute and chronic vulvitis\", \"Other specified noninflammatory disorders of vagina\", \"Bradycardia, unspecified\", \"Palpitations\", \"Cough\", \"Pelvic and perineal pain\", \"Rash and other nonspecific skin eruption\", \"Difficulty in walking, not elsewhere classified\", \"Painful micturition, unspecified\", \"Unspecified urinary incontinence\", \"Dizziness and giddiness\", \"Fever, unspecified\", \"Headache\", \"Pain, unspecified\", \"Syncope and collapse\", \"Edema, unspecified\", \"Abnormal findings on diagnostic imaging of lung\", \"Hypertensive crisis, unspecified\", \"Chest pain, unspecified\", \"Nausea\", \"Vomiting\", \"Diarrhea, unspecified\", \"Benign prostatic hyperplasia without lower urinary tract symptoms\", \"Dehydration\", \"Unspecified convulsions\", \"Chronic iridocyclitis, unspecified eye\", \"Frequency of micturition\", \"Unspecified abdominal pain\", \"Dysphagia\", \"Acute necrotizing hemorrhagic encephalopathy, unspecified\", \"Mild intermittent asthma\", \"Influenza due to unidentified influenza virus with unspecified type of pneumonia\", \"Arthropathy, unspecified\", \"Allergic rhinitis, unspecified\", \"Benign prostatic hyperplasia with lower urinary tract symptoms\", \"Nausea with vomiting, unspecified\", \"Unspecified disturbances of skin sensation\"], \"hoffset\": 0, \"voffset\": 10, \"location\": \"mouse\"}]});\n",
              "   }(mpld3);\n",
              "}else if(typeof define === \"function\" && define.amd){\n",
              "   // require.js is available: use it to load d3/mpld3\n",
              "   require.config({paths: {d3: \"https://d3js.org/d3.v5\"}});\n",
              "   require([\"d3\"], function(d3){\n",
              "      window.d3 = d3;\n",
              "      mpld3_load_lib(\"https://mpld3.github.io/js/mpld3.v0.5.9.js\", function(){\n",
              "         \n",
              "         mpld3.draw_figure(\"fig_el10731402931726194887748556814\", {\"width\": 1500.0, \"height\": 800.0, \"axes\": [{\"bbox\": [0.125, 0.10999999999999999, 0.775, 0.77], \"xlim\": [-0.2298508061765009, 0.27442818153701926], \"ylim\": [-0.2775126987196053, 0.2887113099136067], \"xdomain\": [-0.2298508061765009, 0.27442818153701926], \"ydomain\": [-0.2775126987196053, 0.2887113099136067], \"xscale\": \"linear\", \"yscale\": \"linear\", \"axes\": [{\"position\": \"bottom\", \"nticks\": 7, \"tickvalues\": null, \"tickformat_formatter\": \"\", \"tickformat\": null, \"scale\": \"linear\", \"fontsize\": 10.0, \"grid\": {\"gridOn\": false}, \"visible\": true}, {\"position\": \"left\", \"nticks\": 7, \"tickvalues\": null, \"tickformat_formatter\": \"\", \"tickformat\": null, \"scale\": \"linear\", \"fontsize\": 10.0, \"grid\": {\"gridOn\": false}, \"visible\": true}], \"axesbg\": \"#FFFFFF\", \"axesbgalpha\": null, \"zoomable\": true, \"id\": \"el1073140293172619584\", \"lines\": [], \"paths\": [], \"markers\": [], \"texts\": [], \"collections\": [{\"offsets\": \"data01\", \"xindex\": 0, \"yindex\": 1, \"paths\": [[[[0.0, -0.5], [0.13260155, -0.5], [0.25978993539242673, -0.44731684579412084], [0.3535533905932738, -0.3535533905932738], [0.44731684579412084, -0.25978993539242673], [0.5, -0.13260155], [0.5, 0.0], [0.5, 0.13260155], [0.44731684579412084, 0.25978993539242673], [0.3535533905932738, 0.3535533905932738], [0.25978993539242673, 0.44731684579412084], [0.13260155, 0.5], [0.0, 0.5], [-0.13260155, 0.5], [-0.25978993539242673, 0.44731684579412084], [-0.3535533905932738, 0.3535533905932738], [-0.44731684579412084, 0.25978993539242673], [-0.5, 0.13260155], [-0.5, 0.0], [-0.5, -0.13260155], [-0.44731684579412084, -0.25978993539242673], [-0.3535533905932738, -0.3535533905932738], [-0.25978993539242673, -0.44731684579412084], [-0.13260155, -0.5], [0.0, -0.5]], [\"M\", \"C\", \"C\", \"C\", \"C\", \"C\", \"C\", \"C\", \"C\", \"Z\"]]], \"pathtransforms\": [[8.333333333333334, 0.0, 0.0, 8.333333333333334, 0.0, 0.0]], \"alphas\": [null], \"edgecolors\": [\"#56F6C9\", \"#56F6C9\", \"#56F6C9\", \"#56F6C9\", \"#56F6C9\", \"#FF783E\", \"#FF783E\", \"#2F78F7\", \"#FF9A51\", \"#6528FE\", \"#FF5028\", \"#FF783E\", \"#FF5028\", \"#2F78F7\", \"#2F78F7\", \"#6528FE\", \"#2F78F7\", \"#FF5028\", \"#DED478\", \"#FF5028\", \"#06BBE9\", \"#7F00FF\", \"#A8F69C\", \"#FF5028\", \"#FF5028\", \"#DED478\", \"#72FEBB\", \"#06BBE9\", \"#FF0000\", \"#DED478\", \"#6528FE\", \"#8CFEAC\", \"#8CFEAC\", \"#2F78F7\", \"#FF0000\", \"#6528FE\", \"#72FEBB\", \"#2F78F7\", \"#6528FE\", \"#DED478\", \"#2F78F7\", \"#6528FE\", \"#2F78F7\", \"#8CFEAC\", \"#8CFEAC\", \"#FF9A51\", \"#20D4E0\", \"#20D4E0\", \"#2F78F7\", \"#2F78F7\", \"#8CFEAC\", \"#6528FE\", \"#DED478\", \"#7F00FF\", \"#7F00FF\", \"#FF5028\", \"#7F00FF\", \"#FF5028\", \"#A8F69C\", \"#20D4E0\", \"#06BBE9\", \"#A8F69C\", \"#FF5028\", \"#06BBE9\", \"#2F78F7\", \"#2F78F7\", \"#FF0000\", \"#8CFEAC\", \"#FF9A51\", \"#4B50FB\", \"#6528FE\", \"#06BBE9\", \"#A8F69C\", \"#06BBE9\", \"#A8F69C\", \"#FF5028\", \"#FF0000\", \"#159AF1\", \"#FF9A51\", \"#4B50FB\", \"#FF9A51\", \"#FF0000\", \"#FF0000\", \"#FF9A51\", \"#FF0000\", \"#3CE9D5\", \"#FF0000\", \"#FF0000\", \"#4B50FB\", \"#FF5028\", \"#20D4E0\", \"#159AF1\", \"#DED478\", \"#2F78F7\", \"#8CFEAC\", \"#DED478\", \"#20D4E0\", \"#FF5028\", \"#7F00FF\", \"#FF0000\", \"#159AF1\", \"#6528FE\", \"#DED478\", \"#DED478\", \"#FF783E\", \"#6528FE\", \"#2F78F7\", \"#2F78F7\", \"#8CFEAC\", \"#20D4E0\", \"#FF5028\", \"#20D4E0\", \"#06BBE9\", \"#06BBE9\", \"#A8F69C\", \"#06BBE9\", \"#A8F69C\", \"#DED478\", \"#72FEBB\", \"#06BBE9\", \"#A8F69C\", \"#06BBE9\", \"#A8F69C\", \"#FF5028\", \"#FF783E\", \"#A8F69C\", \"#06BBE9\", \"#7F00FF\", \"#A8F69C\", \"#FF5028\", \"#A8F69C\", \"#A8F69C\", \"#FF5028\", \"#FF783E\", \"#FF5028\", \"#FF5028\", \"#7F00FF\", \"#DED478\", \"#DED478\", \"#72FEBB\", \"#FF5028\", \"#7F00FF\", \"#2F78F7\", \"#FF5028\", \"#6528FE\", \"#2F78F7\", \"#2F78F7\", \"#06BBE9\", \"#20D4E0\", \"#159AF1\", \"#FF0000\", \"#FF0000\", \"#20D4E0\", \"#3CE9D5\", \"#6528FE\", \"#6528FE\", \"#2F78F7\", \"#72FEBB\", \"#8CFEAC\", \"#6528FE\", \"#72FEBB\", \"#FF0000\", \"#8CFEAC\", \"#2F78F7\", \"#8CFEAC\", \"#159AF1\", \"#159AF1\", \"#20D4E0\", \"#FF0000\", \"#DED478\", \"#6528FE\", \"#DED478\", \"#FF0000\", \"#6528FE\", \"#6528FE\", \"#6528FE\", \"#6528FE\", \"#8CFEAC\", \"#FF9A51\", \"#DED478\", \"#72FEBB\", \"#DED478\", \"#FF9A51\", \"#8CFEAC\", \"#06BBE9\", \"#A8F69C\", \"#DED478\", \"#7F00FF\", \"#20D4E0\", \"#20D4E0\", \"#20D4E0\", \"#159AF1\", \"#6528FE\", \"#2F78F7\", \"#FF783E\", \"#2F78F7\", \"#2F78F7\", \"#2F78F7\", \"#6528FE\", \"#6528FE\", \"#FF783E\", \"#2F78F7\", \"#8CFEAC\", \"#20D4E0\", \"#3CE9D5\", \"#DED478\", \"#20D4E0\", \"#56F6C9\", \"#4B50FB\", \"#C2E98B\", \"#8CFEAC\", \"#FF783E\", \"#8CFEAC\", \"#56F6C9\", \"#8CFEAC\", \"#A8F69C\", \"#A8F69C\", \"#7F00FF\", \"#7F00FF\", \"#72FEBB\", \"#A8F69C\", \"#A8F69C\", \"#A8F69C\", \"#FF783E\", \"#56F6C9\", \"#8CFEAC\", \"#72FEBB\", \"#FF783E\", \"#F8BB66\", \"#8CFEAC\", \"#72FEBB\", \"#3CE9D5\", \"#56F6C9\", \"#56F6C9\", \"#FF2814\", \"#7F00FF\", \"#7F00FF\", \"#F8BB66\", \"#4B50FB\", \"#4B50FB\", \"#159AF1\", \"#159AF1\", \"#3CE9D5\", \"#159AF1\", \"#F8BB66\", \"#7F00FF\", \"#72FEBB\", \"#159AF1\", \"#7F00FF\", \"#159AF1\", \"#7F00FF\", \"#4B50FB\", \"#A8F69C\", \"#7F00FF\", \"#7F00FF\", \"#FF783E\", \"#72FEBB\", \"#FF783E\", \"#7F00FF\", \"#FF783E\", \"#7F00FF\", \"#FF783E\", \"#72FEBB\", \"#159AF1\", \"#3CE9D5\", \"#3CE9D5\", \"#72FEBB\", \"#72FEBB\", \"#F8BB66\", \"#159AF1\", \"#F8BB66\", \"#7F00FF\", \"#159AF1\", \"#56F6C9\", \"#56F6C9\", \"#4B50FB\", \"#56F6C9\", \"#56F6C9\", \"#56F6C9\", \"#72FEBB\", \"#6528FE\", \"#A8F69C\", \"#72FEBB\", \"#8CFEAC\", \"#4B50FB\", \"#159AF1\", \"#A8F69C\", \"#159AF1\", \"#8CFEAC\", \"#F8BB66\", \"#8CFEAC\", \"#159AF1\", \"#8CFEAC\", \"#C2E98B\", \"#3CE9D5\", \"#56F6C9\", \"#7F00FF\", \"#159AF1\", \"#7F00FF\", \"#159AF1\", \"#7F00FF\"], \"facecolors\": [\"#56F6C9\", \"#56F6C9\", \"#56F6C9\", \"#56F6C9\", \"#56F6C9\", \"#FF783E\", \"#FF783E\", \"#2F78F7\", \"#FF9A51\", \"#6528FE\", \"#FF5028\", \"#FF783E\", \"#FF5028\", \"#2F78F7\", \"#2F78F7\", \"#6528FE\", \"#2F78F7\", \"#FF5028\", \"#DED478\", \"#FF5028\", \"#06BBE9\", \"#7F00FF\", \"#A8F69C\", \"#FF5028\", \"#FF5028\", \"#DED478\", \"#72FEBB\", \"#06BBE9\", \"#FF0000\", \"#DED478\", \"#6528FE\", \"#8CFEAC\", \"#8CFEAC\", \"#2F78F7\", \"#FF0000\", \"#6528FE\", \"#72FEBB\", \"#2F78F7\", \"#6528FE\", \"#DED478\", \"#2F78F7\", \"#6528FE\", \"#2F78F7\", \"#8CFEAC\", \"#8CFEAC\", \"#FF9A51\", \"#20D4E0\", \"#20D4E0\", \"#2F78F7\", \"#2F78F7\", \"#8CFEAC\", \"#6528FE\", \"#DED478\", \"#7F00FF\", \"#7F00FF\", \"#FF5028\", \"#7F00FF\", \"#FF5028\", \"#A8F69C\", \"#20D4E0\", \"#06BBE9\", \"#A8F69C\", \"#FF5028\", \"#06BBE9\", \"#2F78F7\", \"#2F78F7\", \"#FF0000\", \"#8CFEAC\", \"#FF9A51\", \"#4B50FB\", \"#6528FE\", \"#06BBE9\", \"#A8F69C\", \"#06BBE9\", \"#A8F69C\", \"#FF5028\", \"#FF0000\", \"#159AF1\", \"#FF9A51\", \"#4B50FB\", \"#FF9A51\", \"#FF0000\", \"#FF0000\", \"#FF9A51\", \"#FF0000\", \"#3CE9D5\", \"#FF0000\", \"#FF0000\", \"#4B50FB\", \"#FF5028\", \"#20D4E0\", \"#159AF1\", \"#DED478\", \"#2F78F7\", \"#8CFEAC\", \"#DED478\", \"#20D4E0\", \"#FF5028\", \"#7F00FF\", \"#FF0000\", \"#159AF1\", \"#6528FE\", \"#DED478\", \"#DED478\", \"#FF783E\", \"#6528FE\", \"#2F78F7\", \"#2F78F7\", \"#8CFEAC\", \"#20D4E0\", \"#FF5028\", \"#20D4E0\", \"#06BBE9\", \"#06BBE9\", \"#A8F69C\", \"#06BBE9\", \"#A8F69C\", \"#DED478\", \"#72FEBB\", \"#06BBE9\", \"#A8F69C\", \"#06BBE9\", \"#A8F69C\", \"#FF5028\", \"#FF783E\", \"#A8F69C\", \"#06BBE9\", \"#7F00FF\", \"#A8F69C\", \"#FF5028\", \"#A8F69C\", \"#A8F69C\", \"#FF5028\", \"#FF783E\", \"#FF5028\", \"#FF5028\", \"#7F00FF\", \"#DED478\", \"#DED478\", \"#72FEBB\", \"#FF5028\", \"#7F00FF\", \"#2F78F7\", \"#FF5028\", \"#6528FE\", \"#2F78F7\", \"#2F78F7\", \"#06BBE9\", \"#20D4E0\", \"#159AF1\", \"#FF0000\", \"#FF0000\", \"#20D4E0\", \"#3CE9D5\", \"#6528FE\", \"#6528FE\", \"#2F78F7\", \"#72FEBB\", \"#8CFEAC\", \"#6528FE\", \"#72FEBB\", \"#FF0000\", \"#8CFEAC\", \"#2F78F7\", \"#8CFEAC\", \"#159AF1\", \"#159AF1\", \"#20D4E0\", \"#FF0000\", \"#DED478\", \"#6528FE\", \"#DED478\", \"#FF0000\", \"#6528FE\", \"#6528FE\", \"#6528FE\", \"#6528FE\", \"#8CFEAC\", \"#FF9A51\", \"#DED478\", \"#72FEBB\", \"#DED478\", \"#FF9A51\", \"#8CFEAC\", \"#06BBE9\", \"#A8F69C\", \"#DED478\", \"#7F00FF\", \"#20D4E0\", \"#20D4E0\", \"#20D4E0\", \"#159AF1\", \"#6528FE\", \"#2F78F7\", \"#FF783E\", \"#2F78F7\", \"#2F78F7\", \"#2F78F7\", \"#6528FE\", \"#6528FE\", \"#FF783E\", \"#2F78F7\", \"#8CFEAC\", \"#20D4E0\", \"#3CE9D5\", \"#DED478\", \"#20D4E0\", \"#56F6C9\", \"#4B50FB\", \"#C2E98B\", \"#8CFEAC\", \"#FF783E\", \"#8CFEAC\", \"#56F6C9\", \"#8CFEAC\", \"#A8F69C\", \"#A8F69C\", \"#7F00FF\", \"#7F00FF\", \"#72FEBB\", \"#A8F69C\", \"#A8F69C\", \"#A8F69C\", \"#FF783E\", \"#56F6C9\", \"#8CFEAC\", \"#72FEBB\", \"#FF783E\", \"#F8BB66\", \"#8CFEAC\", \"#72FEBB\", \"#3CE9D5\", \"#56F6C9\", \"#56F6C9\", \"#FF2814\", \"#7F00FF\", \"#7F00FF\", \"#F8BB66\", \"#4B50FB\", \"#4B50FB\", \"#159AF1\", \"#159AF1\", \"#3CE9D5\", \"#159AF1\", \"#F8BB66\", \"#7F00FF\", \"#72FEBB\", \"#159AF1\", \"#7F00FF\", \"#159AF1\", \"#7F00FF\", \"#4B50FB\", \"#A8F69C\", \"#7F00FF\", \"#7F00FF\", \"#FF783E\", \"#72FEBB\", \"#FF783E\", \"#7F00FF\", \"#FF783E\", \"#7F00FF\", \"#FF783E\", \"#72FEBB\", \"#159AF1\", \"#3CE9D5\", \"#3CE9D5\", \"#72FEBB\", \"#72FEBB\", \"#F8BB66\", \"#159AF1\", \"#F8BB66\", \"#7F00FF\", \"#159AF1\", \"#56F6C9\", \"#56F6C9\", \"#4B50FB\", \"#56F6C9\", \"#56F6C9\", \"#56F6C9\", \"#72FEBB\", \"#6528FE\", \"#A8F69C\", \"#72FEBB\", \"#8CFEAC\", \"#4B50FB\", \"#159AF1\", \"#A8F69C\", \"#159AF1\", \"#8CFEAC\", \"#F8BB66\", \"#8CFEAC\", \"#159AF1\", \"#8CFEAC\", \"#C2E98B\", \"#3CE9D5\", \"#56F6C9\", \"#7F00FF\", \"#159AF1\", \"#7F00FF\", \"#159AF1\", \"#7F00FF\"], \"edgewidths\": [1.0], \"offsetcoordinates\": \"data\", \"pathcoordinates\": \"display\", \"zorder\": 1, \"id\": \"el1073140292747118960\"}], \"images\": [], \"sharex\": [], \"sharey\": []}], \"data\": {\"data01\": [[0.04631266666244666, 0.062147951658414], [-0.0017326233866917877, -0.07220940912418562], [-0.028581907656708462, 0.04568589576570725], [-0.02415402721883229, -0.016469913753169422], [-0.032107009705482845, 0.0456226897831003], [0.12330117655841834, 0.0028288126550440823], [0.1174474662354917, -0.023728024004343838], [-0.13881400158059654, 0.010289721033014744], [-0.16155303649908365, 0.21713322245518843], [-0.16255460966315174, -0.008106529707029835], [-0.1079546398696636, -0.07935348166077698], [0.10140113917215872, -0.06662622256443923], [-0.14560979642486566, -0.12832052764731647], [-0.16572825111958103, 0.051728083859030785], [-0.1677262287552744, 0.028436523927714966], [-0.18609367507925348, 0.003860557507095811], [-0.17363647972508026, 0.031565381137876734], [-0.16132302831828, -0.15669223607273258], [-0.14317623472839092, -0.07673741957551179], [-0.11555062879429404, -0.08153054441526168], [-0.1418531019858292, -0.1984219569199232], [0.13599338525508767, -0.09495007230804185], [0.1660133789507025, -0.13049524070373061], [-0.13039947924982187, -0.14416785009990554], [-0.17435522947697446, -0.12551158350638492], [-0.17642436999090416, -0.059388196450213177], [0.20014491661138975, -0.046144212787230354], [-0.15594290576765635, -0.2462612501740801], [-0.16978140674004383, 0.07220866161551108], [-0.1640834651521666, -0.08331434158832847], [-0.14072811632153218, -0.02802343639680876], [0.1206049559036602, 0.04473397434783119], [0.11198605333030465, 0.019048258912784322], [-0.14003251887873364, 0.025931713507290777], [-0.1526799543045105, 0.07392580108523364], [-0.17761641667514688, -0.031509253722433433], [0.17326875896031352, -0.010828374445696285], [-0.12327078709472025, 0.02950227999428637], [-0.16426869867161908, -0.01629108332158609], [-0.14333952736239558, -0.05608506245862208], [-0.1220464556685447, 0.042736598610083214], [-0.16052205134771358, -0.014838160263203032], [-0.14326825443337163, 0.04713361706676201], [0.09947262263832908, 0.07654454553448084], [0.11726281901134587, 0.05761237821358527], [-0.11712462306418041, 0.18908628381171091], [-0.15533201428924143, 0.12171196548231704], [-0.1275834298931912, 0.14595040397392323], [-0.1538976432317109, 0.05512598377018228], [-0.15322348733635396, 0.02627872434601869], [0.13717299272708966, 0.024670746616684388], [-0.13982370146148668, -0.012001611173503299], [-0.16499274121833038, -0.09592342356362012], [0.16890827061601427, -0.05565450502973842], [0.1785180748263521, -0.09654785329012996], [-0.141963466156987, -0.12123123848757557], [0.14768080670030498, -0.0936217273863688], [-0.18379592776464945, -0.13931935519338876], [0.17713865035841328, -0.11651337688839788], [-0.1601946090024536, 0.16307926424175442], [-0.13554788813148985, -0.1948179357500539], [0.1568276731822564, -0.13100808541293876], [-0.15247012548909605, -0.12787514605252492], [-0.14008140583027262, -0.17375411486670275], [-0.16722148118163088, 0.023159474803378963], [-0.16515616213778087, 0.03196343810745134], [-0.1585592988649677, 0.074632861149946], [0.136172388110855, 0.08125999593077252], [-0.15148361702541846, 0.22705842128449213], [0.13431138234127915, 0.24774234060938718], [-0.15549992566963936, -0.018469696248694413], [-0.12875479571205378, -0.22769810044529326], [0.1943952697875427, -0.17724834447061655], [-0.10299704709262507, -0.1720944263963569], [0.1705077623609682, -0.15494393290714845], [-0.12389005460094744, -0.12292677162067353], [-0.15297874227650826, 0.1091173707802065], [0.1737925373532028, 0.13218497856756858], [-0.1769950210501959, 0.22422314329362394], [0.09184611007438366, 0.24600755139536892], [-0.16681675229903897, 0.19940409342739862], [-0.14414357734777192, 0.08753049663912449], [-0.13476834770081084, 0.08229990715771111], [-0.1255425654493714, 0.21258815602005168], [-0.17357442290184896, 0.0890081240619886], [0.08515777575769472, 0.1390455779536221], [-0.15065928485204094, 0.06532106357758084], [-0.16178656354577162, 0.09659697654199029], [0.14712143607974093, 0.18714160312201208], [-0.11664646444498243, -0.11185215875621302], [-0.1685379230618848, 0.13054731792648686], [0.16385921260491348, 0.1250841933329334], [-0.17730523715544808, -0.05055406120369107], [-0.1744623082867485, 0.01880704074825444], [0.15237148575916365, 0.04070339677273246], [-0.15637980653367453, -0.05229672488932985], [-0.17732675878065654, 0.14260259500071568], [-0.15377350423653058, -0.11833756637172371], [0.17199184486359037, -0.08857526639132629], [-0.19910053155896024, 0.1015741695421848], [0.1737573157435968, 0.1251251719674899], [-0.1649788379323196, -0.03475312347138774], [-0.15783326941397705, -0.07200905700484575], [-0.16526853022449764, -0.07791746009817944], [0.1438563514020102, -0.04301515162787099], [-0.1608276368172749, -0.0396700084903599], [-0.17121698332330187, 0.055263443014725806], [-0.16935865216317827, 0.0349019744382669], [0.14965071022339613, 0.037236543791682154], [-0.1606379258874707, 0.13522366083445436], [-0.1361905413784598, -0.13166839883472056], [-0.15873726568239138, 0.1680663325886946], [-0.12745861303041356, -0.18556359356294605], [-0.1386419787257941, -0.23187148371464347], [0.1416571867464166, -0.13952983418677653], [-0.15572433263910826, -0.2372430583523023], [0.19166554660202992, -0.18201146639559895], [-0.18612626775669358, -0.10554584836614991], [0.2284267140109372, -0.06645499310777328], [-0.13648615358506158, -0.20259564538538544], [0.19415835494214495, -0.16544747850782482], [-0.1263331841958454, -0.20923895714495652], [0.16834551321746613, -0.18998782719001794], [-0.12691692605028407, -0.12860775732770358], [0.11952832862918951, -0.06615116065392358], [0.14926456219395443, -0.13125871992249], [-0.15306531423298703, -0.20194097114623627], [0.1505361208675319, -0.11979215543136151], [0.18167190714151454, -0.18915753510518749], [-0.16078332215159136, -0.12308560261145253], [0.17516139412990067, -0.12846403833696307], [0.1408220481781275, -0.1289640928232075], [-0.16025740137360248, -0.10758575284055824], [0.15476048199144987, -0.03440754515663829], [-0.13918576662377619, -0.1058020487924321], [-0.1255107872761573, -0.1388754802993373], [0.1489153321325661, -0.08560732586029546], [-0.14407114221575185, -0.08133957790695896], [-0.17735698605880318, -0.07270788322895924], [0.19759825108691553, -0.029202789138194254], [-0.1196023364104423, -0.10479617440324382], [0.11922777343057403, -0.09444848744839571], [-0.14297707319499847, 0.012075801333576969], [-0.13067814069275646, -0.15311061189817604], [-0.15821178572560793, -0.033071717251072864], [-0.15252476118129707, 0.03176893546649317], [-0.18215733853052052, 0.03412070986453894], [-0.14614659956889434, -0.16873139122483735], [-0.17726191882374898, 0.13556820588117016], [0.12005940243230497, 0.1103306250159252], [-0.16327542990792365, 0.10345461446187211], [-0.12018009213294359, 0.1081450457027843], [-0.14547316509461825, 0.12132571667854275], [0.09408629076752938, 0.1495497358998424], [-0.17723725804625345, -0.03469477991887282], [-0.1663288678733401, -0.023805788772934332], [-0.17754842647950697, 0.03513215219234565], [0.19925025019505005, 0.031018754720846687], [0.191381814268106, 0.06431481389023234], [-0.17304497907762426, -0.02837878446748102], [0.17909578744988705, 0.007878155744267944], [-0.15271475168558743, 0.08187706252482153], [0.119493752665537, 0.04290953268402588], [-0.20692903400770452, 0.04838559596139229], [0.17903565091606172, 0.06783251841923078], [0.19055550165061202, 0.11073467363102973], [0.1664279269084353, 0.1154669797468875], [-0.1843785211732644, 0.14471128084757257], [-0.19210876569106197, 0.07420593749559982], [-0.16982093507991858, -0.07261192955694877], [-0.18797786764684113, 0.0039520419962220535], [-0.15631957418023992, -0.06728632796197573], [-0.17618642708726312, 0.0740092671398835], [-0.17189595214964717, -0.002966644847520909], [-0.16426064622857434, -0.026478773189600482], [-0.1468018951165902, -0.030074296755159848], [-0.18078772526042147, -0.015771305429623777], [0.14277228442151746, 0.05080976333108122], [-0.1686305039591227, 0.2075829162169905], [-0.19194296463291508, -0.07872033578439055], [0.20853680837763802, -0.046850047401633683], [-0.16665972425245684, -0.08525114541281124], [-0.14743631005474303, 0.2094588631572941], [0.1522423352677946, 0.06403531932987516], [-0.16551791349446257, -0.16906850690296346], [0.17322218971295017, -0.14285567670495222], [-0.1706838060043966, -0.06855776615665178], [0.16889756080558704, -0.06859047615508712], [-0.16240580410935762, 0.14588469677648833], [-0.1537633307819331, 0.14582241710602387], [-0.16003531576717123, 0.12113510621372285], [0.128221091257245, 0.1335993701032109], [-0.12908618621097664, -0.007602377083497496], [-0.14896165288968688, 0.01703228018286113], [0.11723050439006528, -0.039646554831426005], [-0.15116793001547424, 0.055638616825535975], [-0.1695530687430109, 0.028345410146391744], [-0.1676342644128169, 0.04321329741469898], [-0.11718364206270991, 0.0032458844915363616], [-0.15291084053573614, -0.03398931136611996], [0.11310924824736958, -0.04192077468939224], [-0.16008506703310876, 0.043861456286393194], [0.12360132134339678, 0.04251912746590367], [-0.14308424849853915, 0.14070665928366263], [0.07323899023249715, 0.2101507437872507], [-0.18942941029766674, -0.09443343186352757], [-0.1682526567432147, 0.11898056016214968], [0.008227701738867952, 0.0052856632560085185], [0.1293235013458035, 0.26297385497573345], [0.04949897234949927, -0.12884493529867375], [0.11164796468766906, 0.07774929861564514], [0.14698970023105606, -0.021683406662994016], [0.1312115081220607, 0.054418512873996405], [0.008736759833591644, -0.029471603822390533], [0.16646361128827353, 0.02717057880328012], [0.16879702182960693, -0.1411775739675473], [0.2084160613436923, -0.16107561041080598], [0.1362407693113568, -0.11352171751583885], [0.16751638762681412, -0.0967292614429103], [0.1841182462827774, -0.04791310639579123], [0.17625904061604367, -0.14823164973666705], [0.16100463214805014, -0.15315801761604045], [0.23196115089683672, -0.2091730867462533], [0.14345202322995393, -0.007969299089154272], [0.01860844828530584, 0.0488530875234902], [0.14147131227754176, 0.06206319215858349], [0.18351188593151815, -0.028644757927084635], [0.12442329854531854, -0.023532169234051645], [0.007291695230656084, 0.08244454003170201], [0.11780280291905398, 0.03926504477529249], [0.19075993014146642, 0.02260853331855129], [0.09778879681443528, 0.17868020229950043], [0.02590827265798798, -0.053546560118586176], [0.005970200173021941, -0.0018193480140091308], [-0.007688773580581927, -0.25177524378173205], [0.15020234297128018, -0.05530088327737171], [0.14665190790908725, -0.06523216828924434], [-0.021650200407345825, 0.21494891139373606], [0.15379989185896012, 0.23458307575287365], [0.1772812720621589, 0.21905725027101877], [0.14550752770502215, 0.12122067480495628], [0.17402647615302, 0.10889775985989611], [0.09939519459349459, 0.11903427052279676], [0.1586254934475664, 0.11945447037346031], [0.02961233394234276, 0.10563934981145576], [0.17923225737243484, -0.07997704630866133], [0.20999287287010604, 0.011321047987843965], [0.14280943484952646, 0.15050996966046587], [0.15569524857922676, -0.07474890270742017], [0.14706086839211466, 0.15676067175914102], [0.15264892201186964, -0.11445162550856443], [0.09771948072103681, 0.22566236090845512], [0.1580583989509175, -0.1639275308006361], [0.17359920075054885, -0.07074550470922522], [0.190138635550557, -0.08971687130112159], [0.1321056068665961, -0.01176440151103171], [0.20015177515763063, -0.05829444469994693], [0.11228876200677068, -0.06271678051956006], [0.1554696132955255, -0.061678093357539106], [0.15491396534840285, -0.001669260561665851], [0.14417686885025766, -0.07025441517415384], [0.1354065881363522, -0.009817218665451322], [0.17175278576038944, -0.007965767465392475], [0.19320820542817851, 0.0968395242954284], [0.1334355991328922, 0.15859053767910372], [0.11481868803263914, 0.13609357860059387], [0.16912705465117364, -0.03819102644052046], [0.1664350942521114, -0.03305535956658863], [0.01212997546831764, 0.1246573529764375], [0.157789335295178, 0.11336605262051153], [0.00043401451494990366, 0.18862378672402938], [0.13040655222948042, -0.07378882988900076], [0.14902537726833914, 0.13141494225613248], [0.008657125187879682, 0.027057680796395495], [0.04427182389697346, -0.05234874192839142], [0.16576489763144256, 0.25283094339581], [0.01835479349943755, 0.019544478082903813], [0.029528256208762014, -0.026308511211527042], [0.018527829161597245, -0.02078814420142843], [0.16942559004743274, -0.03998436461466384], [-0.16181738840777998, -0.002210256292797425], [0.2515064093682229, -0.18353628155170315], [0.2066923815137483, -0.020656646386083947], [0.1481525431026217, 0.08299222988202942], [0.1439497466553708, 0.21238445073438414], [0.18025924054303358, 0.13146676615857966], [0.1570882567100974, -0.12314243370244604], [0.13830601720599714, 0.09295256074913888], [0.13049546870408352, 0.09006538813333637], [-0.06038295651598185, 0.16357728349561607], [0.14559498505903715, 0.04485841276403273], [0.2047571236055421, 0.10464050041608917], [0.1644589289677145, 0.05560732982187026], [0.04871186970395903, -0.14158108524136293], [0.11556827734848578, 0.18147987000086], [-0.004019270234266133, 0.02111652730661668], [0.15756705244106503, -0.0985568470651055], [0.1699170848950091, 0.12465739626015518], [0.13259058840780472, -0.10354397747661856], [0.14405907778735466, 0.12842836020415915], [0.16989518804534345, -0.06396256179254237]]}, \"id\": \"el1073140293172619488\", \"plugins\": [{\"type\": \"reset\"}, {\"type\": \"zoom\", \"button\": true, \"enabled\": false}, {\"type\": \"boxzoom\", \"button\": true, \"enabled\": false}, {\"type\": \"tooltip\", \"id\": \"el1073140292747118960\", \"labels\": [\"Sprain of joints and ligaments of other parts of neck\", \"Sprain of ligaments of lumbar spine\", \"Other sepsis\", \"Viral infection of unspecified site\", \"Dermatophytosis\", \"Malignant neoplasm of breast\", \"Malignant neoplasm of breast of unspecified site\", \"Benign neoplasm of colon, rectum, anus and anal canal\", \"Leiomyoma of uterus\", \"Iron deficiency anemia\", \"Other anemias\", \"Other disorders of white blood cells\", \"Other hypothyroidism\", \"Other nontoxic goiter\", \"Type 1 diabetes mellitus\", \"Type 2 diabetes mellitus\", \"Type 2 diabetes mellitus with neurological complications\", \"Type 2 diabetes mellitus with other specified complications\", \"Testicular dysfunction\", \"Vitamin D deficiency\", \"Overweight and obesity\", \"Obesity due to excess calories\", \"Disorders of lipoprotein metabolism and other lipidemias\", \"Volume depletion\", \"Other disorders of fluid, electrolyte and acid-base balance\", \"Alcohol related disorders\", \"Alcohol abuse\", \"Alcohol dependence\", \"Opioid related disorders\", \"Cannabis related disorders\", \"Nicotine dependence\", \"Nicotine dependence\", \"Bipolar disorder\", \"Depressive episode\", \"Major depressive disorder, recurrent\", \"Persistent mood [affective] disorders\", \"Other anxiety disorders\", \"Reaction to severe stress, and adjustment disorders\", \"Post-traumatic stress disorder (PTSD)\", \"Adjustment disorders\", \"Specific developmental disorders of speech and language\", \"Attention-deficit hyperactivity disorders\", \"Conduct disorders\", \"Epilepsy and recurrent seizures\", \"Migraine\", \"Migraine, unspecified\", \"Other headache syndromes\", \"Sleep disorders\", \"Insomnia\", \"Sleep apnea\", \"Mononeuropathies of upper limb\", \"Carpal tunnel syndrome\", \"Pain, not elsewhere classified\", \"Chronic pain, not elsewhere classified\", \"Conjunctivitis\", \"Age-related cataract\", \"Age-related nuclear cataract\", \"Other retinal disorders\", \"Glaucoma\", \"Disorders of refraction and accommodation\", \"Visual disturbances\", \"Other disorders of external ear\", \"Impacted cerumen\", \"Suppurative and unspecified otitis media\", \"Otitis media, unspecified\", \"Conductive and sensorineural hearing loss\", \"Chronic ischemic heart disease\", \"Atherosclerotic heart disease of native coronary artery\", \"Atrial fibrillation and flutter\", \"Unspecified atrial fibrillation and atrial flutter\", \"Heart failure\", \"Acute sinusitis\", \"Acute sinusitis, unspecified\", \"Acute pharyngitis\", \"Streptococcal tonsillitis\", \"Acute upper respiratory infections of multiple and unspecified sites\", \"Pneumonia, unspecified organism\", \"Acute bronchitis\", \"Acute bronchiolitis\", \"Vasomotor and allergic rhinitis\", \"Other allergic rhinitis\", \"Chronic sinusitis\", \"Other and unspecified disorders of nose and nasal sinuses\", \"Other specified disorders of nose and nasal sinuses\", \"Other chronic obstructive pulmonary disease\", \"Asthma\", \"Other and unspecified asthma\", \"Gastro-esophageal reflux disease\", \"Gastritis and duodenitis\", \"Gastroduodenitis, unspecified\", \"Inguinal hernia\", \"Other and unspecified noninfective gastroenteritis and colitis\", \"Diverticular disease of intestine\", \"Diverticular disease of large intestine without perforation or abscess\", \"Other functional intestinal disorders\", \"Constipation\", \"Other diseases of anus and rectum\", \"Other diseases of intestine\", \"Hemorrhoids and perianal venous thrombosis\", \"Other hemorrhoids\", \"Cholelithiasis\", \"Cutaneous abscess, furuncle and carbuncle\", \"Cellulitis and acute lymphangitis\", \"Cellulitis and acute lymphangitis of other parts of limb\", \"Other and unspecified dermatitis\", \"Skin changes due to chronic exposure to nonionizing radiation\", \"Acne\", \"Osteoarthritis of hip\", \"Osteoarthritis of knee\", \"Unilateral primary osteoarthritis of knee\", \"Other and unspecified osteoarthritis\", \"Osteoarthritis, unspecified site\", \"Other joint disorder, not elsewhere classified\", \"Pain in joint\", \"Spondylosis\", \"Other spondylosis\", \"Other spondylopathies\", \"Spinal stenosis\", \"Cervical disc disorders\", \"Other cervical disc displacement\", \"Other cervical disc degeneration\", \"Thoracic, thoracolumbar, and lumbosacral intervertebral disc disorders\", \"Other thoracic, thoracolumbar and lumbosacral intervertebral disc displacement\", \"Other thoracic, thoracolumbar and lumbosacral intervertebral disc degeneration\", \"Dorsalgia\", \"Radiculopathy\", \"Sciatica\", \"Other disorders of muscle\", \"Other specified disorders of muscle\", \"Synovitis and tenosynovitis\", \"Shoulder lesions\", \"Bursitis of shoulder\", \"Other enthesopathies\", \"Other and unspecified soft tissue disorders, not elsewhere classified\", \"Pain in limb, hand, foot, fingers and toes\", \"Biomechanical lesions, not elsewhere classified\", \"Segmental and somatic dysfunction\", \"Obstructive and reflux uropathy\", \"Chronic kidney disease (CKD)\", \"Calculus of kidney and ureter\", \"Cystitis\", \"Other disorders of urinary system\", \"Benign prostatic hyperplasia\", \"Other inflammation of vagina and vulva\", \"Other and unspecified ovarian cysts\", \"Excessive, frequent and irregular menstruation\", \"Supervision of high risk pregnancy\", \"Other maternal diseases classifiable elsewhere but complicating pregnancy, childbirth and the puerperium\", \"Endocrine, nutritional and metabolic diseases complicating pregnancy, childbirth and the puerperium\", \"Abnormalities of heart beat\", \"Abnormal blood-pressure reading, without diagnosis\", \"Abnormalities of breathing\", \"Dyspnea\", \"Other abnormalities of breathing\", \"Pain in throat and chest\", \"Other chest pain\", \"Other symptoms and signs involving the circulatory and respiratory system\", \"Asphyxia and hypoxemia\", \"Abdominal and pelvic pain\", \"Pain localized to upper abdomen\", \"Pain localized to other parts of lower abdomen\", \"Other abdominal pain\", \"Nausea and vomiting\", \"Other symptoms and signs involving the digestive system and abdomen\", \"Disturbances of skin sensation\", \"Localized swelling, mass and lump of skin and subcutaneous tissue\", \"Other symptoms and signs involving the nervous and musculoskeletal systems\", \"Pain associated with micturition\", \"Hematuria\", \"Polyuria\", \"Other and unspecified symptoms and signs involving the genitourinary system\", \"Other symptoms and signs involving cognitive functions and awareness\", \"Other symptoms and signs involving cognitive functions and awareness\", \"Fever of other and unknown origin\", \"Malaise and fatigue\", \"Other malaise and fatigue\", \"Edema, not elsewhere classified\", \"Lack of expected normal physiological development in childhood and adults\", \"Other general symptoms and signs\", \"Elevated blood glucose level\", \"Abnormal glucose\", \"Abnormal results of function studies\", \"Abnormal results of cardiovascular function studies\", \"Superficial injury of head\", \"Open wound of head\", \"Other and unspecified injuries of head\", \"Unspecified injury of face and head\", \"Dislocation and sprain of joints and ligaments at neck level\", \"Other and unspecified injuries of abdomen, lower back, pelvis and external genitals\", \"Sprain of shoulder joint\", \"Fracture of forearm\", \"Open wound of wrist, hand and fingers\", \"Fracture at wrist and hand level\", \"Fracture of lower leg, including ankle\", \"Dislocation and sprain of joints and ligaments of knee\", \"Tear of meniscus, current injury\", \"Dislocation and sprain of joints and ligaments at ankle, foot and toe level\", \"Injury of unspecified muscle and tendon at ankle and foot level\", \"Weeks of gestation\", \"Single liveborn infant, born in hospital\", \"Other postprocedural states\", \"Viral warts\", \"Human immunodeficiency virus [HIV] disease\", \"Other viral agents as the cause of diseases classified elsewhere\", \"Malignant neoplasm of prostate\", \"Leiomyoma of uterus, unspecified\", \"Neoplasm of uncertain behavior of skin\", \"Iron deficiency anemia, unspecified\", \"Acute posthemorrhagic anemia\", \"Anemia, unspecified\", \"Hypothyroidism, unspecified\", \"Type 2 diabetes mellitus without complications\", \"Testicular hypofunction\", \"Vitamin D deficiency, unspecified\", \"Obesity, unspecified\", \"Pure hypercholesterolemia\", \"Mixed hyperlipidemia\", \"Hyperlipidemia, unspecified\", \"Hypokalemia\", \"Unspecified psychosis not due to a substance or known physiological condition\", \"Bipolar disorder, unspecified\", \"Major depressive disorder, single episode, unspecified\", \"Dysthymic disorder\", \"Unspecified mood [affective] disorder\", \"Generalized anxiety disorder\", \"Anxiety disorder, unspecified\", \"Attention-deficit hyperactivity disorder, unspecified type\", \"Parkinson's disease\", \"Multiple sclerosis\", \"Essential (primary) hypertension\", \"Heart failure, unspecified\", \"Other specified cerebrovascular diseases\", \"Acute nasopharyngitis [common cold]\", \"Acute pharyngitis, unspecified\", \"Acute upper respiratory infection, unspecified\", \"Pneumonia, unspecified organism\", \"Acute bronchitis, unspecified\", \"Allergic rhinitis due to pollen\", \"Chronic sinusitis, unspecified\", \"Bronchitis, not specified as acute or chronic\", \"Chronic obstructive pulmonary disease, unspecified\", \"Gastro-esophageal reflux disease without esophagitis\", \"Noninfective gastroenteritis and colitis, unspecified\", \"Polyp of colon\", \"Unspecified contact dermatitis, unspecified cause\", \"Actinic keratosis\", \"Other acne\", \"Osteoarthritis of knee, unspecified\", \"Cervicalgia\", \"Low back pain\", \"Pain in thoracic spine\", \"Dorsalgia, unspecified\", \"Neuralgia and neuritis, unspecified\", \"Fibromyalgia\", \"Other specified soft tissue disorders\", \"Disorder of cartilage, unspecified\", \"Acute kidney failure, unspecified\", \"Calculus of kidney\", \"Urinary tract infection, site not specified\", \"Subacute and chronic vulvitis\", \"Other specified noninflammatory disorders of vagina\", \"Bradycardia, unspecified\", \"Palpitations\", \"Cough\", \"Pelvic and perineal pain\", \"Rash and other nonspecific skin eruption\", \"Difficulty in walking, not elsewhere classified\", \"Painful micturition, unspecified\", \"Unspecified urinary incontinence\", \"Dizziness and giddiness\", \"Fever, unspecified\", \"Headache\", \"Pain, unspecified\", \"Syncope and collapse\", \"Edema, unspecified\", \"Abnormal findings on diagnostic imaging of lung\", \"Hypertensive crisis, unspecified\", \"Chest pain, unspecified\", \"Nausea\", \"Vomiting\", \"Diarrhea, unspecified\", \"Benign prostatic hyperplasia without lower urinary tract symptoms\", \"Dehydration\", \"Unspecified convulsions\", \"Chronic iridocyclitis, unspecified eye\", \"Frequency of micturition\", \"Unspecified abdominal pain\", \"Dysphagia\", \"Acute necrotizing hemorrhagic encephalopathy, unspecified\", \"Mild intermittent asthma\", \"Influenza due to unidentified influenza virus with unspecified type of pneumonia\", \"Arthropathy, unspecified\", \"Allergic rhinitis, unspecified\", \"Benign prostatic hyperplasia with lower urinary tract symptoms\", \"Nausea with vomiting, unspecified\", \"Unspecified disturbances of skin sensation\"], \"hoffset\": 0, \"voffset\": 10, \"location\": \"mouse\"}]});\n",
              "      });\n",
              "    });\n",
              "}else{\n",
              "    // require.js not available: dynamically load d3 & mpld3\n",
              "    mpld3_load_lib(\"https://d3js.org/d3.v5.js\", function(){\n",
              "         mpld3_load_lib(\"https://mpld3.github.io/js/mpld3.v0.5.9.js\", function(){\n",
              "                 \n",
              "                 mpld3.draw_figure(\"fig_el10731402931726194887748556814\", {\"width\": 1500.0, \"height\": 800.0, \"axes\": [{\"bbox\": [0.125, 0.10999999999999999, 0.775, 0.77], \"xlim\": [-0.2298508061765009, 0.27442818153701926], \"ylim\": [-0.2775126987196053, 0.2887113099136067], \"xdomain\": [-0.2298508061765009, 0.27442818153701926], \"ydomain\": [-0.2775126987196053, 0.2887113099136067], \"xscale\": \"linear\", \"yscale\": \"linear\", \"axes\": [{\"position\": \"bottom\", \"nticks\": 7, \"tickvalues\": null, \"tickformat_formatter\": \"\", \"tickformat\": null, \"scale\": \"linear\", \"fontsize\": 10.0, \"grid\": {\"gridOn\": false}, \"visible\": true}, {\"position\": \"left\", \"nticks\": 7, \"tickvalues\": null, \"tickformat_formatter\": \"\", \"tickformat\": null, \"scale\": \"linear\", \"fontsize\": 10.0, \"grid\": {\"gridOn\": false}, \"visible\": true}], \"axesbg\": \"#FFFFFF\", \"axesbgalpha\": null, \"zoomable\": true, \"id\": \"el1073140293172619584\", \"lines\": [], \"paths\": [], \"markers\": [], \"texts\": [], \"collections\": [{\"offsets\": \"data01\", \"xindex\": 0, \"yindex\": 1, \"paths\": [[[[0.0, -0.5], [0.13260155, -0.5], [0.25978993539242673, -0.44731684579412084], [0.3535533905932738, -0.3535533905932738], [0.44731684579412084, -0.25978993539242673], [0.5, -0.13260155], [0.5, 0.0], [0.5, 0.13260155], [0.44731684579412084, 0.25978993539242673], [0.3535533905932738, 0.3535533905932738], [0.25978993539242673, 0.44731684579412084], [0.13260155, 0.5], [0.0, 0.5], [-0.13260155, 0.5], [-0.25978993539242673, 0.44731684579412084], [-0.3535533905932738, 0.3535533905932738], [-0.44731684579412084, 0.25978993539242673], [-0.5, 0.13260155], [-0.5, 0.0], [-0.5, -0.13260155], [-0.44731684579412084, -0.25978993539242673], [-0.3535533905932738, -0.3535533905932738], [-0.25978993539242673, -0.44731684579412084], [-0.13260155, -0.5], [0.0, -0.5]], [\"M\", \"C\", \"C\", \"C\", \"C\", \"C\", \"C\", \"C\", \"C\", \"Z\"]]], \"pathtransforms\": [[8.333333333333334, 0.0, 0.0, 8.333333333333334, 0.0, 0.0]], \"alphas\": [null], \"edgecolors\": [\"#56F6C9\", \"#56F6C9\", \"#56F6C9\", \"#56F6C9\", \"#56F6C9\", \"#FF783E\", \"#FF783E\", \"#2F78F7\", \"#FF9A51\", \"#6528FE\", \"#FF5028\", \"#FF783E\", \"#FF5028\", \"#2F78F7\", \"#2F78F7\", \"#6528FE\", \"#2F78F7\", \"#FF5028\", \"#DED478\", \"#FF5028\", \"#06BBE9\", \"#7F00FF\", \"#A8F69C\", \"#FF5028\", \"#FF5028\", \"#DED478\", \"#72FEBB\", \"#06BBE9\", \"#FF0000\", \"#DED478\", \"#6528FE\", \"#8CFEAC\", \"#8CFEAC\", \"#2F78F7\", \"#FF0000\", \"#6528FE\", \"#72FEBB\", \"#2F78F7\", \"#6528FE\", \"#DED478\", \"#2F78F7\", \"#6528FE\", \"#2F78F7\", \"#8CFEAC\", \"#8CFEAC\", \"#FF9A51\", \"#20D4E0\", \"#20D4E0\", \"#2F78F7\", \"#2F78F7\", \"#8CFEAC\", \"#6528FE\", \"#DED478\", \"#7F00FF\", \"#7F00FF\", \"#FF5028\", \"#7F00FF\", \"#FF5028\", \"#A8F69C\", \"#20D4E0\", \"#06BBE9\", \"#A8F69C\", \"#FF5028\", \"#06BBE9\", \"#2F78F7\", \"#2F78F7\", \"#FF0000\", \"#8CFEAC\", \"#FF9A51\", \"#4B50FB\", \"#6528FE\", \"#06BBE9\", \"#A8F69C\", \"#06BBE9\", \"#A8F69C\", \"#FF5028\", \"#FF0000\", \"#159AF1\", \"#FF9A51\", \"#4B50FB\", \"#FF9A51\", \"#FF0000\", \"#FF0000\", \"#FF9A51\", \"#FF0000\", \"#3CE9D5\", \"#FF0000\", \"#FF0000\", \"#4B50FB\", \"#FF5028\", \"#20D4E0\", \"#159AF1\", \"#DED478\", \"#2F78F7\", \"#8CFEAC\", \"#DED478\", \"#20D4E0\", \"#FF5028\", \"#7F00FF\", \"#FF0000\", \"#159AF1\", \"#6528FE\", \"#DED478\", \"#DED478\", \"#FF783E\", \"#6528FE\", \"#2F78F7\", \"#2F78F7\", \"#8CFEAC\", \"#20D4E0\", \"#FF5028\", \"#20D4E0\", \"#06BBE9\", \"#06BBE9\", \"#A8F69C\", \"#06BBE9\", \"#A8F69C\", \"#DED478\", \"#72FEBB\", \"#06BBE9\", \"#A8F69C\", \"#06BBE9\", \"#A8F69C\", \"#FF5028\", \"#FF783E\", \"#A8F69C\", \"#06BBE9\", \"#7F00FF\", \"#A8F69C\", \"#FF5028\", \"#A8F69C\", \"#A8F69C\", \"#FF5028\", \"#FF783E\", \"#FF5028\", \"#FF5028\", \"#7F00FF\", \"#DED478\", \"#DED478\", \"#72FEBB\", \"#FF5028\", \"#7F00FF\", \"#2F78F7\", \"#FF5028\", \"#6528FE\", \"#2F78F7\", \"#2F78F7\", \"#06BBE9\", \"#20D4E0\", \"#159AF1\", \"#FF0000\", \"#FF0000\", \"#20D4E0\", \"#3CE9D5\", \"#6528FE\", \"#6528FE\", \"#2F78F7\", \"#72FEBB\", \"#8CFEAC\", \"#6528FE\", \"#72FEBB\", \"#FF0000\", \"#8CFEAC\", \"#2F78F7\", \"#8CFEAC\", \"#159AF1\", \"#159AF1\", \"#20D4E0\", \"#FF0000\", \"#DED478\", \"#6528FE\", \"#DED478\", \"#FF0000\", \"#6528FE\", \"#6528FE\", \"#6528FE\", \"#6528FE\", \"#8CFEAC\", \"#FF9A51\", \"#DED478\", \"#72FEBB\", \"#DED478\", \"#FF9A51\", \"#8CFEAC\", \"#06BBE9\", \"#A8F69C\", \"#DED478\", \"#7F00FF\", \"#20D4E0\", \"#20D4E0\", \"#20D4E0\", \"#159AF1\", \"#6528FE\", \"#2F78F7\", \"#FF783E\", \"#2F78F7\", \"#2F78F7\", \"#2F78F7\", \"#6528FE\", \"#6528FE\", \"#FF783E\", \"#2F78F7\", \"#8CFEAC\", \"#20D4E0\", \"#3CE9D5\", \"#DED478\", \"#20D4E0\", \"#56F6C9\", \"#4B50FB\", \"#C2E98B\", \"#8CFEAC\", \"#FF783E\", \"#8CFEAC\", \"#56F6C9\", \"#8CFEAC\", \"#A8F69C\", \"#A8F69C\", \"#7F00FF\", \"#7F00FF\", \"#72FEBB\", \"#A8F69C\", \"#A8F69C\", \"#A8F69C\", \"#FF783E\", \"#56F6C9\", \"#8CFEAC\", \"#72FEBB\", \"#FF783E\", \"#F8BB66\", \"#8CFEAC\", \"#72FEBB\", \"#3CE9D5\", \"#56F6C9\", \"#56F6C9\", \"#FF2814\", \"#7F00FF\", \"#7F00FF\", \"#F8BB66\", \"#4B50FB\", \"#4B50FB\", \"#159AF1\", \"#159AF1\", \"#3CE9D5\", \"#159AF1\", \"#F8BB66\", \"#7F00FF\", \"#72FEBB\", \"#159AF1\", \"#7F00FF\", \"#159AF1\", \"#7F00FF\", \"#4B50FB\", \"#A8F69C\", \"#7F00FF\", \"#7F00FF\", \"#FF783E\", \"#72FEBB\", \"#FF783E\", \"#7F00FF\", \"#FF783E\", \"#7F00FF\", \"#FF783E\", \"#72FEBB\", \"#159AF1\", \"#3CE9D5\", \"#3CE9D5\", \"#72FEBB\", \"#72FEBB\", \"#F8BB66\", \"#159AF1\", \"#F8BB66\", \"#7F00FF\", \"#159AF1\", \"#56F6C9\", \"#56F6C9\", \"#4B50FB\", \"#56F6C9\", \"#56F6C9\", \"#56F6C9\", \"#72FEBB\", \"#6528FE\", \"#A8F69C\", \"#72FEBB\", \"#8CFEAC\", \"#4B50FB\", \"#159AF1\", \"#A8F69C\", \"#159AF1\", \"#8CFEAC\", \"#F8BB66\", \"#8CFEAC\", \"#159AF1\", \"#8CFEAC\", \"#C2E98B\", \"#3CE9D5\", \"#56F6C9\", \"#7F00FF\", \"#159AF1\", \"#7F00FF\", \"#159AF1\", \"#7F00FF\"], \"facecolors\": [\"#56F6C9\", \"#56F6C9\", \"#56F6C9\", \"#56F6C9\", \"#56F6C9\", \"#FF783E\", \"#FF783E\", \"#2F78F7\", \"#FF9A51\", \"#6528FE\", \"#FF5028\", \"#FF783E\", \"#FF5028\", \"#2F78F7\", \"#2F78F7\", \"#6528FE\", \"#2F78F7\", \"#FF5028\", \"#DED478\", \"#FF5028\", \"#06BBE9\", \"#7F00FF\", \"#A8F69C\", \"#FF5028\", \"#FF5028\", \"#DED478\", \"#72FEBB\", \"#06BBE9\", \"#FF0000\", \"#DED478\", \"#6528FE\", \"#8CFEAC\", \"#8CFEAC\", \"#2F78F7\", \"#FF0000\", \"#6528FE\", \"#72FEBB\", \"#2F78F7\", \"#6528FE\", \"#DED478\", \"#2F78F7\", \"#6528FE\", \"#2F78F7\", \"#8CFEAC\", \"#8CFEAC\", \"#FF9A51\", \"#20D4E0\", \"#20D4E0\", \"#2F78F7\", \"#2F78F7\", \"#8CFEAC\", \"#6528FE\", \"#DED478\", \"#7F00FF\", \"#7F00FF\", \"#FF5028\", \"#7F00FF\", \"#FF5028\", \"#A8F69C\", \"#20D4E0\", \"#06BBE9\", \"#A8F69C\", \"#FF5028\", \"#06BBE9\", \"#2F78F7\", \"#2F78F7\", \"#FF0000\", \"#8CFEAC\", \"#FF9A51\", \"#4B50FB\", \"#6528FE\", \"#06BBE9\", \"#A8F69C\", \"#06BBE9\", \"#A8F69C\", \"#FF5028\", \"#FF0000\", \"#159AF1\", \"#FF9A51\", \"#4B50FB\", \"#FF9A51\", \"#FF0000\", \"#FF0000\", \"#FF9A51\", \"#FF0000\", \"#3CE9D5\", \"#FF0000\", \"#FF0000\", \"#4B50FB\", \"#FF5028\", \"#20D4E0\", \"#159AF1\", \"#DED478\", \"#2F78F7\", \"#8CFEAC\", \"#DED478\", \"#20D4E0\", \"#FF5028\", \"#7F00FF\", \"#FF0000\", \"#159AF1\", \"#6528FE\", \"#DED478\", \"#DED478\", \"#FF783E\", \"#6528FE\", \"#2F78F7\", \"#2F78F7\", \"#8CFEAC\", \"#20D4E0\", \"#FF5028\", \"#20D4E0\", \"#06BBE9\", \"#06BBE9\", \"#A8F69C\", \"#06BBE9\", \"#A8F69C\", \"#DED478\", \"#72FEBB\", \"#06BBE9\", \"#A8F69C\", \"#06BBE9\", \"#A8F69C\", \"#FF5028\", \"#FF783E\", \"#A8F69C\", \"#06BBE9\", \"#7F00FF\", \"#A8F69C\", \"#FF5028\", \"#A8F69C\", \"#A8F69C\", \"#FF5028\", \"#FF783E\", \"#FF5028\", \"#FF5028\", \"#7F00FF\", \"#DED478\", \"#DED478\", \"#72FEBB\", \"#FF5028\", \"#7F00FF\", \"#2F78F7\", \"#FF5028\", \"#6528FE\", \"#2F78F7\", \"#2F78F7\", \"#06BBE9\", \"#20D4E0\", \"#159AF1\", \"#FF0000\", \"#FF0000\", \"#20D4E0\", \"#3CE9D5\", \"#6528FE\", \"#6528FE\", \"#2F78F7\", \"#72FEBB\", \"#8CFEAC\", \"#6528FE\", \"#72FEBB\", \"#FF0000\", \"#8CFEAC\", \"#2F78F7\", \"#8CFEAC\", \"#159AF1\", \"#159AF1\", \"#20D4E0\", \"#FF0000\", \"#DED478\", \"#6528FE\", \"#DED478\", \"#FF0000\", \"#6528FE\", \"#6528FE\", \"#6528FE\", \"#6528FE\", \"#8CFEAC\", \"#FF9A51\", \"#DED478\", \"#72FEBB\", \"#DED478\", \"#FF9A51\", \"#8CFEAC\", \"#06BBE9\", \"#A8F69C\", \"#DED478\", \"#7F00FF\", \"#20D4E0\", \"#20D4E0\", \"#20D4E0\", \"#159AF1\", \"#6528FE\", \"#2F78F7\", \"#FF783E\", \"#2F78F7\", \"#2F78F7\", \"#2F78F7\", \"#6528FE\", \"#6528FE\", \"#FF783E\", \"#2F78F7\", \"#8CFEAC\", \"#20D4E0\", \"#3CE9D5\", \"#DED478\", \"#20D4E0\", \"#56F6C9\", \"#4B50FB\", \"#C2E98B\", \"#8CFEAC\", \"#FF783E\", \"#8CFEAC\", \"#56F6C9\", \"#8CFEAC\", \"#A8F69C\", \"#A8F69C\", \"#7F00FF\", \"#7F00FF\", \"#72FEBB\", \"#A8F69C\", \"#A8F69C\", \"#A8F69C\", \"#FF783E\", \"#56F6C9\", \"#8CFEAC\", \"#72FEBB\", \"#FF783E\", \"#F8BB66\", \"#8CFEAC\", \"#72FEBB\", \"#3CE9D5\", \"#56F6C9\", \"#56F6C9\", \"#FF2814\", \"#7F00FF\", \"#7F00FF\", \"#F8BB66\", \"#4B50FB\", \"#4B50FB\", \"#159AF1\", \"#159AF1\", \"#3CE9D5\", \"#159AF1\", \"#F8BB66\", \"#7F00FF\", \"#72FEBB\", \"#159AF1\", \"#7F00FF\", \"#159AF1\", \"#7F00FF\", \"#4B50FB\", \"#A8F69C\", \"#7F00FF\", \"#7F00FF\", \"#FF783E\", \"#72FEBB\", \"#FF783E\", \"#7F00FF\", \"#FF783E\", \"#7F00FF\", \"#FF783E\", \"#72FEBB\", \"#159AF1\", \"#3CE9D5\", \"#3CE9D5\", \"#72FEBB\", \"#72FEBB\", \"#F8BB66\", \"#159AF1\", \"#F8BB66\", \"#7F00FF\", \"#159AF1\", \"#56F6C9\", \"#56F6C9\", \"#4B50FB\", \"#56F6C9\", \"#56F6C9\", \"#56F6C9\", \"#72FEBB\", \"#6528FE\", \"#A8F69C\", \"#72FEBB\", \"#8CFEAC\", \"#4B50FB\", \"#159AF1\", \"#A8F69C\", \"#159AF1\", \"#8CFEAC\", \"#F8BB66\", \"#8CFEAC\", \"#159AF1\", \"#8CFEAC\", \"#C2E98B\", \"#3CE9D5\", \"#56F6C9\", \"#7F00FF\", \"#159AF1\", \"#7F00FF\", \"#159AF1\", \"#7F00FF\"], \"edgewidths\": [1.0], \"offsetcoordinates\": \"data\", \"pathcoordinates\": \"display\", \"zorder\": 1, \"id\": \"el1073140292747118960\"}], \"images\": [], \"sharex\": [], \"sharey\": []}], \"data\": {\"data01\": [[0.04631266666244666, 0.062147951658414], [-0.0017326233866917877, -0.07220940912418562], [-0.028581907656708462, 0.04568589576570725], [-0.02415402721883229, -0.016469913753169422], [-0.032107009705482845, 0.0456226897831003], [0.12330117655841834, 0.0028288126550440823], [0.1174474662354917, -0.023728024004343838], [-0.13881400158059654, 0.010289721033014744], [-0.16155303649908365, 0.21713322245518843], [-0.16255460966315174, -0.008106529707029835], [-0.1079546398696636, -0.07935348166077698], [0.10140113917215872, -0.06662622256443923], [-0.14560979642486566, -0.12832052764731647], [-0.16572825111958103, 0.051728083859030785], [-0.1677262287552744, 0.028436523927714966], [-0.18609367507925348, 0.003860557507095811], [-0.17363647972508026, 0.031565381137876734], [-0.16132302831828, -0.15669223607273258], [-0.14317623472839092, -0.07673741957551179], [-0.11555062879429404, -0.08153054441526168], [-0.1418531019858292, -0.1984219569199232], [0.13599338525508767, -0.09495007230804185], [0.1660133789507025, -0.13049524070373061], [-0.13039947924982187, -0.14416785009990554], [-0.17435522947697446, -0.12551158350638492], [-0.17642436999090416, -0.059388196450213177], [0.20014491661138975, -0.046144212787230354], [-0.15594290576765635, -0.2462612501740801], [-0.16978140674004383, 0.07220866161551108], [-0.1640834651521666, -0.08331434158832847], [-0.14072811632153218, -0.02802343639680876], [0.1206049559036602, 0.04473397434783119], [0.11198605333030465, 0.019048258912784322], [-0.14003251887873364, 0.025931713507290777], [-0.1526799543045105, 0.07392580108523364], [-0.17761641667514688, -0.031509253722433433], [0.17326875896031352, -0.010828374445696285], [-0.12327078709472025, 0.02950227999428637], [-0.16426869867161908, -0.01629108332158609], [-0.14333952736239558, -0.05608506245862208], [-0.1220464556685447, 0.042736598610083214], [-0.16052205134771358, -0.014838160263203032], [-0.14326825443337163, 0.04713361706676201], [0.09947262263832908, 0.07654454553448084], [0.11726281901134587, 0.05761237821358527], [-0.11712462306418041, 0.18908628381171091], [-0.15533201428924143, 0.12171196548231704], [-0.1275834298931912, 0.14595040397392323], [-0.1538976432317109, 0.05512598377018228], [-0.15322348733635396, 0.02627872434601869], [0.13717299272708966, 0.024670746616684388], [-0.13982370146148668, -0.012001611173503299], [-0.16499274121833038, -0.09592342356362012], [0.16890827061601427, -0.05565450502973842], [0.1785180748263521, -0.09654785329012996], [-0.141963466156987, -0.12123123848757557], [0.14768080670030498, -0.0936217273863688], [-0.18379592776464945, -0.13931935519338876], [0.17713865035841328, -0.11651337688839788], [-0.1601946090024536, 0.16307926424175442], [-0.13554788813148985, -0.1948179357500539], [0.1568276731822564, -0.13100808541293876], [-0.15247012548909605, -0.12787514605252492], [-0.14008140583027262, -0.17375411486670275], [-0.16722148118163088, 0.023159474803378963], [-0.16515616213778087, 0.03196343810745134], [-0.1585592988649677, 0.074632861149946], [0.136172388110855, 0.08125999593077252], [-0.15148361702541846, 0.22705842128449213], [0.13431138234127915, 0.24774234060938718], [-0.15549992566963936, -0.018469696248694413], [-0.12875479571205378, -0.22769810044529326], [0.1943952697875427, -0.17724834447061655], [-0.10299704709262507, -0.1720944263963569], [0.1705077623609682, -0.15494393290714845], [-0.12389005460094744, -0.12292677162067353], [-0.15297874227650826, 0.1091173707802065], [0.1737925373532028, 0.13218497856756858], [-0.1769950210501959, 0.22422314329362394], [0.09184611007438366, 0.24600755139536892], [-0.16681675229903897, 0.19940409342739862], [-0.14414357734777192, 0.08753049663912449], [-0.13476834770081084, 0.08229990715771111], [-0.1255425654493714, 0.21258815602005168], [-0.17357442290184896, 0.0890081240619886], [0.08515777575769472, 0.1390455779536221], [-0.15065928485204094, 0.06532106357758084], [-0.16178656354577162, 0.09659697654199029], [0.14712143607974093, 0.18714160312201208], [-0.11664646444498243, -0.11185215875621302], [-0.1685379230618848, 0.13054731792648686], [0.16385921260491348, 0.1250841933329334], [-0.17730523715544808, -0.05055406120369107], [-0.1744623082867485, 0.01880704074825444], [0.15237148575916365, 0.04070339677273246], [-0.15637980653367453, -0.05229672488932985], [-0.17732675878065654, 0.14260259500071568], [-0.15377350423653058, -0.11833756637172371], [0.17199184486359037, -0.08857526639132629], [-0.19910053155896024, 0.1015741695421848], [0.1737573157435968, 0.1251251719674899], [-0.1649788379323196, -0.03475312347138774], [-0.15783326941397705, -0.07200905700484575], [-0.16526853022449764, -0.07791746009817944], [0.1438563514020102, -0.04301515162787099], [-0.1608276368172749, -0.0396700084903599], [-0.17121698332330187, 0.055263443014725806], [-0.16935865216317827, 0.0349019744382669], [0.14965071022339613, 0.037236543791682154], [-0.1606379258874707, 0.13522366083445436], [-0.1361905413784598, -0.13166839883472056], [-0.15873726568239138, 0.1680663325886946], [-0.12745861303041356, -0.18556359356294605], [-0.1386419787257941, -0.23187148371464347], [0.1416571867464166, -0.13952983418677653], [-0.15572433263910826, -0.2372430583523023], [0.19166554660202992, -0.18201146639559895], [-0.18612626775669358, -0.10554584836614991], [0.2284267140109372, -0.06645499310777328], [-0.13648615358506158, -0.20259564538538544], [0.19415835494214495, -0.16544747850782482], [-0.1263331841958454, -0.20923895714495652], [0.16834551321746613, -0.18998782719001794], [-0.12691692605028407, -0.12860775732770358], [0.11952832862918951, -0.06615116065392358], [0.14926456219395443, -0.13125871992249], [-0.15306531423298703, -0.20194097114623627], [0.1505361208675319, -0.11979215543136151], [0.18167190714151454, -0.18915753510518749], [-0.16078332215159136, -0.12308560261145253], [0.17516139412990067, -0.12846403833696307], [0.1408220481781275, -0.1289640928232075], [-0.16025740137360248, -0.10758575284055824], [0.15476048199144987, -0.03440754515663829], [-0.13918576662377619, -0.1058020487924321], [-0.1255107872761573, -0.1388754802993373], [0.1489153321325661, -0.08560732586029546], [-0.14407114221575185, -0.08133957790695896], [-0.17735698605880318, -0.07270788322895924], [0.19759825108691553, -0.029202789138194254], [-0.1196023364104423, -0.10479617440324382], [0.11922777343057403, -0.09444848744839571], [-0.14297707319499847, 0.012075801333576969], [-0.13067814069275646, -0.15311061189817604], [-0.15821178572560793, -0.033071717251072864], [-0.15252476118129707, 0.03176893546649317], [-0.18215733853052052, 0.03412070986453894], [-0.14614659956889434, -0.16873139122483735], [-0.17726191882374898, 0.13556820588117016], [0.12005940243230497, 0.1103306250159252], [-0.16327542990792365, 0.10345461446187211], [-0.12018009213294359, 0.1081450457027843], [-0.14547316509461825, 0.12132571667854275], [0.09408629076752938, 0.1495497358998424], [-0.17723725804625345, -0.03469477991887282], [-0.1663288678733401, -0.023805788772934332], [-0.17754842647950697, 0.03513215219234565], [0.19925025019505005, 0.031018754720846687], [0.191381814268106, 0.06431481389023234], [-0.17304497907762426, -0.02837878446748102], [0.17909578744988705, 0.007878155744267944], [-0.15271475168558743, 0.08187706252482153], [0.119493752665537, 0.04290953268402588], [-0.20692903400770452, 0.04838559596139229], [0.17903565091606172, 0.06783251841923078], [0.19055550165061202, 0.11073467363102973], [0.1664279269084353, 0.1154669797468875], [-0.1843785211732644, 0.14471128084757257], [-0.19210876569106197, 0.07420593749559982], [-0.16982093507991858, -0.07261192955694877], [-0.18797786764684113, 0.0039520419962220535], [-0.15631957418023992, -0.06728632796197573], [-0.17618642708726312, 0.0740092671398835], [-0.17189595214964717, -0.002966644847520909], [-0.16426064622857434, -0.026478773189600482], [-0.1468018951165902, -0.030074296755159848], [-0.18078772526042147, -0.015771305429623777], [0.14277228442151746, 0.05080976333108122], [-0.1686305039591227, 0.2075829162169905], [-0.19194296463291508, -0.07872033578439055], [0.20853680837763802, -0.046850047401633683], [-0.16665972425245684, -0.08525114541281124], [-0.14743631005474303, 0.2094588631572941], [0.1522423352677946, 0.06403531932987516], [-0.16551791349446257, -0.16906850690296346], [0.17322218971295017, -0.14285567670495222], [-0.1706838060043966, -0.06855776615665178], [0.16889756080558704, -0.06859047615508712], [-0.16240580410935762, 0.14588469677648833], [-0.1537633307819331, 0.14582241710602387], [-0.16003531576717123, 0.12113510621372285], [0.128221091257245, 0.1335993701032109], [-0.12908618621097664, -0.007602377083497496], [-0.14896165288968688, 0.01703228018286113], [0.11723050439006528, -0.039646554831426005], [-0.15116793001547424, 0.055638616825535975], [-0.1695530687430109, 0.028345410146391744], [-0.1676342644128169, 0.04321329741469898], [-0.11718364206270991, 0.0032458844915363616], [-0.15291084053573614, -0.03398931136611996], [0.11310924824736958, -0.04192077468939224], [-0.16008506703310876, 0.043861456286393194], [0.12360132134339678, 0.04251912746590367], [-0.14308424849853915, 0.14070665928366263], [0.07323899023249715, 0.2101507437872507], [-0.18942941029766674, -0.09443343186352757], [-0.1682526567432147, 0.11898056016214968], [0.008227701738867952, 0.0052856632560085185], [0.1293235013458035, 0.26297385497573345], [0.04949897234949927, -0.12884493529867375], [0.11164796468766906, 0.07774929861564514], [0.14698970023105606, -0.021683406662994016], [0.1312115081220607, 0.054418512873996405], [0.008736759833591644, -0.029471603822390533], [0.16646361128827353, 0.02717057880328012], [0.16879702182960693, -0.1411775739675473], [0.2084160613436923, -0.16107561041080598], [0.1362407693113568, -0.11352171751583885], [0.16751638762681412, -0.0967292614429103], [0.1841182462827774, -0.04791310639579123], [0.17625904061604367, -0.14823164973666705], [0.16100463214805014, -0.15315801761604045], [0.23196115089683672, -0.2091730867462533], [0.14345202322995393, -0.007969299089154272], [0.01860844828530584, 0.0488530875234902], [0.14147131227754176, 0.06206319215858349], [0.18351188593151815, -0.028644757927084635], [0.12442329854531854, -0.023532169234051645], [0.007291695230656084, 0.08244454003170201], [0.11780280291905398, 0.03926504477529249], [0.19075993014146642, 0.02260853331855129], [0.09778879681443528, 0.17868020229950043], [0.02590827265798798, -0.053546560118586176], [0.005970200173021941, -0.0018193480140091308], [-0.007688773580581927, -0.25177524378173205], [0.15020234297128018, -0.05530088327737171], [0.14665190790908725, -0.06523216828924434], [-0.021650200407345825, 0.21494891139373606], [0.15379989185896012, 0.23458307575287365], [0.1772812720621589, 0.21905725027101877], [0.14550752770502215, 0.12122067480495628], [0.17402647615302, 0.10889775985989611], [0.09939519459349459, 0.11903427052279676], [0.1586254934475664, 0.11945447037346031], [0.02961233394234276, 0.10563934981145576], [0.17923225737243484, -0.07997704630866133], [0.20999287287010604, 0.011321047987843965], [0.14280943484952646, 0.15050996966046587], [0.15569524857922676, -0.07474890270742017], [0.14706086839211466, 0.15676067175914102], [0.15264892201186964, -0.11445162550856443], [0.09771948072103681, 0.22566236090845512], [0.1580583989509175, -0.1639275308006361], [0.17359920075054885, -0.07074550470922522], [0.190138635550557, -0.08971687130112159], [0.1321056068665961, -0.01176440151103171], [0.20015177515763063, -0.05829444469994693], [0.11228876200677068, -0.06271678051956006], [0.1554696132955255, -0.061678093357539106], [0.15491396534840285, -0.001669260561665851], [0.14417686885025766, -0.07025441517415384], [0.1354065881363522, -0.009817218665451322], [0.17175278576038944, -0.007965767465392475], [0.19320820542817851, 0.0968395242954284], [0.1334355991328922, 0.15859053767910372], [0.11481868803263914, 0.13609357860059387], [0.16912705465117364, -0.03819102644052046], [0.1664350942521114, -0.03305535956658863], [0.01212997546831764, 0.1246573529764375], [0.157789335295178, 0.11336605262051153], [0.00043401451494990366, 0.18862378672402938], [0.13040655222948042, -0.07378882988900076], [0.14902537726833914, 0.13141494225613248], [0.008657125187879682, 0.027057680796395495], [0.04427182389697346, -0.05234874192839142], [0.16576489763144256, 0.25283094339581], [0.01835479349943755, 0.019544478082903813], [0.029528256208762014, -0.026308511211527042], [0.018527829161597245, -0.02078814420142843], [0.16942559004743274, -0.03998436461466384], [-0.16181738840777998, -0.002210256292797425], [0.2515064093682229, -0.18353628155170315], [0.2066923815137483, -0.020656646386083947], [0.1481525431026217, 0.08299222988202942], [0.1439497466553708, 0.21238445073438414], [0.18025924054303358, 0.13146676615857966], [0.1570882567100974, -0.12314243370244604], [0.13830601720599714, 0.09295256074913888], [0.13049546870408352, 0.09006538813333637], [-0.06038295651598185, 0.16357728349561607], [0.14559498505903715, 0.04485841276403273], [0.2047571236055421, 0.10464050041608917], [0.1644589289677145, 0.05560732982187026], [0.04871186970395903, -0.14158108524136293], [0.11556827734848578, 0.18147987000086], [-0.004019270234266133, 0.02111652730661668], [0.15756705244106503, -0.0985568470651055], [0.1699170848950091, 0.12465739626015518], [0.13259058840780472, -0.10354397747661856], [0.14405907778735466, 0.12842836020415915], [0.16989518804534345, -0.06396256179254237]]}, \"id\": \"el1073140293172619488\", \"plugins\": [{\"type\": \"reset\"}, {\"type\": \"zoom\", \"button\": true, \"enabled\": false}, {\"type\": \"boxzoom\", \"button\": true, \"enabled\": false}, {\"type\": \"tooltip\", \"id\": \"el1073140292747118960\", \"labels\": [\"Sprain of joints and ligaments of other parts of neck\", \"Sprain of ligaments of lumbar spine\", \"Other sepsis\", \"Viral infection of unspecified site\", \"Dermatophytosis\", \"Malignant neoplasm of breast\", \"Malignant neoplasm of breast of unspecified site\", \"Benign neoplasm of colon, rectum, anus and anal canal\", \"Leiomyoma of uterus\", \"Iron deficiency anemia\", \"Other anemias\", \"Other disorders of white blood cells\", \"Other hypothyroidism\", \"Other nontoxic goiter\", \"Type 1 diabetes mellitus\", \"Type 2 diabetes mellitus\", \"Type 2 diabetes mellitus with neurological complications\", \"Type 2 diabetes mellitus with other specified complications\", \"Testicular dysfunction\", \"Vitamin D deficiency\", \"Overweight and obesity\", \"Obesity due to excess calories\", \"Disorders of lipoprotein metabolism and other lipidemias\", \"Volume depletion\", \"Other disorders of fluid, electrolyte and acid-base balance\", \"Alcohol related disorders\", \"Alcohol abuse\", \"Alcohol dependence\", \"Opioid related disorders\", \"Cannabis related disorders\", \"Nicotine dependence\", \"Nicotine dependence\", \"Bipolar disorder\", \"Depressive episode\", \"Major depressive disorder, recurrent\", \"Persistent mood [affective] disorders\", \"Other anxiety disorders\", \"Reaction to severe stress, and adjustment disorders\", \"Post-traumatic stress disorder (PTSD)\", \"Adjustment disorders\", \"Specific developmental disorders of speech and language\", \"Attention-deficit hyperactivity disorders\", \"Conduct disorders\", \"Epilepsy and recurrent seizures\", \"Migraine\", \"Migraine, unspecified\", \"Other headache syndromes\", \"Sleep disorders\", \"Insomnia\", \"Sleep apnea\", \"Mononeuropathies of upper limb\", \"Carpal tunnel syndrome\", \"Pain, not elsewhere classified\", \"Chronic pain, not elsewhere classified\", \"Conjunctivitis\", \"Age-related cataract\", \"Age-related nuclear cataract\", \"Other retinal disorders\", \"Glaucoma\", \"Disorders of refraction and accommodation\", \"Visual disturbances\", \"Other disorders of external ear\", \"Impacted cerumen\", \"Suppurative and unspecified otitis media\", \"Otitis media, unspecified\", \"Conductive and sensorineural hearing loss\", \"Chronic ischemic heart disease\", \"Atherosclerotic heart disease of native coronary artery\", \"Atrial fibrillation and flutter\", \"Unspecified atrial fibrillation and atrial flutter\", \"Heart failure\", \"Acute sinusitis\", \"Acute sinusitis, unspecified\", \"Acute pharyngitis\", \"Streptococcal tonsillitis\", \"Acute upper respiratory infections of multiple and unspecified sites\", \"Pneumonia, unspecified organism\", \"Acute bronchitis\", \"Acute bronchiolitis\", \"Vasomotor and allergic rhinitis\", \"Other allergic rhinitis\", \"Chronic sinusitis\", \"Other and unspecified disorders of nose and nasal sinuses\", \"Other specified disorders of nose and nasal sinuses\", \"Other chronic obstructive pulmonary disease\", \"Asthma\", \"Other and unspecified asthma\", \"Gastro-esophageal reflux disease\", \"Gastritis and duodenitis\", \"Gastroduodenitis, unspecified\", \"Inguinal hernia\", \"Other and unspecified noninfective gastroenteritis and colitis\", \"Diverticular disease of intestine\", \"Diverticular disease of large intestine without perforation or abscess\", \"Other functional intestinal disorders\", \"Constipation\", \"Other diseases of anus and rectum\", \"Other diseases of intestine\", \"Hemorrhoids and perianal venous thrombosis\", \"Other hemorrhoids\", \"Cholelithiasis\", \"Cutaneous abscess, furuncle and carbuncle\", \"Cellulitis and acute lymphangitis\", \"Cellulitis and acute lymphangitis of other parts of limb\", \"Other and unspecified dermatitis\", \"Skin changes due to chronic exposure to nonionizing radiation\", \"Acne\", \"Osteoarthritis of hip\", \"Osteoarthritis of knee\", \"Unilateral primary osteoarthritis of knee\", \"Other and unspecified osteoarthritis\", \"Osteoarthritis, unspecified site\", \"Other joint disorder, not elsewhere classified\", \"Pain in joint\", \"Spondylosis\", \"Other spondylosis\", \"Other spondylopathies\", \"Spinal stenosis\", \"Cervical disc disorders\", \"Other cervical disc displacement\", \"Other cervical disc degeneration\", \"Thoracic, thoracolumbar, and lumbosacral intervertebral disc disorders\", \"Other thoracic, thoracolumbar and lumbosacral intervertebral disc displacement\", \"Other thoracic, thoracolumbar and lumbosacral intervertebral disc degeneration\", \"Dorsalgia\", \"Radiculopathy\", \"Sciatica\", \"Other disorders of muscle\", \"Other specified disorders of muscle\", \"Synovitis and tenosynovitis\", \"Shoulder lesions\", \"Bursitis of shoulder\", \"Other enthesopathies\", \"Other and unspecified soft tissue disorders, not elsewhere classified\", \"Pain in limb, hand, foot, fingers and toes\", \"Biomechanical lesions, not elsewhere classified\", \"Segmental and somatic dysfunction\", \"Obstructive and reflux uropathy\", \"Chronic kidney disease (CKD)\", \"Calculus of kidney and ureter\", \"Cystitis\", \"Other disorders of urinary system\", \"Benign prostatic hyperplasia\", \"Other inflammation of vagina and vulva\", \"Other and unspecified ovarian cysts\", \"Excessive, frequent and irregular menstruation\", \"Supervision of high risk pregnancy\", \"Other maternal diseases classifiable elsewhere but complicating pregnancy, childbirth and the puerperium\", \"Endocrine, nutritional and metabolic diseases complicating pregnancy, childbirth and the puerperium\", \"Abnormalities of heart beat\", \"Abnormal blood-pressure reading, without diagnosis\", \"Abnormalities of breathing\", \"Dyspnea\", \"Other abnormalities of breathing\", \"Pain in throat and chest\", \"Other chest pain\", \"Other symptoms and signs involving the circulatory and respiratory system\", \"Asphyxia and hypoxemia\", \"Abdominal and pelvic pain\", \"Pain localized to upper abdomen\", \"Pain localized to other parts of lower abdomen\", \"Other abdominal pain\", \"Nausea and vomiting\", \"Other symptoms and signs involving the digestive system and abdomen\", \"Disturbances of skin sensation\", \"Localized swelling, mass and lump of skin and subcutaneous tissue\", \"Other symptoms and signs involving the nervous and musculoskeletal systems\", \"Pain associated with micturition\", \"Hematuria\", \"Polyuria\", \"Other and unspecified symptoms and signs involving the genitourinary system\", \"Other symptoms and signs involving cognitive functions and awareness\", \"Other symptoms and signs involving cognitive functions and awareness\", \"Fever of other and unknown origin\", \"Malaise and fatigue\", \"Other malaise and fatigue\", \"Edema, not elsewhere classified\", \"Lack of expected normal physiological development in childhood and adults\", \"Other general symptoms and signs\", \"Elevated blood glucose level\", \"Abnormal glucose\", \"Abnormal results of function studies\", \"Abnormal results of cardiovascular function studies\", \"Superficial injury of head\", \"Open wound of head\", \"Other and unspecified injuries of head\", \"Unspecified injury of face and head\", \"Dislocation and sprain of joints and ligaments at neck level\", \"Other and unspecified injuries of abdomen, lower back, pelvis and external genitals\", \"Sprain of shoulder joint\", \"Fracture of forearm\", \"Open wound of wrist, hand and fingers\", \"Fracture at wrist and hand level\", \"Fracture of lower leg, including ankle\", \"Dislocation and sprain of joints and ligaments of knee\", \"Tear of meniscus, current injury\", \"Dislocation and sprain of joints and ligaments at ankle, foot and toe level\", \"Injury of unspecified muscle and tendon at ankle and foot level\", \"Weeks of gestation\", \"Single liveborn infant, born in hospital\", \"Other postprocedural states\", \"Viral warts\", \"Human immunodeficiency virus [HIV] disease\", \"Other viral agents as the cause of diseases classified elsewhere\", \"Malignant neoplasm of prostate\", \"Leiomyoma of uterus, unspecified\", \"Neoplasm of uncertain behavior of skin\", \"Iron deficiency anemia, unspecified\", \"Acute posthemorrhagic anemia\", \"Anemia, unspecified\", \"Hypothyroidism, unspecified\", \"Type 2 diabetes mellitus without complications\", \"Testicular hypofunction\", \"Vitamin D deficiency, unspecified\", \"Obesity, unspecified\", \"Pure hypercholesterolemia\", \"Mixed hyperlipidemia\", \"Hyperlipidemia, unspecified\", \"Hypokalemia\", \"Unspecified psychosis not due to a substance or known physiological condition\", \"Bipolar disorder, unspecified\", \"Major depressive disorder, single episode, unspecified\", \"Dysthymic disorder\", \"Unspecified mood [affective] disorder\", \"Generalized anxiety disorder\", \"Anxiety disorder, unspecified\", \"Attention-deficit hyperactivity disorder, unspecified type\", \"Parkinson's disease\", \"Multiple sclerosis\", \"Essential (primary) hypertension\", \"Heart failure, unspecified\", \"Other specified cerebrovascular diseases\", \"Acute nasopharyngitis [common cold]\", \"Acute pharyngitis, unspecified\", \"Acute upper respiratory infection, unspecified\", \"Pneumonia, unspecified organism\", \"Acute bronchitis, unspecified\", \"Allergic rhinitis due to pollen\", \"Chronic sinusitis, unspecified\", \"Bronchitis, not specified as acute or chronic\", \"Chronic obstructive pulmonary disease, unspecified\", \"Gastro-esophageal reflux disease without esophagitis\", \"Noninfective gastroenteritis and colitis, unspecified\", \"Polyp of colon\", \"Unspecified contact dermatitis, unspecified cause\", \"Actinic keratosis\", \"Other acne\", \"Osteoarthritis of knee, unspecified\", \"Cervicalgia\", \"Low back pain\", \"Pain in thoracic spine\", \"Dorsalgia, unspecified\", \"Neuralgia and neuritis, unspecified\", \"Fibromyalgia\", \"Other specified soft tissue disorders\", \"Disorder of cartilage, unspecified\", \"Acute kidney failure, unspecified\", \"Calculus of kidney\", \"Urinary tract infection, site not specified\", \"Subacute and chronic vulvitis\", \"Other specified noninflammatory disorders of vagina\", \"Bradycardia, unspecified\", \"Palpitations\", \"Cough\", \"Pelvic and perineal pain\", \"Rash and other nonspecific skin eruption\", \"Difficulty in walking, not elsewhere classified\", \"Painful micturition, unspecified\", \"Unspecified urinary incontinence\", \"Dizziness and giddiness\", \"Fever, unspecified\", \"Headache\", \"Pain, unspecified\", \"Syncope and collapse\", \"Edema, unspecified\", \"Abnormal findings on diagnostic imaging of lung\", \"Hypertensive crisis, unspecified\", \"Chest pain, unspecified\", \"Nausea\", \"Vomiting\", \"Diarrhea, unspecified\", \"Benign prostatic hyperplasia without lower urinary tract symptoms\", \"Dehydration\", \"Unspecified convulsions\", \"Chronic iridocyclitis, unspecified eye\", \"Frequency of micturition\", \"Unspecified abdominal pain\", \"Dysphagia\", \"Acute necrotizing hemorrhagic encephalopathy, unspecified\", \"Mild intermittent asthma\", \"Influenza due to unidentified influenza virus with unspecified type of pneumonia\", \"Arthropathy, unspecified\", \"Allergic rhinitis, unspecified\", \"Benign prostatic hyperplasia with lower urinary tract symptoms\", \"Nausea with vomiting, unspecified\", \"Unspecified disturbances of skin sensation\"], \"hoffset\": 0, \"voffset\": 10, \"location\": \"mouse\"}]});\n",
              "            })\n",
              "         });\n",
              "}\n",
              "</script>"
            ]
          },
          "metadata": {},
          "execution_count": 40
        }
      ],
      "source": [
        "from sklearn.cluster import KMeans\n",
        "from sklearn.decomposition import PCA\n",
        "import mpld3\n",
        "\n",
        "# This does not work when wrapped inside a function\n",
        "# Reduce dimensions 301 -> 2\n",
        "data = word_embedding\n",
        "pca = PCA(n_components=2).fit_transform(data)\n",
        "kmeans = KMeans(n_clusters=20, n_init=1)\n",
        "kmeans.fit(pca)\n",
        "\n",
        "# Obtain labels for each point to use as a color\n",
        "x = pca[:, 0]\n",
        "y = pca[:, 1]\n",
        "c = kmeans.predict(np.c_[x, y])\n",
        "\n",
        "# plot\n",
        "fig = plt.figure( figsize=(15,8), facecolor=\"white\", edgecolor='white')\n",
        "ax = fig.add_subplot()\n",
        "scatter = ax.scatter(x, y, c=c, cmap='rainbow')\n",
        "ax.set_facecolor(\"white\")\n",
        "plt.rcParams['axes.facecolor'] = 'gray'\n",
        "\n",
        "# Create the tooltip\n",
        "labels = []\n",
        "for i in range(5, len(x)):\n",
        "    code = conditionsVocab[\"idx2token\"][i]\n",
        "    label = condition_codes[condition_codes[\"condition\"] == str(code)][\"condition_name\"].values[0]\n",
        "    labels.append(label)\n",
        "\n",
        "tooltip = mpld3.plugins.PointLabelTooltip(scatter, labels=labels)\n",
        "\n",
        "# Add the tooltip to the plot\n",
        "mpld3.plugins.connect(fig, tooltip )\n",
        "\n",
        "# Display the plot\n",
        "mpld3.display()\n"
      ]
    },
    {
      "cell_type": "code",
      "source": [
        "from sklearn.manifold import TSNE\n",
        "import seaborn as sns\n",
        "import pandas as pd\n",
        "data = word_embedding\n",
        "\n",
        "tsne = TSNE(n_components=2, verbose=1, random_state=123)\n",
        "z = tsne.fit_transform(data) \n",
        "\n",
        "# Obtain labels for each point to use as a color\n",
        "x = z[:, 0]\n",
        "y = z[:, 1]\n",
        "\n",
        "# plot\n",
        "fig = plt.figure( figsize=(10,4), facecolor=\"white\", edgecolor='white')\n",
        "ax = fig.add_subplot()\n",
        "scatter = ax.scatter(x, y, c=c, cmap='rainbow')\n",
        "ax.set_facecolor(\"white\")\n",
        "plt.rcParams['axes.facecolor'] = 'gray'\n",
        "\n",
        "# Create the tooltip\n",
        "labels = []\n",
        "for i in range(5, len(x)):\n",
        "    code = conditionsVocab[\"idx2token\"][i]\n",
        "    label = condition_codes[condition_codes[\"condition\"] == str(code)][\"condition_name\"].values[0]\n",
        "    labels.append('<div class=\"tooltip\">' + label + '</div>')\n",
        "\n",
        "# CSS\n",
        "css = \"\"\"\n",
        "  .tooltip\n",
        "  {\n",
        "    background-color: #cccccc;\n",
        "    font-family:Arial, Helvetica, sans-serif;\n",
        "    border: 1px solid black;\n",
        "    text-align: right;\n",
        "  }\n",
        "\"\"\"\n",
        "tooltip = mpld3.plugins.PointHTMLTooltip(scatter, labels=labels, css=css)\n",
        "\n",
        "# Add the tooltip to the plot\n",
        "mpld3.plugins.connect(fig, tooltip )\n",
        "\n",
        "# Display the plot\n",
        "mpld3.display()\n",
        "\n"
      ],
      "metadata": {
        "colab": {
          "base_uri": "https://localhost:8080/",
          "height": 549
        },
        "id": "YjZ8n-x5cZav",
        "outputId": "0c8cc3a6-607d-493d-9a8f-a9439c46b105"
      },
      "execution_count": 41,
      "outputs": [
        {
          "output_type": "stream",
          "name": "stdout",
          "text": [
            "[t-SNE] Computing 91 nearest neighbors...\n",
            "[t-SNE] Indexed 301 samples in 0.001s...\n",
            "[t-SNE] Computed neighbors for 301 samples in 0.010s...\n",
            "[t-SNE] Computed conditional probabilities for sample 301 / 301\n",
            "[t-SNE] Mean sigma: 0.155804\n",
            "[t-SNE] KL divergence after 250 iterations with early exaggeration: 55.457664\n",
            "[t-SNE] KL divergence after 1000 iterations: 0.798960\n"
          ]
        },
        {
          "output_type": "execute_result",
          "data": {
            "text/plain": [
              "<IPython.core.display.HTML object>"
            ],
            "text/html": [
              "\n",
              "\n",
              "<style>\n",
              "\n",
              "  .tooltip\n",
              "  {\n",
              "    background-color: #cccccc;\n",
              "    font-family:Arial, Helvetica, sans-serif;\n",
              "    border: 1px solid black;\n",
              "    text-align: right;\n",
              "  }\n",
              "\n",
              "</style>\n",
              "\n",
              "<div id=\"fig_el10731402927471198721317518236\"></div>\n",
              "<script>\n",
              "function mpld3_load_lib(url, callback){\n",
              "  var s = document.createElement('script');\n",
              "  s.src = url;\n",
              "  s.async = true;\n",
              "  s.onreadystatechange = s.onload = callback;\n",
              "  s.onerror = function(){console.warn(\"failed to load library \" + url);};\n",
              "  document.getElementsByTagName(\"head\")[0].appendChild(s);\n",
              "}\n",
              "\n",
              "if(typeof(mpld3) !== \"undefined\" && mpld3._mpld3IsLoaded){\n",
              "   // already loaded: just create the figure\n",
              "   !function(mpld3){\n",
              "       \n",
              "    mpld3.register_plugin(\"htmltooltip\", HtmlTooltipPlugin);\n",
              "    HtmlTooltipPlugin.prototype = Object.create(mpld3.Plugin.prototype);\n",
              "    HtmlTooltipPlugin.prototype.constructor = HtmlTooltipPlugin;\n",
              "    HtmlTooltipPlugin.prototype.requiredProps = [\"id\"];\n",
              "    HtmlTooltipPlugin.prototype.defaultProps = {labels:null,\n",
              "                                                target:null,\n",
              "                                                hoffset:0,\n",
              "                                                voffset:10,\n",
              "                                                targets:null};\n",
              "    function HtmlTooltipPlugin(fig, props){\n",
              "        mpld3.Plugin.call(this, fig, props);\n",
              "    };\n",
              "\n",
              "    HtmlTooltipPlugin.prototype.draw = function(){\n",
              "        var obj = mpld3.get_element(this.props.id);\n",
              "        var labels = this.props.labels;\n",
              "        var targets = this.props.targets;\n",
              "        var tooltip = d3.select(\"body\").append(\"div\")\n",
              "            .attr(\"class\", \"mpld3-tooltip\")\n",
              "            .style(\"position\", \"absolute\")\n",
              "            .style(\"z-index\", \"10\")\n",
              "            .style(\"visibility\", \"hidden\");\n",
              "\n",
              "        obj.elements()\n",
              "            .on(\"mouseover\", function(d, i){\n",
              "                tooltip.html(labels[i])\n",
              "                    .style(\"visibility\", \"visible\");\n",
              "            })\n",
              "            .on(\"mousemove\", function(d, i){\n",
              "                tooltip\n",
              "                .style(\"top\", d3.event.pageY + this.props.voffset + \"px\")\n",
              "                .style(\"left\",d3.event.pageX + this.props.hoffset + \"px\");\n",
              "            }.bind(this))\n",
              "            .on(\"mousedown.callout\", function(d, i){\n",
              "                window.open(targets[i],\"_blank\");\n",
              "            })\n",
              "            .on(\"mouseout\", function(d, i){\n",
              "                tooltip.style(\"visibility\", \"hidden\");\n",
              "            });\n",
              "    };\n",
              "    \n",
              "       mpld3.draw_figure(\"fig_el10731402927471198721317518236\", {\"width\": 1000.0, \"height\": 400.0, \"axes\": [{\"bbox\": [0.125, 0.10999999999999999, 0.775, 0.77], \"xlim\": [-12.062255334854125, 13.341747713088989], \"ylim\": [-15.541792821884155, 19.683223676681518], \"xdomain\": [-12.062255334854125, 13.341747713088989], \"ydomain\": [-15.541792821884155, 19.683223676681518], \"xscale\": \"linear\", \"yscale\": \"linear\", \"axes\": [{\"position\": \"bottom\", \"nticks\": 7, \"tickvalues\": null, \"tickformat_formatter\": \"\", \"tickformat\": null, \"scale\": \"linear\", \"fontsize\": 10.0, \"grid\": {\"gridOn\": false}, \"visible\": true}, {\"position\": \"left\", \"nticks\": 9, \"tickvalues\": null, \"tickformat_formatter\": \"\", \"tickformat\": null, \"scale\": \"linear\", \"fontsize\": 10.0, \"grid\": {\"gridOn\": false}, \"visible\": true}], \"axesbg\": \"#FFFFFF\", \"axesbgalpha\": null, \"zoomable\": true, \"id\": \"el1073140292720311120\", \"lines\": [], \"paths\": [], \"markers\": [], \"texts\": [], \"collections\": [{\"offsets\": \"data01\", \"xindex\": 0, \"yindex\": 1, \"paths\": [[[[0.0, -0.5], [0.13260155, -0.5], [0.25978993539242673, -0.44731684579412084], [0.3535533905932738, -0.3535533905932738], [0.44731684579412084, -0.25978993539242673], [0.5, -0.13260155], [0.5, 0.0], [0.5, 0.13260155], [0.44731684579412084, 0.25978993539242673], [0.3535533905932738, 0.3535533905932738], [0.25978993539242673, 0.44731684579412084], [0.13260155, 0.5], [0.0, 0.5], [-0.13260155, 0.5], [-0.25978993539242673, 0.44731684579412084], [-0.3535533905932738, 0.3535533905932738], [-0.44731684579412084, 0.25978993539242673], [-0.5, 0.13260155], [-0.5, 0.0], [-0.5, -0.13260155], [-0.44731684579412084, -0.25978993539242673], [-0.3535533905932738, -0.3535533905932738], [-0.25978993539242673, -0.44731684579412084], [-0.13260155, -0.5], [0.0, -0.5]], [\"M\", \"C\", \"C\", \"C\", \"C\", \"C\", \"C\", \"C\", \"C\", \"Z\"]]], \"pathtransforms\": [[8.333333333333334, 0.0, 0.0, 8.333333333333334, 0.0, 0.0]], \"alphas\": [null], \"edgecolors\": [\"#56F6C9\", \"#56F6C9\", \"#56F6C9\", \"#56F6C9\", \"#56F6C9\", \"#FF783E\", \"#FF783E\", \"#2F78F7\", \"#FF9A51\", \"#6528FE\", \"#FF5028\", \"#FF783E\", \"#FF5028\", \"#2F78F7\", \"#2F78F7\", \"#6528FE\", \"#2F78F7\", \"#FF5028\", \"#DED478\", \"#FF5028\", \"#06BBE9\", \"#7F00FF\", \"#A8F69C\", \"#FF5028\", \"#FF5028\", \"#DED478\", \"#72FEBB\", \"#06BBE9\", \"#FF0000\", \"#DED478\", \"#6528FE\", \"#8CFEAC\", \"#8CFEAC\", \"#2F78F7\", \"#FF0000\", \"#6528FE\", \"#72FEBB\", \"#2F78F7\", \"#6528FE\", \"#DED478\", \"#2F78F7\", \"#6528FE\", \"#2F78F7\", \"#8CFEAC\", \"#8CFEAC\", \"#FF9A51\", \"#20D4E0\", \"#20D4E0\", \"#2F78F7\", \"#2F78F7\", \"#8CFEAC\", \"#6528FE\", \"#DED478\", \"#7F00FF\", \"#7F00FF\", \"#FF5028\", \"#7F00FF\", \"#FF5028\", \"#A8F69C\", \"#20D4E0\", \"#06BBE9\", \"#A8F69C\", \"#FF5028\", \"#06BBE9\", \"#2F78F7\", \"#2F78F7\", \"#FF0000\", \"#8CFEAC\", \"#FF9A51\", \"#4B50FB\", \"#6528FE\", \"#06BBE9\", \"#A8F69C\", \"#06BBE9\", \"#A8F69C\", \"#FF5028\", \"#FF0000\", \"#159AF1\", \"#FF9A51\", \"#4B50FB\", \"#FF9A51\", \"#FF0000\", \"#FF0000\", \"#FF9A51\", \"#FF0000\", \"#3CE9D5\", \"#FF0000\", \"#FF0000\", \"#4B50FB\", \"#FF5028\", \"#20D4E0\", \"#159AF1\", \"#DED478\", \"#2F78F7\", \"#8CFEAC\", \"#DED478\", \"#20D4E0\", \"#FF5028\", \"#7F00FF\", \"#FF0000\", \"#159AF1\", \"#6528FE\", \"#DED478\", \"#DED478\", \"#FF783E\", \"#6528FE\", \"#2F78F7\", \"#2F78F7\", \"#8CFEAC\", \"#20D4E0\", \"#FF5028\", \"#20D4E0\", \"#06BBE9\", \"#06BBE9\", \"#A8F69C\", \"#06BBE9\", \"#A8F69C\", \"#DED478\", \"#72FEBB\", \"#06BBE9\", \"#A8F69C\", \"#06BBE9\", \"#A8F69C\", \"#FF5028\", \"#FF783E\", \"#A8F69C\", \"#06BBE9\", \"#7F00FF\", \"#A8F69C\", \"#FF5028\", \"#A8F69C\", \"#A8F69C\", \"#FF5028\", \"#FF783E\", \"#FF5028\", \"#FF5028\", \"#7F00FF\", \"#DED478\", \"#DED478\", \"#72FEBB\", \"#FF5028\", \"#7F00FF\", \"#2F78F7\", \"#FF5028\", \"#6528FE\", \"#2F78F7\", \"#2F78F7\", \"#06BBE9\", \"#20D4E0\", \"#159AF1\", \"#FF0000\", \"#FF0000\", \"#20D4E0\", \"#3CE9D5\", \"#6528FE\", \"#6528FE\", \"#2F78F7\", \"#72FEBB\", \"#8CFEAC\", \"#6528FE\", \"#72FEBB\", \"#FF0000\", \"#8CFEAC\", \"#2F78F7\", \"#8CFEAC\", \"#159AF1\", \"#159AF1\", \"#20D4E0\", \"#FF0000\", \"#DED478\", \"#6528FE\", \"#DED478\", \"#FF0000\", \"#6528FE\", \"#6528FE\", \"#6528FE\", \"#6528FE\", \"#8CFEAC\", \"#FF9A51\", \"#DED478\", \"#72FEBB\", \"#DED478\", \"#FF9A51\", \"#8CFEAC\", \"#06BBE9\", \"#A8F69C\", \"#DED478\", \"#7F00FF\", \"#20D4E0\", \"#20D4E0\", \"#20D4E0\", \"#159AF1\", \"#6528FE\", \"#2F78F7\", \"#FF783E\", \"#2F78F7\", \"#2F78F7\", \"#2F78F7\", \"#6528FE\", \"#6528FE\", \"#FF783E\", \"#2F78F7\", \"#8CFEAC\", \"#20D4E0\", \"#3CE9D5\", \"#DED478\", \"#20D4E0\", \"#56F6C9\", \"#4B50FB\", \"#C2E98B\", \"#8CFEAC\", \"#FF783E\", \"#8CFEAC\", \"#56F6C9\", \"#8CFEAC\", \"#A8F69C\", \"#A8F69C\", \"#7F00FF\", \"#7F00FF\", \"#72FEBB\", \"#A8F69C\", \"#A8F69C\", \"#A8F69C\", \"#FF783E\", \"#56F6C9\", \"#8CFEAC\", \"#72FEBB\", \"#FF783E\", \"#F8BB66\", \"#8CFEAC\", \"#72FEBB\", \"#3CE9D5\", \"#56F6C9\", \"#56F6C9\", \"#FF2814\", \"#7F00FF\", \"#7F00FF\", \"#F8BB66\", \"#4B50FB\", \"#4B50FB\", \"#159AF1\", \"#159AF1\", \"#3CE9D5\", \"#159AF1\", \"#F8BB66\", \"#7F00FF\", \"#72FEBB\", \"#159AF1\", \"#7F00FF\", \"#159AF1\", \"#7F00FF\", \"#4B50FB\", \"#A8F69C\", \"#7F00FF\", \"#7F00FF\", \"#FF783E\", \"#72FEBB\", \"#FF783E\", \"#7F00FF\", \"#FF783E\", \"#7F00FF\", \"#FF783E\", \"#72FEBB\", \"#159AF1\", \"#3CE9D5\", \"#3CE9D5\", \"#72FEBB\", \"#72FEBB\", \"#F8BB66\", \"#159AF1\", \"#F8BB66\", \"#7F00FF\", \"#159AF1\", \"#56F6C9\", \"#56F6C9\", \"#4B50FB\", \"#56F6C9\", \"#56F6C9\", \"#56F6C9\", \"#72FEBB\", \"#6528FE\", \"#A8F69C\", \"#72FEBB\", \"#8CFEAC\", \"#4B50FB\", \"#159AF1\", \"#A8F69C\", \"#159AF1\", \"#8CFEAC\", \"#F8BB66\", \"#8CFEAC\", \"#159AF1\", \"#8CFEAC\", \"#C2E98B\", \"#3CE9D5\", \"#56F6C9\", \"#7F00FF\", \"#159AF1\", \"#7F00FF\", \"#159AF1\", \"#7F00FF\"], \"facecolors\": [\"#56F6C9\", \"#56F6C9\", \"#56F6C9\", \"#56F6C9\", \"#56F6C9\", \"#FF783E\", \"#FF783E\", \"#2F78F7\", \"#FF9A51\", \"#6528FE\", \"#FF5028\", \"#FF783E\", \"#FF5028\", \"#2F78F7\", \"#2F78F7\", \"#6528FE\", \"#2F78F7\", \"#FF5028\", \"#DED478\", \"#FF5028\", \"#06BBE9\", \"#7F00FF\", \"#A8F69C\", \"#FF5028\", \"#FF5028\", \"#DED478\", \"#72FEBB\", \"#06BBE9\", \"#FF0000\", \"#DED478\", \"#6528FE\", \"#8CFEAC\", \"#8CFEAC\", \"#2F78F7\", \"#FF0000\", \"#6528FE\", \"#72FEBB\", \"#2F78F7\", \"#6528FE\", \"#DED478\", \"#2F78F7\", \"#6528FE\", \"#2F78F7\", \"#8CFEAC\", \"#8CFEAC\", \"#FF9A51\", \"#20D4E0\", \"#20D4E0\", \"#2F78F7\", \"#2F78F7\", \"#8CFEAC\", \"#6528FE\", \"#DED478\", \"#7F00FF\", \"#7F00FF\", \"#FF5028\", \"#7F00FF\", \"#FF5028\", \"#A8F69C\", \"#20D4E0\", \"#06BBE9\", \"#A8F69C\", \"#FF5028\", \"#06BBE9\", \"#2F78F7\", \"#2F78F7\", \"#FF0000\", \"#8CFEAC\", \"#FF9A51\", \"#4B50FB\", \"#6528FE\", \"#06BBE9\", \"#A8F69C\", \"#06BBE9\", \"#A8F69C\", \"#FF5028\", \"#FF0000\", \"#159AF1\", \"#FF9A51\", \"#4B50FB\", \"#FF9A51\", \"#FF0000\", \"#FF0000\", \"#FF9A51\", \"#FF0000\", \"#3CE9D5\", \"#FF0000\", \"#FF0000\", \"#4B50FB\", \"#FF5028\", \"#20D4E0\", \"#159AF1\", \"#DED478\", \"#2F78F7\", \"#8CFEAC\", \"#DED478\", \"#20D4E0\", \"#FF5028\", \"#7F00FF\", \"#FF0000\", \"#159AF1\", \"#6528FE\", \"#DED478\", \"#DED478\", \"#FF783E\", \"#6528FE\", \"#2F78F7\", \"#2F78F7\", \"#8CFEAC\", \"#20D4E0\", \"#FF5028\", \"#20D4E0\", \"#06BBE9\", \"#06BBE9\", \"#A8F69C\", \"#06BBE9\", \"#A8F69C\", \"#DED478\", \"#72FEBB\", \"#06BBE9\", \"#A8F69C\", \"#06BBE9\", \"#A8F69C\", \"#FF5028\", \"#FF783E\", \"#A8F69C\", \"#06BBE9\", \"#7F00FF\", \"#A8F69C\", \"#FF5028\", \"#A8F69C\", \"#A8F69C\", \"#FF5028\", \"#FF783E\", \"#FF5028\", \"#FF5028\", \"#7F00FF\", \"#DED478\", \"#DED478\", \"#72FEBB\", \"#FF5028\", \"#7F00FF\", \"#2F78F7\", \"#FF5028\", \"#6528FE\", \"#2F78F7\", \"#2F78F7\", \"#06BBE9\", \"#20D4E0\", \"#159AF1\", \"#FF0000\", \"#FF0000\", \"#20D4E0\", \"#3CE9D5\", \"#6528FE\", \"#6528FE\", \"#2F78F7\", \"#72FEBB\", \"#8CFEAC\", \"#6528FE\", \"#72FEBB\", \"#FF0000\", \"#8CFEAC\", \"#2F78F7\", \"#8CFEAC\", \"#159AF1\", \"#159AF1\", \"#20D4E0\", \"#FF0000\", \"#DED478\", \"#6528FE\", \"#DED478\", \"#FF0000\", \"#6528FE\", \"#6528FE\", \"#6528FE\", \"#6528FE\", \"#8CFEAC\", \"#FF9A51\", \"#DED478\", \"#72FEBB\", \"#DED478\", \"#FF9A51\", \"#8CFEAC\", \"#06BBE9\", \"#A8F69C\", \"#DED478\", \"#7F00FF\", \"#20D4E0\", \"#20D4E0\", \"#20D4E0\", \"#159AF1\", \"#6528FE\", \"#2F78F7\", \"#FF783E\", \"#2F78F7\", \"#2F78F7\", \"#2F78F7\", \"#6528FE\", \"#6528FE\", \"#FF783E\", \"#2F78F7\", \"#8CFEAC\", \"#20D4E0\", \"#3CE9D5\", \"#DED478\", \"#20D4E0\", \"#56F6C9\", \"#4B50FB\", \"#C2E98B\", \"#8CFEAC\", \"#FF783E\", \"#8CFEAC\", \"#56F6C9\", \"#8CFEAC\", \"#A8F69C\", \"#A8F69C\", \"#7F00FF\", \"#7F00FF\", \"#72FEBB\", \"#A8F69C\", \"#A8F69C\", \"#A8F69C\", \"#FF783E\", \"#56F6C9\", \"#8CFEAC\", \"#72FEBB\", \"#FF783E\", \"#F8BB66\", \"#8CFEAC\", \"#72FEBB\", \"#3CE9D5\", \"#56F6C9\", \"#56F6C9\", \"#FF2814\", \"#7F00FF\", \"#7F00FF\", \"#F8BB66\", \"#4B50FB\", \"#4B50FB\", \"#159AF1\", \"#159AF1\", \"#3CE9D5\", \"#159AF1\", \"#F8BB66\", \"#7F00FF\", \"#72FEBB\", \"#159AF1\", \"#7F00FF\", \"#159AF1\", \"#7F00FF\", \"#4B50FB\", \"#A8F69C\", \"#7F00FF\", \"#7F00FF\", \"#FF783E\", \"#72FEBB\", \"#FF783E\", \"#7F00FF\", \"#FF783E\", \"#7F00FF\", \"#FF783E\", \"#72FEBB\", \"#159AF1\", \"#3CE9D5\", \"#3CE9D5\", \"#72FEBB\", \"#72FEBB\", \"#F8BB66\", \"#159AF1\", \"#F8BB66\", \"#7F00FF\", \"#159AF1\", \"#56F6C9\", \"#56F6C9\", \"#4B50FB\", \"#56F6C9\", \"#56F6C9\", \"#56F6C9\", \"#72FEBB\", \"#6528FE\", \"#A8F69C\", \"#72FEBB\", \"#8CFEAC\", \"#4B50FB\", \"#159AF1\", \"#A8F69C\", \"#159AF1\", \"#8CFEAC\", \"#F8BB66\", \"#8CFEAC\", \"#159AF1\", \"#8CFEAC\", \"#C2E98B\", \"#3CE9D5\", \"#56F6C9\", \"#7F00FF\", \"#159AF1\", \"#7F00FF\", \"#159AF1\", \"#7F00FF\"], \"edgewidths\": [1.0], \"offsetcoordinates\": \"data\", \"pathcoordinates\": \"display\", \"zorder\": 1, \"id\": \"el1073140292717587232\"}], \"images\": [], \"sharex\": [], \"sharey\": []}], \"data\": {\"data01\": [[9.539427757263184, -0.9098504781723022], [1.4296404123306274, 4.04839563369751], [-7.448729515075684, 0.2585630416870117], [1.0047088861465454, 3.936161994934082], [-7.441610813140869, 0.2605072855949402], [9.322399139404297, -10.151239395141602], [11.553536415100098, -9.299409866333008], [-4.511444091796875, 8.922350883483887], [1.9701999425888062, 10.081477165222168], [-1.9247236251831055, 13.28825569152832], [-7.7037248611450195, 6.64761209487915], [0.4326331615447998, -9.580347061157227], [-5.7532453536987305, 11.291070938110352], [-3.300710439682007, 11.02879810333252], [-3.2208516597747803, 9.937251091003418], [-3.1324777603149414, 9.390782356262207], [-4.048081874847412, 9.18043041229248], [-7.816240310668945, 11.92227554321289], [-5.470926284790039, 10.145261764526367], [-10.324288368225098, 6.858791828155518], [-10.907527923583984, 7.151647090911865], [0.19983363151550293, -13.600728988647461], [0.16834209859371185, -13.767494201660156], [-7.77284574508667, 10.675610542297363], [-6.485590934753418, 12.047904968261719], [-1.3024697303771973, 13.904648780822754], [-1.8267900943756104, -9.435545921325684], [-1.1090772151947021, 4.726335525512695], [-1.2954274415969849, 9.628533363342285], [-4.903128147125244, 8.045848846435547], [-4.110954761505127, 5.139208793640137], [-1.2788878679275513, -3.4152255058288574], [-1.5735549926757812, -3.6187636852264404], [-6.054559230804443, 5.712430477142334], [-3.8149526119232178, 4.475073337554932], [-3.5993502140045166, 6.460814476013184], [-0.33938851952552795, -5.275012493133545], [-5.44543981552124, 4.9520344734191895], [1.7074832916259766, 16.572614669799805], [2.0504515171051025, 16.077524185180664], [-4.751098155975342, 2.6921188831329346], [1.4142502546310425, 16.902070999145508], [2.537022829055786, 15.909996032714844], [-1.0767673254013062, -1.9493473768234253], [-1.3088977336883545, -1.477378010749817], [4.68436336517334, 11.398551940917969], [-4.046244144439697, 2.0951955318450928], [-4.516564846038818, 2.7581541538238525], [-4.854990005493164, 6.758847236633301], [-3.0142033100128174, 14.15254020690918], [7.162781715393066, -6.6579084396362305], [-8.157894134521484, 13.843172073364258], [-4.039878845214844, 13.735898971557617], [0.8134869337081909, -3.5019102096557617], [-2.7065343856811523, -8.933813095092773], [-6.303003787994385, 15.926831245422363], [7.414123058319092, -10.266746520996094], [-8.708938598632812, 16.84164047241211], [8.460779190063477, -7.83009147644043], [2.064145565032959, 9.701887130737305], [-10.559662818908691, 9.7548828125], [1.5321117639541626, -11.9736328125], [-10.626547813415527, 9.906286239624023], [-10.691033363342285, 10.026213645935059], [-0.4948982000350952, 12.678210258483887], [-0.9477620124816895, 10.704085350036621], [-0.08252660930156708, 11.23058032989502], [6.852130889892578, -3.989905834197998], [3.26802659034729, 9.224946022033691], [7.627864360809326, -2.1354470252990723], [-0.4085980951786041, 11.557952880859375], [-9.878838539123535, 9.024657249450684], [0.21787409484386444, -8.216889381408691], [-9.188565254211426, 7.920810222625732], [-0.8756409883499146, -8.735786437988281], [-9.204122543334961, 7.907740592956543], [0.2220291942358017, 7.2513580322265625], [5.737204551696777, -0.26523542404174805], [2.9657981395721436, 10.44575023651123], [7.70480489730835, -1.5407917499542236], [3.972076892852783, 9.51074504852295], [0.392172634601593, 8.194687843322754], [1.483583688735962, 7.9439616203308105], [2.8800175189971924, 8.725641250610352], [2.4322900772094727, 11.34420108795166], [7.719907283782959, 1.5726135969161987], [0.9582561254501343, 11.180255889892578], [0.9732974767684937, 10.624855995178223], [5.998629093170166, -1.1504666805267334], [-7.810521125793457, 7.73574686050415], [2.326345682144165, 7.492253303527832], [6.325483322143555, 1.0712709426879883], [-4.249813079833984, 12.582717895507812], [-4.046182632446289, 11.365877151489258], [3.8233094215393066, -5.971848011016846], [-4.969377040863037, 10.068704605102539], [1.088678240776062, 10.137542724609375], [-5.793818950653076, 11.037309646606445], [2.715665340423584, -9.47458267211914], [1.0093501806259155, 12.507665634155273], [5.2909064292907715, -4.4633564949035645], [-4.093986988067627, 10.680624961853027], [-5.039554595947266, 10.530912399291992], [-5.166428565979004, 11.38550090789795], [2.497896671295166, -8.824477195739746], [-4.57974100112915, 10.753690719604492], [-2.205940008163452, 10.399737358093262], [-1.6514524221420288, 11.666569709777832], [3.6559300422668457, -6.977090835571289], [1.455883502960205, 8.644852638244629], [-6.97216796875, 10.320560455322266], [-0.592485785484314, 8.649121284484863], [-4.998096466064453, 16.24988555908203], [-4.351807117462158, 16.23572540283203], [5.630475044250488, -10.176267623901367], [-5.107851505279541, 15.715011596679688], [4.425625801086426, -10.0796480178833], [-4.276052474975586, 18.08208656311035], [5.966180324554443, -8.967150688171387], [-8.430904388427734, 15.583487510681152], [10.156270027160645, -8.597737312316895], [-8.46854305267334, 15.711058616638184], [9.933829307556152, -8.639006614685059], [-8.2334566116333, 15.258923530578613], [9.646313667297363, -10.186832427978516], [10.04631519317627, -10.014286041259766], [-8.135833740234375, 15.944435119628906], [10.369531631469727, -8.962671279907227], [10.2741117477417, -8.599976539611816], [-9.396949768066406, 16.48952293395996], [10.841897010803223, -7.910604000091553], [11.369486808776855, -9.25669002532959], [-7.091690540313721, 17.346981048583984], [11.095823287963867, -10.677618980407715], [-5.489853858947754, 17.561311721801758], [-5.598598003387451, 18.056459426879883], [6.833471298217773, -10.306811332702637], [-5.041808605194092, 16.498756408691406], [-6.82000207901001, 14.824868202209473], [5.783446311950684, -7.716926097869873], [-9.697346687316895, 15.06439208984375], [11.39758014678955, -11.360735893249512], [-4.260282039642334, 8.841784477233887], [-7.867284774780273, 8.815208435058594], [-5.187527656555176, 8.792231559753418], [-3.4114742279052734, 8.693656921386719], [-2.56022047996521, 7.213576316833496], [-6.959657192230225, 9.0431489944458], [-2.169579267501831, 8.693103790283203], [2.451035499572754, -1.998598575592041], [-1.892943263053894, 8.689817428588867], [-8.907283782958984, 3.424353837966919], [-8.890376091003418, 3.4304354190826416], [1.9653643369674683, -1.9281468391418457], [-3.427492141723633, 12.080471992492676], [-4.8144941329956055, 12.111226081848145], [1.4189754724502563, 7.032346248626709], [-0.03182406723499298, -6.906288146972656], [-2.463867425918579, -7.794605731964111], [-2.955472230911255, 12.559252738952637], [1.2661895751953125, -6.147275447845459], [1.3989068269729614, 9.42701244354248], [-1.49397873878479, -7.311185359954834], [1.201096534729004, 13.23736572265625], [3.9521543979644775, -5.570252418518066], [4.120223522186279, -3.873466730117798], [4.462870121002197, -4.770806312561035], [1.4567058086395264, 11.989989280700684], [2.549006462097168, 12.76036262512207], [-6.585482120513916, 14.038115501403809], [-2.095810890197754, 11.756701469421387], [-6.761112689971924, 16.4609317779541], [-2.114323854446411, 7.670281410217285], [-3.540107250213623, 8.250826835632324], [-6.072485446929932, 8.479974746704102], [-6.052814960479736, 8.798954963684082], [-4.926220893859863, 7.11815071105957], [-0.5375756621360779, -4.166204452514648], [2.856787919998169, 9.990468978881836], [-5.140899658203125, 13.302912712097168], [4.383913516998291, -7.088833332061768], [-5.023310661315918, 14.380166053771973], [4.68514347076416, 11.396998405456543], [5.768449306488037, -5.385398864746094], [-6.97164249420166, 11.738039016723633], [3.068467617034912, -11.452981948852539], [-4.587777137756348, 11.421304702758789], [1.0228855609893799, -7.457082271575928], [0.11329563707113266, 10.138301849365234], [-0.4340363144874573, 9.472823143005371], [-0.22797712683677673, 10.085441589355469], [4.867550849914551, -3.1339285373687744], [-8.813316345214844, 13.880221366882324], [-8.833236694335938, 13.853279113769531], [5.939222812652588, -11.228970527648926], [-1.6896153688430786, 16.2657470703125], [-2.098118782043457, 11.11034870147705], [-1.7808881998062134, 16.0341854095459], [-2.8382256031036377, 15.975425720214844], [-4.064484596252441, 17.436824798583984], [6.516575813293457, -10.03911018371582], [-2.6099817752838135, 15.905184745788574], [6.914867877960205, -9.443099975585938], [-8.918109893798828, 3.415339946746826], [8.871160507202148, -3.3915679454803467], [-6.234882831573486, 13.472886085510254], [-0.5119050741195679, 14.667166709899902], [-4.126210689544678, -4.680416107177734], [7.260356903076172, -2.3799312114715576], [-4.911505222320557, -7.085482120513916], [2.352865219116211, -2.3837649822235107], [0.049341294914484024, -11.091794967651367], [2.023765802383423, -4.563971042633057], [0.5476149916648865, -4.805163383483887], [2.0429627895355225, -5.328559398651123], [4.129983901977539, -12.20374584197998], [0.48528146743774414, -13.940655708312988], [-0.9491757750511169, -11.677125930786133], [3.3479130268096924, -10.857308387756348], [-2.049464464187622, -9.971368789672852], [1.6356585025787354, -10.589940071105957], [2.7091012001037598, -10.57474136352539], [2.912121295928955, -12.61688232421875], [2.246750831604004, -6.5845136642456055], [-1.9137555360794067, -2.8210625648498535], [-2.1722047328948975, -2.9986941814422607], [0.018676215782761574, -2.68182110786438], [-2.6278891563415527, -3.476774215698242], [-2.695072650909424, -0.8018873333930969], [-0.10123568028211594, -2.016214370727539], [0.4879509210586548, -3.043531656265259], [-2.620727300643921, -0.09812890738248825], [-4.710566997528076, -6.976358890533447], [-4.103041172027588, -2.6060283184051514], [-0.32766106724739075, 3.948016405105591], [-0.2856448292732239, -8.154428482055664], [1.2557228803634644, -8.009831428527832], [4.098822116851807, 6.9235920906066895], [7.665439128875732, -1.206022024154663], [6.773421764373779, -1.0678850412368774], [-0.9938860535621643, -6.806797504425049], [5.115080833435059, 0.8238494396209717], [7.83939790725708, 1.6763544082641602], [6.015571594238281, -0.6377254128456116], [4.312440872192383, 2.1882052421569824], [-1.6682484149932861, -6.359468936920166], [-3.1137466430664062, -11.850513458251953], [5.731096267700195, -3.1535677909851074], [2.4063894748687744, -9.392385482788086], [7.0570173263549805, -3.5603108406066895], [0.0663999617099762, -11.055808067321777], [2.844691276550293, -0.9040117859840393], [5.377221584320068, -10.138239860534668], [10.30426025390625, -11.727442741394043], [12.187020301818848, -8.98980712890625], [10.112214088439941, -11.242789268493652], [8.75830078125, -7.423647403717041], [9.562600135803223, -10.763696670532227], [8.914138793945312, -11.09333610534668], [4.728006839752197, -7.842600345611572], [3.287506580352783, -9.690507888793945], [1.701851487159729, -7.97759485244751], [3.1513028144836426, -8.155044555664062], [4.4539642333984375, -2.295353651046753], [3.052210807800293, -2.6546127796173096], [2.724856376647949, -2.5014946460723877], [1.1303417682647705, -6.984248161315918], [2.706294536590576, -6.809168815612793], [4.328073024749756, 3.0389983654022217], [3.1915998458862305, -1.8065886497497559], [3.9376819133758545, 5.3130364418029785], [7.124083042144775, -11.749324798583984], [4.162219047546387, -2.8560407161712646], [0.13304957747459412, -0.1881386935710907], [0.9590288996696472, 1.8485565185546875], [6.760617256164551, -2.308291435241699], [-0.8051525354385376, 1.7844228744506836], [1.9258248805999756, 0.8209834098815918], [0.33852294087409973, 2.1467549800872803], [2.392371654510498, -7.450047492980957], [-3.9589295387268066, 10.322500228881836], [2.7955143451690674, -13.150973320007324], [0.4127483367919922, -6.132099151611328], [3.415727376937866, -4.087820529937744], [6.057990550994873, -2.986640214920044], [5.543583869934082, -3.926736831665039], [1.3711562156677246, -9.950621604919434], [3.0679471492767334, -5.763926029205322], [-2.008314371109009, -4.646605491638184], [-3.5457682609558105, 3.057417154312134], [3.189115047454834, -5.123953342437744], [4.791719913482666, -4.145325183868408], [4.898261070251465, -5.741130828857422], [0.16376708447933197, 2.9915759563446045], [7.444872856140137, 1.4102985858917236], [2.6113884449005127, 3.4119510650634766], [4.154206275939941, -9.64621353149414], [6.509653568267822, 0.034354619681835175], [1.4129643440246582, -9.219722747802734], [4.202122211456299, -3.991121768951416], [8.145673751831055, -8.42907428741455]]}, \"id\": \"el1073140292747119872\", \"plugins\": [{\"type\": \"reset\"}, {\"type\": \"zoom\", \"button\": true, \"enabled\": false}, {\"type\": \"boxzoom\", \"button\": true, \"enabled\": false}, {\"type\": \"htmltooltip\", \"id\": \"el1073140292717587232\", \"labels\": [\"<div class=\\\"tooltip\\\">Sprain of joints and ligaments of other parts of neck</div>\", \"<div class=\\\"tooltip\\\">Sprain of ligaments of lumbar spine</div>\", \"<div class=\\\"tooltip\\\">Other sepsis</div>\", \"<div class=\\\"tooltip\\\">Viral infection of unspecified site</div>\", \"<div class=\\\"tooltip\\\">Dermatophytosis</div>\", \"<div class=\\\"tooltip\\\">Malignant neoplasm of breast</div>\", \"<div class=\\\"tooltip\\\">Malignant neoplasm of breast of unspecified site</div>\", \"<div class=\\\"tooltip\\\">Benign neoplasm of colon, rectum, anus and anal canal</div>\", \"<div class=\\\"tooltip\\\">Leiomyoma of uterus</div>\", \"<div class=\\\"tooltip\\\">Iron deficiency anemia</div>\", \"<div class=\\\"tooltip\\\">Other anemias</div>\", \"<div class=\\\"tooltip\\\">Other disorders of white blood cells</div>\", \"<div class=\\\"tooltip\\\">Other hypothyroidism</div>\", \"<div class=\\\"tooltip\\\">Other nontoxic goiter</div>\", \"<div class=\\\"tooltip\\\">Type 1 diabetes mellitus</div>\", \"<div class=\\\"tooltip\\\">Type 2 diabetes mellitus</div>\", \"<div class=\\\"tooltip\\\">Type 2 diabetes mellitus with neurological complications</div>\", \"<div class=\\\"tooltip\\\">Type 2 diabetes mellitus with other specified complications</div>\", \"<div class=\\\"tooltip\\\">Testicular dysfunction</div>\", \"<div class=\\\"tooltip\\\">Vitamin D deficiency</div>\", \"<div class=\\\"tooltip\\\">Overweight and obesity</div>\", \"<div class=\\\"tooltip\\\">Obesity due to excess calories</div>\", \"<div class=\\\"tooltip\\\">Disorders of lipoprotein metabolism and other lipidemias</div>\", \"<div class=\\\"tooltip\\\">Volume depletion</div>\", \"<div class=\\\"tooltip\\\">Other disorders of fluid, electrolyte and acid-base balance</div>\", \"<div class=\\\"tooltip\\\">Alcohol related disorders</div>\", \"<div class=\\\"tooltip\\\">Alcohol abuse</div>\", \"<div class=\\\"tooltip\\\">Alcohol dependence</div>\", \"<div class=\\\"tooltip\\\">Opioid related disorders</div>\", \"<div class=\\\"tooltip\\\">Cannabis related disorders</div>\", \"<div class=\\\"tooltip\\\">Nicotine dependence</div>\", \"<div class=\\\"tooltip\\\">Nicotine dependence</div>\", \"<div class=\\\"tooltip\\\">Bipolar disorder</div>\", \"<div class=\\\"tooltip\\\">Depressive episode</div>\", \"<div class=\\\"tooltip\\\">Major depressive disorder, recurrent</div>\", \"<div class=\\\"tooltip\\\">Persistent mood [affective] disorders</div>\", \"<div class=\\\"tooltip\\\">Other anxiety disorders</div>\", \"<div class=\\\"tooltip\\\">Reaction to severe stress, and adjustment disorders</div>\", \"<div class=\\\"tooltip\\\">Post-traumatic stress disorder (PTSD)</div>\", \"<div class=\\\"tooltip\\\">Adjustment disorders</div>\", \"<div class=\\\"tooltip\\\">Specific developmental disorders of speech and language</div>\", \"<div class=\\\"tooltip\\\">Attention-deficit hyperactivity disorders</div>\", \"<div class=\\\"tooltip\\\">Conduct disorders</div>\", \"<div class=\\\"tooltip\\\">Epilepsy and recurrent seizures</div>\", \"<div class=\\\"tooltip\\\">Migraine</div>\", \"<div class=\\\"tooltip\\\">Migraine, unspecified</div>\", \"<div class=\\\"tooltip\\\">Other headache syndromes</div>\", \"<div class=\\\"tooltip\\\">Sleep disorders</div>\", \"<div class=\\\"tooltip\\\">Insomnia</div>\", \"<div class=\\\"tooltip\\\">Sleep apnea</div>\", \"<div class=\\\"tooltip\\\">Mononeuropathies of upper limb</div>\", \"<div class=\\\"tooltip\\\">Carpal tunnel syndrome</div>\", \"<div class=\\\"tooltip\\\">Pain, not elsewhere classified</div>\", \"<div class=\\\"tooltip\\\">Chronic pain, not elsewhere classified</div>\", \"<div class=\\\"tooltip\\\">Conjunctivitis</div>\", \"<div class=\\\"tooltip\\\">Age-related cataract</div>\", \"<div class=\\\"tooltip\\\">Age-related nuclear cataract</div>\", \"<div class=\\\"tooltip\\\">Other retinal disorders</div>\", \"<div class=\\\"tooltip\\\">Glaucoma</div>\", \"<div class=\\\"tooltip\\\">Disorders of refraction and accommodation</div>\", \"<div class=\\\"tooltip\\\">Visual disturbances</div>\", \"<div class=\\\"tooltip\\\">Other disorders of external ear</div>\", \"<div class=\\\"tooltip\\\">Impacted cerumen</div>\", \"<div class=\\\"tooltip\\\">Suppurative and unspecified otitis media</div>\", \"<div class=\\\"tooltip\\\">Otitis media, unspecified</div>\", \"<div class=\\\"tooltip\\\">Conductive and sensorineural hearing loss</div>\", \"<div class=\\\"tooltip\\\">Chronic ischemic heart disease</div>\", \"<div class=\\\"tooltip\\\">Atherosclerotic heart disease of native coronary artery</div>\", \"<div class=\\\"tooltip\\\">Atrial fibrillation and flutter</div>\", \"<div class=\\\"tooltip\\\">Unspecified atrial fibrillation and atrial flutter</div>\", \"<div class=\\\"tooltip\\\">Heart failure</div>\", \"<div class=\\\"tooltip\\\">Acute sinusitis</div>\", \"<div class=\\\"tooltip\\\">Acute sinusitis, unspecified</div>\", \"<div class=\\\"tooltip\\\">Acute pharyngitis</div>\", \"<div class=\\\"tooltip\\\">Streptococcal tonsillitis</div>\", \"<div class=\\\"tooltip\\\">Acute upper respiratory infections of multiple and unspecified sites</div>\", \"<div class=\\\"tooltip\\\">Pneumonia, unspecified organism</div>\", \"<div class=\\\"tooltip\\\">Acute bronchitis</div>\", \"<div class=\\\"tooltip\\\">Acute bronchiolitis</div>\", \"<div class=\\\"tooltip\\\">Vasomotor and allergic rhinitis</div>\", \"<div class=\\\"tooltip\\\">Other allergic rhinitis</div>\", \"<div class=\\\"tooltip\\\">Chronic sinusitis</div>\", \"<div class=\\\"tooltip\\\">Other and unspecified disorders of nose and nasal sinuses</div>\", \"<div class=\\\"tooltip\\\">Other specified disorders of nose and nasal sinuses</div>\", \"<div class=\\\"tooltip\\\">Other chronic obstructive pulmonary disease</div>\", \"<div class=\\\"tooltip\\\">Asthma</div>\", \"<div class=\\\"tooltip\\\">Other and unspecified asthma</div>\", \"<div class=\\\"tooltip\\\">Gastro-esophageal reflux disease</div>\", \"<div class=\\\"tooltip\\\">Gastritis and duodenitis</div>\", \"<div class=\\\"tooltip\\\">Gastroduodenitis, unspecified</div>\", \"<div class=\\\"tooltip\\\">Inguinal hernia</div>\", \"<div class=\\\"tooltip\\\">Other and unspecified noninfective gastroenteritis and colitis</div>\", \"<div class=\\\"tooltip\\\">Diverticular disease of intestine</div>\", \"<div class=\\\"tooltip\\\">Diverticular disease of large intestine without perforation or abscess</div>\", \"<div class=\\\"tooltip\\\">Other functional intestinal disorders</div>\", \"<div class=\\\"tooltip\\\">Constipation</div>\", \"<div class=\\\"tooltip\\\">Other diseases of anus and rectum</div>\", \"<div class=\\\"tooltip\\\">Other diseases of intestine</div>\", \"<div class=\\\"tooltip\\\">Hemorrhoids and perianal venous thrombosis</div>\", \"<div class=\\\"tooltip\\\">Other hemorrhoids</div>\", \"<div class=\\\"tooltip\\\">Cholelithiasis</div>\", \"<div class=\\\"tooltip\\\">Cutaneous abscess, furuncle and carbuncle</div>\", \"<div class=\\\"tooltip\\\">Cellulitis and acute lymphangitis</div>\", \"<div class=\\\"tooltip\\\">Cellulitis and acute lymphangitis of other parts of limb</div>\", \"<div class=\\\"tooltip\\\">Other and unspecified dermatitis</div>\", \"<div class=\\\"tooltip\\\">Skin changes due to chronic exposure to nonionizing radiation</div>\", \"<div class=\\\"tooltip\\\">Acne</div>\", \"<div class=\\\"tooltip\\\">Osteoarthritis of hip</div>\", \"<div class=\\\"tooltip\\\">Osteoarthritis of knee</div>\", \"<div class=\\\"tooltip\\\">Unilateral primary osteoarthritis of knee</div>\", \"<div class=\\\"tooltip\\\">Other and unspecified osteoarthritis</div>\", \"<div class=\\\"tooltip\\\">Osteoarthritis, unspecified site</div>\", \"<div class=\\\"tooltip\\\">Other joint disorder, not elsewhere classified</div>\", \"<div class=\\\"tooltip\\\">Pain in joint</div>\", \"<div class=\\\"tooltip\\\">Spondylosis</div>\", \"<div class=\\\"tooltip\\\">Other spondylosis</div>\", \"<div class=\\\"tooltip\\\">Other spondylopathies</div>\", \"<div class=\\\"tooltip\\\">Spinal stenosis</div>\", \"<div class=\\\"tooltip\\\">Cervical disc disorders</div>\", \"<div class=\\\"tooltip\\\">Other cervical disc displacement</div>\", \"<div class=\\\"tooltip\\\">Other cervical disc degeneration</div>\", \"<div class=\\\"tooltip\\\">Thoracic, thoracolumbar, and lumbosacral intervertebral disc disorders</div>\", \"<div class=\\\"tooltip\\\">Other thoracic, thoracolumbar and lumbosacral intervertebral disc displacement</div>\", \"<div class=\\\"tooltip\\\">Other thoracic, thoracolumbar and lumbosacral intervertebral disc degeneration</div>\", \"<div class=\\\"tooltip\\\">Dorsalgia</div>\", \"<div class=\\\"tooltip\\\">Radiculopathy</div>\", \"<div class=\\\"tooltip\\\">Sciatica</div>\", \"<div class=\\\"tooltip\\\">Other disorders of muscle</div>\", \"<div class=\\\"tooltip\\\">Other specified disorders of muscle</div>\", \"<div class=\\\"tooltip\\\">Synovitis and tenosynovitis</div>\", \"<div class=\\\"tooltip\\\">Shoulder lesions</div>\", \"<div class=\\\"tooltip\\\">Bursitis of shoulder</div>\", \"<div class=\\\"tooltip\\\">Other enthesopathies</div>\", \"<div class=\\\"tooltip\\\">Other and unspecified soft tissue disorders, not elsewhere classified</div>\", \"<div class=\\\"tooltip\\\">Pain in limb, hand, foot, fingers and toes</div>\", \"<div class=\\\"tooltip\\\">Biomechanical lesions, not elsewhere classified</div>\", \"<div class=\\\"tooltip\\\">Segmental and somatic dysfunction</div>\", \"<div class=\\\"tooltip\\\">Obstructive and reflux uropathy</div>\", \"<div class=\\\"tooltip\\\">Chronic kidney disease (CKD)</div>\", \"<div class=\\\"tooltip\\\">Calculus of kidney and ureter</div>\", \"<div class=\\\"tooltip\\\">Cystitis</div>\", \"<div class=\\\"tooltip\\\">Other disorders of urinary system</div>\", \"<div class=\\\"tooltip\\\">Benign prostatic hyperplasia</div>\", \"<div class=\\\"tooltip\\\">Other inflammation of vagina and vulva</div>\", \"<div class=\\\"tooltip\\\">Other and unspecified ovarian cysts</div>\", \"<div class=\\\"tooltip\\\">Excessive, frequent and irregular menstruation</div>\", \"<div class=\\\"tooltip\\\">Supervision of high risk pregnancy</div>\", \"<div class=\\\"tooltip\\\">Other maternal diseases classifiable elsewhere but complicating pregnancy, childbirth and the puerperium</div>\", \"<div class=\\\"tooltip\\\">Endocrine, nutritional and metabolic diseases complicating pregnancy, childbirth and the puerperium</div>\", \"<div class=\\\"tooltip\\\">Abnormalities of heart beat</div>\", \"<div class=\\\"tooltip\\\">Abnormal blood-pressure reading, without diagnosis</div>\", \"<div class=\\\"tooltip\\\">Abnormalities of breathing</div>\", \"<div class=\\\"tooltip\\\">Dyspnea</div>\", \"<div class=\\\"tooltip\\\">Other abnormalities of breathing</div>\", \"<div class=\\\"tooltip\\\">Pain in throat and chest</div>\", \"<div class=\\\"tooltip\\\">Other chest pain</div>\", \"<div class=\\\"tooltip\\\">Other symptoms and signs involving the circulatory and respiratory system</div>\", \"<div class=\\\"tooltip\\\">Asphyxia and hypoxemia</div>\", \"<div class=\\\"tooltip\\\">Abdominal and pelvic pain</div>\", \"<div class=\\\"tooltip\\\">Pain localized to upper abdomen</div>\", \"<div class=\\\"tooltip\\\">Pain localized to other parts of lower abdomen</div>\", \"<div class=\\\"tooltip\\\">Other abdominal pain</div>\", \"<div class=\\\"tooltip\\\">Nausea and vomiting</div>\", \"<div class=\\\"tooltip\\\">Other symptoms and signs involving the digestive system and abdomen</div>\", \"<div class=\\\"tooltip\\\">Disturbances of skin sensation</div>\", \"<div class=\\\"tooltip\\\">Localized swelling, mass and lump of skin and subcutaneous tissue</div>\", \"<div class=\\\"tooltip\\\">Other symptoms and signs involving the nervous and musculoskeletal systems</div>\", \"<div class=\\\"tooltip\\\">Pain associated with micturition</div>\", \"<div class=\\\"tooltip\\\">Hematuria</div>\", \"<div class=\\\"tooltip\\\">Polyuria</div>\", \"<div class=\\\"tooltip\\\">Other and unspecified symptoms and signs involving the genitourinary system</div>\", \"<div class=\\\"tooltip\\\">Other symptoms and signs involving cognitive functions and awareness</div>\", \"<div class=\\\"tooltip\\\">Other symptoms and signs involving cognitive functions and awareness</div>\", \"<div class=\\\"tooltip\\\">Fever of other and unknown origin</div>\", \"<div class=\\\"tooltip\\\">Malaise and fatigue</div>\", \"<div class=\\\"tooltip\\\">Other malaise and fatigue</div>\", \"<div class=\\\"tooltip\\\">Edema, not elsewhere classified</div>\", \"<div class=\\\"tooltip\\\">Lack of expected normal physiological development in childhood and adults</div>\", \"<div class=\\\"tooltip\\\">Other general symptoms and signs</div>\", \"<div class=\\\"tooltip\\\">Elevated blood glucose level</div>\", \"<div class=\\\"tooltip\\\">Abnormal glucose</div>\", \"<div class=\\\"tooltip\\\">Abnormal results of function studies</div>\", \"<div class=\\\"tooltip\\\">Abnormal results of cardiovascular function studies</div>\", \"<div class=\\\"tooltip\\\">Superficial injury of head</div>\", \"<div class=\\\"tooltip\\\">Open wound of head</div>\", \"<div class=\\\"tooltip\\\">Other and unspecified injuries of head</div>\", \"<div class=\\\"tooltip\\\">Unspecified injury of face and head</div>\", \"<div class=\\\"tooltip\\\">Dislocation and sprain of joints and ligaments at neck level</div>\", \"<div class=\\\"tooltip\\\">Other and unspecified injuries of abdomen, lower back, pelvis and external genitals</div>\", \"<div class=\\\"tooltip\\\">Sprain of shoulder joint</div>\", \"<div class=\\\"tooltip\\\">Fracture of forearm</div>\", \"<div class=\\\"tooltip\\\">Open wound of wrist, hand and fingers</div>\", \"<div class=\\\"tooltip\\\">Fracture at wrist and hand level</div>\", \"<div class=\\\"tooltip\\\">Fracture of lower leg, including ankle</div>\", \"<div class=\\\"tooltip\\\">Dislocation and sprain of joints and ligaments of knee</div>\", \"<div class=\\\"tooltip\\\">Tear of meniscus, current injury</div>\", \"<div class=\\\"tooltip\\\">Dislocation and sprain of joints and ligaments at ankle, foot and toe level</div>\", \"<div class=\\\"tooltip\\\">Injury of unspecified muscle and tendon at ankle and foot level</div>\", \"<div class=\\\"tooltip\\\">Weeks of gestation</div>\", \"<div class=\\\"tooltip\\\">Single liveborn infant, born in hospital</div>\", \"<div class=\\\"tooltip\\\">Other postprocedural states</div>\", \"<div class=\\\"tooltip\\\">Viral warts</div>\", \"<div class=\\\"tooltip\\\">Human immunodeficiency virus [HIV] disease</div>\", \"<div class=\\\"tooltip\\\">Other viral agents as the cause of diseases classified elsewhere</div>\", \"<div class=\\\"tooltip\\\">Malignant neoplasm of prostate</div>\", \"<div class=\\\"tooltip\\\">Leiomyoma of uterus, unspecified</div>\", \"<div class=\\\"tooltip\\\">Neoplasm of uncertain behavior of skin</div>\", \"<div class=\\\"tooltip\\\">Iron deficiency anemia, unspecified</div>\", \"<div class=\\\"tooltip\\\">Acute posthemorrhagic anemia</div>\", \"<div class=\\\"tooltip\\\">Anemia, unspecified</div>\", \"<div class=\\\"tooltip\\\">Hypothyroidism, unspecified</div>\", \"<div class=\\\"tooltip\\\">Type 2 diabetes mellitus without complications</div>\", \"<div class=\\\"tooltip\\\">Testicular hypofunction</div>\", \"<div class=\\\"tooltip\\\">Vitamin D deficiency, unspecified</div>\", \"<div class=\\\"tooltip\\\">Obesity, unspecified</div>\", \"<div class=\\\"tooltip\\\">Pure hypercholesterolemia</div>\", \"<div class=\\\"tooltip\\\">Mixed hyperlipidemia</div>\", \"<div class=\\\"tooltip\\\">Hyperlipidemia, unspecified</div>\", \"<div class=\\\"tooltip\\\">Hypokalemia</div>\", \"<div class=\\\"tooltip\\\">Unspecified psychosis not due to a substance or known physiological condition</div>\", \"<div class=\\\"tooltip\\\">Bipolar disorder, unspecified</div>\", \"<div class=\\\"tooltip\\\">Major depressive disorder, single episode, unspecified</div>\", \"<div class=\\\"tooltip\\\">Dysthymic disorder</div>\", \"<div class=\\\"tooltip\\\">Unspecified mood [affective] disorder</div>\", \"<div class=\\\"tooltip\\\">Generalized anxiety disorder</div>\", \"<div class=\\\"tooltip\\\">Anxiety disorder, unspecified</div>\", \"<div class=\\\"tooltip\\\">Attention-deficit hyperactivity disorder, unspecified type</div>\", \"<div class=\\\"tooltip\\\">Parkinson's disease</div>\", \"<div class=\\\"tooltip\\\">Multiple sclerosis</div>\", \"<div class=\\\"tooltip\\\">Essential (primary) hypertension</div>\", \"<div class=\\\"tooltip\\\">Heart failure, unspecified</div>\", \"<div class=\\\"tooltip\\\">Other specified cerebrovascular diseases</div>\", \"<div class=\\\"tooltip\\\">Acute nasopharyngitis [common cold]</div>\", \"<div class=\\\"tooltip\\\">Acute pharyngitis, unspecified</div>\", \"<div class=\\\"tooltip\\\">Acute upper respiratory infection, unspecified</div>\", \"<div class=\\\"tooltip\\\">Pneumonia, unspecified organism</div>\", \"<div class=\\\"tooltip\\\">Acute bronchitis, unspecified</div>\", \"<div class=\\\"tooltip\\\">Allergic rhinitis due to pollen</div>\", \"<div class=\\\"tooltip\\\">Chronic sinusitis, unspecified</div>\", \"<div class=\\\"tooltip\\\">Bronchitis, not specified as acute or chronic</div>\", \"<div class=\\\"tooltip\\\">Chronic obstructive pulmonary disease, unspecified</div>\", \"<div class=\\\"tooltip\\\">Gastro-esophageal reflux disease without esophagitis</div>\", \"<div class=\\\"tooltip\\\">Noninfective gastroenteritis and colitis, unspecified</div>\", \"<div class=\\\"tooltip\\\">Polyp of colon</div>\", \"<div class=\\\"tooltip\\\">Unspecified contact dermatitis, unspecified cause</div>\", \"<div class=\\\"tooltip\\\">Actinic keratosis</div>\", \"<div class=\\\"tooltip\\\">Other acne</div>\", \"<div class=\\\"tooltip\\\">Osteoarthritis of knee, unspecified</div>\", \"<div class=\\\"tooltip\\\">Cervicalgia</div>\", \"<div class=\\\"tooltip\\\">Low back pain</div>\", \"<div class=\\\"tooltip\\\">Pain in thoracic spine</div>\", \"<div class=\\\"tooltip\\\">Dorsalgia, unspecified</div>\", \"<div class=\\\"tooltip\\\">Neuralgia and neuritis, unspecified</div>\", \"<div class=\\\"tooltip\\\">Fibromyalgia</div>\", \"<div class=\\\"tooltip\\\">Other specified soft tissue disorders</div>\", \"<div class=\\\"tooltip\\\">Disorder of cartilage, unspecified</div>\", \"<div class=\\\"tooltip\\\">Acute kidney failure, unspecified</div>\", \"<div class=\\\"tooltip\\\">Calculus of kidney</div>\", \"<div class=\\\"tooltip\\\">Urinary tract infection, site not specified</div>\", \"<div class=\\\"tooltip\\\">Subacute and chronic vulvitis</div>\", \"<div class=\\\"tooltip\\\">Other specified noninflammatory disorders of vagina</div>\", \"<div class=\\\"tooltip\\\">Bradycardia, unspecified</div>\", \"<div class=\\\"tooltip\\\">Palpitations</div>\", \"<div class=\\\"tooltip\\\">Cough</div>\", \"<div class=\\\"tooltip\\\">Pelvic and perineal pain</div>\", \"<div class=\\\"tooltip\\\">Rash and other nonspecific skin eruption</div>\", \"<div class=\\\"tooltip\\\">Difficulty in walking, not elsewhere classified</div>\", \"<div class=\\\"tooltip\\\">Painful micturition, unspecified</div>\", \"<div class=\\\"tooltip\\\">Unspecified urinary incontinence</div>\", \"<div class=\\\"tooltip\\\">Dizziness and giddiness</div>\", \"<div class=\\\"tooltip\\\">Fever, unspecified</div>\", \"<div class=\\\"tooltip\\\">Headache</div>\", \"<div class=\\\"tooltip\\\">Pain, unspecified</div>\", \"<div class=\\\"tooltip\\\">Syncope and collapse</div>\", \"<div class=\\\"tooltip\\\">Edema, unspecified</div>\", \"<div class=\\\"tooltip\\\">Abnormal findings on diagnostic imaging of lung</div>\", \"<div class=\\\"tooltip\\\">Hypertensive crisis, unspecified</div>\", \"<div class=\\\"tooltip\\\">Chest pain, unspecified</div>\", \"<div class=\\\"tooltip\\\">Nausea</div>\", \"<div class=\\\"tooltip\\\">Vomiting</div>\", \"<div class=\\\"tooltip\\\">Diarrhea, unspecified</div>\", \"<div class=\\\"tooltip\\\">Benign prostatic hyperplasia without lower urinary tract symptoms</div>\", \"<div class=\\\"tooltip\\\">Dehydration</div>\", \"<div class=\\\"tooltip\\\">Unspecified convulsions</div>\", \"<div class=\\\"tooltip\\\">Chronic iridocyclitis, unspecified eye</div>\", \"<div class=\\\"tooltip\\\">Frequency of micturition</div>\", \"<div class=\\\"tooltip\\\">Unspecified abdominal pain</div>\", \"<div class=\\\"tooltip\\\">Dysphagia</div>\", \"<div class=\\\"tooltip\\\">Acute necrotizing hemorrhagic encephalopathy, unspecified</div>\", \"<div class=\\\"tooltip\\\">Mild intermittent asthma</div>\", \"<div class=\\\"tooltip\\\">Influenza due to unidentified influenza virus with unspecified type of pneumonia</div>\", \"<div class=\\\"tooltip\\\">Arthropathy, unspecified</div>\", \"<div class=\\\"tooltip\\\">Allergic rhinitis, unspecified</div>\", \"<div class=\\\"tooltip\\\">Benign prostatic hyperplasia with lower urinary tract symptoms</div>\", \"<div class=\\\"tooltip\\\">Nausea with vomiting, unspecified</div>\", \"<div class=\\\"tooltip\\\">Unspecified disturbances of skin sensation</div>\"], \"targets\": null, \"hoffset\": 0, \"voffset\": 10}]});\n",
              "   }(mpld3);\n",
              "}else if(typeof define === \"function\" && define.amd){\n",
              "   // require.js is available: use it to load d3/mpld3\n",
              "   require.config({paths: {d3: \"https://d3js.org/d3.v5\"}});\n",
              "   require([\"d3\"], function(d3){\n",
              "      window.d3 = d3;\n",
              "      mpld3_load_lib(\"https://mpld3.github.io/js/mpld3.v0.5.9.js\", function(){\n",
              "         \n",
              "    mpld3.register_plugin(\"htmltooltip\", HtmlTooltipPlugin);\n",
              "    HtmlTooltipPlugin.prototype = Object.create(mpld3.Plugin.prototype);\n",
              "    HtmlTooltipPlugin.prototype.constructor = HtmlTooltipPlugin;\n",
              "    HtmlTooltipPlugin.prototype.requiredProps = [\"id\"];\n",
              "    HtmlTooltipPlugin.prototype.defaultProps = {labels:null,\n",
              "                                                target:null,\n",
              "                                                hoffset:0,\n",
              "                                                voffset:10,\n",
              "                                                targets:null};\n",
              "    function HtmlTooltipPlugin(fig, props){\n",
              "        mpld3.Plugin.call(this, fig, props);\n",
              "    };\n",
              "\n",
              "    HtmlTooltipPlugin.prototype.draw = function(){\n",
              "        var obj = mpld3.get_element(this.props.id);\n",
              "        var labels = this.props.labels;\n",
              "        var targets = this.props.targets;\n",
              "        var tooltip = d3.select(\"body\").append(\"div\")\n",
              "            .attr(\"class\", \"mpld3-tooltip\")\n",
              "            .style(\"position\", \"absolute\")\n",
              "            .style(\"z-index\", \"10\")\n",
              "            .style(\"visibility\", \"hidden\");\n",
              "\n",
              "        obj.elements()\n",
              "            .on(\"mouseover\", function(d, i){\n",
              "                tooltip.html(labels[i])\n",
              "                    .style(\"visibility\", \"visible\");\n",
              "            })\n",
              "            .on(\"mousemove\", function(d, i){\n",
              "                tooltip\n",
              "                .style(\"top\", d3.event.pageY + this.props.voffset + \"px\")\n",
              "                .style(\"left\",d3.event.pageX + this.props.hoffset + \"px\");\n",
              "            }.bind(this))\n",
              "            .on(\"mousedown.callout\", function(d, i){\n",
              "                window.open(targets[i],\"_blank\");\n",
              "            })\n",
              "            .on(\"mouseout\", function(d, i){\n",
              "                tooltip.style(\"visibility\", \"hidden\");\n",
              "            });\n",
              "    };\n",
              "    \n",
              "         mpld3.draw_figure(\"fig_el10731402927471198721317518236\", {\"width\": 1000.0, \"height\": 400.0, \"axes\": [{\"bbox\": [0.125, 0.10999999999999999, 0.775, 0.77], \"xlim\": [-12.062255334854125, 13.341747713088989], \"ylim\": [-15.541792821884155, 19.683223676681518], \"xdomain\": [-12.062255334854125, 13.341747713088989], \"ydomain\": [-15.541792821884155, 19.683223676681518], \"xscale\": \"linear\", \"yscale\": \"linear\", \"axes\": [{\"position\": \"bottom\", \"nticks\": 7, \"tickvalues\": null, \"tickformat_formatter\": \"\", \"tickformat\": null, \"scale\": \"linear\", \"fontsize\": 10.0, \"grid\": {\"gridOn\": false}, \"visible\": true}, {\"position\": \"left\", \"nticks\": 9, \"tickvalues\": null, \"tickformat_formatter\": \"\", \"tickformat\": null, \"scale\": \"linear\", \"fontsize\": 10.0, \"grid\": {\"gridOn\": false}, \"visible\": true}], \"axesbg\": \"#FFFFFF\", \"axesbgalpha\": null, \"zoomable\": true, \"id\": \"el1073140292720311120\", \"lines\": [], \"paths\": [], \"markers\": [], \"texts\": [], \"collections\": [{\"offsets\": \"data01\", \"xindex\": 0, \"yindex\": 1, \"paths\": [[[[0.0, -0.5], [0.13260155, -0.5], [0.25978993539242673, -0.44731684579412084], [0.3535533905932738, -0.3535533905932738], [0.44731684579412084, -0.25978993539242673], [0.5, -0.13260155], [0.5, 0.0], [0.5, 0.13260155], [0.44731684579412084, 0.25978993539242673], [0.3535533905932738, 0.3535533905932738], [0.25978993539242673, 0.44731684579412084], [0.13260155, 0.5], [0.0, 0.5], [-0.13260155, 0.5], [-0.25978993539242673, 0.44731684579412084], [-0.3535533905932738, 0.3535533905932738], [-0.44731684579412084, 0.25978993539242673], [-0.5, 0.13260155], [-0.5, 0.0], [-0.5, -0.13260155], [-0.44731684579412084, -0.25978993539242673], [-0.3535533905932738, -0.3535533905932738], [-0.25978993539242673, -0.44731684579412084], [-0.13260155, -0.5], [0.0, -0.5]], [\"M\", \"C\", \"C\", \"C\", \"C\", \"C\", \"C\", \"C\", \"C\", \"Z\"]]], \"pathtransforms\": [[8.333333333333334, 0.0, 0.0, 8.333333333333334, 0.0, 0.0]], \"alphas\": [null], \"edgecolors\": [\"#56F6C9\", \"#56F6C9\", \"#56F6C9\", \"#56F6C9\", \"#56F6C9\", \"#FF783E\", \"#FF783E\", \"#2F78F7\", \"#FF9A51\", \"#6528FE\", \"#FF5028\", \"#FF783E\", \"#FF5028\", \"#2F78F7\", \"#2F78F7\", \"#6528FE\", \"#2F78F7\", \"#FF5028\", \"#DED478\", \"#FF5028\", \"#06BBE9\", \"#7F00FF\", \"#A8F69C\", \"#FF5028\", \"#FF5028\", \"#DED478\", \"#72FEBB\", \"#06BBE9\", \"#FF0000\", \"#DED478\", \"#6528FE\", \"#8CFEAC\", \"#8CFEAC\", \"#2F78F7\", \"#FF0000\", \"#6528FE\", \"#72FEBB\", \"#2F78F7\", \"#6528FE\", \"#DED478\", \"#2F78F7\", \"#6528FE\", \"#2F78F7\", \"#8CFEAC\", \"#8CFEAC\", \"#FF9A51\", \"#20D4E0\", \"#20D4E0\", \"#2F78F7\", \"#2F78F7\", \"#8CFEAC\", \"#6528FE\", \"#DED478\", \"#7F00FF\", \"#7F00FF\", \"#FF5028\", \"#7F00FF\", \"#FF5028\", \"#A8F69C\", \"#20D4E0\", \"#06BBE9\", \"#A8F69C\", \"#FF5028\", \"#06BBE9\", \"#2F78F7\", \"#2F78F7\", \"#FF0000\", \"#8CFEAC\", \"#FF9A51\", \"#4B50FB\", \"#6528FE\", \"#06BBE9\", \"#A8F69C\", \"#06BBE9\", \"#A8F69C\", \"#FF5028\", \"#FF0000\", \"#159AF1\", \"#FF9A51\", \"#4B50FB\", \"#FF9A51\", \"#FF0000\", \"#FF0000\", \"#FF9A51\", \"#FF0000\", \"#3CE9D5\", \"#FF0000\", \"#FF0000\", \"#4B50FB\", \"#FF5028\", \"#20D4E0\", \"#159AF1\", \"#DED478\", \"#2F78F7\", \"#8CFEAC\", \"#DED478\", \"#20D4E0\", \"#FF5028\", \"#7F00FF\", \"#FF0000\", \"#159AF1\", \"#6528FE\", \"#DED478\", \"#DED478\", \"#FF783E\", \"#6528FE\", \"#2F78F7\", \"#2F78F7\", \"#8CFEAC\", \"#20D4E0\", \"#FF5028\", \"#20D4E0\", \"#06BBE9\", \"#06BBE9\", \"#A8F69C\", \"#06BBE9\", \"#A8F69C\", \"#DED478\", \"#72FEBB\", \"#06BBE9\", \"#A8F69C\", \"#06BBE9\", \"#A8F69C\", \"#FF5028\", \"#FF783E\", \"#A8F69C\", \"#06BBE9\", \"#7F00FF\", \"#A8F69C\", \"#FF5028\", \"#A8F69C\", \"#A8F69C\", \"#FF5028\", \"#FF783E\", \"#FF5028\", \"#FF5028\", \"#7F00FF\", \"#DED478\", \"#DED478\", \"#72FEBB\", \"#FF5028\", \"#7F00FF\", \"#2F78F7\", \"#FF5028\", \"#6528FE\", \"#2F78F7\", \"#2F78F7\", \"#06BBE9\", \"#20D4E0\", \"#159AF1\", \"#FF0000\", \"#FF0000\", \"#20D4E0\", \"#3CE9D5\", \"#6528FE\", \"#6528FE\", \"#2F78F7\", \"#72FEBB\", \"#8CFEAC\", \"#6528FE\", \"#72FEBB\", \"#FF0000\", \"#8CFEAC\", \"#2F78F7\", \"#8CFEAC\", \"#159AF1\", \"#159AF1\", \"#20D4E0\", \"#FF0000\", \"#DED478\", \"#6528FE\", \"#DED478\", \"#FF0000\", \"#6528FE\", \"#6528FE\", \"#6528FE\", \"#6528FE\", \"#8CFEAC\", \"#FF9A51\", \"#DED478\", \"#72FEBB\", \"#DED478\", \"#FF9A51\", \"#8CFEAC\", \"#06BBE9\", \"#A8F69C\", \"#DED478\", \"#7F00FF\", \"#20D4E0\", \"#20D4E0\", \"#20D4E0\", \"#159AF1\", \"#6528FE\", \"#2F78F7\", \"#FF783E\", \"#2F78F7\", \"#2F78F7\", \"#2F78F7\", \"#6528FE\", \"#6528FE\", \"#FF783E\", \"#2F78F7\", \"#8CFEAC\", \"#20D4E0\", \"#3CE9D5\", \"#DED478\", \"#20D4E0\", \"#56F6C9\", \"#4B50FB\", \"#C2E98B\", \"#8CFEAC\", \"#FF783E\", \"#8CFEAC\", \"#56F6C9\", \"#8CFEAC\", \"#A8F69C\", \"#A8F69C\", \"#7F00FF\", \"#7F00FF\", \"#72FEBB\", \"#A8F69C\", \"#A8F69C\", \"#A8F69C\", \"#FF783E\", \"#56F6C9\", \"#8CFEAC\", \"#72FEBB\", \"#FF783E\", \"#F8BB66\", \"#8CFEAC\", \"#72FEBB\", \"#3CE9D5\", \"#56F6C9\", \"#56F6C9\", \"#FF2814\", \"#7F00FF\", \"#7F00FF\", \"#F8BB66\", \"#4B50FB\", \"#4B50FB\", \"#159AF1\", \"#159AF1\", \"#3CE9D5\", \"#159AF1\", \"#F8BB66\", \"#7F00FF\", \"#72FEBB\", \"#159AF1\", \"#7F00FF\", \"#159AF1\", \"#7F00FF\", \"#4B50FB\", \"#A8F69C\", \"#7F00FF\", \"#7F00FF\", \"#FF783E\", \"#72FEBB\", \"#FF783E\", \"#7F00FF\", \"#FF783E\", \"#7F00FF\", \"#FF783E\", \"#72FEBB\", \"#159AF1\", \"#3CE9D5\", \"#3CE9D5\", \"#72FEBB\", \"#72FEBB\", \"#F8BB66\", \"#159AF1\", \"#F8BB66\", \"#7F00FF\", \"#159AF1\", \"#56F6C9\", \"#56F6C9\", \"#4B50FB\", \"#56F6C9\", \"#56F6C9\", \"#56F6C9\", \"#72FEBB\", \"#6528FE\", \"#A8F69C\", \"#72FEBB\", \"#8CFEAC\", \"#4B50FB\", \"#159AF1\", \"#A8F69C\", \"#159AF1\", \"#8CFEAC\", \"#F8BB66\", \"#8CFEAC\", \"#159AF1\", \"#8CFEAC\", \"#C2E98B\", \"#3CE9D5\", \"#56F6C9\", \"#7F00FF\", \"#159AF1\", \"#7F00FF\", \"#159AF1\", \"#7F00FF\"], \"facecolors\": [\"#56F6C9\", \"#56F6C9\", \"#56F6C9\", \"#56F6C9\", \"#56F6C9\", \"#FF783E\", \"#FF783E\", \"#2F78F7\", \"#FF9A51\", \"#6528FE\", \"#FF5028\", \"#FF783E\", \"#FF5028\", \"#2F78F7\", \"#2F78F7\", \"#6528FE\", \"#2F78F7\", \"#FF5028\", \"#DED478\", \"#FF5028\", \"#06BBE9\", \"#7F00FF\", \"#A8F69C\", \"#FF5028\", \"#FF5028\", \"#DED478\", \"#72FEBB\", \"#06BBE9\", \"#FF0000\", \"#DED478\", \"#6528FE\", \"#8CFEAC\", \"#8CFEAC\", \"#2F78F7\", \"#FF0000\", \"#6528FE\", \"#72FEBB\", \"#2F78F7\", \"#6528FE\", \"#DED478\", \"#2F78F7\", \"#6528FE\", \"#2F78F7\", \"#8CFEAC\", \"#8CFEAC\", \"#FF9A51\", \"#20D4E0\", \"#20D4E0\", \"#2F78F7\", \"#2F78F7\", \"#8CFEAC\", \"#6528FE\", \"#DED478\", \"#7F00FF\", \"#7F00FF\", \"#FF5028\", \"#7F00FF\", \"#FF5028\", \"#A8F69C\", \"#20D4E0\", \"#06BBE9\", \"#A8F69C\", \"#FF5028\", \"#06BBE9\", \"#2F78F7\", \"#2F78F7\", \"#FF0000\", \"#8CFEAC\", \"#FF9A51\", \"#4B50FB\", \"#6528FE\", \"#06BBE9\", \"#A8F69C\", \"#06BBE9\", \"#A8F69C\", \"#FF5028\", \"#FF0000\", \"#159AF1\", \"#FF9A51\", \"#4B50FB\", \"#FF9A51\", \"#FF0000\", \"#FF0000\", \"#FF9A51\", \"#FF0000\", \"#3CE9D5\", \"#FF0000\", \"#FF0000\", \"#4B50FB\", \"#FF5028\", \"#20D4E0\", \"#159AF1\", \"#DED478\", \"#2F78F7\", \"#8CFEAC\", \"#DED478\", \"#20D4E0\", \"#FF5028\", \"#7F00FF\", \"#FF0000\", \"#159AF1\", \"#6528FE\", \"#DED478\", \"#DED478\", \"#FF783E\", \"#6528FE\", \"#2F78F7\", \"#2F78F7\", \"#8CFEAC\", \"#20D4E0\", \"#FF5028\", \"#20D4E0\", \"#06BBE9\", \"#06BBE9\", \"#A8F69C\", \"#06BBE9\", \"#A8F69C\", \"#DED478\", \"#72FEBB\", \"#06BBE9\", \"#A8F69C\", \"#06BBE9\", \"#A8F69C\", \"#FF5028\", \"#FF783E\", \"#A8F69C\", \"#06BBE9\", \"#7F00FF\", \"#A8F69C\", \"#FF5028\", \"#A8F69C\", \"#A8F69C\", \"#FF5028\", \"#FF783E\", \"#FF5028\", \"#FF5028\", \"#7F00FF\", \"#DED478\", \"#DED478\", \"#72FEBB\", \"#FF5028\", \"#7F00FF\", \"#2F78F7\", \"#FF5028\", \"#6528FE\", \"#2F78F7\", \"#2F78F7\", \"#06BBE9\", \"#20D4E0\", \"#159AF1\", \"#FF0000\", \"#FF0000\", \"#20D4E0\", \"#3CE9D5\", \"#6528FE\", \"#6528FE\", \"#2F78F7\", \"#72FEBB\", \"#8CFEAC\", \"#6528FE\", \"#72FEBB\", \"#FF0000\", \"#8CFEAC\", \"#2F78F7\", \"#8CFEAC\", \"#159AF1\", \"#159AF1\", \"#20D4E0\", \"#FF0000\", \"#DED478\", \"#6528FE\", \"#DED478\", \"#FF0000\", \"#6528FE\", \"#6528FE\", \"#6528FE\", \"#6528FE\", \"#8CFEAC\", \"#FF9A51\", \"#DED478\", \"#72FEBB\", \"#DED478\", \"#FF9A51\", \"#8CFEAC\", \"#06BBE9\", \"#A8F69C\", \"#DED478\", \"#7F00FF\", \"#20D4E0\", \"#20D4E0\", \"#20D4E0\", \"#159AF1\", \"#6528FE\", \"#2F78F7\", \"#FF783E\", \"#2F78F7\", \"#2F78F7\", \"#2F78F7\", \"#6528FE\", \"#6528FE\", \"#FF783E\", \"#2F78F7\", \"#8CFEAC\", \"#20D4E0\", \"#3CE9D5\", \"#DED478\", \"#20D4E0\", \"#56F6C9\", \"#4B50FB\", \"#C2E98B\", \"#8CFEAC\", \"#FF783E\", \"#8CFEAC\", \"#56F6C9\", \"#8CFEAC\", \"#A8F69C\", \"#A8F69C\", \"#7F00FF\", \"#7F00FF\", \"#72FEBB\", \"#A8F69C\", \"#A8F69C\", \"#A8F69C\", \"#FF783E\", \"#56F6C9\", \"#8CFEAC\", \"#72FEBB\", \"#FF783E\", \"#F8BB66\", \"#8CFEAC\", \"#72FEBB\", \"#3CE9D5\", \"#56F6C9\", \"#56F6C9\", \"#FF2814\", \"#7F00FF\", \"#7F00FF\", \"#F8BB66\", \"#4B50FB\", \"#4B50FB\", \"#159AF1\", \"#159AF1\", \"#3CE9D5\", \"#159AF1\", \"#F8BB66\", \"#7F00FF\", \"#72FEBB\", \"#159AF1\", \"#7F00FF\", \"#159AF1\", \"#7F00FF\", \"#4B50FB\", \"#A8F69C\", \"#7F00FF\", \"#7F00FF\", \"#FF783E\", \"#72FEBB\", \"#FF783E\", \"#7F00FF\", \"#FF783E\", \"#7F00FF\", \"#FF783E\", \"#72FEBB\", \"#159AF1\", \"#3CE9D5\", \"#3CE9D5\", \"#72FEBB\", \"#72FEBB\", \"#F8BB66\", \"#159AF1\", \"#F8BB66\", \"#7F00FF\", \"#159AF1\", \"#56F6C9\", \"#56F6C9\", \"#4B50FB\", \"#56F6C9\", \"#56F6C9\", \"#56F6C9\", \"#72FEBB\", \"#6528FE\", \"#A8F69C\", \"#72FEBB\", \"#8CFEAC\", \"#4B50FB\", \"#159AF1\", \"#A8F69C\", \"#159AF1\", \"#8CFEAC\", \"#F8BB66\", \"#8CFEAC\", \"#159AF1\", \"#8CFEAC\", \"#C2E98B\", \"#3CE9D5\", \"#56F6C9\", \"#7F00FF\", \"#159AF1\", \"#7F00FF\", \"#159AF1\", \"#7F00FF\"], \"edgewidths\": [1.0], \"offsetcoordinates\": \"data\", \"pathcoordinates\": \"display\", \"zorder\": 1, \"id\": \"el1073140292717587232\"}], \"images\": [], \"sharex\": [], \"sharey\": []}], \"data\": {\"data01\": [[9.539427757263184, -0.9098504781723022], [1.4296404123306274, 4.04839563369751], [-7.448729515075684, 0.2585630416870117], [1.0047088861465454, 3.936161994934082], [-7.441610813140869, 0.2605072855949402], [9.322399139404297, -10.151239395141602], [11.553536415100098, -9.299409866333008], [-4.511444091796875, 8.922350883483887], [1.9701999425888062, 10.081477165222168], [-1.9247236251831055, 13.28825569152832], [-7.7037248611450195, 6.64761209487915], [0.4326331615447998, -9.580347061157227], [-5.7532453536987305, 11.291070938110352], [-3.300710439682007, 11.02879810333252], [-3.2208516597747803, 9.937251091003418], [-3.1324777603149414, 9.390782356262207], [-4.048081874847412, 9.18043041229248], [-7.816240310668945, 11.92227554321289], [-5.470926284790039, 10.145261764526367], [-10.324288368225098, 6.858791828155518], [-10.907527923583984, 7.151647090911865], [0.19983363151550293, -13.600728988647461], [0.16834209859371185, -13.767494201660156], [-7.77284574508667, 10.675610542297363], [-6.485590934753418, 12.047904968261719], [-1.3024697303771973, 13.904648780822754], [-1.8267900943756104, -9.435545921325684], [-1.1090772151947021, 4.726335525512695], [-1.2954274415969849, 9.628533363342285], [-4.903128147125244, 8.045848846435547], [-4.110954761505127, 5.139208793640137], [-1.2788878679275513, -3.4152255058288574], [-1.5735549926757812, -3.6187636852264404], [-6.054559230804443, 5.712430477142334], [-3.8149526119232178, 4.475073337554932], [-3.5993502140045166, 6.460814476013184], [-0.33938851952552795, -5.275012493133545], [-5.44543981552124, 4.9520344734191895], [1.7074832916259766, 16.572614669799805], [2.0504515171051025, 16.077524185180664], [-4.751098155975342, 2.6921188831329346], [1.4142502546310425, 16.902070999145508], [2.537022829055786, 15.909996032714844], [-1.0767673254013062, -1.9493473768234253], [-1.3088977336883545, -1.477378010749817], [4.68436336517334, 11.398551940917969], [-4.046244144439697, 2.0951955318450928], [-4.516564846038818, 2.7581541538238525], [-4.854990005493164, 6.758847236633301], [-3.0142033100128174, 14.15254020690918], [7.162781715393066, -6.6579084396362305], [-8.157894134521484, 13.843172073364258], [-4.039878845214844, 13.735898971557617], [0.8134869337081909, -3.5019102096557617], [-2.7065343856811523, -8.933813095092773], [-6.303003787994385, 15.926831245422363], [7.414123058319092, -10.266746520996094], [-8.708938598632812, 16.84164047241211], [8.460779190063477, -7.83009147644043], [2.064145565032959, 9.701887130737305], [-10.559662818908691, 9.7548828125], [1.5321117639541626, -11.9736328125], [-10.626547813415527, 9.906286239624023], [-10.691033363342285, 10.026213645935059], [-0.4948982000350952, 12.678210258483887], [-0.9477620124816895, 10.704085350036621], [-0.08252660930156708, 11.23058032989502], [6.852130889892578, -3.989905834197998], [3.26802659034729, 9.224946022033691], [7.627864360809326, -2.1354470252990723], [-0.4085980951786041, 11.557952880859375], [-9.878838539123535, 9.024657249450684], [0.21787409484386444, -8.216889381408691], [-9.188565254211426, 7.920810222625732], [-0.8756409883499146, -8.735786437988281], [-9.204122543334961, 7.907740592956543], [0.2220291942358017, 7.2513580322265625], [5.737204551696777, -0.26523542404174805], [2.9657981395721436, 10.44575023651123], [7.70480489730835, -1.5407917499542236], [3.972076892852783, 9.51074504852295], [0.392172634601593, 8.194687843322754], [1.483583688735962, 7.9439616203308105], [2.8800175189971924, 8.725641250610352], [2.4322900772094727, 11.34420108795166], [7.719907283782959, 1.5726135969161987], [0.9582561254501343, 11.180255889892578], [0.9732974767684937, 10.624855995178223], [5.998629093170166, -1.1504666805267334], [-7.810521125793457, 7.73574686050415], [2.326345682144165, 7.492253303527832], [6.325483322143555, 1.0712709426879883], [-4.249813079833984, 12.582717895507812], [-4.046182632446289, 11.365877151489258], [3.8233094215393066, -5.971848011016846], [-4.969377040863037, 10.068704605102539], [1.088678240776062, 10.137542724609375], [-5.793818950653076, 11.037309646606445], [2.715665340423584, -9.47458267211914], [1.0093501806259155, 12.507665634155273], [5.2909064292907715, -4.4633564949035645], [-4.093986988067627, 10.680624961853027], [-5.039554595947266, 10.530912399291992], [-5.166428565979004, 11.38550090789795], [2.497896671295166, -8.824477195739746], [-4.57974100112915, 10.753690719604492], [-2.205940008163452, 10.399737358093262], [-1.6514524221420288, 11.666569709777832], [3.6559300422668457, -6.977090835571289], [1.455883502960205, 8.644852638244629], [-6.97216796875, 10.320560455322266], [-0.592485785484314, 8.649121284484863], [-4.998096466064453, 16.24988555908203], [-4.351807117462158, 16.23572540283203], [5.630475044250488, -10.176267623901367], [-5.107851505279541, 15.715011596679688], [4.425625801086426, -10.0796480178833], [-4.276052474975586, 18.08208656311035], [5.966180324554443, -8.967150688171387], [-8.430904388427734, 15.583487510681152], [10.156270027160645, -8.597737312316895], [-8.46854305267334, 15.711058616638184], [9.933829307556152, -8.639006614685059], [-8.2334566116333, 15.258923530578613], [9.646313667297363, -10.186832427978516], [10.04631519317627, -10.014286041259766], [-8.135833740234375, 15.944435119628906], [10.369531631469727, -8.962671279907227], [10.2741117477417, -8.599976539611816], [-9.396949768066406, 16.48952293395996], [10.841897010803223, -7.910604000091553], [11.369486808776855, -9.25669002532959], [-7.091690540313721, 17.346981048583984], [11.095823287963867, -10.677618980407715], [-5.489853858947754, 17.561311721801758], [-5.598598003387451, 18.056459426879883], [6.833471298217773, -10.306811332702637], [-5.041808605194092, 16.498756408691406], [-6.82000207901001, 14.824868202209473], [5.783446311950684, -7.716926097869873], [-9.697346687316895, 15.06439208984375], [11.39758014678955, -11.360735893249512], [-4.260282039642334, 8.841784477233887], [-7.867284774780273, 8.815208435058594], [-5.187527656555176, 8.792231559753418], [-3.4114742279052734, 8.693656921386719], [-2.56022047996521, 7.213576316833496], [-6.959657192230225, 9.0431489944458], [-2.169579267501831, 8.693103790283203], [2.451035499572754, -1.998598575592041], [-1.892943263053894, 8.689817428588867], [-8.907283782958984, 3.424353837966919], [-8.890376091003418, 3.4304354190826416], [1.9653643369674683, -1.9281468391418457], [-3.427492141723633, 12.080471992492676], [-4.8144941329956055, 12.111226081848145], [1.4189754724502563, 7.032346248626709], [-0.03182406723499298, -6.906288146972656], [-2.463867425918579, -7.794605731964111], [-2.955472230911255, 12.559252738952637], [1.2661895751953125, -6.147275447845459], [1.3989068269729614, 9.42701244354248], [-1.49397873878479, -7.311185359954834], [1.201096534729004, 13.23736572265625], [3.9521543979644775, -5.570252418518066], [4.120223522186279, -3.873466730117798], [4.462870121002197, -4.770806312561035], [1.4567058086395264, 11.989989280700684], [2.549006462097168, 12.76036262512207], [-6.585482120513916, 14.038115501403809], [-2.095810890197754, 11.756701469421387], [-6.761112689971924, 16.4609317779541], [-2.114323854446411, 7.670281410217285], [-3.540107250213623, 8.250826835632324], [-6.072485446929932, 8.479974746704102], [-6.052814960479736, 8.798954963684082], [-4.926220893859863, 7.11815071105957], [-0.5375756621360779, -4.166204452514648], [2.856787919998169, 9.990468978881836], [-5.140899658203125, 13.302912712097168], [4.383913516998291, -7.088833332061768], [-5.023310661315918, 14.380166053771973], [4.68514347076416, 11.396998405456543], [5.768449306488037, -5.385398864746094], [-6.97164249420166, 11.738039016723633], [3.068467617034912, -11.452981948852539], [-4.587777137756348, 11.421304702758789], [1.0228855609893799, -7.457082271575928], [0.11329563707113266, 10.138301849365234], [-0.4340363144874573, 9.472823143005371], [-0.22797712683677673, 10.085441589355469], [4.867550849914551, -3.1339285373687744], [-8.813316345214844, 13.880221366882324], [-8.833236694335938, 13.853279113769531], [5.939222812652588, -11.228970527648926], [-1.6896153688430786, 16.2657470703125], [-2.098118782043457, 11.11034870147705], [-1.7808881998062134, 16.0341854095459], [-2.8382256031036377, 15.975425720214844], [-4.064484596252441, 17.436824798583984], [6.516575813293457, -10.03911018371582], [-2.6099817752838135, 15.905184745788574], [6.914867877960205, -9.443099975585938], [-8.918109893798828, 3.415339946746826], [8.871160507202148, -3.3915679454803467], [-6.234882831573486, 13.472886085510254], [-0.5119050741195679, 14.667166709899902], [-4.126210689544678, -4.680416107177734], [7.260356903076172, -2.3799312114715576], [-4.911505222320557, -7.085482120513916], [2.352865219116211, -2.3837649822235107], [0.049341294914484024, -11.091794967651367], [2.023765802383423, -4.563971042633057], [0.5476149916648865, -4.805163383483887], [2.0429627895355225, -5.328559398651123], [4.129983901977539, -12.20374584197998], [0.48528146743774414, -13.940655708312988], [-0.9491757750511169, -11.677125930786133], [3.3479130268096924, -10.857308387756348], [-2.049464464187622, -9.971368789672852], [1.6356585025787354, -10.589940071105957], [2.7091012001037598, -10.57474136352539], [2.912121295928955, -12.61688232421875], [2.246750831604004, -6.5845136642456055], [-1.9137555360794067, -2.8210625648498535], [-2.1722047328948975, -2.9986941814422607], [0.018676215782761574, -2.68182110786438], [-2.6278891563415527, -3.476774215698242], [-2.695072650909424, -0.8018873333930969], [-0.10123568028211594, -2.016214370727539], [0.4879509210586548, -3.043531656265259], [-2.620727300643921, -0.09812890738248825], [-4.710566997528076, -6.976358890533447], [-4.103041172027588, -2.6060283184051514], [-0.32766106724739075, 3.948016405105591], [-0.2856448292732239, -8.154428482055664], [1.2557228803634644, -8.009831428527832], [4.098822116851807, 6.9235920906066895], [7.665439128875732, -1.206022024154663], [6.773421764373779, -1.0678850412368774], [-0.9938860535621643, -6.806797504425049], [5.115080833435059, 0.8238494396209717], [7.83939790725708, 1.6763544082641602], [6.015571594238281, -0.6377254128456116], [4.312440872192383, 2.1882052421569824], [-1.6682484149932861, -6.359468936920166], [-3.1137466430664062, -11.850513458251953], [5.731096267700195, -3.1535677909851074], [2.4063894748687744, -9.392385482788086], [7.0570173263549805, -3.5603108406066895], [0.0663999617099762, -11.055808067321777], [2.844691276550293, -0.9040117859840393], [5.377221584320068, -10.138239860534668], [10.30426025390625, -11.727442741394043], [12.187020301818848, -8.98980712890625], [10.112214088439941, -11.242789268493652], [8.75830078125, -7.423647403717041], [9.562600135803223, -10.763696670532227], [8.914138793945312, -11.09333610534668], [4.728006839752197, -7.842600345611572], [3.287506580352783, -9.690507888793945], [1.701851487159729, -7.97759485244751], [3.1513028144836426, -8.155044555664062], [4.4539642333984375, -2.295353651046753], [3.052210807800293, -2.6546127796173096], [2.724856376647949, -2.5014946460723877], [1.1303417682647705, -6.984248161315918], [2.706294536590576, -6.809168815612793], [4.328073024749756, 3.0389983654022217], [3.1915998458862305, -1.8065886497497559], [3.9376819133758545, 5.3130364418029785], [7.124083042144775, -11.749324798583984], [4.162219047546387, -2.8560407161712646], [0.13304957747459412, -0.1881386935710907], [0.9590288996696472, 1.8485565185546875], [6.760617256164551, -2.308291435241699], [-0.8051525354385376, 1.7844228744506836], [1.9258248805999756, 0.8209834098815918], [0.33852294087409973, 2.1467549800872803], [2.392371654510498, -7.450047492980957], [-3.9589295387268066, 10.322500228881836], [2.7955143451690674, -13.150973320007324], [0.4127483367919922, -6.132099151611328], [3.415727376937866, -4.087820529937744], [6.057990550994873, -2.986640214920044], [5.543583869934082, -3.926736831665039], [1.3711562156677246, -9.950621604919434], [3.0679471492767334, -5.763926029205322], [-2.008314371109009, -4.646605491638184], [-3.5457682609558105, 3.057417154312134], [3.189115047454834, -5.123953342437744], [4.791719913482666, -4.145325183868408], [4.898261070251465, -5.741130828857422], [0.16376708447933197, 2.9915759563446045], [7.444872856140137, 1.4102985858917236], [2.6113884449005127, 3.4119510650634766], [4.154206275939941, -9.64621353149414], [6.509653568267822, 0.034354619681835175], [1.4129643440246582, -9.219722747802734], [4.202122211456299, -3.991121768951416], [8.145673751831055, -8.42907428741455]]}, \"id\": \"el1073140292747119872\", \"plugins\": [{\"type\": \"reset\"}, {\"type\": \"zoom\", \"button\": true, \"enabled\": false}, {\"type\": \"boxzoom\", \"button\": true, \"enabled\": false}, {\"type\": \"htmltooltip\", \"id\": \"el1073140292717587232\", \"labels\": [\"<div class=\\\"tooltip\\\">Sprain of joints and ligaments of other parts of neck</div>\", \"<div class=\\\"tooltip\\\">Sprain of ligaments of lumbar spine</div>\", \"<div class=\\\"tooltip\\\">Other sepsis</div>\", \"<div class=\\\"tooltip\\\">Viral infection of unspecified site</div>\", \"<div class=\\\"tooltip\\\">Dermatophytosis</div>\", \"<div class=\\\"tooltip\\\">Malignant neoplasm of breast</div>\", \"<div class=\\\"tooltip\\\">Malignant neoplasm of breast of unspecified site</div>\", \"<div class=\\\"tooltip\\\">Benign neoplasm of colon, rectum, anus and anal canal</div>\", \"<div class=\\\"tooltip\\\">Leiomyoma of uterus</div>\", \"<div class=\\\"tooltip\\\">Iron deficiency anemia</div>\", \"<div class=\\\"tooltip\\\">Other anemias</div>\", \"<div class=\\\"tooltip\\\">Other disorders of white blood cells</div>\", \"<div class=\\\"tooltip\\\">Other hypothyroidism</div>\", \"<div class=\\\"tooltip\\\">Other nontoxic goiter</div>\", \"<div class=\\\"tooltip\\\">Type 1 diabetes mellitus</div>\", \"<div class=\\\"tooltip\\\">Type 2 diabetes mellitus</div>\", \"<div class=\\\"tooltip\\\">Type 2 diabetes mellitus with neurological complications</div>\", \"<div class=\\\"tooltip\\\">Type 2 diabetes mellitus with other specified complications</div>\", \"<div class=\\\"tooltip\\\">Testicular dysfunction</div>\", \"<div class=\\\"tooltip\\\">Vitamin D deficiency</div>\", \"<div class=\\\"tooltip\\\">Overweight and obesity</div>\", \"<div class=\\\"tooltip\\\">Obesity due to excess calories</div>\", \"<div class=\\\"tooltip\\\">Disorders of lipoprotein metabolism and other lipidemias</div>\", \"<div class=\\\"tooltip\\\">Volume depletion</div>\", \"<div class=\\\"tooltip\\\">Other disorders of fluid, electrolyte and acid-base balance</div>\", \"<div class=\\\"tooltip\\\">Alcohol related disorders</div>\", \"<div class=\\\"tooltip\\\">Alcohol abuse</div>\", \"<div class=\\\"tooltip\\\">Alcohol dependence</div>\", \"<div class=\\\"tooltip\\\">Opioid related disorders</div>\", \"<div class=\\\"tooltip\\\">Cannabis related disorders</div>\", \"<div class=\\\"tooltip\\\">Nicotine dependence</div>\", \"<div class=\\\"tooltip\\\">Nicotine dependence</div>\", \"<div class=\\\"tooltip\\\">Bipolar disorder</div>\", \"<div class=\\\"tooltip\\\">Depressive episode</div>\", \"<div class=\\\"tooltip\\\">Major depressive disorder, recurrent</div>\", \"<div class=\\\"tooltip\\\">Persistent mood [affective] disorders</div>\", \"<div class=\\\"tooltip\\\">Other anxiety disorders</div>\", \"<div class=\\\"tooltip\\\">Reaction to severe stress, and adjustment disorders</div>\", \"<div class=\\\"tooltip\\\">Post-traumatic stress disorder (PTSD)</div>\", \"<div class=\\\"tooltip\\\">Adjustment disorders</div>\", \"<div class=\\\"tooltip\\\">Specific developmental disorders of speech and language</div>\", \"<div class=\\\"tooltip\\\">Attention-deficit hyperactivity disorders</div>\", \"<div class=\\\"tooltip\\\">Conduct disorders</div>\", \"<div class=\\\"tooltip\\\">Epilepsy and recurrent seizures</div>\", \"<div class=\\\"tooltip\\\">Migraine</div>\", \"<div class=\\\"tooltip\\\">Migraine, unspecified</div>\", \"<div class=\\\"tooltip\\\">Other headache syndromes</div>\", \"<div class=\\\"tooltip\\\">Sleep disorders</div>\", \"<div class=\\\"tooltip\\\">Insomnia</div>\", \"<div class=\\\"tooltip\\\">Sleep apnea</div>\", \"<div class=\\\"tooltip\\\">Mononeuropathies of upper limb</div>\", \"<div class=\\\"tooltip\\\">Carpal tunnel syndrome</div>\", \"<div class=\\\"tooltip\\\">Pain, not elsewhere classified</div>\", \"<div class=\\\"tooltip\\\">Chronic pain, not elsewhere classified</div>\", \"<div class=\\\"tooltip\\\">Conjunctivitis</div>\", \"<div class=\\\"tooltip\\\">Age-related cataract</div>\", \"<div class=\\\"tooltip\\\">Age-related nuclear cataract</div>\", \"<div class=\\\"tooltip\\\">Other retinal disorders</div>\", \"<div class=\\\"tooltip\\\">Glaucoma</div>\", \"<div class=\\\"tooltip\\\">Disorders of refraction and accommodation</div>\", \"<div class=\\\"tooltip\\\">Visual disturbances</div>\", \"<div class=\\\"tooltip\\\">Other disorders of external ear</div>\", \"<div class=\\\"tooltip\\\">Impacted cerumen</div>\", \"<div class=\\\"tooltip\\\">Suppurative and unspecified otitis media</div>\", \"<div class=\\\"tooltip\\\">Otitis media, unspecified</div>\", \"<div class=\\\"tooltip\\\">Conductive and sensorineural hearing loss</div>\", \"<div class=\\\"tooltip\\\">Chronic ischemic heart disease</div>\", \"<div class=\\\"tooltip\\\">Atherosclerotic heart disease of native coronary artery</div>\", \"<div class=\\\"tooltip\\\">Atrial fibrillation and flutter</div>\", \"<div class=\\\"tooltip\\\">Unspecified atrial fibrillation and atrial flutter</div>\", \"<div class=\\\"tooltip\\\">Heart failure</div>\", \"<div class=\\\"tooltip\\\">Acute sinusitis</div>\", \"<div class=\\\"tooltip\\\">Acute sinusitis, unspecified</div>\", \"<div class=\\\"tooltip\\\">Acute pharyngitis</div>\", \"<div class=\\\"tooltip\\\">Streptococcal tonsillitis</div>\", \"<div class=\\\"tooltip\\\">Acute upper respiratory infections of multiple and unspecified sites</div>\", \"<div class=\\\"tooltip\\\">Pneumonia, unspecified organism</div>\", \"<div class=\\\"tooltip\\\">Acute bronchitis</div>\", \"<div class=\\\"tooltip\\\">Acute bronchiolitis</div>\", \"<div class=\\\"tooltip\\\">Vasomotor and allergic rhinitis</div>\", \"<div class=\\\"tooltip\\\">Other allergic rhinitis</div>\", \"<div class=\\\"tooltip\\\">Chronic sinusitis</div>\", \"<div class=\\\"tooltip\\\">Other and unspecified disorders of nose and nasal sinuses</div>\", \"<div class=\\\"tooltip\\\">Other specified disorders of nose and nasal sinuses</div>\", \"<div class=\\\"tooltip\\\">Other chronic obstructive pulmonary disease</div>\", \"<div class=\\\"tooltip\\\">Asthma</div>\", \"<div class=\\\"tooltip\\\">Other and unspecified asthma</div>\", \"<div class=\\\"tooltip\\\">Gastro-esophageal reflux disease</div>\", \"<div class=\\\"tooltip\\\">Gastritis and duodenitis</div>\", \"<div class=\\\"tooltip\\\">Gastroduodenitis, unspecified</div>\", \"<div class=\\\"tooltip\\\">Inguinal hernia</div>\", \"<div class=\\\"tooltip\\\">Other and unspecified noninfective gastroenteritis and colitis</div>\", \"<div class=\\\"tooltip\\\">Diverticular disease of intestine</div>\", \"<div class=\\\"tooltip\\\">Diverticular disease of large intestine without perforation or abscess</div>\", \"<div class=\\\"tooltip\\\">Other functional intestinal disorders</div>\", \"<div class=\\\"tooltip\\\">Constipation</div>\", \"<div class=\\\"tooltip\\\">Other diseases of anus and rectum</div>\", \"<div class=\\\"tooltip\\\">Other diseases of intestine</div>\", \"<div class=\\\"tooltip\\\">Hemorrhoids and perianal venous thrombosis</div>\", \"<div class=\\\"tooltip\\\">Other hemorrhoids</div>\", \"<div class=\\\"tooltip\\\">Cholelithiasis</div>\", \"<div class=\\\"tooltip\\\">Cutaneous abscess, furuncle and carbuncle</div>\", \"<div class=\\\"tooltip\\\">Cellulitis and acute lymphangitis</div>\", \"<div class=\\\"tooltip\\\">Cellulitis and acute lymphangitis of other parts of limb</div>\", \"<div class=\\\"tooltip\\\">Other and unspecified dermatitis</div>\", \"<div class=\\\"tooltip\\\">Skin changes due to chronic exposure to nonionizing radiation</div>\", \"<div class=\\\"tooltip\\\">Acne</div>\", \"<div class=\\\"tooltip\\\">Osteoarthritis of hip</div>\", \"<div class=\\\"tooltip\\\">Osteoarthritis of knee</div>\", \"<div class=\\\"tooltip\\\">Unilateral primary osteoarthritis of knee</div>\", \"<div class=\\\"tooltip\\\">Other and unspecified osteoarthritis</div>\", \"<div class=\\\"tooltip\\\">Osteoarthritis, unspecified site</div>\", \"<div class=\\\"tooltip\\\">Other joint disorder, not elsewhere classified</div>\", \"<div class=\\\"tooltip\\\">Pain in joint</div>\", \"<div class=\\\"tooltip\\\">Spondylosis</div>\", \"<div class=\\\"tooltip\\\">Other spondylosis</div>\", \"<div class=\\\"tooltip\\\">Other spondylopathies</div>\", \"<div class=\\\"tooltip\\\">Spinal stenosis</div>\", \"<div class=\\\"tooltip\\\">Cervical disc disorders</div>\", \"<div class=\\\"tooltip\\\">Other cervical disc displacement</div>\", \"<div class=\\\"tooltip\\\">Other cervical disc degeneration</div>\", \"<div class=\\\"tooltip\\\">Thoracic, thoracolumbar, and lumbosacral intervertebral disc disorders</div>\", \"<div class=\\\"tooltip\\\">Other thoracic, thoracolumbar and lumbosacral intervertebral disc displacement</div>\", \"<div class=\\\"tooltip\\\">Other thoracic, thoracolumbar and lumbosacral intervertebral disc degeneration</div>\", \"<div class=\\\"tooltip\\\">Dorsalgia</div>\", \"<div class=\\\"tooltip\\\">Radiculopathy</div>\", \"<div class=\\\"tooltip\\\">Sciatica</div>\", \"<div class=\\\"tooltip\\\">Other disorders of muscle</div>\", \"<div class=\\\"tooltip\\\">Other specified disorders of muscle</div>\", \"<div class=\\\"tooltip\\\">Synovitis and tenosynovitis</div>\", \"<div class=\\\"tooltip\\\">Shoulder lesions</div>\", \"<div class=\\\"tooltip\\\">Bursitis of shoulder</div>\", \"<div class=\\\"tooltip\\\">Other enthesopathies</div>\", \"<div class=\\\"tooltip\\\">Other and unspecified soft tissue disorders, not elsewhere classified</div>\", \"<div class=\\\"tooltip\\\">Pain in limb, hand, foot, fingers and toes</div>\", \"<div class=\\\"tooltip\\\">Biomechanical lesions, not elsewhere classified</div>\", \"<div class=\\\"tooltip\\\">Segmental and somatic dysfunction</div>\", \"<div class=\\\"tooltip\\\">Obstructive and reflux uropathy</div>\", \"<div class=\\\"tooltip\\\">Chronic kidney disease (CKD)</div>\", \"<div class=\\\"tooltip\\\">Calculus of kidney and ureter</div>\", \"<div class=\\\"tooltip\\\">Cystitis</div>\", \"<div class=\\\"tooltip\\\">Other disorders of urinary system</div>\", \"<div class=\\\"tooltip\\\">Benign prostatic hyperplasia</div>\", \"<div class=\\\"tooltip\\\">Other inflammation of vagina and vulva</div>\", \"<div class=\\\"tooltip\\\">Other and unspecified ovarian cysts</div>\", \"<div class=\\\"tooltip\\\">Excessive, frequent and irregular menstruation</div>\", \"<div class=\\\"tooltip\\\">Supervision of high risk pregnancy</div>\", \"<div class=\\\"tooltip\\\">Other maternal diseases classifiable elsewhere but complicating pregnancy, childbirth and the puerperium</div>\", \"<div class=\\\"tooltip\\\">Endocrine, nutritional and metabolic diseases complicating pregnancy, childbirth and the puerperium</div>\", \"<div class=\\\"tooltip\\\">Abnormalities of heart beat</div>\", \"<div class=\\\"tooltip\\\">Abnormal blood-pressure reading, without diagnosis</div>\", \"<div class=\\\"tooltip\\\">Abnormalities of breathing</div>\", \"<div class=\\\"tooltip\\\">Dyspnea</div>\", \"<div class=\\\"tooltip\\\">Other abnormalities of breathing</div>\", \"<div class=\\\"tooltip\\\">Pain in throat and chest</div>\", \"<div class=\\\"tooltip\\\">Other chest pain</div>\", \"<div class=\\\"tooltip\\\">Other symptoms and signs involving the circulatory and respiratory system</div>\", \"<div class=\\\"tooltip\\\">Asphyxia and hypoxemia</div>\", \"<div class=\\\"tooltip\\\">Abdominal and pelvic pain</div>\", \"<div class=\\\"tooltip\\\">Pain localized to upper abdomen</div>\", \"<div class=\\\"tooltip\\\">Pain localized to other parts of lower abdomen</div>\", \"<div class=\\\"tooltip\\\">Other abdominal pain</div>\", \"<div class=\\\"tooltip\\\">Nausea and vomiting</div>\", \"<div class=\\\"tooltip\\\">Other symptoms and signs involving the digestive system and abdomen</div>\", \"<div class=\\\"tooltip\\\">Disturbances of skin sensation</div>\", \"<div class=\\\"tooltip\\\">Localized swelling, mass and lump of skin and subcutaneous tissue</div>\", \"<div class=\\\"tooltip\\\">Other symptoms and signs involving the nervous and musculoskeletal systems</div>\", \"<div class=\\\"tooltip\\\">Pain associated with micturition</div>\", \"<div class=\\\"tooltip\\\">Hematuria</div>\", \"<div class=\\\"tooltip\\\">Polyuria</div>\", \"<div class=\\\"tooltip\\\">Other and unspecified symptoms and signs involving the genitourinary system</div>\", \"<div class=\\\"tooltip\\\">Other symptoms and signs involving cognitive functions and awareness</div>\", \"<div class=\\\"tooltip\\\">Other symptoms and signs involving cognitive functions and awareness</div>\", \"<div class=\\\"tooltip\\\">Fever of other and unknown origin</div>\", \"<div class=\\\"tooltip\\\">Malaise and fatigue</div>\", \"<div class=\\\"tooltip\\\">Other malaise and fatigue</div>\", \"<div class=\\\"tooltip\\\">Edema, not elsewhere classified</div>\", \"<div class=\\\"tooltip\\\">Lack of expected normal physiological development in childhood and adults</div>\", \"<div class=\\\"tooltip\\\">Other general symptoms and signs</div>\", \"<div class=\\\"tooltip\\\">Elevated blood glucose level</div>\", \"<div class=\\\"tooltip\\\">Abnormal glucose</div>\", \"<div class=\\\"tooltip\\\">Abnormal results of function studies</div>\", \"<div class=\\\"tooltip\\\">Abnormal results of cardiovascular function studies</div>\", \"<div class=\\\"tooltip\\\">Superficial injury of head</div>\", \"<div class=\\\"tooltip\\\">Open wound of head</div>\", \"<div class=\\\"tooltip\\\">Other and unspecified injuries of head</div>\", \"<div class=\\\"tooltip\\\">Unspecified injury of face and head</div>\", \"<div class=\\\"tooltip\\\">Dislocation and sprain of joints and ligaments at neck level</div>\", \"<div class=\\\"tooltip\\\">Other and unspecified injuries of abdomen, lower back, pelvis and external genitals</div>\", \"<div class=\\\"tooltip\\\">Sprain of shoulder joint</div>\", \"<div class=\\\"tooltip\\\">Fracture of forearm</div>\", \"<div class=\\\"tooltip\\\">Open wound of wrist, hand and fingers</div>\", \"<div class=\\\"tooltip\\\">Fracture at wrist and hand level</div>\", \"<div class=\\\"tooltip\\\">Fracture of lower leg, including ankle</div>\", \"<div class=\\\"tooltip\\\">Dislocation and sprain of joints and ligaments of knee</div>\", \"<div class=\\\"tooltip\\\">Tear of meniscus, current injury</div>\", \"<div class=\\\"tooltip\\\">Dislocation and sprain of joints and ligaments at ankle, foot and toe level</div>\", \"<div class=\\\"tooltip\\\">Injury of unspecified muscle and tendon at ankle and foot level</div>\", \"<div class=\\\"tooltip\\\">Weeks of gestation</div>\", \"<div class=\\\"tooltip\\\">Single liveborn infant, born in hospital</div>\", \"<div class=\\\"tooltip\\\">Other postprocedural states</div>\", \"<div class=\\\"tooltip\\\">Viral warts</div>\", \"<div class=\\\"tooltip\\\">Human immunodeficiency virus [HIV] disease</div>\", \"<div class=\\\"tooltip\\\">Other viral agents as the cause of diseases classified elsewhere</div>\", \"<div class=\\\"tooltip\\\">Malignant neoplasm of prostate</div>\", \"<div class=\\\"tooltip\\\">Leiomyoma of uterus, unspecified</div>\", \"<div class=\\\"tooltip\\\">Neoplasm of uncertain behavior of skin</div>\", \"<div class=\\\"tooltip\\\">Iron deficiency anemia, unspecified</div>\", \"<div class=\\\"tooltip\\\">Acute posthemorrhagic anemia</div>\", \"<div class=\\\"tooltip\\\">Anemia, unspecified</div>\", \"<div class=\\\"tooltip\\\">Hypothyroidism, unspecified</div>\", \"<div class=\\\"tooltip\\\">Type 2 diabetes mellitus without complications</div>\", \"<div class=\\\"tooltip\\\">Testicular hypofunction</div>\", \"<div class=\\\"tooltip\\\">Vitamin D deficiency, unspecified</div>\", \"<div class=\\\"tooltip\\\">Obesity, unspecified</div>\", \"<div class=\\\"tooltip\\\">Pure hypercholesterolemia</div>\", \"<div class=\\\"tooltip\\\">Mixed hyperlipidemia</div>\", \"<div class=\\\"tooltip\\\">Hyperlipidemia, unspecified</div>\", \"<div class=\\\"tooltip\\\">Hypokalemia</div>\", \"<div class=\\\"tooltip\\\">Unspecified psychosis not due to a substance or known physiological condition</div>\", \"<div class=\\\"tooltip\\\">Bipolar disorder, unspecified</div>\", \"<div class=\\\"tooltip\\\">Major depressive disorder, single episode, unspecified</div>\", \"<div class=\\\"tooltip\\\">Dysthymic disorder</div>\", \"<div class=\\\"tooltip\\\">Unspecified mood [affective] disorder</div>\", \"<div class=\\\"tooltip\\\">Generalized anxiety disorder</div>\", \"<div class=\\\"tooltip\\\">Anxiety disorder, unspecified</div>\", \"<div class=\\\"tooltip\\\">Attention-deficit hyperactivity disorder, unspecified type</div>\", \"<div class=\\\"tooltip\\\">Parkinson's disease</div>\", \"<div class=\\\"tooltip\\\">Multiple sclerosis</div>\", \"<div class=\\\"tooltip\\\">Essential (primary) hypertension</div>\", \"<div class=\\\"tooltip\\\">Heart failure, unspecified</div>\", \"<div class=\\\"tooltip\\\">Other specified cerebrovascular diseases</div>\", \"<div class=\\\"tooltip\\\">Acute nasopharyngitis [common cold]</div>\", \"<div class=\\\"tooltip\\\">Acute pharyngitis, unspecified</div>\", \"<div class=\\\"tooltip\\\">Acute upper respiratory infection, unspecified</div>\", \"<div class=\\\"tooltip\\\">Pneumonia, unspecified organism</div>\", \"<div class=\\\"tooltip\\\">Acute bronchitis, unspecified</div>\", \"<div class=\\\"tooltip\\\">Allergic rhinitis due to pollen</div>\", \"<div class=\\\"tooltip\\\">Chronic sinusitis, unspecified</div>\", \"<div class=\\\"tooltip\\\">Bronchitis, not specified as acute or chronic</div>\", \"<div class=\\\"tooltip\\\">Chronic obstructive pulmonary disease, unspecified</div>\", \"<div class=\\\"tooltip\\\">Gastro-esophageal reflux disease without esophagitis</div>\", \"<div class=\\\"tooltip\\\">Noninfective gastroenteritis and colitis, unspecified</div>\", \"<div class=\\\"tooltip\\\">Polyp of colon</div>\", \"<div class=\\\"tooltip\\\">Unspecified contact dermatitis, unspecified cause</div>\", \"<div class=\\\"tooltip\\\">Actinic keratosis</div>\", \"<div class=\\\"tooltip\\\">Other acne</div>\", \"<div class=\\\"tooltip\\\">Osteoarthritis of knee, unspecified</div>\", \"<div class=\\\"tooltip\\\">Cervicalgia</div>\", \"<div class=\\\"tooltip\\\">Low back pain</div>\", \"<div class=\\\"tooltip\\\">Pain in thoracic spine</div>\", \"<div class=\\\"tooltip\\\">Dorsalgia, unspecified</div>\", \"<div class=\\\"tooltip\\\">Neuralgia and neuritis, unspecified</div>\", \"<div class=\\\"tooltip\\\">Fibromyalgia</div>\", \"<div class=\\\"tooltip\\\">Other specified soft tissue disorders</div>\", \"<div class=\\\"tooltip\\\">Disorder of cartilage, unspecified</div>\", \"<div class=\\\"tooltip\\\">Acute kidney failure, unspecified</div>\", \"<div class=\\\"tooltip\\\">Calculus of kidney</div>\", \"<div class=\\\"tooltip\\\">Urinary tract infection, site not specified</div>\", \"<div class=\\\"tooltip\\\">Subacute and chronic vulvitis</div>\", \"<div class=\\\"tooltip\\\">Other specified noninflammatory disorders of vagina</div>\", \"<div class=\\\"tooltip\\\">Bradycardia, unspecified</div>\", \"<div class=\\\"tooltip\\\">Palpitations</div>\", \"<div class=\\\"tooltip\\\">Cough</div>\", \"<div class=\\\"tooltip\\\">Pelvic and perineal pain</div>\", \"<div class=\\\"tooltip\\\">Rash and other nonspecific skin eruption</div>\", \"<div class=\\\"tooltip\\\">Difficulty in walking, not elsewhere classified</div>\", \"<div class=\\\"tooltip\\\">Painful micturition, unspecified</div>\", \"<div class=\\\"tooltip\\\">Unspecified urinary incontinence</div>\", \"<div class=\\\"tooltip\\\">Dizziness and giddiness</div>\", \"<div class=\\\"tooltip\\\">Fever, unspecified</div>\", \"<div class=\\\"tooltip\\\">Headache</div>\", \"<div class=\\\"tooltip\\\">Pain, unspecified</div>\", \"<div class=\\\"tooltip\\\">Syncope and collapse</div>\", \"<div class=\\\"tooltip\\\">Edema, unspecified</div>\", \"<div class=\\\"tooltip\\\">Abnormal findings on diagnostic imaging of lung</div>\", \"<div class=\\\"tooltip\\\">Hypertensive crisis, unspecified</div>\", \"<div class=\\\"tooltip\\\">Chest pain, unspecified</div>\", \"<div class=\\\"tooltip\\\">Nausea</div>\", \"<div class=\\\"tooltip\\\">Vomiting</div>\", \"<div class=\\\"tooltip\\\">Diarrhea, unspecified</div>\", \"<div class=\\\"tooltip\\\">Benign prostatic hyperplasia without lower urinary tract symptoms</div>\", \"<div class=\\\"tooltip\\\">Dehydration</div>\", \"<div class=\\\"tooltip\\\">Unspecified convulsions</div>\", \"<div class=\\\"tooltip\\\">Chronic iridocyclitis, unspecified eye</div>\", \"<div class=\\\"tooltip\\\">Frequency of micturition</div>\", \"<div class=\\\"tooltip\\\">Unspecified abdominal pain</div>\", \"<div class=\\\"tooltip\\\">Dysphagia</div>\", \"<div class=\\\"tooltip\\\">Acute necrotizing hemorrhagic encephalopathy, unspecified</div>\", \"<div class=\\\"tooltip\\\">Mild intermittent asthma</div>\", \"<div class=\\\"tooltip\\\">Influenza due to unidentified influenza virus with unspecified type of pneumonia</div>\", \"<div class=\\\"tooltip\\\">Arthropathy, unspecified</div>\", \"<div class=\\\"tooltip\\\">Allergic rhinitis, unspecified</div>\", \"<div class=\\\"tooltip\\\">Benign prostatic hyperplasia with lower urinary tract symptoms</div>\", \"<div class=\\\"tooltip\\\">Nausea with vomiting, unspecified</div>\", \"<div class=\\\"tooltip\\\">Unspecified disturbances of skin sensation</div>\"], \"targets\": null, \"hoffset\": 0, \"voffset\": 10}]});\n",
              "      });\n",
              "    });\n",
              "}else{\n",
              "    // require.js not available: dynamically load d3 & mpld3\n",
              "    mpld3_load_lib(\"https://d3js.org/d3.v5.js\", function(){\n",
              "         mpld3_load_lib(\"https://mpld3.github.io/js/mpld3.v0.5.9.js\", function(){\n",
              "                 \n",
              "    mpld3.register_plugin(\"htmltooltip\", HtmlTooltipPlugin);\n",
              "    HtmlTooltipPlugin.prototype = Object.create(mpld3.Plugin.prototype);\n",
              "    HtmlTooltipPlugin.prototype.constructor = HtmlTooltipPlugin;\n",
              "    HtmlTooltipPlugin.prototype.requiredProps = [\"id\"];\n",
              "    HtmlTooltipPlugin.prototype.defaultProps = {labels:null,\n",
              "                                                target:null,\n",
              "                                                hoffset:0,\n",
              "                                                voffset:10,\n",
              "                                                targets:null};\n",
              "    function HtmlTooltipPlugin(fig, props){\n",
              "        mpld3.Plugin.call(this, fig, props);\n",
              "    };\n",
              "\n",
              "    HtmlTooltipPlugin.prototype.draw = function(){\n",
              "        var obj = mpld3.get_element(this.props.id);\n",
              "        var labels = this.props.labels;\n",
              "        var targets = this.props.targets;\n",
              "        var tooltip = d3.select(\"body\").append(\"div\")\n",
              "            .attr(\"class\", \"mpld3-tooltip\")\n",
              "            .style(\"position\", \"absolute\")\n",
              "            .style(\"z-index\", \"10\")\n",
              "            .style(\"visibility\", \"hidden\");\n",
              "\n",
              "        obj.elements()\n",
              "            .on(\"mouseover\", function(d, i){\n",
              "                tooltip.html(labels[i])\n",
              "                    .style(\"visibility\", \"visible\");\n",
              "            })\n",
              "            .on(\"mousemove\", function(d, i){\n",
              "                tooltip\n",
              "                .style(\"top\", d3.event.pageY + this.props.voffset + \"px\")\n",
              "                .style(\"left\",d3.event.pageX + this.props.hoffset + \"px\");\n",
              "            }.bind(this))\n",
              "            .on(\"mousedown.callout\", function(d, i){\n",
              "                window.open(targets[i],\"_blank\");\n",
              "            })\n",
              "            .on(\"mouseout\", function(d, i){\n",
              "                tooltip.style(\"visibility\", \"hidden\");\n",
              "            });\n",
              "    };\n",
              "    \n",
              "                 mpld3.draw_figure(\"fig_el10731402927471198721317518236\", {\"width\": 1000.0, \"height\": 400.0, \"axes\": [{\"bbox\": [0.125, 0.10999999999999999, 0.775, 0.77], \"xlim\": [-12.062255334854125, 13.341747713088989], \"ylim\": [-15.541792821884155, 19.683223676681518], \"xdomain\": [-12.062255334854125, 13.341747713088989], \"ydomain\": [-15.541792821884155, 19.683223676681518], \"xscale\": \"linear\", \"yscale\": \"linear\", \"axes\": [{\"position\": \"bottom\", \"nticks\": 7, \"tickvalues\": null, \"tickformat_formatter\": \"\", \"tickformat\": null, \"scale\": \"linear\", \"fontsize\": 10.0, \"grid\": {\"gridOn\": false}, \"visible\": true}, {\"position\": \"left\", \"nticks\": 9, \"tickvalues\": null, \"tickformat_formatter\": \"\", \"tickformat\": null, \"scale\": \"linear\", \"fontsize\": 10.0, \"grid\": {\"gridOn\": false}, \"visible\": true}], \"axesbg\": \"#FFFFFF\", \"axesbgalpha\": null, \"zoomable\": true, \"id\": \"el1073140292720311120\", \"lines\": [], \"paths\": [], \"markers\": [], \"texts\": [], \"collections\": [{\"offsets\": \"data01\", \"xindex\": 0, \"yindex\": 1, \"paths\": [[[[0.0, -0.5], [0.13260155, -0.5], [0.25978993539242673, -0.44731684579412084], [0.3535533905932738, -0.3535533905932738], [0.44731684579412084, -0.25978993539242673], [0.5, -0.13260155], [0.5, 0.0], [0.5, 0.13260155], [0.44731684579412084, 0.25978993539242673], [0.3535533905932738, 0.3535533905932738], [0.25978993539242673, 0.44731684579412084], [0.13260155, 0.5], [0.0, 0.5], [-0.13260155, 0.5], [-0.25978993539242673, 0.44731684579412084], [-0.3535533905932738, 0.3535533905932738], [-0.44731684579412084, 0.25978993539242673], [-0.5, 0.13260155], [-0.5, 0.0], [-0.5, -0.13260155], [-0.44731684579412084, -0.25978993539242673], [-0.3535533905932738, -0.3535533905932738], [-0.25978993539242673, -0.44731684579412084], [-0.13260155, -0.5], [0.0, -0.5]], [\"M\", \"C\", \"C\", \"C\", \"C\", \"C\", \"C\", \"C\", \"C\", \"Z\"]]], \"pathtransforms\": [[8.333333333333334, 0.0, 0.0, 8.333333333333334, 0.0, 0.0]], \"alphas\": [null], \"edgecolors\": [\"#56F6C9\", \"#56F6C9\", \"#56F6C9\", \"#56F6C9\", \"#56F6C9\", \"#FF783E\", \"#FF783E\", \"#2F78F7\", \"#FF9A51\", \"#6528FE\", \"#FF5028\", \"#FF783E\", \"#FF5028\", \"#2F78F7\", \"#2F78F7\", \"#6528FE\", \"#2F78F7\", \"#FF5028\", \"#DED478\", \"#FF5028\", \"#06BBE9\", \"#7F00FF\", \"#A8F69C\", \"#FF5028\", \"#FF5028\", \"#DED478\", \"#72FEBB\", \"#06BBE9\", \"#FF0000\", \"#DED478\", \"#6528FE\", \"#8CFEAC\", \"#8CFEAC\", \"#2F78F7\", \"#FF0000\", \"#6528FE\", \"#72FEBB\", \"#2F78F7\", \"#6528FE\", \"#DED478\", \"#2F78F7\", \"#6528FE\", \"#2F78F7\", \"#8CFEAC\", \"#8CFEAC\", \"#FF9A51\", \"#20D4E0\", \"#20D4E0\", \"#2F78F7\", \"#2F78F7\", \"#8CFEAC\", \"#6528FE\", \"#DED478\", \"#7F00FF\", \"#7F00FF\", \"#FF5028\", \"#7F00FF\", \"#FF5028\", \"#A8F69C\", \"#20D4E0\", \"#06BBE9\", \"#A8F69C\", \"#FF5028\", \"#06BBE9\", \"#2F78F7\", \"#2F78F7\", \"#FF0000\", \"#8CFEAC\", \"#FF9A51\", \"#4B50FB\", \"#6528FE\", \"#06BBE9\", \"#A8F69C\", \"#06BBE9\", \"#A8F69C\", \"#FF5028\", \"#FF0000\", \"#159AF1\", \"#FF9A51\", \"#4B50FB\", \"#FF9A51\", \"#FF0000\", \"#FF0000\", \"#FF9A51\", \"#FF0000\", \"#3CE9D5\", \"#FF0000\", \"#FF0000\", \"#4B50FB\", \"#FF5028\", \"#20D4E0\", \"#159AF1\", \"#DED478\", \"#2F78F7\", \"#8CFEAC\", \"#DED478\", \"#20D4E0\", \"#FF5028\", \"#7F00FF\", \"#FF0000\", \"#159AF1\", \"#6528FE\", \"#DED478\", \"#DED478\", \"#FF783E\", \"#6528FE\", \"#2F78F7\", \"#2F78F7\", \"#8CFEAC\", \"#20D4E0\", \"#FF5028\", \"#20D4E0\", \"#06BBE9\", \"#06BBE9\", \"#A8F69C\", \"#06BBE9\", \"#A8F69C\", \"#DED478\", \"#72FEBB\", \"#06BBE9\", \"#A8F69C\", \"#06BBE9\", \"#A8F69C\", \"#FF5028\", \"#FF783E\", \"#A8F69C\", \"#06BBE9\", \"#7F00FF\", \"#A8F69C\", \"#FF5028\", \"#A8F69C\", \"#A8F69C\", \"#FF5028\", \"#FF783E\", \"#FF5028\", \"#FF5028\", \"#7F00FF\", \"#DED478\", \"#DED478\", \"#72FEBB\", \"#FF5028\", \"#7F00FF\", \"#2F78F7\", \"#FF5028\", \"#6528FE\", \"#2F78F7\", \"#2F78F7\", \"#06BBE9\", \"#20D4E0\", \"#159AF1\", \"#FF0000\", \"#FF0000\", \"#20D4E0\", \"#3CE9D5\", \"#6528FE\", \"#6528FE\", \"#2F78F7\", \"#72FEBB\", \"#8CFEAC\", \"#6528FE\", \"#72FEBB\", \"#FF0000\", \"#8CFEAC\", \"#2F78F7\", \"#8CFEAC\", \"#159AF1\", \"#159AF1\", \"#20D4E0\", \"#FF0000\", \"#DED478\", \"#6528FE\", \"#DED478\", \"#FF0000\", \"#6528FE\", \"#6528FE\", \"#6528FE\", \"#6528FE\", \"#8CFEAC\", \"#FF9A51\", \"#DED478\", \"#72FEBB\", \"#DED478\", \"#FF9A51\", \"#8CFEAC\", \"#06BBE9\", \"#A8F69C\", \"#DED478\", \"#7F00FF\", \"#20D4E0\", \"#20D4E0\", \"#20D4E0\", \"#159AF1\", \"#6528FE\", \"#2F78F7\", \"#FF783E\", \"#2F78F7\", \"#2F78F7\", \"#2F78F7\", \"#6528FE\", \"#6528FE\", \"#FF783E\", \"#2F78F7\", \"#8CFEAC\", \"#20D4E0\", \"#3CE9D5\", \"#DED478\", \"#20D4E0\", \"#56F6C9\", \"#4B50FB\", \"#C2E98B\", \"#8CFEAC\", \"#FF783E\", \"#8CFEAC\", \"#56F6C9\", \"#8CFEAC\", \"#A8F69C\", \"#A8F69C\", \"#7F00FF\", \"#7F00FF\", \"#72FEBB\", \"#A8F69C\", \"#A8F69C\", \"#A8F69C\", \"#FF783E\", \"#56F6C9\", \"#8CFEAC\", \"#72FEBB\", \"#FF783E\", \"#F8BB66\", \"#8CFEAC\", \"#72FEBB\", \"#3CE9D5\", \"#56F6C9\", \"#56F6C9\", \"#FF2814\", \"#7F00FF\", \"#7F00FF\", \"#F8BB66\", \"#4B50FB\", \"#4B50FB\", \"#159AF1\", \"#159AF1\", \"#3CE9D5\", \"#159AF1\", \"#F8BB66\", \"#7F00FF\", \"#72FEBB\", \"#159AF1\", \"#7F00FF\", \"#159AF1\", \"#7F00FF\", \"#4B50FB\", \"#A8F69C\", \"#7F00FF\", \"#7F00FF\", \"#FF783E\", \"#72FEBB\", \"#FF783E\", \"#7F00FF\", \"#FF783E\", \"#7F00FF\", \"#FF783E\", \"#72FEBB\", \"#159AF1\", \"#3CE9D5\", \"#3CE9D5\", \"#72FEBB\", \"#72FEBB\", \"#F8BB66\", \"#159AF1\", \"#F8BB66\", \"#7F00FF\", \"#159AF1\", \"#56F6C9\", \"#56F6C9\", \"#4B50FB\", \"#56F6C9\", \"#56F6C9\", \"#56F6C9\", \"#72FEBB\", \"#6528FE\", \"#A8F69C\", \"#72FEBB\", \"#8CFEAC\", \"#4B50FB\", \"#159AF1\", \"#A8F69C\", \"#159AF1\", \"#8CFEAC\", \"#F8BB66\", \"#8CFEAC\", \"#159AF1\", \"#8CFEAC\", \"#C2E98B\", \"#3CE9D5\", \"#56F6C9\", \"#7F00FF\", \"#159AF1\", \"#7F00FF\", \"#159AF1\", \"#7F00FF\"], \"facecolors\": [\"#56F6C9\", \"#56F6C9\", \"#56F6C9\", \"#56F6C9\", \"#56F6C9\", \"#FF783E\", \"#FF783E\", \"#2F78F7\", \"#FF9A51\", \"#6528FE\", \"#FF5028\", \"#FF783E\", \"#FF5028\", \"#2F78F7\", \"#2F78F7\", \"#6528FE\", \"#2F78F7\", \"#FF5028\", \"#DED478\", \"#FF5028\", \"#06BBE9\", \"#7F00FF\", \"#A8F69C\", \"#FF5028\", \"#FF5028\", \"#DED478\", \"#72FEBB\", \"#06BBE9\", \"#FF0000\", \"#DED478\", \"#6528FE\", \"#8CFEAC\", \"#8CFEAC\", \"#2F78F7\", \"#FF0000\", \"#6528FE\", \"#72FEBB\", \"#2F78F7\", \"#6528FE\", \"#DED478\", \"#2F78F7\", \"#6528FE\", \"#2F78F7\", \"#8CFEAC\", \"#8CFEAC\", \"#FF9A51\", \"#20D4E0\", \"#20D4E0\", \"#2F78F7\", \"#2F78F7\", \"#8CFEAC\", \"#6528FE\", \"#DED478\", \"#7F00FF\", \"#7F00FF\", \"#FF5028\", \"#7F00FF\", \"#FF5028\", \"#A8F69C\", \"#20D4E0\", \"#06BBE9\", \"#A8F69C\", \"#FF5028\", \"#06BBE9\", \"#2F78F7\", \"#2F78F7\", \"#FF0000\", \"#8CFEAC\", \"#FF9A51\", \"#4B50FB\", \"#6528FE\", \"#06BBE9\", \"#A8F69C\", \"#06BBE9\", \"#A8F69C\", \"#FF5028\", \"#FF0000\", \"#159AF1\", \"#FF9A51\", \"#4B50FB\", \"#FF9A51\", \"#FF0000\", \"#FF0000\", \"#FF9A51\", \"#FF0000\", \"#3CE9D5\", \"#FF0000\", \"#FF0000\", \"#4B50FB\", \"#FF5028\", \"#20D4E0\", \"#159AF1\", \"#DED478\", \"#2F78F7\", \"#8CFEAC\", \"#DED478\", \"#20D4E0\", \"#FF5028\", \"#7F00FF\", \"#FF0000\", \"#159AF1\", \"#6528FE\", \"#DED478\", \"#DED478\", \"#FF783E\", \"#6528FE\", \"#2F78F7\", \"#2F78F7\", \"#8CFEAC\", \"#20D4E0\", \"#FF5028\", \"#20D4E0\", \"#06BBE9\", \"#06BBE9\", \"#A8F69C\", \"#06BBE9\", \"#A8F69C\", \"#DED478\", \"#72FEBB\", \"#06BBE9\", \"#A8F69C\", \"#06BBE9\", \"#A8F69C\", \"#FF5028\", \"#FF783E\", \"#A8F69C\", \"#06BBE9\", \"#7F00FF\", \"#A8F69C\", \"#FF5028\", \"#A8F69C\", \"#A8F69C\", \"#FF5028\", \"#FF783E\", \"#FF5028\", \"#FF5028\", \"#7F00FF\", \"#DED478\", \"#DED478\", \"#72FEBB\", \"#FF5028\", \"#7F00FF\", \"#2F78F7\", \"#FF5028\", \"#6528FE\", \"#2F78F7\", \"#2F78F7\", \"#06BBE9\", \"#20D4E0\", \"#159AF1\", \"#FF0000\", \"#FF0000\", \"#20D4E0\", \"#3CE9D5\", \"#6528FE\", \"#6528FE\", \"#2F78F7\", \"#72FEBB\", \"#8CFEAC\", \"#6528FE\", \"#72FEBB\", \"#FF0000\", \"#8CFEAC\", \"#2F78F7\", \"#8CFEAC\", \"#159AF1\", \"#159AF1\", \"#20D4E0\", \"#FF0000\", \"#DED478\", \"#6528FE\", \"#DED478\", \"#FF0000\", \"#6528FE\", \"#6528FE\", \"#6528FE\", \"#6528FE\", \"#8CFEAC\", \"#FF9A51\", \"#DED478\", \"#72FEBB\", \"#DED478\", \"#FF9A51\", \"#8CFEAC\", \"#06BBE9\", \"#A8F69C\", \"#DED478\", \"#7F00FF\", \"#20D4E0\", \"#20D4E0\", \"#20D4E0\", \"#159AF1\", \"#6528FE\", \"#2F78F7\", \"#FF783E\", \"#2F78F7\", \"#2F78F7\", \"#2F78F7\", \"#6528FE\", \"#6528FE\", \"#FF783E\", \"#2F78F7\", \"#8CFEAC\", \"#20D4E0\", \"#3CE9D5\", \"#DED478\", \"#20D4E0\", \"#56F6C9\", \"#4B50FB\", \"#C2E98B\", \"#8CFEAC\", \"#FF783E\", \"#8CFEAC\", \"#56F6C9\", \"#8CFEAC\", \"#A8F69C\", \"#A8F69C\", \"#7F00FF\", \"#7F00FF\", \"#72FEBB\", \"#A8F69C\", \"#A8F69C\", \"#A8F69C\", \"#FF783E\", \"#56F6C9\", \"#8CFEAC\", \"#72FEBB\", \"#FF783E\", \"#F8BB66\", \"#8CFEAC\", \"#72FEBB\", \"#3CE9D5\", \"#56F6C9\", \"#56F6C9\", \"#FF2814\", \"#7F00FF\", \"#7F00FF\", \"#F8BB66\", \"#4B50FB\", \"#4B50FB\", \"#159AF1\", \"#159AF1\", \"#3CE9D5\", \"#159AF1\", \"#F8BB66\", \"#7F00FF\", \"#72FEBB\", \"#159AF1\", \"#7F00FF\", \"#159AF1\", \"#7F00FF\", \"#4B50FB\", \"#A8F69C\", \"#7F00FF\", \"#7F00FF\", \"#FF783E\", \"#72FEBB\", \"#FF783E\", \"#7F00FF\", \"#FF783E\", \"#7F00FF\", \"#FF783E\", \"#72FEBB\", \"#159AF1\", \"#3CE9D5\", \"#3CE9D5\", \"#72FEBB\", \"#72FEBB\", \"#F8BB66\", \"#159AF1\", \"#F8BB66\", \"#7F00FF\", \"#159AF1\", \"#56F6C9\", \"#56F6C9\", \"#4B50FB\", \"#56F6C9\", \"#56F6C9\", \"#56F6C9\", \"#72FEBB\", \"#6528FE\", \"#A8F69C\", \"#72FEBB\", \"#8CFEAC\", \"#4B50FB\", \"#159AF1\", \"#A8F69C\", \"#159AF1\", \"#8CFEAC\", \"#F8BB66\", \"#8CFEAC\", \"#159AF1\", \"#8CFEAC\", \"#C2E98B\", \"#3CE9D5\", \"#56F6C9\", \"#7F00FF\", \"#159AF1\", \"#7F00FF\", \"#159AF1\", \"#7F00FF\"], \"edgewidths\": [1.0], \"offsetcoordinates\": \"data\", \"pathcoordinates\": \"display\", \"zorder\": 1, \"id\": \"el1073140292717587232\"}], \"images\": [], \"sharex\": [], \"sharey\": []}], \"data\": {\"data01\": [[9.539427757263184, -0.9098504781723022], [1.4296404123306274, 4.04839563369751], [-7.448729515075684, 0.2585630416870117], [1.0047088861465454, 3.936161994934082], [-7.441610813140869, 0.2605072855949402], [9.322399139404297, -10.151239395141602], [11.553536415100098, -9.299409866333008], [-4.511444091796875, 8.922350883483887], [1.9701999425888062, 10.081477165222168], [-1.9247236251831055, 13.28825569152832], [-7.7037248611450195, 6.64761209487915], [0.4326331615447998, -9.580347061157227], [-5.7532453536987305, 11.291070938110352], [-3.300710439682007, 11.02879810333252], [-3.2208516597747803, 9.937251091003418], [-3.1324777603149414, 9.390782356262207], [-4.048081874847412, 9.18043041229248], [-7.816240310668945, 11.92227554321289], [-5.470926284790039, 10.145261764526367], [-10.324288368225098, 6.858791828155518], [-10.907527923583984, 7.151647090911865], [0.19983363151550293, -13.600728988647461], [0.16834209859371185, -13.767494201660156], [-7.77284574508667, 10.675610542297363], [-6.485590934753418, 12.047904968261719], [-1.3024697303771973, 13.904648780822754], [-1.8267900943756104, -9.435545921325684], [-1.1090772151947021, 4.726335525512695], [-1.2954274415969849, 9.628533363342285], [-4.903128147125244, 8.045848846435547], [-4.110954761505127, 5.139208793640137], [-1.2788878679275513, -3.4152255058288574], [-1.5735549926757812, -3.6187636852264404], [-6.054559230804443, 5.712430477142334], [-3.8149526119232178, 4.475073337554932], [-3.5993502140045166, 6.460814476013184], [-0.33938851952552795, -5.275012493133545], [-5.44543981552124, 4.9520344734191895], [1.7074832916259766, 16.572614669799805], [2.0504515171051025, 16.077524185180664], [-4.751098155975342, 2.6921188831329346], [1.4142502546310425, 16.902070999145508], [2.537022829055786, 15.909996032714844], [-1.0767673254013062, -1.9493473768234253], [-1.3088977336883545, -1.477378010749817], [4.68436336517334, 11.398551940917969], [-4.046244144439697, 2.0951955318450928], [-4.516564846038818, 2.7581541538238525], [-4.854990005493164, 6.758847236633301], [-3.0142033100128174, 14.15254020690918], [7.162781715393066, -6.6579084396362305], [-8.157894134521484, 13.843172073364258], [-4.039878845214844, 13.735898971557617], [0.8134869337081909, -3.5019102096557617], [-2.7065343856811523, -8.933813095092773], [-6.303003787994385, 15.926831245422363], [7.414123058319092, -10.266746520996094], [-8.708938598632812, 16.84164047241211], [8.460779190063477, -7.83009147644043], [2.064145565032959, 9.701887130737305], [-10.559662818908691, 9.7548828125], [1.5321117639541626, -11.9736328125], [-10.626547813415527, 9.906286239624023], [-10.691033363342285, 10.026213645935059], [-0.4948982000350952, 12.678210258483887], [-0.9477620124816895, 10.704085350036621], [-0.08252660930156708, 11.23058032989502], [6.852130889892578, -3.989905834197998], [3.26802659034729, 9.224946022033691], [7.627864360809326, -2.1354470252990723], [-0.4085980951786041, 11.557952880859375], [-9.878838539123535, 9.024657249450684], [0.21787409484386444, -8.216889381408691], [-9.188565254211426, 7.920810222625732], [-0.8756409883499146, -8.735786437988281], [-9.204122543334961, 7.907740592956543], [0.2220291942358017, 7.2513580322265625], [5.737204551696777, -0.26523542404174805], [2.9657981395721436, 10.44575023651123], [7.70480489730835, -1.5407917499542236], [3.972076892852783, 9.51074504852295], [0.392172634601593, 8.194687843322754], [1.483583688735962, 7.9439616203308105], [2.8800175189971924, 8.725641250610352], [2.4322900772094727, 11.34420108795166], [7.719907283782959, 1.5726135969161987], [0.9582561254501343, 11.180255889892578], [0.9732974767684937, 10.624855995178223], [5.998629093170166, -1.1504666805267334], [-7.810521125793457, 7.73574686050415], [2.326345682144165, 7.492253303527832], [6.325483322143555, 1.0712709426879883], [-4.249813079833984, 12.582717895507812], [-4.046182632446289, 11.365877151489258], [3.8233094215393066, -5.971848011016846], [-4.969377040863037, 10.068704605102539], [1.088678240776062, 10.137542724609375], [-5.793818950653076, 11.037309646606445], [2.715665340423584, -9.47458267211914], [1.0093501806259155, 12.507665634155273], [5.2909064292907715, -4.4633564949035645], [-4.093986988067627, 10.680624961853027], [-5.039554595947266, 10.530912399291992], [-5.166428565979004, 11.38550090789795], [2.497896671295166, -8.824477195739746], [-4.57974100112915, 10.753690719604492], [-2.205940008163452, 10.399737358093262], [-1.6514524221420288, 11.666569709777832], [3.6559300422668457, -6.977090835571289], [1.455883502960205, 8.644852638244629], [-6.97216796875, 10.320560455322266], [-0.592485785484314, 8.649121284484863], [-4.998096466064453, 16.24988555908203], [-4.351807117462158, 16.23572540283203], [5.630475044250488, -10.176267623901367], [-5.107851505279541, 15.715011596679688], [4.425625801086426, -10.0796480178833], [-4.276052474975586, 18.08208656311035], [5.966180324554443, -8.967150688171387], [-8.430904388427734, 15.583487510681152], [10.156270027160645, -8.597737312316895], [-8.46854305267334, 15.711058616638184], [9.933829307556152, -8.639006614685059], [-8.2334566116333, 15.258923530578613], [9.646313667297363, -10.186832427978516], [10.04631519317627, -10.014286041259766], [-8.135833740234375, 15.944435119628906], [10.369531631469727, -8.962671279907227], [10.2741117477417, -8.599976539611816], [-9.396949768066406, 16.48952293395996], [10.841897010803223, -7.910604000091553], [11.369486808776855, -9.25669002532959], [-7.091690540313721, 17.346981048583984], [11.095823287963867, -10.677618980407715], [-5.489853858947754, 17.561311721801758], [-5.598598003387451, 18.056459426879883], [6.833471298217773, -10.306811332702637], [-5.041808605194092, 16.498756408691406], [-6.82000207901001, 14.824868202209473], [5.783446311950684, -7.716926097869873], [-9.697346687316895, 15.06439208984375], [11.39758014678955, -11.360735893249512], [-4.260282039642334, 8.841784477233887], [-7.867284774780273, 8.815208435058594], [-5.187527656555176, 8.792231559753418], [-3.4114742279052734, 8.693656921386719], [-2.56022047996521, 7.213576316833496], [-6.959657192230225, 9.0431489944458], [-2.169579267501831, 8.693103790283203], [2.451035499572754, -1.998598575592041], [-1.892943263053894, 8.689817428588867], [-8.907283782958984, 3.424353837966919], [-8.890376091003418, 3.4304354190826416], [1.9653643369674683, -1.9281468391418457], [-3.427492141723633, 12.080471992492676], [-4.8144941329956055, 12.111226081848145], [1.4189754724502563, 7.032346248626709], [-0.03182406723499298, -6.906288146972656], [-2.463867425918579, -7.794605731964111], [-2.955472230911255, 12.559252738952637], [1.2661895751953125, -6.147275447845459], [1.3989068269729614, 9.42701244354248], [-1.49397873878479, -7.311185359954834], [1.201096534729004, 13.23736572265625], [3.9521543979644775, -5.570252418518066], [4.120223522186279, -3.873466730117798], [4.462870121002197, -4.770806312561035], [1.4567058086395264, 11.989989280700684], [2.549006462097168, 12.76036262512207], [-6.585482120513916, 14.038115501403809], [-2.095810890197754, 11.756701469421387], [-6.761112689971924, 16.4609317779541], [-2.114323854446411, 7.670281410217285], [-3.540107250213623, 8.250826835632324], [-6.072485446929932, 8.479974746704102], [-6.052814960479736, 8.798954963684082], [-4.926220893859863, 7.11815071105957], [-0.5375756621360779, -4.166204452514648], [2.856787919998169, 9.990468978881836], [-5.140899658203125, 13.302912712097168], [4.383913516998291, -7.088833332061768], [-5.023310661315918, 14.380166053771973], [4.68514347076416, 11.396998405456543], [5.768449306488037, -5.385398864746094], [-6.97164249420166, 11.738039016723633], [3.068467617034912, -11.452981948852539], [-4.587777137756348, 11.421304702758789], [1.0228855609893799, -7.457082271575928], [0.11329563707113266, 10.138301849365234], [-0.4340363144874573, 9.472823143005371], [-0.22797712683677673, 10.085441589355469], [4.867550849914551, -3.1339285373687744], [-8.813316345214844, 13.880221366882324], [-8.833236694335938, 13.853279113769531], [5.939222812652588, -11.228970527648926], [-1.6896153688430786, 16.2657470703125], [-2.098118782043457, 11.11034870147705], [-1.7808881998062134, 16.0341854095459], [-2.8382256031036377, 15.975425720214844], [-4.064484596252441, 17.436824798583984], [6.516575813293457, -10.03911018371582], [-2.6099817752838135, 15.905184745788574], [6.914867877960205, -9.443099975585938], [-8.918109893798828, 3.415339946746826], [8.871160507202148, -3.3915679454803467], [-6.234882831573486, 13.472886085510254], [-0.5119050741195679, 14.667166709899902], [-4.126210689544678, -4.680416107177734], [7.260356903076172, -2.3799312114715576], [-4.911505222320557, -7.085482120513916], [2.352865219116211, -2.3837649822235107], [0.049341294914484024, -11.091794967651367], [2.023765802383423, -4.563971042633057], [0.5476149916648865, -4.805163383483887], [2.0429627895355225, -5.328559398651123], [4.129983901977539, -12.20374584197998], [0.48528146743774414, -13.940655708312988], [-0.9491757750511169, -11.677125930786133], [3.3479130268096924, -10.857308387756348], [-2.049464464187622, -9.971368789672852], [1.6356585025787354, -10.589940071105957], [2.7091012001037598, -10.57474136352539], [2.912121295928955, -12.61688232421875], [2.246750831604004, -6.5845136642456055], [-1.9137555360794067, -2.8210625648498535], [-2.1722047328948975, -2.9986941814422607], [0.018676215782761574, -2.68182110786438], [-2.6278891563415527, -3.476774215698242], [-2.695072650909424, -0.8018873333930969], [-0.10123568028211594, -2.016214370727539], [0.4879509210586548, -3.043531656265259], [-2.620727300643921, -0.09812890738248825], [-4.710566997528076, -6.976358890533447], [-4.103041172027588, -2.6060283184051514], [-0.32766106724739075, 3.948016405105591], [-0.2856448292732239, -8.154428482055664], [1.2557228803634644, -8.009831428527832], [4.098822116851807, 6.9235920906066895], [7.665439128875732, -1.206022024154663], [6.773421764373779, -1.0678850412368774], [-0.9938860535621643, -6.806797504425049], [5.115080833435059, 0.8238494396209717], [7.83939790725708, 1.6763544082641602], [6.015571594238281, -0.6377254128456116], [4.312440872192383, 2.1882052421569824], [-1.6682484149932861, -6.359468936920166], [-3.1137466430664062, -11.850513458251953], [5.731096267700195, -3.1535677909851074], [2.4063894748687744, -9.392385482788086], [7.0570173263549805, -3.5603108406066895], [0.0663999617099762, -11.055808067321777], [2.844691276550293, -0.9040117859840393], [5.377221584320068, -10.138239860534668], [10.30426025390625, -11.727442741394043], [12.187020301818848, -8.98980712890625], [10.112214088439941, -11.242789268493652], [8.75830078125, -7.423647403717041], [9.562600135803223, -10.763696670532227], [8.914138793945312, -11.09333610534668], [4.728006839752197, -7.842600345611572], [3.287506580352783, -9.690507888793945], [1.701851487159729, -7.97759485244751], [3.1513028144836426, -8.155044555664062], [4.4539642333984375, -2.295353651046753], [3.052210807800293, -2.6546127796173096], [2.724856376647949, -2.5014946460723877], [1.1303417682647705, -6.984248161315918], [2.706294536590576, -6.809168815612793], [4.328073024749756, 3.0389983654022217], [3.1915998458862305, -1.8065886497497559], [3.9376819133758545, 5.3130364418029785], [7.124083042144775, -11.749324798583984], [4.162219047546387, -2.8560407161712646], [0.13304957747459412, -0.1881386935710907], [0.9590288996696472, 1.8485565185546875], [6.760617256164551, -2.308291435241699], [-0.8051525354385376, 1.7844228744506836], [1.9258248805999756, 0.8209834098815918], [0.33852294087409973, 2.1467549800872803], [2.392371654510498, -7.450047492980957], [-3.9589295387268066, 10.322500228881836], [2.7955143451690674, -13.150973320007324], [0.4127483367919922, -6.132099151611328], [3.415727376937866, -4.087820529937744], [6.057990550994873, -2.986640214920044], [5.543583869934082, -3.926736831665039], [1.3711562156677246, -9.950621604919434], [3.0679471492767334, -5.763926029205322], [-2.008314371109009, -4.646605491638184], [-3.5457682609558105, 3.057417154312134], [3.189115047454834, -5.123953342437744], [4.791719913482666, -4.145325183868408], [4.898261070251465, -5.741130828857422], [0.16376708447933197, 2.9915759563446045], [7.444872856140137, 1.4102985858917236], [2.6113884449005127, 3.4119510650634766], [4.154206275939941, -9.64621353149414], [6.509653568267822, 0.034354619681835175], [1.4129643440246582, -9.219722747802734], [4.202122211456299, -3.991121768951416], [8.145673751831055, -8.42907428741455]]}, \"id\": \"el1073140292747119872\", \"plugins\": [{\"type\": \"reset\"}, {\"type\": \"zoom\", \"button\": true, \"enabled\": false}, {\"type\": \"boxzoom\", \"button\": true, \"enabled\": false}, {\"type\": \"htmltooltip\", \"id\": \"el1073140292717587232\", \"labels\": [\"<div class=\\\"tooltip\\\">Sprain of joints and ligaments of other parts of neck</div>\", \"<div class=\\\"tooltip\\\">Sprain of ligaments of lumbar spine</div>\", \"<div class=\\\"tooltip\\\">Other sepsis</div>\", \"<div class=\\\"tooltip\\\">Viral infection of unspecified site</div>\", \"<div class=\\\"tooltip\\\">Dermatophytosis</div>\", \"<div class=\\\"tooltip\\\">Malignant neoplasm of breast</div>\", \"<div class=\\\"tooltip\\\">Malignant neoplasm of breast of unspecified site</div>\", \"<div class=\\\"tooltip\\\">Benign neoplasm of colon, rectum, anus and anal canal</div>\", \"<div class=\\\"tooltip\\\">Leiomyoma of uterus</div>\", \"<div class=\\\"tooltip\\\">Iron deficiency anemia</div>\", \"<div class=\\\"tooltip\\\">Other anemias</div>\", \"<div class=\\\"tooltip\\\">Other disorders of white blood cells</div>\", \"<div class=\\\"tooltip\\\">Other hypothyroidism</div>\", \"<div class=\\\"tooltip\\\">Other nontoxic goiter</div>\", \"<div class=\\\"tooltip\\\">Type 1 diabetes mellitus</div>\", \"<div class=\\\"tooltip\\\">Type 2 diabetes mellitus</div>\", \"<div class=\\\"tooltip\\\">Type 2 diabetes mellitus with neurological complications</div>\", \"<div class=\\\"tooltip\\\">Type 2 diabetes mellitus with other specified complications</div>\", \"<div class=\\\"tooltip\\\">Testicular dysfunction</div>\", \"<div class=\\\"tooltip\\\">Vitamin D deficiency</div>\", \"<div class=\\\"tooltip\\\">Overweight and obesity</div>\", \"<div class=\\\"tooltip\\\">Obesity due to excess calories</div>\", \"<div class=\\\"tooltip\\\">Disorders of lipoprotein metabolism and other lipidemias</div>\", \"<div class=\\\"tooltip\\\">Volume depletion</div>\", \"<div class=\\\"tooltip\\\">Other disorders of fluid, electrolyte and acid-base balance</div>\", \"<div class=\\\"tooltip\\\">Alcohol related disorders</div>\", \"<div class=\\\"tooltip\\\">Alcohol abuse</div>\", \"<div class=\\\"tooltip\\\">Alcohol dependence</div>\", \"<div class=\\\"tooltip\\\">Opioid related disorders</div>\", \"<div class=\\\"tooltip\\\">Cannabis related disorders</div>\", \"<div class=\\\"tooltip\\\">Nicotine dependence</div>\", \"<div class=\\\"tooltip\\\">Nicotine dependence</div>\", \"<div class=\\\"tooltip\\\">Bipolar disorder</div>\", \"<div class=\\\"tooltip\\\">Depressive episode</div>\", \"<div class=\\\"tooltip\\\">Major depressive disorder, recurrent</div>\", \"<div class=\\\"tooltip\\\">Persistent mood [affective] disorders</div>\", \"<div class=\\\"tooltip\\\">Other anxiety disorders</div>\", \"<div class=\\\"tooltip\\\">Reaction to severe stress, and adjustment disorders</div>\", \"<div class=\\\"tooltip\\\">Post-traumatic stress disorder (PTSD)</div>\", \"<div class=\\\"tooltip\\\">Adjustment disorders</div>\", \"<div class=\\\"tooltip\\\">Specific developmental disorders of speech and language</div>\", \"<div class=\\\"tooltip\\\">Attention-deficit hyperactivity disorders</div>\", \"<div class=\\\"tooltip\\\">Conduct disorders</div>\", \"<div class=\\\"tooltip\\\">Epilepsy and recurrent seizures</div>\", \"<div class=\\\"tooltip\\\">Migraine</div>\", \"<div class=\\\"tooltip\\\">Migraine, unspecified</div>\", \"<div class=\\\"tooltip\\\">Other headache syndromes</div>\", \"<div class=\\\"tooltip\\\">Sleep disorders</div>\", \"<div class=\\\"tooltip\\\">Insomnia</div>\", \"<div class=\\\"tooltip\\\">Sleep apnea</div>\", \"<div class=\\\"tooltip\\\">Mononeuropathies of upper limb</div>\", \"<div class=\\\"tooltip\\\">Carpal tunnel syndrome</div>\", \"<div class=\\\"tooltip\\\">Pain, not elsewhere classified</div>\", \"<div class=\\\"tooltip\\\">Chronic pain, not elsewhere classified</div>\", \"<div class=\\\"tooltip\\\">Conjunctivitis</div>\", \"<div class=\\\"tooltip\\\">Age-related cataract</div>\", \"<div class=\\\"tooltip\\\">Age-related nuclear cataract</div>\", \"<div class=\\\"tooltip\\\">Other retinal disorders</div>\", \"<div class=\\\"tooltip\\\">Glaucoma</div>\", \"<div class=\\\"tooltip\\\">Disorders of refraction and accommodation</div>\", \"<div class=\\\"tooltip\\\">Visual disturbances</div>\", \"<div class=\\\"tooltip\\\">Other disorders of external ear</div>\", \"<div class=\\\"tooltip\\\">Impacted cerumen</div>\", \"<div class=\\\"tooltip\\\">Suppurative and unspecified otitis media</div>\", \"<div class=\\\"tooltip\\\">Otitis media, unspecified</div>\", \"<div class=\\\"tooltip\\\">Conductive and sensorineural hearing loss</div>\", \"<div class=\\\"tooltip\\\">Chronic ischemic heart disease</div>\", \"<div class=\\\"tooltip\\\">Atherosclerotic heart disease of native coronary artery</div>\", \"<div class=\\\"tooltip\\\">Atrial fibrillation and flutter</div>\", \"<div class=\\\"tooltip\\\">Unspecified atrial fibrillation and atrial flutter</div>\", \"<div class=\\\"tooltip\\\">Heart failure</div>\", \"<div class=\\\"tooltip\\\">Acute sinusitis</div>\", \"<div class=\\\"tooltip\\\">Acute sinusitis, unspecified</div>\", \"<div class=\\\"tooltip\\\">Acute pharyngitis</div>\", \"<div class=\\\"tooltip\\\">Streptococcal tonsillitis</div>\", \"<div class=\\\"tooltip\\\">Acute upper respiratory infections of multiple and unspecified sites</div>\", \"<div class=\\\"tooltip\\\">Pneumonia, unspecified organism</div>\", \"<div class=\\\"tooltip\\\">Acute bronchitis</div>\", \"<div class=\\\"tooltip\\\">Acute bronchiolitis</div>\", \"<div class=\\\"tooltip\\\">Vasomotor and allergic rhinitis</div>\", \"<div class=\\\"tooltip\\\">Other allergic rhinitis</div>\", \"<div class=\\\"tooltip\\\">Chronic sinusitis</div>\", \"<div class=\\\"tooltip\\\">Other and unspecified disorders of nose and nasal sinuses</div>\", \"<div class=\\\"tooltip\\\">Other specified disorders of nose and nasal sinuses</div>\", \"<div class=\\\"tooltip\\\">Other chronic obstructive pulmonary disease</div>\", \"<div class=\\\"tooltip\\\">Asthma</div>\", \"<div class=\\\"tooltip\\\">Other and unspecified asthma</div>\", \"<div class=\\\"tooltip\\\">Gastro-esophageal reflux disease</div>\", \"<div class=\\\"tooltip\\\">Gastritis and duodenitis</div>\", \"<div class=\\\"tooltip\\\">Gastroduodenitis, unspecified</div>\", \"<div class=\\\"tooltip\\\">Inguinal hernia</div>\", \"<div class=\\\"tooltip\\\">Other and unspecified noninfective gastroenteritis and colitis</div>\", \"<div class=\\\"tooltip\\\">Diverticular disease of intestine</div>\", \"<div class=\\\"tooltip\\\">Diverticular disease of large intestine without perforation or abscess</div>\", \"<div class=\\\"tooltip\\\">Other functional intestinal disorders</div>\", \"<div class=\\\"tooltip\\\">Constipation</div>\", \"<div class=\\\"tooltip\\\">Other diseases of anus and rectum</div>\", \"<div class=\\\"tooltip\\\">Other diseases of intestine</div>\", \"<div class=\\\"tooltip\\\">Hemorrhoids and perianal venous thrombosis</div>\", \"<div class=\\\"tooltip\\\">Other hemorrhoids</div>\", \"<div class=\\\"tooltip\\\">Cholelithiasis</div>\", \"<div class=\\\"tooltip\\\">Cutaneous abscess, furuncle and carbuncle</div>\", \"<div class=\\\"tooltip\\\">Cellulitis and acute lymphangitis</div>\", \"<div class=\\\"tooltip\\\">Cellulitis and acute lymphangitis of other parts of limb</div>\", \"<div class=\\\"tooltip\\\">Other and unspecified dermatitis</div>\", \"<div class=\\\"tooltip\\\">Skin changes due to chronic exposure to nonionizing radiation</div>\", \"<div class=\\\"tooltip\\\">Acne</div>\", \"<div class=\\\"tooltip\\\">Osteoarthritis of hip</div>\", \"<div class=\\\"tooltip\\\">Osteoarthritis of knee</div>\", \"<div class=\\\"tooltip\\\">Unilateral primary osteoarthritis of knee</div>\", \"<div class=\\\"tooltip\\\">Other and unspecified osteoarthritis</div>\", \"<div class=\\\"tooltip\\\">Osteoarthritis, unspecified site</div>\", \"<div class=\\\"tooltip\\\">Other joint disorder, not elsewhere classified</div>\", \"<div class=\\\"tooltip\\\">Pain in joint</div>\", \"<div class=\\\"tooltip\\\">Spondylosis</div>\", \"<div class=\\\"tooltip\\\">Other spondylosis</div>\", \"<div class=\\\"tooltip\\\">Other spondylopathies</div>\", \"<div class=\\\"tooltip\\\">Spinal stenosis</div>\", \"<div class=\\\"tooltip\\\">Cervical disc disorders</div>\", \"<div class=\\\"tooltip\\\">Other cervical disc displacement</div>\", \"<div class=\\\"tooltip\\\">Other cervical disc degeneration</div>\", \"<div class=\\\"tooltip\\\">Thoracic, thoracolumbar, and lumbosacral intervertebral disc disorders</div>\", \"<div class=\\\"tooltip\\\">Other thoracic, thoracolumbar and lumbosacral intervertebral disc displacement</div>\", \"<div class=\\\"tooltip\\\">Other thoracic, thoracolumbar and lumbosacral intervertebral disc degeneration</div>\", \"<div class=\\\"tooltip\\\">Dorsalgia</div>\", \"<div class=\\\"tooltip\\\">Radiculopathy</div>\", \"<div class=\\\"tooltip\\\">Sciatica</div>\", \"<div class=\\\"tooltip\\\">Other disorders of muscle</div>\", \"<div class=\\\"tooltip\\\">Other specified disorders of muscle</div>\", \"<div class=\\\"tooltip\\\">Synovitis and tenosynovitis</div>\", \"<div class=\\\"tooltip\\\">Shoulder lesions</div>\", \"<div class=\\\"tooltip\\\">Bursitis of shoulder</div>\", \"<div class=\\\"tooltip\\\">Other enthesopathies</div>\", \"<div class=\\\"tooltip\\\">Other and unspecified soft tissue disorders, not elsewhere classified</div>\", \"<div class=\\\"tooltip\\\">Pain in limb, hand, foot, fingers and toes</div>\", \"<div class=\\\"tooltip\\\">Biomechanical lesions, not elsewhere classified</div>\", \"<div class=\\\"tooltip\\\">Segmental and somatic dysfunction</div>\", \"<div class=\\\"tooltip\\\">Obstructive and reflux uropathy</div>\", \"<div class=\\\"tooltip\\\">Chronic kidney disease (CKD)</div>\", \"<div class=\\\"tooltip\\\">Calculus of kidney and ureter</div>\", \"<div class=\\\"tooltip\\\">Cystitis</div>\", \"<div class=\\\"tooltip\\\">Other disorders of urinary system</div>\", \"<div class=\\\"tooltip\\\">Benign prostatic hyperplasia</div>\", \"<div class=\\\"tooltip\\\">Other inflammation of vagina and vulva</div>\", \"<div class=\\\"tooltip\\\">Other and unspecified ovarian cysts</div>\", \"<div class=\\\"tooltip\\\">Excessive, frequent and irregular menstruation</div>\", \"<div class=\\\"tooltip\\\">Supervision of high risk pregnancy</div>\", \"<div class=\\\"tooltip\\\">Other maternal diseases classifiable elsewhere but complicating pregnancy, childbirth and the puerperium</div>\", \"<div class=\\\"tooltip\\\">Endocrine, nutritional and metabolic diseases complicating pregnancy, childbirth and the puerperium</div>\", \"<div class=\\\"tooltip\\\">Abnormalities of heart beat</div>\", \"<div class=\\\"tooltip\\\">Abnormal blood-pressure reading, without diagnosis</div>\", \"<div class=\\\"tooltip\\\">Abnormalities of breathing</div>\", \"<div class=\\\"tooltip\\\">Dyspnea</div>\", \"<div class=\\\"tooltip\\\">Other abnormalities of breathing</div>\", \"<div class=\\\"tooltip\\\">Pain in throat and chest</div>\", \"<div class=\\\"tooltip\\\">Other chest pain</div>\", \"<div class=\\\"tooltip\\\">Other symptoms and signs involving the circulatory and respiratory system</div>\", \"<div class=\\\"tooltip\\\">Asphyxia and hypoxemia</div>\", \"<div class=\\\"tooltip\\\">Abdominal and pelvic pain</div>\", \"<div class=\\\"tooltip\\\">Pain localized to upper abdomen</div>\", \"<div class=\\\"tooltip\\\">Pain localized to other parts of lower abdomen</div>\", \"<div class=\\\"tooltip\\\">Other abdominal pain</div>\", \"<div class=\\\"tooltip\\\">Nausea and vomiting</div>\", \"<div class=\\\"tooltip\\\">Other symptoms and signs involving the digestive system and abdomen</div>\", \"<div class=\\\"tooltip\\\">Disturbances of skin sensation</div>\", \"<div class=\\\"tooltip\\\">Localized swelling, mass and lump of skin and subcutaneous tissue</div>\", \"<div class=\\\"tooltip\\\">Other symptoms and signs involving the nervous and musculoskeletal systems</div>\", \"<div class=\\\"tooltip\\\">Pain associated with micturition</div>\", \"<div class=\\\"tooltip\\\">Hematuria</div>\", \"<div class=\\\"tooltip\\\">Polyuria</div>\", \"<div class=\\\"tooltip\\\">Other and unspecified symptoms and signs involving the genitourinary system</div>\", \"<div class=\\\"tooltip\\\">Other symptoms and signs involving cognitive functions and awareness</div>\", \"<div class=\\\"tooltip\\\">Other symptoms and signs involving cognitive functions and awareness</div>\", \"<div class=\\\"tooltip\\\">Fever of other and unknown origin</div>\", \"<div class=\\\"tooltip\\\">Malaise and fatigue</div>\", \"<div class=\\\"tooltip\\\">Other malaise and fatigue</div>\", \"<div class=\\\"tooltip\\\">Edema, not elsewhere classified</div>\", \"<div class=\\\"tooltip\\\">Lack of expected normal physiological development in childhood and adults</div>\", \"<div class=\\\"tooltip\\\">Other general symptoms and signs</div>\", \"<div class=\\\"tooltip\\\">Elevated blood glucose level</div>\", \"<div class=\\\"tooltip\\\">Abnormal glucose</div>\", \"<div class=\\\"tooltip\\\">Abnormal results of function studies</div>\", \"<div class=\\\"tooltip\\\">Abnormal results of cardiovascular function studies</div>\", \"<div class=\\\"tooltip\\\">Superficial injury of head</div>\", \"<div class=\\\"tooltip\\\">Open wound of head</div>\", \"<div class=\\\"tooltip\\\">Other and unspecified injuries of head</div>\", \"<div class=\\\"tooltip\\\">Unspecified injury of face and head</div>\", \"<div class=\\\"tooltip\\\">Dislocation and sprain of joints and ligaments at neck level</div>\", \"<div class=\\\"tooltip\\\">Other and unspecified injuries of abdomen, lower back, pelvis and external genitals</div>\", \"<div class=\\\"tooltip\\\">Sprain of shoulder joint</div>\", \"<div class=\\\"tooltip\\\">Fracture of forearm</div>\", \"<div class=\\\"tooltip\\\">Open wound of wrist, hand and fingers</div>\", \"<div class=\\\"tooltip\\\">Fracture at wrist and hand level</div>\", \"<div class=\\\"tooltip\\\">Fracture of lower leg, including ankle</div>\", \"<div class=\\\"tooltip\\\">Dislocation and sprain of joints and ligaments of knee</div>\", \"<div class=\\\"tooltip\\\">Tear of meniscus, current injury</div>\", \"<div class=\\\"tooltip\\\">Dislocation and sprain of joints and ligaments at ankle, foot and toe level</div>\", \"<div class=\\\"tooltip\\\">Injury of unspecified muscle and tendon at ankle and foot level</div>\", \"<div class=\\\"tooltip\\\">Weeks of gestation</div>\", \"<div class=\\\"tooltip\\\">Single liveborn infant, born in hospital</div>\", \"<div class=\\\"tooltip\\\">Other postprocedural states</div>\", \"<div class=\\\"tooltip\\\">Viral warts</div>\", \"<div class=\\\"tooltip\\\">Human immunodeficiency virus [HIV] disease</div>\", \"<div class=\\\"tooltip\\\">Other viral agents as the cause of diseases classified elsewhere</div>\", \"<div class=\\\"tooltip\\\">Malignant neoplasm of prostate</div>\", \"<div class=\\\"tooltip\\\">Leiomyoma of uterus, unspecified</div>\", \"<div class=\\\"tooltip\\\">Neoplasm of uncertain behavior of skin</div>\", \"<div class=\\\"tooltip\\\">Iron deficiency anemia, unspecified</div>\", \"<div class=\\\"tooltip\\\">Acute posthemorrhagic anemia</div>\", \"<div class=\\\"tooltip\\\">Anemia, unspecified</div>\", \"<div class=\\\"tooltip\\\">Hypothyroidism, unspecified</div>\", \"<div class=\\\"tooltip\\\">Type 2 diabetes mellitus without complications</div>\", \"<div class=\\\"tooltip\\\">Testicular hypofunction</div>\", \"<div class=\\\"tooltip\\\">Vitamin D deficiency, unspecified</div>\", \"<div class=\\\"tooltip\\\">Obesity, unspecified</div>\", \"<div class=\\\"tooltip\\\">Pure hypercholesterolemia</div>\", \"<div class=\\\"tooltip\\\">Mixed hyperlipidemia</div>\", \"<div class=\\\"tooltip\\\">Hyperlipidemia, unspecified</div>\", \"<div class=\\\"tooltip\\\">Hypokalemia</div>\", \"<div class=\\\"tooltip\\\">Unspecified psychosis not due to a substance or known physiological condition</div>\", \"<div class=\\\"tooltip\\\">Bipolar disorder, unspecified</div>\", \"<div class=\\\"tooltip\\\">Major depressive disorder, single episode, unspecified</div>\", \"<div class=\\\"tooltip\\\">Dysthymic disorder</div>\", \"<div class=\\\"tooltip\\\">Unspecified mood [affective] disorder</div>\", \"<div class=\\\"tooltip\\\">Generalized anxiety disorder</div>\", \"<div class=\\\"tooltip\\\">Anxiety disorder, unspecified</div>\", \"<div class=\\\"tooltip\\\">Attention-deficit hyperactivity disorder, unspecified type</div>\", \"<div class=\\\"tooltip\\\">Parkinson's disease</div>\", \"<div class=\\\"tooltip\\\">Multiple sclerosis</div>\", \"<div class=\\\"tooltip\\\">Essential (primary) hypertension</div>\", \"<div class=\\\"tooltip\\\">Heart failure, unspecified</div>\", \"<div class=\\\"tooltip\\\">Other specified cerebrovascular diseases</div>\", \"<div class=\\\"tooltip\\\">Acute nasopharyngitis [common cold]</div>\", \"<div class=\\\"tooltip\\\">Acute pharyngitis, unspecified</div>\", \"<div class=\\\"tooltip\\\">Acute upper respiratory infection, unspecified</div>\", \"<div class=\\\"tooltip\\\">Pneumonia, unspecified organism</div>\", \"<div class=\\\"tooltip\\\">Acute bronchitis, unspecified</div>\", \"<div class=\\\"tooltip\\\">Allergic rhinitis due to pollen</div>\", \"<div class=\\\"tooltip\\\">Chronic sinusitis, unspecified</div>\", \"<div class=\\\"tooltip\\\">Bronchitis, not specified as acute or chronic</div>\", \"<div class=\\\"tooltip\\\">Chronic obstructive pulmonary disease, unspecified</div>\", \"<div class=\\\"tooltip\\\">Gastro-esophageal reflux disease without esophagitis</div>\", \"<div class=\\\"tooltip\\\">Noninfective gastroenteritis and colitis, unspecified</div>\", \"<div class=\\\"tooltip\\\">Polyp of colon</div>\", \"<div class=\\\"tooltip\\\">Unspecified contact dermatitis, unspecified cause</div>\", \"<div class=\\\"tooltip\\\">Actinic keratosis</div>\", \"<div class=\\\"tooltip\\\">Other acne</div>\", \"<div class=\\\"tooltip\\\">Osteoarthritis of knee, unspecified</div>\", \"<div class=\\\"tooltip\\\">Cervicalgia</div>\", \"<div class=\\\"tooltip\\\">Low back pain</div>\", \"<div class=\\\"tooltip\\\">Pain in thoracic spine</div>\", \"<div class=\\\"tooltip\\\">Dorsalgia, unspecified</div>\", \"<div class=\\\"tooltip\\\">Neuralgia and neuritis, unspecified</div>\", \"<div class=\\\"tooltip\\\">Fibromyalgia</div>\", \"<div class=\\\"tooltip\\\">Other specified soft tissue disorders</div>\", \"<div class=\\\"tooltip\\\">Disorder of cartilage, unspecified</div>\", \"<div class=\\\"tooltip\\\">Acute kidney failure, unspecified</div>\", \"<div class=\\\"tooltip\\\">Calculus of kidney</div>\", \"<div class=\\\"tooltip\\\">Urinary tract infection, site not specified</div>\", \"<div class=\\\"tooltip\\\">Subacute and chronic vulvitis</div>\", \"<div class=\\\"tooltip\\\">Other specified noninflammatory disorders of vagina</div>\", \"<div class=\\\"tooltip\\\">Bradycardia, unspecified</div>\", \"<div class=\\\"tooltip\\\">Palpitations</div>\", \"<div class=\\\"tooltip\\\">Cough</div>\", \"<div class=\\\"tooltip\\\">Pelvic and perineal pain</div>\", \"<div class=\\\"tooltip\\\">Rash and other nonspecific skin eruption</div>\", \"<div class=\\\"tooltip\\\">Difficulty in walking, not elsewhere classified</div>\", \"<div class=\\\"tooltip\\\">Painful micturition, unspecified</div>\", \"<div class=\\\"tooltip\\\">Unspecified urinary incontinence</div>\", \"<div class=\\\"tooltip\\\">Dizziness and giddiness</div>\", \"<div class=\\\"tooltip\\\">Fever, unspecified</div>\", \"<div class=\\\"tooltip\\\">Headache</div>\", \"<div class=\\\"tooltip\\\">Pain, unspecified</div>\", \"<div class=\\\"tooltip\\\">Syncope and collapse</div>\", \"<div class=\\\"tooltip\\\">Edema, unspecified</div>\", \"<div class=\\\"tooltip\\\">Abnormal findings on diagnostic imaging of lung</div>\", \"<div class=\\\"tooltip\\\">Hypertensive crisis, unspecified</div>\", \"<div class=\\\"tooltip\\\">Chest pain, unspecified</div>\", \"<div class=\\\"tooltip\\\">Nausea</div>\", \"<div class=\\\"tooltip\\\">Vomiting</div>\", \"<div class=\\\"tooltip\\\">Diarrhea, unspecified</div>\", \"<div class=\\\"tooltip\\\">Benign prostatic hyperplasia without lower urinary tract symptoms</div>\", \"<div class=\\\"tooltip\\\">Dehydration</div>\", \"<div class=\\\"tooltip\\\">Unspecified convulsions</div>\", \"<div class=\\\"tooltip\\\">Chronic iridocyclitis, unspecified eye</div>\", \"<div class=\\\"tooltip\\\">Frequency of micturition</div>\", \"<div class=\\\"tooltip\\\">Unspecified abdominal pain</div>\", \"<div class=\\\"tooltip\\\">Dysphagia</div>\", \"<div class=\\\"tooltip\\\">Acute necrotizing hemorrhagic encephalopathy, unspecified</div>\", \"<div class=\\\"tooltip\\\">Mild intermittent asthma</div>\", \"<div class=\\\"tooltip\\\">Influenza due to unidentified influenza virus with unspecified type of pneumonia</div>\", \"<div class=\\\"tooltip\\\">Arthropathy, unspecified</div>\", \"<div class=\\\"tooltip\\\">Allergic rhinitis, unspecified</div>\", \"<div class=\\\"tooltip\\\">Benign prostatic hyperplasia with lower urinary tract symptoms</div>\", \"<div class=\\\"tooltip\\\">Nausea with vomiting, unspecified</div>\", \"<div class=\\\"tooltip\\\">Unspecified disturbances of skin sensation</div>\"], \"targets\": null, \"hoffset\": 0, \"voffset\": 10}]});\n",
              "            })\n",
              "         });\n",
              "}\n",
              "</script>"
            ]
          },
          "metadata": {},
          "execution_count": 41
        }
      ]
    },
    {
      "cell_type": "code",
      "source": [
        "from prompt_toolkit.filters.cli import InPasteMode\n",
        "# Find the top 10 similar conditions\n",
        "data = word_embedding\n",
        "\n",
        "max_similars = 10\n",
        "similars = []\n",
        "for i in range(5, len(data)-1):\n",
        "  for j in range(i+1, len(data)):\n",
        "    sort_list = False\n",
        "\n",
        "    similarity = np.abs(np.dot(data[i], data[j]))\n",
        "    item = (i, j, similarity)\n",
        "  \n",
        "    if (len(similars) <= max_similars):\n",
        "      similars.append(item)\n",
        "      sort_list = True\n",
        "    else:\n",
        "      if (similarity > similars[max_similars-1][2] ):\n",
        "        similars[9] =item\n",
        "        sort_list = True\n",
        "\n",
        "    if (sort_list):\n",
        "      similars.sort(key=lambda item:item[2], reverse=True)\n",
        "\n",
        "for item in similars:\n",
        "  code1 = conditionsVocab[\"idx2token\"][item[0]]\n",
        "  label1 = condition_codes[condition_codes[\"condition\"] == str(code1)][\"condition_name\"].values[0]\n",
        "\n",
        "  code2 = conditionsVocab[\"idx2token\"][item[1]]\n",
        "  label2 = condition_codes[condition_codes[\"condition\"] == str(code2)][\"condition_name\"].values[0]\n",
        "\n",
        "\n",
        "  print(f\"{label1} \\n\\t {label2}, Similarity={item[2]}\")\n",
        "\n"
      ],
      "metadata": {
        "colab": {
          "base_uri": "https://localhost:8080/"
        },
        "id": "8JkcDD3vxjSi",
        "outputId": "87077814-04b7-465b-c0db-d46e694c8659"
      },
      "execution_count": 61,
      "outputs": [
        {
          "output_type": "stream",
          "name": "stdout",
          "text": [
            "Supervision of high risk pregnancy \n",
            "\t Other maternal diseases classifiable elsewhere but complicating pregnancy, childbirth and the puerperium, Similarity=0.19245806336402893\n",
            "Other maternal diseases classifiable elsewhere but complicating pregnancy, childbirth and the puerperium \n",
            "\t Weeks of gestation, Similarity=0.19112543761730194\n",
            "Supervision of high risk pregnancy \n",
            "\t Weeks of gestation, Similarity=0.1903337687253952\n",
            "Specific developmental disorders of speech and language \n",
            "\t Lack of expected normal physiological development in childhood and adults, Similarity=0.1672552227973938\n",
            "Depressive episode \n",
            "\t Age-related nuclear cataract, Similarity=0.1419728547334671\n",
            "Spondylosis \n",
            "\t Other spondylopathies, Similarity=0.14031821489334106\n",
            "Suppurative and unspecified otitis media \n",
            "\t Acute bronchiolitis, Similarity=0.14030995965003967\n",
            "Acute bronchiolitis \n",
            "\t Lack of expected normal physiological development in childhood and adults, Similarity=0.13937775790691376\n",
            "Other spondylopathies \n",
            "\t Thoracic, thoracolumbar, and lumbosacral intervertebral disc disorders, Similarity=0.1384403258562088\n",
            "Type 2 diabetes mellitus with other specified complications \n",
            "\t Type 2 diabetes mellitus without complications, Similarity=0.1381581425666809\n",
            "Sprain of joints and ligaments of other parts of neck \n",
            "\t Other disorders of white blood cells, Similarity=0.0006616977043449879\n"
          ]
        }
      ]
    }
  ],
  "metadata": {
    "accelerator": "GPU",
    "colab": {
      "provenance": []
    },
    "gpuClass": "standard",
    "kernelspec": {
      "display_name": "Python 3",
      "language": "python",
      "name": "python3"
    },
    "language_info": {
      "codemirror_mode": {
        "name": "ipython",
        "version": 3
      },
      "file_extension": ".py",
      "mimetype": "text/x-python",
      "name": "python",
      "nbconvert_exporter": "python",
      "pygments_lexer": "ipython3",
      "version": "3.9.11"
    },
    "orig_nbformat": 4,
    "vscode": {
      "interpreter": {
        "hash": "81794d4967e6c3204c66dcd87b604927b115b27c00565d3d43f05ba2f3a2cb0d"
      }
    }
  },
  "nbformat": 4,
  "nbformat_minor": 0
}