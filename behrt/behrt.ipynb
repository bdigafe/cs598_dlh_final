{
  "cells": [
    {
      "cell_type": "markdown",
      "metadata": {
        "id": "VDIyndGVBJZh"
      },
      "source": [
        "### Project: Application of BERT to Electronic Health Records to predit the next diagnosis"
      ]
    },
    {
      "cell_type": "markdown",
      "source": [
        "#### General information\n",
        "This notebook is used to create medical embedding based on preprocessed data. It also performs a downstream task Masked Language Model (MLM) to fine tune the model. The code requires the preprocessed data be available on the data folder. \n",
        "\n",
        "A separate notebook file is available to take the raw CSV files to BERT ready files in pkl format. The preprocessing notebook can be run on a local machine and it completes within reasonable time.\n",
        "\n",
        "The training and validation processses takes very long time on a local computer using CPU. We used google colab pro to complete the process."
      ],
      "metadata": {
        "id": "V-0AaxFb6Pfj"
      }
    },
    {
      "cell_type": "code",
      "execution_count": 30,
      "metadata": {
        "id": "a0_92drJUdvs"
      },
      "outputs": [],
      "source": [
        "# Set this to False when running in google colab. \n",
        "# It copies all the required files from github and also installs required python libraries\n",
        "local_mode = False\n",
        "\n",
        "# Set to True to run the pre-training\n",
        "train_model_flag = True\n",
        "\n",
        "# Set to False if you want to exclude Age from pre-training (Ablation study)\n",
        "include_age_seq = True\n",
        "\n",
        "# Set to True to run Bayesian Optimization using Optane. This requires significant resources\n",
        "# Don't enable unless you have signficant compute and memory resources\n",
        "optane_hyper_param_tunning = False"
      ]
    },
    {
      "cell_type": "code",
      "source": [
        "if not local_mode:\n",
        "  !mkdir commons\n",
        "  !wget -P commons https://raw.githubusercontent.com/bdigafe/cs598_dlh_final/master/behrt/commons/utils.py\n",
        "  !wget -P commons https://raw.githubusercontent.com/bdigafe/cs598_dlh_final/master/behrt/commons/__init__.py\n",
        "\n",
        "  !mkdir models\n",
        "  !wget -P models https://raw.githubusercontent.com/bdigafe/cs598_dlh_final/master/behrt/models/MLM.py\n",
        "  !wget -P models https://raw.githubusercontent.com/bdigafe/cs598_dlh_final/master/behrt/models/NextXVisit.py\n",
        "  !wget -P models https://raw.githubusercontent.com/bdigafe/cs598_dlh_final/master/behrt/models/optimizer.py\n",
        "  !wget -P models https://raw.githubusercontent.com/bdigafe/cs598_dlh_final/master/behrt/models/BertConfig.py\n",
        "  !wget -P models https://raw.githubusercontent.com/bdigafe/cs598_dlh_final/master/behrt/models/__init__.py\n",
        "\n",
        "  !mkdir data\n",
        "  !wget -P data https://raw.githubusercontent.com/bdigafe/cs598_dlh_final/master/data/ages.pkl\n",
        "  !wget -P data https://raw.githubusercontent.com/bdigafe/cs598_dlh_final/master/data/concept.pkl\n",
        "  !wget -P data https://raw.githubusercontent.com/bdigafe/cs598_dlh_final/master/data/condition_codes.pkl\n",
        "  !wget -P data https://raw.githubusercontent.com/bdigafe/cs598_dlh_final/master/data/conditions.pkl\n",
        "\n",
        "  !mkdir saved_models\n",
        "  !wget -P saved_models https://raw.githubusercontent.com/bdigafe/cs598_dlh_final/master/saved_models/mlm128.pt\n",
        "\n",
        "  !mkdir images\n",
        "  !wget -P images https://raw.githubusercontent.com/bdigafe/cs598_dlh_final/master/images/cdm54.png\n",
        "  !wget -P images https://raw.githubusercontent.com/bdigafe/cs598_dlh_final/master/images/behrt_embeddings.png\n",
        "  !wget -P images https://raw.githubusercontent.com/bdigafe/cs598_dlh_final/master/images/behrt_model.png\n"
      ],
      "metadata": {
        "colab": {
          "base_uri": "https://localhost:8080/"
        },
        "id": "OeGwdqC_scn7",
        "outputId": "232a7c90-57cd-4d26-acee-43e5fa623d01"
      },
      "execution_count": 2,
      "outputs": [
        {
          "output_type": "stream",
          "name": "stdout",
          "text": [
            "--2023-05-07 19:44:33--  https://raw.githubusercontent.com/bdigafe/cs598_dlh_final/master/behrt/commons/utils.py\n",
            "Resolving raw.githubusercontent.com (raw.githubusercontent.com)... 185.199.109.133, 185.199.111.133, 185.199.110.133, ...\n",
            "Connecting to raw.githubusercontent.com (raw.githubusercontent.com)|185.199.109.133|:443... connected.\n",
            "HTTP request sent, awaiting response... 200 OK\n",
            "Length: 12014 (12K) [text/plain]\n",
            "Saving to: ‘commons/utils.py’\n",
            "\n",
            "\rutils.py              0%[                    ]       0  --.-KB/s               \rutils.py            100%[===================>]  11.73K  --.-KB/s    in 0s      \n",
            "\n",
            "2023-05-07 19:44:33 (66.9 MB/s) - ‘commons/utils.py’ saved [12014/12014]\n",
            "\n",
            "--2023-05-07 19:44:33--  https://raw.githubusercontent.com/bdigafe/cs598_dlh_final/master/behrt/commons/__init__.py\n",
            "Resolving raw.githubusercontent.com (raw.githubusercontent.com)... 185.199.110.133, 185.199.111.133, 185.199.108.133, ...\n",
            "Connecting to raw.githubusercontent.com (raw.githubusercontent.com)|185.199.110.133|:443... connected.\n",
            "HTTP request sent, awaiting response... 200 OK\n",
            "Length: 0 [text/plain]\n",
            "Saving to: ‘commons/__init__.py’\n",
            "\n",
            "__init__.py             [ <=>                ]       0  --.-KB/s    in 0s      \n",
            "\n",
            "2023-05-07 19:44:34 (0.00 B/s) - ‘commons/__init__.py’ saved [0/0]\n",
            "\n",
            "--2023-05-07 19:44:34--  https://raw.githubusercontent.com/bdigafe/cs598_dlh_final/master/behrt/models/MLM.py\n",
            "Resolving raw.githubusercontent.com (raw.githubusercontent.com)... 185.199.108.133, 185.199.111.133, 185.199.109.133, ...\n",
            "Connecting to raw.githubusercontent.com (raw.githubusercontent.com)|185.199.108.133|:443... connected.\n",
            "HTTP request sent, awaiting response... 200 OK\n",
            "Length: 6199 (6.1K) [text/plain]\n",
            "Saving to: ‘models/MLM.py’\n",
            "\n",
            "MLM.py              100%[===================>]   6.05K  --.-KB/s    in 0s      \n",
            "\n",
            "2023-05-07 19:44:34 (65.3 MB/s) - ‘models/MLM.py’ saved [6199/6199]\n",
            "\n",
            "--2023-05-07 19:44:34--  https://raw.githubusercontent.com/bdigafe/cs598_dlh_final/master/behrt/models/NextXVisit.py\n",
            "Resolving raw.githubusercontent.com (raw.githubusercontent.com)... 185.199.108.133, 185.199.109.133, 185.199.110.133, ...\n",
            "Connecting to raw.githubusercontent.com (raw.githubusercontent.com)|185.199.108.133|:443... connected.\n",
            "HTTP request sent, awaiting response... 200 OK\n",
            "Length: 6247 (6.1K) [text/plain]\n",
            "Saving to: ‘models/NextXVisit.py’\n",
            "\n",
            "NextXVisit.py       100%[===================>]   6.10K  --.-KB/s    in 0s      \n",
            "\n",
            "2023-05-07 19:44:34 (38.4 MB/s) - ‘models/NextXVisit.py’ saved [6247/6247]\n",
            "\n",
            "--2023-05-07 19:44:34--  https://raw.githubusercontent.com/bdigafe/cs598_dlh_final/master/behrt/models/optimizer.py\n",
            "Resolving raw.githubusercontent.com (raw.githubusercontent.com)... 185.199.108.133, 185.199.109.133, 185.199.110.133, ...\n",
            "Connecting to raw.githubusercontent.com (raw.githubusercontent.com)|185.199.108.133|:443... connected.\n",
            "HTTP request sent, awaiting response... 200 OK\n",
            "Length: 772 [text/plain]\n",
            "Saving to: ‘models/optimizer.py’\n",
            "\n",
            "optimizer.py        100%[===================>]     772  --.-KB/s    in 0s      \n",
            "\n",
            "2023-05-07 19:44:34 (49.8 MB/s) - ‘models/optimizer.py’ saved [772/772]\n",
            "\n",
            "--2023-05-07 19:44:34--  https://raw.githubusercontent.com/bdigafe/cs598_dlh_final/master/behrt/models/BertConfig.py\n",
            "Resolving raw.githubusercontent.com (raw.githubusercontent.com)... 185.199.109.133, 185.199.110.133, 185.199.108.133, ...\n",
            "Connecting to raw.githubusercontent.com (raw.githubusercontent.com)|185.199.109.133|:443... connected.\n",
            "HTTP request sent, awaiting response... 200 OK\n",
            "Length: 953 [text/plain]\n",
            "Saving to: ‘models/BertConfig.py’\n",
            "\n",
            "BertConfig.py       100%[===================>]     953  --.-KB/s    in 0s      \n",
            "\n",
            "2023-05-07 19:44:35 (53.4 MB/s) - ‘models/BertConfig.py’ saved [953/953]\n",
            "\n",
            "--2023-05-07 19:44:35--  https://raw.githubusercontent.com/bdigafe/cs598_dlh_final/master/behrt/models/__init__.py\n",
            "Resolving raw.githubusercontent.com (raw.githubusercontent.com)... 185.199.108.133, 185.199.109.133, 185.199.111.133, ...\n",
            "Connecting to raw.githubusercontent.com (raw.githubusercontent.com)|185.199.108.133|:443... connected.\n",
            "HTTP request sent, awaiting response... 200 OK\n",
            "Length: 0 [text/plain]\n",
            "Saving to: ‘models/__init__.py’\n",
            "\n",
            "__init__.py             [ <=>                ]       0  --.-KB/s    in 0s      \n",
            "\n",
            "2023-05-07 19:44:35 (0.00 B/s) - ‘models/__init__.py’ saved [0/0]\n",
            "\n",
            "--2023-05-07 19:44:35--  https://raw.githubusercontent.com/bdigafe/cs598_dlh_final/master/data/ages.pkl\n",
            "Resolving raw.githubusercontent.com (raw.githubusercontent.com)... 185.199.108.133, 185.199.109.133, 185.199.110.133, ...\n",
            "Connecting to raw.githubusercontent.com (raw.githubusercontent.com)|185.199.108.133|:443... connected.\n",
            "HTTP request sent, awaiting response... 200 OK\n",
            "Length: 12929552 (12M) [application/octet-stream]\n",
            "Saving to: ‘data/ages.pkl’\n",
            "\n",
            "ages.pkl            100%[===================>]  12.33M  --.-KB/s    in 0.1s    \n",
            "\n",
            "2023-05-07 19:44:36 (109 MB/s) - ‘data/ages.pkl’ saved [12929552/12929552]\n",
            "\n",
            "--2023-05-07 19:44:36--  https://raw.githubusercontent.com/bdigafe/cs598_dlh_final/master/data/concept.pkl\n",
            "Resolving raw.githubusercontent.com (raw.githubusercontent.com)... 185.199.108.133, 185.199.109.133, 185.199.110.133, ...\n",
            "Connecting to raw.githubusercontent.com (raw.githubusercontent.com)|185.199.108.133|:443... connected.\n",
            "HTTP request sent, awaiting response... 200 OK\n",
            "Length: 15122701 (14M) [application/octet-stream]\n",
            "Saving to: ‘data/concept.pkl’\n",
            "\n",
            "concept.pkl         100%[===================>]  14.42M  64.6MB/s    in 0.2s    \n",
            "\n",
            "2023-05-07 19:44:36 (64.6 MB/s) - ‘data/concept.pkl’ saved [15122701/15122701]\n",
            "\n",
            "--2023-05-07 19:44:36--  https://raw.githubusercontent.com/bdigafe/cs598_dlh_final/master/data/condition_codes.pkl\n",
            "Resolving raw.githubusercontent.com (raw.githubusercontent.com)... 185.199.108.133, 185.199.109.133, 185.199.110.133, ...\n",
            "Connecting to raw.githubusercontent.com (raw.githubusercontent.com)|185.199.108.133|:443... connected.\n",
            "HTTP request sent, awaiting response... 200 OK\n",
            "Length: 18889 (18K) [application/octet-stream]\n",
            "Saving to: ‘data/condition_codes.pkl’\n",
            "\n",
            "condition_codes.pkl 100%[===================>]  18.45K  --.-KB/s    in 0.001s  \n",
            "\n",
            "2023-05-07 19:44:37 (30.3 MB/s) - ‘data/condition_codes.pkl’ saved [18889/18889]\n",
            "\n",
            "--2023-05-07 19:44:37--  https://raw.githubusercontent.com/bdigafe/cs598_dlh_final/master/data/conditions.pkl\n",
            "Resolving raw.githubusercontent.com (raw.githubusercontent.com)... 185.199.108.133, 185.199.109.133, 185.199.110.133, ...\n",
            "Connecting to raw.githubusercontent.com (raw.githubusercontent.com)|185.199.108.133|:443... connected.\n",
            "HTTP request sent, awaiting response... 200 OK\n",
            "Length: 10038026 (9.6M) [application/octet-stream]\n",
            "Saving to: ‘data/conditions.pkl’\n",
            "\n",
            "conditions.pkl      100%[===================>]   9.57M  47.9MB/s    in 0.2s    \n",
            "\n",
            "2023-05-07 19:44:37 (47.9 MB/s) - ‘data/conditions.pkl’ saved [10038026/10038026]\n",
            "\n",
            "--2023-05-07 19:44:37--  https://raw.githubusercontent.com/bdigafe/cs598_dlh_final/master/saved_models/mlm128.pt\n",
            "Resolving raw.githubusercontent.com (raw.githubusercontent.com)... 185.199.109.133, 185.199.110.133, 185.199.108.133, ...\n",
            "Connecting to raw.githubusercontent.com (raw.githubusercontent.com)|185.199.109.133|:443... connected.\n",
            "HTTP request sent, awaiting response... 200 OK\n",
            "Length: 17990392 (17M) [application/octet-stream]\n",
            "Saving to: ‘saved_models/mlm128.pt’\n",
            "\n",
            "mlm128.pt           100%[===================>]  17.16M  92.6MB/s    in 0.2s    \n",
            "\n",
            "2023-05-07 19:44:38 (92.6 MB/s) - ‘saved_models/mlm128.pt’ saved [17990392/17990392]\n",
            "\n",
            "--2023-05-07 19:44:38--  https://raw.githubusercontent.com/bdigafe/cs598_dlh_final/master/images/cdm54.png\n",
            "Resolving raw.githubusercontent.com (raw.githubusercontent.com)... 185.199.110.133, 185.199.111.133, 185.199.109.133, ...\n",
            "Connecting to raw.githubusercontent.com (raw.githubusercontent.com)|185.199.110.133|:443... connected.\n",
            "HTTP request sent, awaiting response... 200 OK\n",
            "Length: 912664 (891K) [image/png]\n",
            "Saving to: ‘images/cdm54.png’\n",
            "\n",
            "cdm54.png           100%[===================>] 891.27K  --.-KB/s    in 0.05s   \n",
            "\n",
            "2023-05-07 19:44:39 (17.7 MB/s) - ‘images/cdm54.png’ saved [912664/912664]\n",
            "\n",
            "--2023-05-07 19:44:39--  https://raw.githubusercontent.com/bdigafe/cs598_dlh_final/master/images/behrt_embeddings.png\n",
            "Resolving raw.githubusercontent.com (raw.githubusercontent.com)... 185.199.108.133, 185.199.109.133, 185.199.110.133, ...\n",
            "Connecting to raw.githubusercontent.com (raw.githubusercontent.com)|185.199.108.133|:443... connected.\n",
            "HTTP request sent, awaiting response... 200 OK\n",
            "Length: 450527 (440K) [image/png]\n",
            "Saving to: ‘images/behrt_embeddings.png’\n",
            "\n",
            "behrt_embeddings.pn 100%[===================>] 439.97K  --.-KB/s    in 0.03s   \n",
            "\n",
            "2023-05-07 19:44:39 (12.3 MB/s) - ‘images/behrt_embeddings.png’ saved [450527/450527]\n",
            "\n",
            "--2023-05-07 19:44:39--  https://raw.githubusercontent.com/bdigafe/cs598_dlh_final/master/images/behrt_model.png\n",
            "Resolving raw.githubusercontent.com (raw.githubusercontent.com)... 185.199.108.133, 185.199.109.133, 185.199.110.133, ...\n",
            "Connecting to raw.githubusercontent.com (raw.githubusercontent.com)|185.199.108.133|:443... connected.\n",
            "HTTP request sent, awaiting response... 200 OK\n",
            "Length: 116319 (114K) [image/png]\n",
            "Saving to: ‘images/behrt_model.png’\n",
            "\n",
            "behrt_model.png     100%[===================>] 113.59K  --.-KB/s    in 0.02s   \n",
            "\n",
            "2023-05-07 19:44:39 (5.12 MB/s) - ‘images/behrt_model.png’ saved [116319/116319]\n",
            "\n"
          ]
        }
      ]
    },
    {
      "cell_type": "code",
      "execution_count": 3,
      "metadata": {
        "id": "IayjuaWgBJZm"
      },
      "outputs": [],
      "source": [
        "import os\n",
        "import pdb\n",
        "import sys\n",
        "import time\n",
        "import pickle\n",
        "import random\n",
        "import numpy as np\n",
        "import torch\n",
        "from torch import nn\n",
        "import torch.nn.functional as F\n",
        "import commons.utils as utils\n",
        "\n",
        "# set random seed for reproducibility\n",
        "seed = 123\n",
        "random.seed(seed)\n",
        "np.random.seed(seed)\n",
        "torch.manual_seed(seed)\n",
        "torch.use_deterministic_algorithms(True)\n",
        "os.environ['PYTHONASHSEED'] = str(seed)\n",
        "\n",
        "global_params = {\n",
        "    'device': 'cuda' if torch.cuda.is_available() else 'cpu',\n",
        "\n",
        "    # Max number of condition codes including special tokens\n",
        "    # Normal=256, 512=Out of memory\n",
        "    'max_seq_len': 256,\n",
        "\n",
        "    # Maximum patient age\n",
        "    'max_age' : 110,\n",
        "\n",
        "    # Month in age: 1=Age is in months(1 month), 12=Age is in year (12 months)\n",
        "    'age_month' : 1,\n",
        "\n",
        "    # Exlcude patients that have visits less than this value\n",
        "    'min_visit': 5,\n",
        "\n",
        "    # Batch size. (Normal=128, 256=Causes out of memory failure)\n",
        "    'batch_size': 128,\n",
        "\n",
        "     # Number of sample records used for training or validation. 0=All\n",
        "    'training_sample': 0,\n",
        "\n",
        "    # Number of training epochs (Main=10, Aggressive=100)\n",
        "    'num_epochs': 5,\n",
        "\n",
        "    # Number of steps for gradient accumulation\n",
        "    'gradient_accumulation_steps': 1,\n",
        "    \n",
        "    # BERT number of self-attention heads (Main=12, Ablation=6)\n",
        "    'attention_heads': 12,\n",
        "\n",
        "    # BERT number of hidden layers (Main=6, Ablation=3)\n",
        "    'num_hidden_layers': 6,\n",
        "\n",
        "    # Number of hidden size = 4 * attention_heads * hidden_layers\n",
        "    # (Normal=288, Ablation=72)\n",
        "    'hidden_size': 288\n",
        "}\n",
        "\n",
        "# Optimization parameters\n",
        "optim_param = {\n",
        "    'lr': 3e-5, # Normal=3e-5, Ablation=1e-3\n",
        "    'warmup_proportion': 0.1,\n",
        "    'weight_decay': 0.01\n",
        "}\n",
        "\n",
        "# File names\n",
        "file_config = {\n",
        "    'vocab': ('C:/Birhanu/Education/UIL/cs598/Final/data/' if local_mode else 'data/') + 'condition_codes.pkl',\n",
        "    'data': ('C:/Birhanu/Education/UIL/cs598/Final/data/' if local_mode else 'data/') + 'conditions.pkl',\n",
        "    'ages': ('C:/Birhanu/Education/UIL/cs598/Final/data/' if local_mode else 'data/') + 'ages.pkl',\n",
        "    \n",
        "    'model_path': 'C:/Birhanu/Education/UIL/cs598/Final/saved_models/' if local_mode else 'saved_models/',  # where to save/read model\n",
        "    'model_name': 'mlm128',  # model name\n",
        "    'log_file_name': 'log',  # log path\n",
        "}\n"
      ]
    },
    {
      "cell_type": "code",
      "execution_count": 4,
      "metadata": {
        "colab": {
          "base_uri": "https://localhost:8080/"
        },
        "id": "6v2r6vexFttq",
        "outputId": "cce19135-ade9-4365-ecf5-17ffa3b88c43"
      },
      "outputs": [
        {
          "output_type": "stream",
          "name": "stdout",
          "text": [
            "cuda\n"
          ]
        }
      ],
      "source": [
        "# Check the available device.\n",
        "print(global_params[\"device\"])\n",
        "\n",
        "# This setting was added to avoid a runtime issue when running on gpu.\n",
        "os.environ[\"CUBLAS_WORKSPACE_CONFIG\"]=\":4096:8\""
      ]
    },
    {
      "cell_type": "markdown",
      "metadata": {
        "id": "Tt_kVGeZBJZo"
      },
      "source": [
        "#### Load pre-processed data\n",
        "Data has been pre-processed and saved as pkl file.\n",
        "\n",
        "- conditions_seqs = [pid, [conditions]]\n",
        "- condition_codes = [code, frequency_count]\n",
        "- ages = [pid, [age for each condition]]"
      ]
    },
    {
      "cell_type": "code",
      "execution_count": 5,
      "metadata": {
        "colab": {
          "base_uri": "https://localhost:8080/"
        },
        "id": "Hf_4wsLcBJZo",
        "outputId": "aa8c73ec-88bf-41fd-aa35-9c082890c3d0"
      },
      "outputs": [
        {
          "output_type": "stream",
          "name": "stdout",
          "text": [
            "Size of the input dataset\n",
            "\n",
            "Shape of condition sequences: \n",
            "(54498, 2)\n",
            "\n",
            "Shape of age sequences:\n",
            "(54498, 2)\n",
            "\n",
            "Shape of condition concept codes:\n",
            "(296, 3)\n",
            "\n",
            "Sample data \n",
            "\n",
            "Condition sequences: \n",
            "      pid                                         conditions\n",
            "0  176101  [1572199, SEP, 35207924, SEP, 35209141, SEP, 1...\n",
            "1  176102  [35207924, 35211387, SEP, 1569634, SEP, 157606...\n",
            "2  176103  [1570669, SEP, 1570669, SEP, 35208969, SEP, 35...\n",
            "3  176104  [35208969, SEP, 35208968, 35208969, SEP, 35208...\n",
            "4  176105  [1568078, 1569178, 1572190, 1572239, SEP, 1568...\n",
            "\n",
            "Condition codes:\n",
            "  condition                                     condition_name  counts\n",
            "0     10851  Sprain of joints and ligaments of other parts ...    4323\n",
            "1     11803                Sprain of ligaments of lumbar spine    4293\n",
            "2   1567286                                       Other sepsis    3217\n",
            "3   1567391                Viral infection of unspecified site    4177\n",
            "4   1567392                                    Dermatophytosis    4198\n",
            "\n",
            "Age sequences:\n",
            "      pid                                               ages\n",
            "0  176101  [947, 947, 947, 947, 949, 949, 949, 949, 949, ...\n",
            "1  176102  [230, 230, 230, 262, 262, 263, 263, 267, 267, ...\n",
            "2  176103           [664, 664, 666, 666, 672, 672, 684, 684]\n",
            "3  176104  [623, 623, 623, 623, 623, 623, 623, 623, 625, ...\n",
            "4  176105  [683, 683, 683, 683, 683, 684, 684, 684, 689, ...\n",
            "\n"
          ]
        }
      ],
      "source": [
        "def adjust_age(ages):\n",
        "  adj_ages = []\n",
        "\n",
        "  for age in ages:\n",
        "    age = int((int(age) - 4)/ 12)\n",
        "    adj_ages.append(str(age + 4))\n",
        "\n",
        "  return adj_ages \n",
        "\n",
        "# Load pickle files\n",
        "conditions_seqs = pickle.load(open(file_config[\"data\"], 'rb'))\n",
        "age_seqs = pickle.load(open(file_config[\"ages\"], 'rb'))\n",
        "condition_codes = pickle.load(open(file_config[\"vocab\"], 'rb'))\n",
        "\n",
        "print(\"Size of the input dataset\\n\")\n",
        "print(f\"Shape of condition sequences: \\n{conditions_seqs.shape}\\n\")\n",
        "print(f\"Shape of age sequences:\\n{age_seqs.shape}\\n\")\n",
        "print(f\"Shape of condition concept codes:\\n{condition_codes.shape}\\n\")\n",
        "\n",
        "print(\"Sample data \\n\")\n",
        "print(f\"Condition sequences: \\n{conditions_seqs.head()}\\n\")\n",
        "print(f\"Condition codes:\\n{condition_codes.head()}\\n\")\n",
        "\n",
        "print(f\"Age sequences:\\n{age_seqs.head()}\\n\")\n",
        "\n",
        "# Ages: Source data as a month interval or age. \n",
        "# If we are using a 12-month interval adjust\n",
        "if (global_params['age_month'] == 12):\n",
        "  age_seqs[\"ages\"]= age_seqs[\"ages\"].apply(adjust_age)\n",
        "  print(f\"Adjusted age sequences:\\n{age_seqs.head()}\\n\")\n",
        "\n",
        "# convert to numpy array\n",
        "conditions_seqs = np.array(conditions_seqs[\"conditions\"])\n",
        "age_seqs = np.array(age_seqs[\"ages\"])\n",
        "\n",
        "# Keep only a small size for training\n",
        "if (global_params[\"training_sample\"] > 0):\n",
        "    conditions_seqs = conditions_seqs[:global_params[\"training_sample\"]]\n",
        "    age_seqs = age_seqs[:global_params[\"training_sample\"]]\n",
        "\n",
        "    print(f\"*** NOTE ***: Input has been downsized to {global_params['training_sample']} records\")\n"
      ]
    },
    {
      "cell_type": "code",
      "execution_count": 6,
      "metadata": {
        "colab": {
          "base_uri": "https://localhost:8080/"
        },
        "id": "Qn4L91F9BJZp",
        "outputId": "1e2b5951-9ef1-4454-c9c8-d0d3b8e1dd2c"
      },
      "outputs": [
        {
          "output_type": "stream",
          "name": "stdout",
          "text": [
            "Max number of code sequences: 447\n",
            "Max number of age sequences: 447\n"
          ]
        }
      ],
      "source": [
        "# Get the max number of visits per patient for all patients\n",
        "max_code_seqs = np.max([len(seq) for seq in conditions_seqs])\n",
        "max_age_seqs = np.max([len(seq) for seq in age_seqs])\n",
        "\n",
        "# Inspect sequence data\n",
        "print(f\"Max number of code sequences: {max_code_seqs}\")\n",
        "print(f\"Max number of age sequences: {max_age_seqs}\")\n",
        "\n"
      ]
    },
    {
      "cell_type": "markdown",
      "metadata": {
        "id": "Xw5aN5hdUdv5"
      },
      "source": [
        "#### Build ageVocab\n",
        "This allows conversion between a person's age to an index or an index to age."
      ]
    },
    {
      "cell_type": "code",
      "execution_count": 7,
      "metadata": {
        "id": "yyFbRqd7Udv6"
      },
      "outputs": [],
      "source": [
        "age2idx, idx2age = utils.age_vocab(max_age=110, mon=global_params[\"age_month\"])\n",
        "\n",
        "ageVocab = {\n",
        "    'token2idx': age2idx,\n",
        "    'idx2token': idx2age\n",
        "}\n",
        "\n",
        "assert ageVocab['token2idx'][\"30\"] == 32\n",
        "assert ageVocab['idx2token'][30] == \"28\""
      ]
    },
    {
      "cell_type": "markdown",
      "metadata": {
        "id": "8LbMHMCUBJZs"
      },
      "source": [
        "#### Build condition code from/to index vocab for condition codes\n",
        "The vocab will be used to convert from/to condition codes and indexes.\n",
        "All the diagnosis codes are loaded from the diag_codes.pkl file."
      ]
    },
    {
      "cell_type": "code",
      "execution_count": 8,
      "metadata": {
        "colab": {
          "base_uri": "https://localhost:8080/"
        },
        "id": "OLHZ-XR6BJZt",
        "outputId": "0ec3e64e-b3ef-4a08-df5d-6eb0b181490a"
      },
      "outputs": [
        {
          "output_type": "stream",
          "name": "stdout",
          "text": [
            "10851\n"
          ]
        }
      ],
      "source": [
        "conditionsVocab = utils.get_codes_vocab(file_config['vocab'])\n",
        "\n",
        "# Note Index 0-4 are special tokens: 0=CLS, 1=SEP, 2=PAD, 3=MASK, 4=UNK\n",
        "print(conditionsVocab['idx2token'][5])\n",
        "\n",
        "assert conditionsVocab['idx2token'][5] == \"10851\"\n",
        "assert conditionsVocab['token2idx'][\"10851\"] == 5\n"
      ]
    },
    {
      "cell_type": "markdown",
      "metadata": {
        "id": "FzuVtN-QBJZt"
      },
      "source": [
        "### View distribution of condition codes.\n",
        "We removed conditions with less than 3000 ocurrences (se pre-processing notebook), but we wan to see the frequency distribution of the existing condition codes."
      ]
    },
    {
      "cell_type": "code",
      "execution_count": 9,
      "metadata": {
        "id": "HSIB0ZzmCpEt",
        "colab": {
          "base_uri": "https://localhost:8080/"
        },
        "outputId": "56715ec0-1242-4a11-e610-90904b46d2b6"
      },
      "outputs": [
        {
          "output_type": "stream",
          "name": "stdout",
          "text": [
            "\u001b[?25l     \u001b[90m━━━━━━━━━━━━━━━━━━━━━━━━━━━━━━━━━━━━━━━━\u001b[0m \u001b[32m0.0/89.0 kB\u001b[0m \u001b[31m?\u001b[0m eta \u001b[36m-:--:--\u001b[0m\r\u001b[2K     \u001b[91m━━━━━━━━━━━━━━━━━━━━━━━━━━━━━━━━━━━━\u001b[0m\u001b[91m╸\u001b[0m\u001b[90m━━━\u001b[0m \u001b[32m81.9/89.0 kB\u001b[0m \u001b[31m5.2 MB/s\u001b[0m eta \u001b[36m0:00:01\u001b[0m\r\u001b[2K     \u001b[90m━━━━━━━━━━━━━━━━━━━━━━━━━━━━━━━━━━━━━━━━\u001b[0m \u001b[32m89.0/89.0 kB\u001b[0m \u001b[31m1.6 MB/s\u001b[0m eta \u001b[36m0:00:00\u001b[0m\n",
            "\u001b[?25h  Preparing metadata (setup.py) ... \u001b[?25l\u001b[?25hdone\n",
            "  Building wheel for mplcursors (setup.py) ... \u001b[?25l\u001b[?25hdone\n"
          ]
        }
      ],
      "source": [
        "if not local_mode:\n",
        "    %pip install --quiet mplcursors"
      ]
    },
    {
      "cell_type": "code",
      "execution_count": 10,
      "metadata": {
        "colab": {
          "base_uri": "https://localhost:8080/",
          "height": 445
        },
        "id": "oG3EbfukBJZt",
        "outputId": "a587415b-0418-4cc7-bec2-9de872103942"
      },
      "outputs": [
        {
          "output_type": "display_data",
          "data": {
            "text/plain": [
              "<Figure size 1000x500 with 1 Axes>"
            ],
            "image/png": "[encoded data removed]"
          },
          "metadata": {}
        }
      ],
      "source": [
        "from matplotlib import pyplot as plt\n",
        "import mplcursors\n",
        "\n",
        "fig, ax = plt.subplots(figsize=(10, 5))\n",
        "scatter = ax.scatter(condition_codes.index, condition_codes[\"counts\"])\n",
        "\n",
        "mplcursor = mplcursors.cursor(scatter, hover=True)\n",
        "mplcursor.connect(\"add\", lambda sel: sel.annotation.set_text(\n",
        "    condition_codes[sel.target.index][\"condition\"]))\n",
        "\n",
        "\n",
        "plt.show()\n"
      ]
    },
    {
      "cell_type": "markdown",
      "metadata": {
        "id": "PoZN0AE7BJZv"
      },
      "source": [
        "### Create a collate function to flatten the diagnosis codes\n",
        "\n",
        "The seqs data has the following format: \n",
        "[pid, vid, [diagnosis codes]]\n",
        "\n",
        "NOTE: This function is not currently used."
      ]
    },
    {
      "cell_type": "code",
      "execution_count": 11,
      "metadata": {
        "id": "s-7Pm0UgBJZv"
      },
      "outputs": [],
      "source": [
        "class Collator:\n",
        "\n",
        "    def __call__(self, data):\n",
        "        \"\"\"\n",
        "            Arguments:\n",
        "                data: a list of samples fetched from 'MLMDataset'\n",
        "\n",
        "            Outputs:\n",
        "                code_seqs: a tensor of shape (# patients, len(condition_codes))\n",
        "                age_seqs: A tensor of shape(# patients, max_age)\n",
        "        \"\"\"\n",
        "        pass\n",
        "\n",
        "collate_fn = Collator()\n"
      ]
    },
    {
      "cell_type": "markdown",
      "metadata": {
        "id": "6Fv7Z3nHBJZv"
      },
      "source": [
        "### Define custom dataset"
      ]
    },
    {
      "cell_type": "code",
      "execution_count": 12,
      "metadata": {
        "id": "eJiaH88IBJZw"
      },
      "outputs": [],
      "source": [
        "from torch.utils.data.dataset import Dataset\n",
        "import numpy as np\n",
        "import torch\n",
        "\n",
        "\n",
        "class MLMDataset(Dataset):\n",
        "    \"\"\"\n",
        "        Dataloader for MLM task. \n",
        "        The input is a list of tokens specified by datafrmae and the output is a list of tokens with masking.\n",
        "        The output is used to train the model to predict the masked tokens.\n",
        "\n",
        "        The dataloaer will return the following:\n",
        "            code: list = list of tokens\n",
        "            age: list = list of age of the patient\n",
        "           \n",
        "            position: list = list of position indexes\n",
        "            segmentation: list = list of segment indexes\n",
        "            mask: list = list of mask indexes  (1 indicate the token is masked)\n",
        "            label: list = list of label indexes (the label is the index of the token in the original tokens)\n",
        "\n",
        "        the input dataframe must have the following columns:\n",
        "            code: list = list of tokens\n",
        "            age: list = list of age of the patient\n",
        "\n",
        "    \"\"\"\n",
        "\n",
        "    def __init__(self, code_seqs, age_seqs, token2idx, age2idx, max_len, code='code', age='age'):\n",
        "        self.max_len = max_len\n",
        "\n",
        "        self.code_seqs = code_seqs\n",
        "        self.age_seqs = age_seqs\n",
        "\n",
        "        self.token2idx = token2idx\n",
        "        self.age2idx = age2idx\n",
        "\n",
        "    def __getitem__(self, index):\n",
        "        \"\"\"\n",
        "        return: age, code, position, segmentation, mask, label\n",
        "        \"\"\"\n",
        "\n",
        "        # extract data\n",
        "        code_tokens = self.code_seqs[index][(-self.max_len+1):]\n",
        "        age_tokens = self.age_seqs[index][(-self.max_len+1):]\n",
        "\n",
        "        # avoid data cut with first element to be 'SEP'\n",
        "        if code_tokens[0] != 'CLS':\n",
        "            code_tokens = np.append(np.array(['CLS']), code_tokens)\n",
        "            age_tokens = np.append(age_tokens[0], age_tokens)\n",
        "\n",
        "        # mask 0:len(code) to 1, padding to be 0\n",
        "        mask = np.ones(self.max_len)\n",
        "        mask[len(code_tokens):] = 0\n",
        "        num_tokens = len(code_tokens)\n",
        "\n",
        "        # Get index for Unknown symbol and Pad symbol\n",
        "        pad_symbol = self.token2idx.get('PAD')\n",
        "\n",
        "        # Pad age sequences\n",
        "        age_tokens = utils.seq_padding(age_tokens, self.max_len, token2idx=self.age2idx)\n",
        "\n",
        "        # Masking: get masked code and label. Token -> Index\n",
        "        out_tokens, label = utils.random_mask(code_tokens, token2idx=self.token2idx)\n",
        "        code_tokens = utils.seq_padding(code_tokens, self.max_len)\n",
        "\n",
        "        # get the number of masked tokens\n",
        "        #n_mask = (torch.tensor(label) != -1).sum().item()\n",
        "        #print(f\"Index: {index}, Total: {num_tokens}, Masked tokens: {n_mask}, Percentage: {n_mask/num_tokens*100:.2f}%\")\n",
        "\n",
        "        # Additinal embeddings Position and Segment)\n",
        "        position = utils.position_idx(code_tokens)\n",
        "        segment = utils.index_seg(code_tokens)\n",
        "\n",
        "        # Pad tokens and lables\n",
        "        out_tokens = utils.seq_padding(out_tokens, self.max_len, symbol=pad_symbol)\n",
        "        label = utils.seq_padding(label, self.max_len, symbol=-1)     \n",
        "\n",
        "        return  torch.LongTensor(out_tokens), \\\n",
        "                torch.LongTensor(age_tokens), \\\n",
        "                torch.LongTensor(position), \\\n",
        "                torch.LongTensor(segment), \\\n",
        "                torch.LongTensor(mask), \\\n",
        "                torch.LongTensor(label)\n",
        "\n",
        "    def __len__(self):\n",
        "        return len(self.code_seqs)\n"
      ]
    },
    {
      "cell_type": "code",
      "execution_count": 13,
      "metadata": {
        "id": "N2ooyo2FBJZx"
      },
      "outputs": [],
      "source": [
        "\n",
        "token2idx = conditionsVocab[\"token2idx\"]\n",
        "age2idx = ageVocab[\"token2idx\"]\n",
        "\n",
        "dataset = MLMDataset(conditions_seqs, age_seqs, token2idx,age2idx, max_len=global_params['max_seq_len'])\n",
        "\n",
        "if (global_params[\"training_sample\"] > 0):\n",
        "    assert len(\n",
        "        dataset) == global_params[\"training_sample\"], \"The number of records is not correct\"\n",
        "else:\n",
        "    assert len(dataset) == 54498, \"The number of records is not correct\"\n"
      ]
    },
    {
      "cell_type": "code",
      "execution_count": 14,
      "metadata": {
        "colab": {
          "base_uri": "https://localhost:8080/"
        },
        "id": "UgGDNTlxBJZx",
        "outputId": "85331f3c-4dd0-438d-ab07-45f684cbce92"
      },
      "outputs": [
        {
          "output_type": "stream",
          "name": "stdout",
          "text": [
            "Input:\n",
            " tensor([  0, 254,   1, 133,   1,   3,   1, 133,   1, 133,   1, 133,   1, 133,\n",
            "          1, 133, 292,   1, 116, 133], device='cuda:0')\n",
            "\n",
            "Age:\n",
            "tensor([397, 397, 397, 411, 411, 412, 412, 412, 412, 412, 412, 412, 412, 412,\n",
            "        412, 412, 412, 412, 412, 412], device='cuda:0')\n",
            "\n",
            "Positions:\n",
            "tensor([0, 0, 0, 1, 1, 2, 2, 3, 3, 4, 4, 5, 5, 6, 6, 7, 7, 7, 8, 8],\n",
            "       device='cuda:0')\n",
            "\n",
            "Segments:\n",
            "tensor([0, 0, 0, 1, 1, 0, 0, 1, 1, 0, 0, 1, 1, 0, 0, 1, 1, 1, 0, 0],\n",
            "       device='cuda:0')\n",
            "\n",
            "tensor([1, 1, 1, 1, 1, 1, 1, 1, 1, 1], device='cuda:0')\n",
            "tensor([ -1,  -1,  -1,  -1,  -1, 133,  -1,  -1,  -1,  -1], device='cuda:0')\n",
            "0 == CLS\n",
            "1 == SEP\n",
            "2 == PAD\n",
            "3 == MASK\n",
            "4 == UNK\n",
            "tensor([  0,   3, 275,   3,  96,   1, 203,   3,  78, 163], device='cuda:0')\n"
          ]
        }
      ],
      "source": [
        "# View batch data to test how the data is loaded.\n",
        "from torch.utils.data import DataLoader\n",
        "\n",
        "def inspect_batch():\n",
        "    dataset = MLMDataset(conditions_seqs, age_seqs, token2idx, age2idx, max_len=global_params['max_seq_len'])\n",
        "    train_loader = DataLoader(dataset=dataset, batch_size=global_params['batch_size'], shuffle=False)\n",
        "    loader_iter = iter(train_loader)\n",
        "    batch = next(loader_iter)\n",
        "\n",
        "    batch = tuple(t.to(global_params['device']) for t in batch)\n",
        "    input_ids, age_ids, posi_ids, segment_ids, attMask, masked_label = batch\n",
        "    \n",
        "    # Token codes\n",
        "    p = 10\n",
        "    print(f\"Input:\\n {input_ids[p, 0:20]}\\n\")\n",
        "    print(f\"Age:\\n{age_ids[p, 0:20]}\\n\")\n",
        "    print(f\"Positions:\\n{posi_ids[p, 0:20]}\\n\")\n",
        "    print(f\"Segments:\\n{segment_ids[p, 0:20]}\\n\")\n",
        "\n",
        "    print(attMask[p, 0:10])\n",
        "    print(masked_label[p, 0:10])\n",
        "\n",
        "    # Coditions vocab\n",
        "    for i in range(5):\n",
        "      print(f\"{i} == {conditionsVocab['idx2token'][i]}\")\n",
        "\n",
        "    # Display input ids for the 2nd record in the batch\n",
        "    print(input_ids[1, 0:10])\n",
        "\n",
        "inspect_batch()\n",
        "     "
      ]
    },
    {
      "cell_type": "code",
      "execution_count": 15,
      "metadata": {
        "id": "4Np8-oq3BJZy"
      },
      "outputs": [],
      "source": [
        "from torch.utils.data import DataLoader\n",
        "\n",
        "train_loader = DataLoader(dataset=dataset, batch_size=global_params['batch_size'], shuffle=True)\n",
        "\n",
        "loader_iter = iter(train_loader)\n",
        "code_tokens, age_tokens, position, segment, mask, label = next(loader_iter)\n",
        "\n",
        "assert code_tokens.shape == (global_params['batch_size'], global_params['max_seq_len'])\n",
        "assert age_tokens.shape == (global_params['batch_size'], global_params['max_seq_len'])\n",
        "assert position.shape == (global_params['batch_size'], global_params['max_seq_len'])\n",
        "assert segment.shape == (global_params['batch_size'], global_params['max_seq_len'])\n"
      ]
    },
    {
      "cell_type": "markdown",
      "metadata": {
        "id": "oks1uW0PBJZy"
      },
      "source": [
        "### Pre-taining BEHRT"
      ]
    },
    {
      "cell_type": "markdown",
      "metadata": {
        "id": "IURSi9PxUdwA"
      },
      "source": [
        "##### Define BERT model configuration"
      ]
    },
    {
      "cell_type": "code",
      "execution_count": 16,
      "metadata": {
        "id": "8u9Mihm3BJZy"
      },
      "outputs": [],
      "source": [
        "model_config = {\n",
        "    # number of disease + symbols for word embedding\n",
        "    'vocab_size': len(conditionsVocab['token2idx'].keys()),\n",
        "\n",
        "    # word embedding and seg embedding hidden size  \n",
        "    'hidden_size': global_params['hidden_size'],\n",
        "\n",
        "    # number of vocab for seg embedding\n",
        "    'seg_vocab_size': 2,  \n",
        "\n",
        "    # number of vocab for age embedding\n",
        "    'age_vocab_size': len(ageVocab['token2idx'].keys()),\n",
        "    \n",
        "    # maximum number of tokens\n",
        "    'max_position_embedding': global_params['max_seq_len'],\n",
        "\n",
        "    # dropout rate\n",
        "    'hidden_dropout_prob': 0.1, \n",
        "\n",
        "    # number of multi-head attention layers required\n",
        "    'num_hidden_layers': global_params['num_hidden_layers'] ,  \n",
        "\n",
        "    # number of attention heads\n",
        "    'num_attention_heads': global_params['attention_heads'], \n",
        "\n",
        "    # multi-head attention dropout rate\n",
        "    'attention_probs_dropout_prob': 0.1,  \n",
        "\n",
        "    # the size of the \"intermediate\" layer in the transformer encoder\n",
        "    'intermediate_size': 512,\n",
        "\n",
        "    # The non-linear activation function in the encoder and the pooler \"gelu\", 'relu', 'swish' are supported\n",
        "    'hidden_act': 'gelu',\n",
        "\n",
        "    # The layer normalization epsilon\n",
        "    'initializer_range': 0.02, \n",
        "}"
      ]
    },
    {
      "cell_type": "code",
      "execution_count": 17,
      "metadata": {
        "id": "1WzYah5mDSyp",
        "colab": {
          "base_uri": "https://localhost:8080/"
        },
        "outputId": "29e12ca2-1fb0-4e68-efbe-a3ed563352e2"
      },
      "outputs": [
        {
          "output_type": "stream",
          "name": "stdout",
          "text": [
            "\u001b[2K     \u001b[90m━━━━━━━━━━━━━━━━━━━━━━━━━━━━━━━━━━━━━━━\u001b[0m \u001b[32m123.8/123.8 kB\u001b[0m \u001b[31m3.5 MB/s\u001b[0m eta \u001b[36m0:00:00\u001b[0m\n",
            "\u001b[2K     \u001b[90m━━━━━━━━━━━━━━━━━━━━━━━━━━━━━━━━━━━━━━\u001b[0m \u001b[32m135.6/135.6 kB\u001b[0m \u001b[31m16.1 MB/s\u001b[0m eta \u001b[36m0:00:00\u001b[0m\n",
            "\u001b[2K     \u001b[90m━━━━━━━━━━━━━━━━━━━━━━━━━━━━━━━━━━━━━━━━\u001b[0m \u001b[32m10.7/10.7 MB\u001b[0m \u001b[31m62.9 MB/s\u001b[0m eta \u001b[36m0:00:00\u001b[0m\n",
            "\u001b[2K     \u001b[90m━━━━━━━━━━━━━━━━━━━━━━━━━━━━━━━━━━━━━━━━\u001b[0m \u001b[32m79.8/79.8 kB\u001b[0m \u001b[31m8.0 MB/s\u001b[0m eta \u001b[36m0:00:00\u001b[0m\n",
            "\u001b[?25h"
          ]
        }
      ],
      "source": [
        "if not local_mode:\n",
        "    %pip install --quiet pytorch_pretrained_bert"
      ]
    },
    {
      "cell_type": "code",
      "execution_count": 18,
      "metadata": {
        "colab": {
          "base_uri": "https://localhost:8080/"
        },
        "id": "EpqTOfkfBJZz",
        "outputId": "237623cb-9ab9-492f-b3ea-94c31c9c2af3"
      },
      "outputs": [
        {
          "output_type": "stream",
          "name": "stdout",
          "text": [
            "Total number of parameters: 4488397\n"
          ]
        }
      ],
      "source": [
        "import models\n",
        "import pytorch_pretrained_bert as Bert\n",
        "import sklearn.metrics as skm\n",
        "\n",
        "import models.BertConfig as BertConfig\n",
        "import models.MLM as MLM\n",
        "from models.optimizer import adam\n",
        "\n",
        "conf = BertConfig.BertConfig(model_config)\n",
        "model = MLM.BertForMaskedLM(conf)\n",
        "model\n",
        "\n",
        "total_params = sum(p.numel() for p in model.parameters())\n",
        "print(f\"Total number of parameters: {total_params}\")"
      ]
    },
    {
      "cell_type": "code",
      "execution_count": 19,
      "metadata": {
        "colab": {
          "base_uri": "https://localhost:8080/"
        },
        "id": "T3UBaFLSBJZz",
        "outputId": "24337b44-227d-4fa5-fe4d-2f4cdb362a85"
      },
      "outputs": [
        {
          "output_type": "stream",
          "name": "stderr",
          "text": [
            "WARNING:pytorch_pretrained_bert.optimization:t_total value of -1 results in schedule not being applied\n"
          ]
        }
      ],
      "source": [
        "model = model.to(global_params['device'])\n",
        "optim = adam(params=list(model.named_parameters()), config=optim_param)\n"
      ]
    },
    {
      "cell_type": "code",
      "execution_count": 20,
      "metadata": {
        "id": "Ra0pTkvhBJZ0"
      },
      "outputs": [],
      "source": [
        "def cal_acc(label, pred):\n",
        "    logs = nn.LogSoftmax(dim=-1)\n",
        "    \n",
        "    label = label.cpu().numpy()\n",
        "\n",
        "    # Exclude tokens that were not masked\n",
        "    ind = np.where(label != -1)[0]\n",
        "\n",
        "    # Get True label\n",
        "    truelabel = label[ind]\n",
        "\n",
        "    # Get the true prediction\n",
        "    truepred = pred.detach().cpu().numpy()\n",
        "    truepred = truepred[ind]\n",
        "    truepred = logs(torch.tensor(truepred))\n",
        "    outs = [np.argmax(pred_x) for pred_x in truepred.numpy()]\n",
        "\n",
        "    # Calculate precision\n",
        "    precision = skm.precision_score(truelabel, outs, average='micro')\n",
        "\n",
        "    return precision\n"
      ]
    },
    {
      "cell_type": "code",
      "execution_count": 21,
      "metadata": {
        "id": "uhPjyDWwBJZ1"
      },
      "outputs": [],
      "source": [
        "def train(epoch, loader):\n",
        "    tr_loss = 0\n",
        "    temp_loss = 0\n",
        "    steps = 0\n",
        "    nb_tr_examples = 0\n",
        "    temp_acc = 0\n",
        "    tr_acc = 0\n",
        "    UPDATE_INTERVAL = 100\n",
        "    batch_step_count = 0\n",
        "\n",
        "    start = time.time()\n",
        "\n",
        "    for step, batch in enumerate(loader):\n",
        "        batch = tuple(t.to(global_params['device']) for t in batch)\n",
        "        token_ids, age_ids, posi_ids, segment_ids, attMask, masked_label = batch\n",
        "        batch_step_count += 1\n",
        "\n",
        "        # Ablation: AGE\n",
        "        if not include_age_seq:\n",
        "          age_ids = None\n",
        "\n",
        "        # Call Bert Model\n",
        "        loss, pred, label= model(token_ids, age_ids, segment_ids, posi_ids,attention_mask=attMask, masked_lm_labels=masked_label)\n",
        "\n",
        "        if global_params['gradient_accumulation_steps'] > 1:\n",
        "            loss = loss/global_params['gradient_accumulation_steps']\n",
        "            \n",
        "        loss.backward()\n",
        "\n",
        "        temp_loss += loss.item()\n",
        "        tr_loss += loss.item()\n",
        "\n",
        "        # Calculate MLM accuracy\n",
        "        acc = cal_acc(label, pred)\n",
        "        \n",
        "        temp_acc += acc\n",
        "        tr_acc += acc\n",
        "\n",
        "        nb_tr_examples += token_ids.size(0)\n",
        "        steps += 1\n",
        "\n",
        "        if steps % UPDATE_INTERVAL == 0 or nb_tr_examples >= conditions_seqs.shape[0]:\n",
        "            print(\"epoch: {}\\t| Batches: {}\\t| Total samples: {}\\t |Loss: {}\\t| precision: {:.4f}\\t| time: {:.2f}\".format(\n",
        "                epoch, steps, nb_tr_examples, temp_loss/batch_step_count, temp_acc/batch_step_count, time.time()-start))\n",
        "            \n",
        "            batch_step_count = 0\n",
        "            temp_loss = 0\n",
        "            temp_acc = 0\n",
        "            start = time.time()\n",
        "\n",
        "        if (steps + 1) % global_params['gradient_accumulation_steps'] == 0:\n",
        "            optim.step()\n",
        "            optim.zero_grad()\n",
        "\n",
        "    print(\"** ** * Saving fine - tuned model ** ** * \")\n",
        "    model_to_save = model.module if hasattr(model, 'module') else model  # Only save the model it-self\n",
        "    \n",
        "    utils.create_folder(file_config['model_path'])\n",
        "    output_model_file = os.path.join(file_config['model_path'], file_config['model_name'] +'.pt')\n",
        "    torch.save(model_to_save.state_dict(), output_model_file)\n",
        "        \n",
        "    cost = time.time() - start\n",
        "    acc = np.mean(tr_acc)\n",
        "    return tr_loss, cost, tr_acc"
      ]
    },
    {
      "cell_type": "markdown",
      "metadata": {
        "id": "8bkyhlHfUdwC"
      },
      "source": [
        "#### Train MLM model\n",
        "Train model, get token embeddings and save to disk."
      ]
    },
    {
      "cell_type": "code",
      "execution_count": 31,
      "metadata": {
        "id": "o-Vx6GbZBJZ1",
        "colab": {
          "base_uri": "https://localhost:8080/",
          "height": 615
        },
        "outputId": "69589b2f-e5c3-4eb9-aa03-1b533624567c"
      },
      "outputs": [
        {
          "output_type": "stream",
          "name": "stdout",
          "text": [
            "Training model. This will take time...\n"
          ]
        },
        {
          "output_type": "stream",
          "name": "stderr",
          "text": [
            "/usr/local/lib/python3.10/dist-packages/pytorch_pretrained_bert/optimization.py:275: UserWarning: This overload of add_ is deprecated:\n",
            "\tadd_(Number alpha, Tensor other)\n",
            "Consider using one of the following signatures instead:\n",
            "\tadd_(Tensor other, *, Number alpha) (Triggered internally at ../torch/csrc/utils/python_arg_parser.cpp:1485.)\n",
            "  next_m.mul_(beta1).add_(1 - beta1, grad)\n"
          ]
        },
        {
          "output_type": "stream",
          "name": "stdout",
          "text": [
            "epoch: 0\t| Batches: 100\t| Total samples: 12800\t |Loss: 4.151539986133575\t| precision: 0.3318\t| time: 85.70\n",
            "epoch: 0\t| Batches: 200\t| Total samples: 25600\t |Loss: 3.972458381652832\t| precision: 0.3415\t| time: 82.59\n",
            "epoch: 0\t| Batches: 300\t| Total samples: 38400\t |Loss: 3.832119574546814\t| precision: 0.3589\t| time: 82.60\n",
            "epoch: 0\t| Batches: 400\t| Total samples: 51200\t |Loss: 3.6383685994148256\t| precision: 0.3661\t| time: 82.59\n",
            "epoch: 0\t| Batches: 426\t| Total samples: 54498\t |Loss: 3.542133065370413\t| precision: 0.3665\t| time: 21.41\n",
            "** ** * Saving fine - tuned model ** ** * \n",
            "epoch: 1\t| Batches: 100\t| Total samples: 12800\t |Loss: 3.455389142036438\t| precision: 0.3726\t| time: 82.49\n"
          ]
        },
        {
          "output_type": "error",
          "ename": "KeyboardInterrupt",
          "evalue": "ignored",
          "traceback": [
            "\u001b[0;31m---------------------------------------------------------------------------\u001b[0m",
            "\u001b[0;31mKeyboardInterrupt\u001b[0m                         Traceback (most recent call last)",
            "\u001b[0;32m<ipython-input-31-0f651243cbe6>\u001b[0m in \u001b[0;36m<cell line: 21>\u001b[0;34m()\u001b[0m\n\u001b[1;32m     20\u001b[0m \u001b[0;34m\u001b[0m\u001b[0m\n\u001b[1;32m     21\u001b[0m \u001b[0;32mif\u001b[0m \u001b[0;34m(\u001b[0m\u001b[0mtrain_model_flag\u001b[0m\u001b[0;34m)\u001b[0m\u001b[0;34m:\u001b[0m\u001b[0;34m\u001b[0m\u001b[0;34m\u001b[0m\u001b[0m\n\u001b[0;32m---> 22\u001b[0;31m   \u001b[0mexec_training\u001b[0m\u001b[0;34m(\u001b[0m\u001b[0;34m)\u001b[0m\u001b[0;34m\u001b[0m\u001b[0;34m\u001b[0m\u001b[0m\n\u001b[0m\u001b[1;32m     23\u001b[0m \u001b[0;34m\u001b[0m\u001b[0m\n",
            "\u001b[0;32m<ipython-input-31-0f651243cbe6>\u001b[0m in \u001b[0;36mexec_training\u001b[0;34m()\u001b[0m\n\u001b[1;32m      7\u001b[0m \u001b[0;34m\u001b[0m\u001b[0m\n\u001b[1;32m      8\u001b[0m   \u001b[0;32mfor\u001b[0m \u001b[0me\u001b[0m \u001b[0;32min\u001b[0m \u001b[0mrange\u001b[0m\u001b[0;34m(\u001b[0m\u001b[0mglobal_params\u001b[0m\u001b[0;34m[\u001b[0m\u001b[0;34m\"num_epochs\"\u001b[0m\u001b[0;34m]\u001b[0m\u001b[0;34m)\u001b[0m\u001b[0;34m:\u001b[0m\u001b[0;34m\u001b[0m\u001b[0;34m\u001b[0m\u001b[0m\n\u001b[0;32m----> 9\u001b[0;31m       \u001b[0mloss\u001b[0m\u001b[0;34m,\u001b[0m \u001b[0mtime_cost\u001b[0m\u001b[0;34m,\u001b[0m \u001b[0macc\u001b[0m \u001b[0;34m=\u001b[0m \u001b[0mtrain\u001b[0m\u001b[0;34m(\u001b[0m\u001b[0me\u001b[0m\u001b[0;34m,\u001b[0m \u001b[0mtrain_loader\u001b[0m\u001b[0;34m)\u001b[0m\u001b[0;34m\u001b[0m\u001b[0;34m\u001b[0m\u001b[0m\n\u001b[0m\u001b[1;32m     10\u001b[0m       \u001b[0mdata_len\u001b[0m \u001b[0;34m=\u001b[0m \u001b[0mlen\u001b[0m\u001b[0;34m(\u001b[0m\u001b[0mtrain_loader\u001b[0m\u001b[0;34m)\u001b[0m\u001b[0;34m\u001b[0m\u001b[0;34m\u001b[0m\u001b[0m\n\u001b[1;32m     11\u001b[0m       \u001b[0mloss\u001b[0m \u001b[0;34m=\u001b[0m \u001b[0mloss\u001b[0m\u001b[0;34m/\u001b[0m\u001b[0mdata_len\u001b[0m\u001b[0;34m\u001b[0m\u001b[0;34m\u001b[0m\u001b[0m\n",
            "\u001b[0;32m<ipython-input-21-ac85537727d9>\u001b[0m in \u001b[0;36mtrain\u001b[0;34m(epoch, loader)\u001b[0m\n\u001b[1;32m     26\u001b[0m             \u001b[0mloss\u001b[0m \u001b[0;34m=\u001b[0m \u001b[0mloss\u001b[0m\u001b[0;34m/\u001b[0m\u001b[0mglobal_params\u001b[0m\u001b[0;34m[\u001b[0m\u001b[0;34m'gradient_accumulation_steps'\u001b[0m\u001b[0;34m]\u001b[0m\u001b[0;34m\u001b[0m\u001b[0;34m\u001b[0m\u001b[0m\n\u001b[1;32m     27\u001b[0m \u001b[0;34m\u001b[0m\u001b[0m\n\u001b[0;32m---> 28\u001b[0;31m         \u001b[0mloss\u001b[0m\u001b[0;34m.\u001b[0m\u001b[0mbackward\u001b[0m\u001b[0;34m(\u001b[0m\u001b[0;34m)\u001b[0m\u001b[0;34m\u001b[0m\u001b[0;34m\u001b[0m\u001b[0m\n\u001b[0m\u001b[1;32m     29\u001b[0m \u001b[0;34m\u001b[0m\u001b[0m\n\u001b[1;32m     30\u001b[0m         \u001b[0mtemp_loss\u001b[0m \u001b[0;34m+=\u001b[0m \u001b[0mloss\u001b[0m\u001b[0;34m.\u001b[0m\u001b[0mitem\u001b[0m\u001b[0;34m(\u001b[0m\u001b[0;34m)\u001b[0m\u001b[0;34m\u001b[0m\u001b[0;34m\u001b[0m\u001b[0m\n",
            "\u001b[0;32m/usr/local/lib/python3.10/dist-packages/torch/_tensor.py\u001b[0m in \u001b[0;36mbackward\u001b[0;34m(self, gradient, retain_graph, create_graph, inputs)\u001b[0m\n\u001b[1;32m    485\u001b[0m                 \u001b[0minputs\u001b[0m\u001b[0;34m=\u001b[0m\u001b[0minputs\u001b[0m\u001b[0;34m,\u001b[0m\u001b[0;34m\u001b[0m\u001b[0;34m\u001b[0m\u001b[0m\n\u001b[1;32m    486\u001b[0m             )\n\u001b[0;32m--> 487\u001b[0;31m         torch.autograd.backward(\n\u001b[0m\u001b[1;32m    488\u001b[0m             \u001b[0mself\u001b[0m\u001b[0;34m,\u001b[0m \u001b[0mgradient\u001b[0m\u001b[0;34m,\u001b[0m \u001b[0mretain_graph\u001b[0m\u001b[0;34m,\u001b[0m \u001b[0mcreate_graph\u001b[0m\u001b[0;34m,\u001b[0m \u001b[0minputs\u001b[0m\u001b[0;34m=\u001b[0m\u001b[0minputs\u001b[0m\u001b[0;34m\u001b[0m\u001b[0;34m\u001b[0m\u001b[0m\n\u001b[1;32m    489\u001b[0m         )\n",
            "\u001b[0;32m/usr/local/lib/python3.10/dist-packages/torch/autograd/__init__.py\u001b[0m in \u001b[0;36mbackward\u001b[0;34m(tensors, grad_tensors, retain_graph, create_graph, grad_variables, inputs)\u001b[0m\n\u001b[1;32m    198\u001b[0m     \u001b[0;31m# some Python versions print out the first line of a multi-line function\u001b[0m\u001b[0;34m\u001b[0m\u001b[0;34m\u001b[0m\u001b[0m\n\u001b[1;32m    199\u001b[0m     \u001b[0;31m# calls in the traceback and some print out the last line\u001b[0m\u001b[0;34m\u001b[0m\u001b[0;34m\u001b[0m\u001b[0m\n\u001b[0;32m--> 200\u001b[0;31m     Variable._execution_engine.run_backward(  # Calls into the C++ engine to run the backward pass\n\u001b[0m\u001b[1;32m    201\u001b[0m         \u001b[0mtensors\u001b[0m\u001b[0;34m,\u001b[0m \u001b[0mgrad_tensors_\u001b[0m\u001b[0;34m,\u001b[0m \u001b[0mretain_graph\u001b[0m\u001b[0;34m,\u001b[0m \u001b[0mcreate_graph\u001b[0m\u001b[0;34m,\u001b[0m \u001b[0minputs\u001b[0m\u001b[0;34m,\u001b[0m\u001b[0;34m\u001b[0m\u001b[0;34m\u001b[0m\u001b[0m\n\u001b[1;32m    202\u001b[0m         allow_unreachable=True, accumulate_grad=True)  # Calls into the C++ engine to run the backward pass\n",
            "\u001b[0;31mKeyboardInterrupt\u001b[0m: "
          ]
        }
      ],
      "source": [
        "def exec_training():\n",
        "  f = open(os.path.join(file_config['model_path'],file_config['log_file_name']), \"w\")\n",
        "  print(\"Training model. This will take time...\")\n",
        "\n",
        "  model.train(True)\n",
        "  best_acc = 0\n",
        "\n",
        "  for e in range(global_params[\"num_epochs\"]):\n",
        "      loss, time_cost, acc = train(e, train_loader)\n",
        "      data_len = len(train_loader)\n",
        "      loss = loss/data_len\n",
        "      acc = acc/ data_len\n",
        "      if (best_acc < acc):\n",
        "        best_acc = acc\n",
        "\n",
        "      f.write('Epoch={}\\t, Loss={}\\t, Acc={}\\t, Time cost={}\\n'.format(e, loss, acc, time_cost))\n",
        "\n",
        "  f.close()\n",
        "  print(f\"Best accuracy: {best_acc}\")\n",
        "\n",
        "if (train_model_flag):\n",
        "  exec_training()\n",
        "\n"
      ]
    },
    {
      "cell_type": "markdown",
      "metadata": {
        "id": "D4NKFPFSUdwC"
      },
      "source": [
        "#### Reload the model from disk"
      ]
    },
    {
      "cell_type": "code",
      "execution_count": 23,
      "metadata": {
        "id": "7Fscv_8gUdwC",
        "colab": {
          "base_uri": "https://localhost:8080/"
        },
        "outputId": "1de74c03-9cd1-408a-c3b5-2c36af4d11ad"
      },
      "outputs": [
        {
          "output_type": "stream",
          "name": "stdout",
          "text": [
            "odict_keys(['bert.embeddings.word_embeddings.weight', 'bert.embeddings.segment_embeddings.weight', 'bert.embeddings.age_embeddings.weight', 'bert.embeddings.posi_embeddings.weight', 'bert.embeddings.LayerNorm.weight', 'bert.embeddings.LayerNorm.bias', 'bert.encoder.layer.0.attention.self.query.weight', 'bert.encoder.layer.0.attention.self.query.bias', 'bert.encoder.layer.0.attention.self.key.weight', 'bert.encoder.layer.0.attention.self.key.bias', 'bert.encoder.layer.0.attention.self.value.weight', 'bert.encoder.layer.0.attention.self.value.bias', 'bert.encoder.layer.0.attention.output.dense.weight', 'bert.encoder.layer.0.attention.output.dense.bias', 'bert.encoder.layer.0.attention.output.LayerNorm.weight', 'bert.encoder.layer.0.attention.output.LayerNorm.bias', 'bert.encoder.layer.0.intermediate.dense.weight', 'bert.encoder.layer.0.intermediate.dense.bias', 'bert.encoder.layer.0.output.dense.weight', 'bert.encoder.layer.0.output.dense.bias', 'bert.encoder.layer.0.output.LayerNorm.weight', 'bert.encoder.layer.0.output.LayerNorm.bias', 'bert.encoder.layer.1.attention.self.query.weight', 'bert.encoder.layer.1.attention.self.query.bias', 'bert.encoder.layer.1.attention.self.key.weight', 'bert.encoder.layer.1.attention.self.key.bias', 'bert.encoder.layer.1.attention.self.value.weight', 'bert.encoder.layer.1.attention.self.value.bias', 'bert.encoder.layer.1.attention.output.dense.weight', 'bert.encoder.layer.1.attention.output.dense.bias', 'bert.encoder.layer.1.attention.output.LayerNorm.weight', 'bert.encoder.layer.1.attention.output.LayerNorm.bias', 'bert.encoder.layer.1.intermediate.dense.weight', 'bert.encoder.layer.1.intermediate.dense.bias', 'bert.encoder.layer.1.output.dense.weight', 'bert.encoder.layer.1.output.dense.bias', 'bert.encoder.layer.1.output.LayerNorm.weight', 'bert.encoder.layer.1.output.LayerNorm.bias', 'bert.encoder.layer.2.attention.self.query.weight', 'bert.encoder.layer.2.attention.self.query.bias', 'bert.encoder.layer.2.attention.self.key.weight', 'bert.encoder.layer.2.attention.self.key.bias', 'bert.encoder.layer.2.attention.self.value.weight', 'bert.encoder.layer.2.attention.self.value.bias', 'bert.encoder.layer.2.attention.output.dense.weight', 'bert.encoder.layer.2.attention.output.dense.bias', 'bert.encoder.layer.2.attention.output.LayerNorm.weight', 'bert.encoder.layer.2.attention.output.LayerNorm.bias', 'bert.encoder.layer.2.intermediate.dense.weight', 'bert.encoder.layer.2.intermediate.dense.bias', 'bert.encoder.layer.2.output.dense.weight', 'bert.encoder.layer.2.output.dense.bias', 'bert.encoder.layer.2.output.LayerNorm.weight', 'bert.encoder.layer.2.output.LayerNorm.bias', 'bert.encoder.layer.3.attention.self.query.weight', 'bert.encoder.layer.3.attention.self.query.bias', 'bert.encoder.layer.3.attention.self.key.weight', 'bert.encoder.layer.3.attention.self.key.bias', 'bert.encoder.layer.3.attention.self.value.weight', 'bert.encoder.layer.3.attention.self.value.bias', 'bert.encoder.layer.3.attention.output.dense.weight', 'bert.encoder.layer.3.attention.output.dense.bias', 'bert.encoder.layer.3.attention.output.LayerNorm.weight', 'bert.encoder.layer.3.attention.output.LayerNorm.bias', 'bert.encoder.layer.3.intermediate.dense.weight', 'bert.encoder.layer.3.intermediate.dense.bias', 'bert.encoder.layer.3.output.dense.weight', 'bert.encoder.layer.3.output.dense.bias', 'bert.encoder.layer.3.output.LayerNorm.weight', 'bert.encoder.layer.3.output.LayerNorm.bias', 'bert.encoder.layer.4.attention.self.query.weight', 'bert.encoder.layer.4.attention.self.query.bias', 'bert.encoder.layer.4.attention.self.key.weight', 'bert.encoder.layer.4.attention.self.key.bias', 'bert.encoder.layer.4.attention.self.value.weight', 'bert.encoder.layer.4.attention.self.value.bias', 'bert.encoder.layer.4.attention.output.dense.weight', 'bert.encoder.layer.4.attention.output.dense.bias', 'bert.encoder.layer.4.attention.output.LayerNorm.weight', 'bert.encoder.layer.4.attention.output.LayerNorm.bias', 'bert.encoder.layer.4.intermediate.dense.weight', 'bert.encoder.layer.4.intermediate.dense.bias', 'bert.encoder.layer.4.output.dense.weight', 'bert.encoder.layer.4.output.dense.bias', 'bert.encoder.layer.4.output.LayerNorm.weight', 'bert.encoder.layer.4.output.LayerNorm.bias', 'bert.encoder.layer.5.attention.self.query.weight', 'bert.encoder.layer.5.attention.self.query.bias', 'bert.encoder.layer.5.attention.self.key.weight', 'bert.encoder.layer.5.attention.self.key.bias', 'bert.encoder.layer.5.attention.self.value.weight', 'bert.encoder.layer.5.attention.self.value.bias', 'bert.encoder.layer.5.attention.output.dense.weight', 'bert.encoder.layer.5.attention.output.dense.bias', 'bert.encoder.layer.5.attention.output.LayerNorm.weight', 'bert.encoder.layer.5.attention.output.LayerNorm.bias', 'bert.encoder.layer.5.intermediate.dense.weight', 'bert.encoder.layer.5.intermediate.dense.bias', 'bert.encoder.layer.5.output.dense.weight', 'bert.encoder.layer.5.output.dense.bias', 'bert.encoder.layer.5.output.LayerNorm.weight', 'bert.encoder.layer.5.output.LayerNorm.bias', 'bert.pooler.dense.weight', 'bert.pooler.dense.bias', 'cls.predictions.bias', 'cls.predictions.transform.dense.weight', 'cls.predictions.transform.dense.bias', 'cls.predictions.transform.LayerNorm.weight', 'cls.predictions.transform.LayerNorm.bias', 'cls.predictions.decoder.weight'])\n",
            "torch.Size([301, 288])\n"
          ]
        }
      ],
      "source": [
        "output_model_file = os.path.join(file_config['model_path'], file_config['model_name']) + '.pt'\n",
        "model.eval()\n",
        "\n",
        "data = torch.load(output_model_file, map_location='cpu')\n",
        "print(data.keys())\n",
        "word_embedding = data['bert.embeddings.word_embeddings.weight']\n",
        "print(word_embedding.shape)\n"
      ]
    },
    {
      "cell_type": "code",
      "source": [
        "output_model_file = os.path.join(file_config['model_path'], file_config['model_name'])+'.pt'\n",
        "torch.save(model.state_dict(), output_model_file)"
      ],
      "metadata": {
        "id": "2cTbGtzmtPIL"
      },
      "execution_count": 24,
      "outputs": []
    },
    {
      "cell_type": "markdown",
      "metadata": {
        "id": "zrBUO5yBUdwD"
      },
      "source": [
        "#### Map the word embedding to the original vocab in 2D space"
      ]
    },
    {
      "cell_type": "code",
      "source": [
        "if not local_mode:\n",
        "  %pip install --quiet mpld3"
      ],
      "metadata": {
        "id": "MYRI0JKoW8Rs",
        "colab": {
          "base_uri": "https://localhost:8080/"
        },
        "outputId": "c9db18c6-3fce-42cf-eb23-c4fed0d391a9"
      },
      "execution_count": 25,
      "outputs": [
        {
          "output_type": "stream",
          "name": "stdout",
          "text": [
            "\u001b[?25l     \u001b[90m━━━━━━━━━━━━━━━━━━━━━━━━━━━━━━━━━━━━━━━━\u001b[0m \u001b[32m0.0/201.2 kB\u001b[0m \u001b[31m?\u001b[0m eta \u001b[36m-:--:--\u001b[0m\r\u001b[2K     \u001b[90m━━━━━━━━━━━━━━━━━━━━━━━━━━━━━━━━━━━━━━━\u001b[0m \u001b[32m201.2/201.2 kB\u001b[0m \u001b[31m6.4 MB/s\u001b[0m eta \u001b[36m0:00:00\u001b[0m\n",
            "\u001b[?25h"
          ]
        }
      ]
    },
    {
      "cell_type": "code",
      "source": [
        "cos = torch.nn.CosineSimilarity(dim=0, eps=1e-6)\n",
        "from numpy.linalg import norm\n",
        "\n",
        "# Find the top X similar conditions\n",
        "data = word_embedding\n",
        "\n",
        "max_similars = 20\n",
        "similars = []\n",
        "for i in range(5, len(data)-1):\n",
        "  for j in range(i+1, len(data)):\n",
        "    sort_list = False\n",
        "\n",
        "    similarity =  cos(data[i], data[j])\n",
        "    item = (i, j, similarity)\n",
        "  \n",
        "    if (len(similars) <  max_similars):\n",
        "      similars.append(item)\n",
        "      sort_list = True\n",
        "    else:\n",
        "      if (similarity > similars[max_similars-1][2] ):\n",
        "        similars[max_similars-1] = item\n",
        "        sort_list = True\n",
        "\n",
        "    if (sort_list):\n",
        "      similars.sort(key=lambda item:item[2], reverse=True)\n",
        "\n",
        "for item in similars:\n",
        "  code1 = conditionsVocab[\"idx2token\"][item[0]]\n",
        "  label1 = condition_codes[condition_codes[\"condition\"] == str(code1)][\"condition_name\"].values[0]\n",
        "\n",
        "  code2 = conditionsVocab[\"idx2token\"][item[1]]\n",
        "  label2 = condition_codes[condition_codes[\"condition\"] == str(code2)][\"condition_name\"].values[0]\n",
        "\n",
        "  #print(f\"A={item[0]}, B={item[1]}, Label={label1} \\n\\t {label2}, Similarity={item[2]}\")\n",
        "  print(f\"{label1} \\n\\t {label2}, Similarity={item[2]}\")\n"
      ],
      "metadata": {
        "id": "8qbLPDrS-SXW",
        "colab": {
          "base_uri": "https://localhost:8080/"
        },
        "outputId": "9ab24fa8-7e29-42a9-af81-0d317cb4985a"
      },
      "execution_count": 26,
      "outputs": [
        {
          "output_type": "stream",
          "name": "stdout",
          "text": [
            "Other maternal diseases classifiable elsewhere but complicating pregnancy, childbirth and the puerperium \n",
            "\t Weeks of gestation, Similarity=0.6521257162094116\n",
            "Supervision of high risk pregnancy \n",
            "\t Other maternal diseases classifiable elsewhere but complicating pregnancy, childbirth and the puerperium, Similarity=0.6405696272850037\n",
            "Supervision of high risk pregnancy \n",
            "\t Weeks of gestation, Similarity=0.637302041053772\n",
            "Other hemorrhoids \n",
            "\t Polyp of colon, Similarity=0.6263095736503601\n",
            "Neoplasm of uncertain behavior of skin \n",
            "\t Actinic keratosis, Similarity=0.6259315013885498\n",
            "Subacute and chronic vulvitis \n",
            "\t Other specified noninflammatory disorders of vagina, Similarity=0.624294638633728\n",
            "Obstructive and reflux uropathy \n",
            "\t Calculus of kidney and ureter, Similarity=0.6137647032737732\n",
            "Benign neoplasm of colon, rectum, anus and anal canal \n",
            "\t Diverticular disease of intestine, Similarity=0.6117430329322815\n",
            "Other diseases of anus and rectum \n",
            "\t Hemorrhoids and perianal venous thrombosis, Similarity=0.6104586720466614\n",
            "Superficial injury of head \n",
            "\t Other and unspecified injuries of head, Similarity=0.6079360246658325\n",
            "Benign neoplasm of colon, rectum, anus and anal canal \n",
            "\t Hemorrhoids and perianal venous thrombosis, Similarity=0.603598415851593\n",
            "Alcohol abuse \n",
            "\t Alcohol dependence, Similarity=0.6028408408164978\n",
            "Diverticular disease of large intestine without perforation or abscess \n",
            "\t Polyp of colon, Similarity=0.5936653017997742\n",
            "Other and unspecified ovarian cysts \n",
            "\t Leiomyoma of uterus, unspecified, Similarity=0.5918169021606445\n",
            "Diverticular disease of large intestine without perforation or abscess \n",
            "\t Other hemorrhoids, Similarity=0.5874903798103333\n",
            "Open wound of head \n",
            "\t Other and unspecified injuries of head, Similarity=0.5814423561096191\n",
            "Benign neoplasm of colon, rectum, anus and anal canal \n",
            "\t Other diseases of intestine, Similarity=0.5748730897903442\n",
            "Other specified disorders of nose and nasal sinuses \n",
            "\t Chronic sinusitis, unspecified, Similarity=0.5707678198814392\n",
            "Chronic sinusitis \n",
            "\t Other and unspecified disorders of nose and nasal sinuses, Similarity=0.567510187625885\n",
            "Benign prostatic hyperplasia without lower urinary tract symptoms \n",
            "\t Benign prostatic hyperplasia with lower urinary tract symptoms, Similarity=0.5647885203361511\n"
          ]
        }
      ]
    },
    {
      "cell_type": "code",
      "source": [
        "from sklearn.manifold import TSNE\n",
        "import seaborn as sns\n",
        "import pandas as pd\n",
        "import mpld3\n",
        "\n",
        "data = word_embedding\n",
        "\n",
        "tsne = TSNE(n_components=2, verbose=1, random_state=123)\n",
        "z = tsne.fit_transform(data)\n",
        "\n",
        "# Obtain labels for each point to use as a color\n",
        "x = z[:, 0]\n",
        "y = z[:, 1]\n",
        "\n",
        "# plot\n",
        "fig = plt.figure( figsize=(10,4), facecolor=\"white\", edgecolor='white')\n",
        "ax = fig.add_subplot()\n",
        "\n",
        "# Create the tooltip\n",
        "labels=[\"\"] * 5\n",
        "\n",
        "colors = np.zeros((len(conditionsVocab[\"idx2token\"])))\n",
        "\n",
        "for i in range(5, len(x)):\n",
        "    code = conditionsVocab[\"idx2token\"][i]\n",
        "    label = condition_codes[condition_codes[\"condition\"] == str(code)][\"condition_name\"].values[0]\n",
        "    labels.append('<div class=\"tooltip\">' + label + '</div>')\n",
        "\n",
        "    # Highlight selected conditions for visual inspection\n",
        "    if \"diabetes\" in label.lower():\n",
        "      colors[i] = 1\n",
        "    \n",
        "    if \"otitis\" in label.lower():\n",
        "       colors[i] = 1\n",
        "    \n",
        "    if \"anemia\" in label.lower():\n",
        "       colors[i] = 1\n",
        "\n",
        "    if \"bipolar\" in label.lower():\n",
        "       colors[i] = 1\n",
        "    \n",
        "    if \"bronchitis\" in label.lower():\n",
        "       colors[i] = 1\n",
        "       \n",
        "\n",
        "scatter = ax.scatter(x, y, c=colors, cmap='rainbow')\n",
        "ax.set_facecolor(\"white\")\n",
        "plt.rcParams['axes.facecolor'] = 'gray'\n",
        "\n",
        "# CSS\n",
        "css = \"\"\"\n",
        "  .tooltip\n",
        "  {\n",
        "    background-color: #cccccc;\n",
        "    font-family:Arial, Helvetica, sans-serif;\n",
        "    border: 1px solid black;\n",
        "    text-align: right;\n",
        "  }\n",
        "\"\"\"\n",
        "tooltip = mpld3.plugins.PointHTMLTooltip(scatter, labels=labels, css=css)\n",
        "\n",
        "# Add the tooltip to the plot\n",
        "mpld3.plugins.connect(fig, tooltip )\n",
        "\n",
        "# Display the plot\n",
        "mpld3.display()\n",
        "\n"
      ],
      "metadata": {
        "id": "YjZ8n-x5cZav",
        "colab": {
          "base_uri": "https://localhost:8080/",
          "height": 549
        },
        "outputId": "16dc210e-b2fb-490f-ad53-99c200bebacf"
      },
      "execution_count": 27,
      "outputs": [
        {
          "output_type": "stream",
          "name": "stdout",
          "text": [
            "[t-SNE] Computing 91 nearest neighbors...\n",
            "[t-SNE] Indexed 301 samples in 0.002s...\n",
            "[t-SNE] Computed neighbors for 301 samples in 0.065s...\n",
            "[t-SNE] Computed conditional probabilities for sample 301 / 301\n",
            "[t-SNE] Mean sigma: 0.228540\n",
            "[t-SNE] KL divergence after 250 iterations with early exaggeration: 58.205742\n",
            "[t-SNE] KL divergence after 1000 iterations: 0.883180\n"
          ]
        },
        {
          "output_type": "execute_result",
          "data": {
            "text/plain": [
              "<IPython.core.display.HTML object>"
            ],
            "text/html": [
              "\n",
              "\n",
              "<style>\n",
              "\n",
              "  .tooltip\n",
              "  {\n",
              "    background-color: #cccccc;\n",
              "    font-family:Arial, Helvetica, sans-serif;\n",
              "    border: 1px solid black;\n",
              "    text-align: right;\n",
              "  }\n",
              "\n",
              "</style>\n",
              "\n",
              "<div id=\"fig_el3211402243479124167748556814\"></div>\n",
              "<script>\n",
              "function mpld3_load_lib(url, callback){\n",
              "  var s = document.createElement('script');\n",
              "  s.src = url;\n",
              "  s.async = true;\n",
              "  s.onreadystatechange = s.onload = callback;\n",
              "  s.onerror = function(){console.warn(\"failed to load library \" + url);};\n",
              "  document.getElementsByTagName(\"head\")[0].appendChild(s);\n",
              "}\n",
              "\n",
              "if(typeof(mpld3) !== \"undefined\" && mpld3._mpld3IsLoaded){\n",
              "   // already loaded: just create the figure\n",
              "   !function(mpld3){\n",
              "       \n",
              "    mpld3.register_plugin(\"htmltooltip\", HtmlTooltipPlugin);\n",
              "    HtmlTooltipPlugin.prototype = Object.create(mpld3.Plugin.prototype);\n",
              "    HtmlTooltipPlugin.prototype.constructor = HtmlTooltipPlugin;\n",
              "    HtmlTooltipPlugin.prototype.requiredProps = [\"id\"];\n",
              "    HtmlTooltipPlugin.prototype.defaultProps = {labels:null,\n",
              "                                                target:null,\n",
              "                                                hoffset:0,\n",
              "                                                voffset:10,\n",
              "                                                targets:null};\n",
              "    function HtmlTooltipPlugin(fig, props){\n",
              "        mpld3.Plugin.call(this, fig, props);\n",
              "    };\n",
              "\n",
              "    HtmlTooltipPlugin.prototype.draw = function(){\n",
              "        var obj = mpld3.get_element(this.props.id);\n",
              "        var labels = this.props.labels;\n",
              "        var targets = this.props.targets;\n",
              "        var tooltip = d3.select(\"body\").append(\"div\")\n",
              "            .attr(\"class\", \"mpld3-tooltip\")\n",
              "            .style(\"position\", \"absolute\")\n",
              "            .style(\"z-index\", \"10\")\n",
              "            .style(\"visibility\", \"hidden\");\n",
              "\n",
              "        obj.elements()\n",
              "            .on(\"mouseover\", function(d, i){\n",
              "                tooltip.html(labels[i])\n",
              "                    .style(\"visibility\", \"visible\");\n",
              "            })\n",
              "            .on(\"mousemove\", function(d, i){\n",
              "                tooltip\n",
              "                .style(\"top\", d3.event.pageY + this.props.voffset + \"px\")\n",
              "                .style(\"left\",d3.event.pageX + this.props.hoffset + \"px\");\n",
              "            }.bind(this))\n",
              "            .on(\"mousedown.callout\", function(d, i){\n",
              "                window.open(targets[i],\"_blank\");\n",
              "            })\n",
              "            .on(\"mouseout\", function(d, i){\n",
              "                tooltip.style(\"visibility\", \"hidden\");\n",
              "            });\n",
              "    };\n",
              "    \n",
              "       mpld3.draw_figure(\"fig_el3211402243479124167748556814\", {\"width\": 1000.0, \"height\": 400.0, \"axes\": [{\"bbox\": [0.125, 0.10999999999999999, 0.775, 0.77], \"xlim\": [-24.60175256729126, 21.982484149932862], \"ylim\": [-25.496708393096924, 22.267767429351807], \"xdomain\": [-24.60175256729126, 21.982484149932862], \"ydomain\": [-25.496708393096924, 22.267767429351807], \"xscale\": \"linear\", \"yscale\": \"linear\", \"axes\": [{\"position\": \"bottom\", \"nticks\": 7, \"tickvalues\": null, \"tickformat_formatter\": \"\", \"tickformat\": null, \"scale\": \"linear\", \"fontsize\": 10.0, \"grid\": {\"gridOn\": false}, \"visible\": true}, {\"position\": \"left\", \"nticks\": 7, \"tickvalues\": null, \"tickformat_formatter\": \"\", \"tickformat\": null, \"scale\": \"linear\", \"fontsize\": 10.0, \"grid\": {\"gridOn\": false}, \"visible\": true}], \"axesbg\": \"#FFFFFF\", \"axesbgalpha\": null, \"zoomable\": true, \"id\": \"el321140224347902144\", \"lines\": [], \"paths\": [], \"markers\": [], \"texts\": [], \"collections\": [{\"offsets\": \"data01\", \"xindex\": 0, \"yindex\": 1, \"paths\": [[[[0.0, -0.5], [0.13260155, -0.5], [0.25978993539242673, -0.44731684579412084], [0.3535533905932738, -0.3535533905932738], [0.44731684579412084, -0.25978993539242673], [0.5, -0.13260155], [0.5, 0.0], [0.5, 0.13260155], [0.44731684579412084, 0.25978993539242673], [0.3535533905932738, 0.3535533905932738], [0.25978993539242673, 0.44731684579412084], [0.13260155, 0.5], [0.0, 0.5], [-0.13260155, 0.5], [-0.25978993539242673, 0.44731684579412084], [-0.3535533905932738, 0.3535533905932738], [-0.44731684579412084, 0.25978993539242673], [-0.5, 0.13260155], [-0.5, 0.0], [-0.5, -0.13260155], [-0.44731684579412084, -0.25978993539242673], [-0.3535533905932738, -0.3535533905932738], [-0.25978993539242673, -0.44731684579412084], [-0.13260155, -0.5], [0.0, -0.5]], [\"M\", \"C\", \"C\", \"C\", \"C\", \"C\", \"C\", \"C\", \"C\", \"Z\"]]], \"pathtransforms\": [[8.333333333333334, 0.0, 0.0, 8.333333333333334, 0.0, 0.0]], \"alphas\": [null], \"edgecolors\": [\"#7F00FF\", \"#7F00FF\", \"#7F00FF\", \"#7F00FF\", \"#7F00FF\", \"#7F00FF\", \"#7F00FF\", \"#7F00FF\", \"#7F00FF\", \"#7F00FF\", \"#7F00FF\", \"#7F00FF\", \"#7F00FF\", \"#7F00FF\", \"#FF0000\", \"#FF0000\", \"#7F00FF\", \"#7F00FF\", \"#7F00FF\", \"#FF0000\", \"#FF0000\", \"#FF0000\", \"#FF0000\", \"#7F00FF\", \"#7F00FF\", \"#7F00FF\", \"#7F00FF\", \"#7F00FF\", \"#7F00FF\", \"#7F00FF\", \"#7F00FF\", \"#7F00FF\", \"#7F00FF\", \"#7F00FF\", \"#7F00FF\", \"#7F00FF\", \"#7F00FF\", \"#FF0000\", \"#7F00FF\", \"#7F00FF\", \"#7F00FF\", \"#7F00FF\", \"#7F00FF\", \"#7F00FF\", \"#7F00FF\", \"#7F00FF\", \"#7F00FF\", \"#7F00FF\", \"#7F00FF\", \"#7F00FF\", \"#7F00FF\", \"#7F00FF\", \"#7F00FF\", \"#7F00FF\", \"#7F00FF\", \"#7F00FF\", \"#7F00FF\", \"#7F00FF\", \"#7F00FF\", \"#7F00FF\", \"#7F00FF\", \"#7F00FF\", \"#7F00FF\", \"#7F00FF\", \"#7F00FF\", \"#7F00FF\", \"#7F00FF\", \"#7F00FF\", \"#FF0000\", \"#FF0000\", \"#7F00FF\", \"#7F00FF\", \"#7F00FF\", \"#7F00FF\", \"#7F00FF\", \"#7F00FF\", \"#7F00FF\", \"#7F00FF\", \"#7F00FF\", \"#7F00FF\", \"#7F00FF\", \"#7F00FF\", \"#FF0000\", \"#7F00FF\", \"#7F00FF\", \"#7F00FF\", \"#7F00FF\", \"#7F00FF\", \"#7F00FF\", \"#7F00FF\", \"#7F00FF\", \"#7F00FF\", \"#7F00FF\", \"#7F00FF\", \"#7F00FF\", \"#7F00FF\", \"#7F00FF\", \"#7F00FF\", \"#7F00FF\", \"#7F00FF\", \"#7F00FF\", \"#7F00FF\", \"#7F00FF\", \"#7F00FF\", \"#7F00FF\", \"#7F00FF\", \"#7F00FF\", \"#7F00FF\", \"#7F00FF\", \"#7F00FF\", \"#7F00FF\", \"#7F00FF\", \"#7F00FF\", \"#7F00FF\", \"#7F00FF\", \"#7F00FF\", \"#7F00FF\", \"#7F00FF\", \"#7F00FF\", \"#7F00FF\", \"#7F00FF\", \"#7F00FF\", \"#7F00FF\", \"#7F00FF\", \"#7F00FF\", \"#7F00FF\", \"#7F00FF\", \"#7F00FF\", \"#7F00FF\", \"#7F00FF\", \"#7F00FF\", \"#7F00FF\", \"#7F00FF\", \"#7F00FF\", \"#7F00FF\", \"#7F00FF\", \"#7F00FF\", \"#7F00FF\", \"#7F00FF\", \"#7F00FF\", \"#7F00FF\", \"#7F00FF\", \"#7F00FF\", \"#7F00FF\", \"#7F00FF\", \"#7F00FF\", \"#7F00FF\", \"#7F00FF\", \"#7F00FF\", \"#7F00FF\", \"#7F00FF\", \"#7F00FF\", \"#7F00FF\", \"#7F00FF\", \"#7F00FF\", \"#7F00FF\", \"#7F00FF\", \"#7F00FF\", \"#7F00FF\", \"#7F00FF\", \"#7F00FF\", \"#7F00FF\", \"#7F00FF\", \"#7F00FF\", \"#7F00FF\", \"#7F00FF\", \"#7F00FF\", \"#7F00FF\", \"#7F00FF\", \"#7F00FF\", \"#7F00FF\", \"#7F00FF\", \"#7F00FF\", \"#7F00FF\", \"#7F00FF\", \"#7F00FF\", \"#7F00FF\", \"#7F00FF\", \"#7F00FF\", \"#7F00FF\", \"#7F00FF\", \"#7F00FF\", \"#7F00FF\", \"#7F00FF\", \"#7F00FF\", \"#7F00FF\", \"#7F00FF\", \"#7F00FF\", \"#7F00FF\", \"#7F00FF\", \"#7F00FF\", \"#7F00FF\", \"#7F00FF\", \"#7F00FF\", \"#7F00FF\", \"#7F00FF\", \"#7F00FF\", \"#7F00FF\", \"#7F00FF\", \"#7F00FF\", \"#7F00FF\", \"#7F00FF\", \"#7F00FF\", \"#7F00FF\", \"#7F00FF\", \"#7F00FF\", \"#7F00FF\", \"#7F00FF\", \"#7F00FF\", \"#7F00FF\", \"#7F00FF\", \"#7F00FF\", \"#FF0000\", \"#FF0000\", \"#FF0000\", \"#7F00FF\", \"#FF0000\", \"#7F00FF\", \"#7F00FF\", \"#7F00FF\", \"#7F00FF\", \"#7F00FF\", \"#7F00FF\", \"#7F00FF\", \"#7F00FF\", \"#FF0000\", \"#7F00FF\", \"#7F00FF\", \"#7F00FF\", \"#7F00FF\", \"#7F00FF\", \"#7F00FF\", \"#7F00FF\", \"#7F00FF\", \"#7F00FF\", \"#7F00FF\", \"#7F00FF\", \"#7F00FF\", \"#7F00FF\", \"#7F00FF\", \"#7F00FF\", \"#FF0000\", \"#7F00FF\", \"#7F00FF\", \"#FF0000\", \"#7F00FF\", \"#7F00FF\", \"#7F00FF\", \"#7F00FF\", \"#7F00FF\", \"#7F00FF\", \"#7F00FF\", \"#7F00FF\", \"#7F00FF\", \"#7F00FF\", \"#7F00FF\", \"#7F00FF\", \"#7F00FF\", \"#7F00FF\", \"#7F00FF\", \"#7F00FF\", \"#7F00FF\", \"#7F00FF\", \"#7F00FF\", \"#7F00FF\", \"#7F00FF\", \"#7F00FF\", \"#7F00FF\", \"#7F00FF\", \"#7F00FF\", \"#7F00FF\", \"#7F00FF\", \"#7F00FF\", \"#7F00FF\", \"#7F00FF\", \"#7F00FF\", \"#7F00FF\", \"#7F00FF\", \"#7F00FF\", \"#7F00FF\", \"#7F00FF\", \"#7F00FF\", \"#7F00FF\", \"#7F00FF\", \"#7F00FF\", \"#7F00FF\", \"#7F00FF\", \"#7F00FF\", \"#7F00FF\", \"#7F00FF\", \"#7F00FF\", \"#7F00FF\", \"#7F00FF\", \"#7F00FF\", \"#7F00FF\", \"#7F00FF\", \"#7F00FF\", \"#7F00FF\", \"#7F00FF\", \"#7F00FF\", \"#7F00FF\"], \"facecolors\": [\"#7F00FF\", \"#7F00FF\", \"#7F00FF\", \"#7F00FF\", \"#7F00FF\", \"#7F00FF\", \"#7F00FF\", \"#7F00FF\", \"#7F00FF\", \"#7F00FF\", \"#7F00FF\", \"#7F00FF\", \"#7F00FF\", \"#7F00FF\", \"#FF0000\", \"#FF0000\", \"#7F00FF\", \"#7F00FF\", \"#7F00FF\", \"#FF0000\", \"#FF0000\", \"#FF0000\", \"#FF0000\", \"#7F00FF\", \"#7F00FF\", \"#7F00FF\", \"#7F00FF\", \"#7F00FF\", \"#7F00FF\", \"#7F00FF\", \"#7F00FF\", \"#7F00FF\", \"#7F00FF\", \"#7F00FF\", \"#7F00FF\", \"#7F00FF\", \"#7F00FF\", \"#FF0000\", \"#7F00FF\", \"#7F00FF\", \"#7F00FF\", \"#7F00FF\", \"#7F00FF\", \"#7F00FF\", \"#7F00FF\", \"#7F00FF\", \"#7F00FF\", \"#7F00FF\", \"#7F00FF\", \"#7F00FF\", \"#7F00FF\", \"#7F00FF\", \"#7F00FF\", \"#7F00FF\", \"#7F00FF\", \"#7F00FF\", \"#7F00FF\", \"#7F00FF\", \"#7F00FF\", \"#7F00FF\", \"#7F00FF\", \"#7F00FF\", \"#7F00FF\", \"#7F00FF\", \"#7F00FF\", \"#7F00FF\", \"#7F00FF\", \"#7F00FF\", \"#FF0000\", \"#FF0000\", \"#7F00FF\", \"#7F00FF\", \"#7F00FF\", \"#7F00FF\", \"#7F00FF\", \"#7F00FF\", \"#7F00FF\", \"#7F00FF\", \"#7F00FF\", \"#7F00FF\", \"#7F00FF\", \"#7F00FF\", \"#FF0000\", \"#7F00FF\", \"#7F00FF\", \"#7F00FF\", \"#7F00FF\", \"#7F00FF\", \"#7F00FF\", \"#7F00FF\", \"#7F00FF\", \"#7F00FF\", \"#7F00FF\", \"#7F00FF\", \"#7F00FF\", \"#7F00FF\", \"#7F00FF\", \"#7F00FF\", \"#7F00FF\", \"#7F00FF\", \"#7F00FF\", \"#7F00FF\", \"#7F00FF\", \"#7F00FF\", \"#7F00FF\", \"#7F00FF\", \"#7F00FF\", \"#7F00FF\", \"#7F00FF\", \"#7F00FF\", \"#7F00FF\", \"#7F00FF\", \"#7F00FF\", \"#7F00FF\", \"#7F00FF\", \"#7F00FF\", \"#7F00FF\", \"#7F00FF\", \"#7F00FF\", \"#7F00FF\", \"#7F00FF\", \"#7F00FF\", \"#7F00FF\", \"#7F00FF\", \"#7F00FF\", \"#7F00FF\", \"#7F00FF\", \"#7F00FF\", \"#7F00FF\", \"#7F00FF\", \"#7F00FF\", \"#7F00FF\", \"#7F00FF\", \"#7F00FF\", \"#7F00FF\", \"#7F00FF\", \"#7F00FF\", \"#7F00FF\", \"#7F00FF\", \"#7F00FF\", \"#7F00FF\", \"#7F00FF\", \"#7F00FF\", \"#7F00FF\", \"#7F00FF\", \"#7F00FF\", \"#7F00FF\", \"#7F00FF\", \"#7F00FF\", \"#7F00FF\", \"#7F00FF\", \"#7F00FF\", \"#7F00FF\", \"#7F00FF\", \"#7F00FF\", \"#7F00FF\", \"#7F00FF\", \"#7F00FF\", \"#7F00FF\", \"#7F00FF\", \"#7F00FF\", \"#7F00FF\", \"#7F00FF\", \"#7F00FF\", \"#7F00FF\", \"#7F00FF\", \"#7F00FF\", \"#7F00FF\", \"#7F00FF\", \"#7F00FF\", \"#7F00FF\", \"#7F00FF\", \"#7F00FF\", \"#7F00FF\", \"#7F00FF\", \"#7F00FF\", \"#7F00FF\", \"#7F00FF\", \"#7F00FF\", \"#7F00FF\", \"#7F00FF\", \"#7F00FF\", \"#7F00FF\", \"#7F00FF\", \"#7F00FF\", \"#7F00FF\", \"#7F00FF\", \"#7F00FF\", \"#7F00FF\", \"#7F00FF\", \"#7F00FF\", \"#7F00FF\", \"#7F00FF\", \"#7F00FF\", \"#7F00FF\", \"#7F00FF\", \"#7F00FF\", \"#7F00FF\", \"#7F00FF\", \"#7F00FF\", \"#7F00FF\", \"#7F00FF\", \"#7F00FF\", \"#7F00FF\", \"#7F00FF\", \"#7F00FF\", \"#7F00FF\", \"#7F00FF\", \"#7F00FF\", \"#7F00FF\", \"#7F00FF\", \"#7F00FF\", \"#FF0000\", \"#FF0000\", \"#FF0000\", \"#7F00FF\", \"#FF0000\", \"#7F00FF\", \"#7F00FF\", \"#7F00FF\", \"#7F00FF\", \"#7F00FF\", \"#7F00FF\", \"#7F00FF\", \"#7F00FF\", \"#FF0000\", \"#7F00FF\", \"#7F00FF\", \"#7F00FF\", \"#7F00FF\", \"#7F00FF\", \"#7F00FF\", \"#7F00FF\", \"#7F00FF\", \"#7F00FF\", \"#7F00FF\", \"#7F00FF\", \"#7F00FF\", \"#7F00FF\", \"#7F00FF\", \"#7F00FF\", \"#FF0000\", \"#7F00FF\", \"#7F00FF\", \"#FF0000\", \"#7F00FF\", \"#7F00FF\", \"#7F00FF\", \"#7F00FF\", \"#7F00FF\", \"#7F00FF\", \"#7F00FF\", \"#7F00FF\", \"#7F00FF\", \"#7F00FF\", \"#7F00FF\", \"#7F00FF\", \"#7F00FF\", \"#7F00FF\", \"#7F00FF\", \"#7F00FF\", \"#7F00FF\", \"#7F00FF\", \"#7F00FF\", \"#7F00FF\", \"#7F00FF\", \"#7F00FF\", \"#7F00FF\", \"#7F00FF\", \"#7F00FF\", \"#7F00FF\", \"#7F00FF\", \"#7F00FF\", \"#7F00FF\", \"#7F00FF\", \"#7F00FF\", \"#7F00FF\", \"#7F00FF\", \"#7F00FF\", \"#7F00FF\", \"#7F00FF\", \"#7F00FF\", \"#7F00FF\", \"#7F00FF\", \"#7F00FF\", \"#7F00FF\", \"#7F00FF\", \"#7F00FF\", \"#7F00FF\", \"#7F00FF\", \"#7F00FF\", \"#7F00FF\", \"#7F00FF\", \"#7F00FF\", \"#7F00FF\", \"#7F00FF\", \"#7F00FF\", \"#7F00FF\", \"#7F00FF\", \"#7F00FF\", \"#7F00FF\"], \"edgewidths\": [1.0], \"offsetcoordinates\": \"data\", \"pathcoordinates\": \"display\", \"zorder\": 1, \"id\": \"el321140224179048880\"}], \"images\": [], \"sharex\": [], \"sharey\": []}], \"data\": {\"data01\": [[3.34719181060791, 0.6105183959007263], [3.674755811691284, -0.9447815418243408], [1.4145134687423706, -2.413965940475464], [3.363046884536743, -0.752531886100769], [1.4137376546859741, -2.386838912963867], [-18.44879150390625, 13.089099884033203], [-18.04693603515625, 13.310247421264648], [6.546633720397949, -12.123919486999512], [3.300483226776123, -9.966586112976074], [9.845844268798828, -5.419911861419678], [-1.0948892831802368, -5.128264904022217], [-1.1855216026306152, -4.593842029571533], [8.794230461120605, -17.24558448791504], [5.370364189147949, -18.8160400390625], [6.911796569824219, -21.00015640258789], [6.757262706756592, -21.130212783813477], [6.012974262237549, -12.775596618652344], [15.85680103302002, 0.9258955717086792], [12.299788475036621, -12.579419136047363], [-18.089218139648438, 2.1219701766967773], [-18.216150283813477, 2.9971187114715576], [-16.948238372802734, 5.036821365356445], [-17.37258529663086, 4.80008602142334], [-12.997611999511719, 5.911106586456299], [14.89272689819336, -3.4739902019500732], [13.212000846862793, -2.751955270767212], [-2.7611382007598877, 19.970552444458008], [13.957478523254395, -1.5772494077682495], [4.481585502624512, -11.997724533081055], [7.148038387298584, -13.111786842346191], [-5.7847394943237305, -9.714871406555176], [-6.887569904327393, 1.414172649383545], [-6.793659687042236, 1.1840565204620361], [-6.678079605102539, -10.992372512817383], [-6.415404796600342, -9.037179946899414], [-4.69730806350708, -9.24609661102295], [-7.149524211883545, 2.683530330657959], [-7.470329284667969, -10.250401496887207], [19.7813663482666, -6.348714828491211], [19.570253372192383, -7.357484817504883], [-7.988364219665527, -6.548893928527832], [19.865018844604492, -5.9991302490234375], [18.6202449798584, -7.056422710418701], [-8.09422779083252, -1.0826822519302368], [-9.994607925415039, -1.0370811223983765], [-2.379666328430176, -10.752082824707031], [-9.042591094970703, -4.868899345397949], [-8.925374984741211, -6.2795305252075195], [-1.1256020069122314, -8.62698745727539], [-0.7227954864501953, -0.21657632291316986], [-1.2689604759216309, 0.7463845610618591], [16.538705825805664, -13.22298526763916], [16.415790557861328, -6.890252113342285], [-9.71668529510498, 3.1858458518981934], [-0.2729325592517853, 19.500839233398438], [14.083597183227539, -16.97512435913086], [-15.472020149230957, 14.165297508239746], [16.522371292114258, -18.914518356323242], [-18.598419189453125, 19.728958129882812], [3.4314072132110596, -6.9076666831970215], [14.472322463989258, -10.305191040039062], [-7.898653030395508, 13.387557029724121], [14.160412788391113, -10.750964164733887], [14.278014183044434, -9.554374694824219], [13.037147521972656, -9.305809020996094], [12.761999130249023, -9.106142044067383], [9.00917911529541, -7.738712310791016], [3.2652382850646973, 11.382458686828613], [3.3006465435028076, -8.087587356567383], [4.850927829742432, 11.461389541625977], [9.165332794189453, -7.737051010131836], [-16.83408546447754, -3.8146350383758545], [-16.672527313232422, -2.8610262870788574], [-14.48539924621582, -4.562570095062256], [-14.230226516723633, -3.4160492420196533], [-15.237611770629883, -4.791201591491699], [5.316251277923584, -7.777571678161621], [4.43245267868042, 13.595227241516113], [3.995776891708374, -9.321526527404785], [6.653173923492432, 12.34643268585205], [3.898076057434082, -8.386918067932129], [6.282740116119385, -10.433452606201172], [5.638856410980225, -8.312883377075195], [2.0589029788970947, -8.058206558227539], [4.42861795425415, -6.047674179077148], [-6.48864221572876, 7.673881530761719], [6.29763650894165, -6.1262640953063965], [6.5974016189575195, -6.435317516326904], [2.625497341156006, 12.780449867248535], [-4.3275604248046875, -6.275763511657715], [4.175043106079102, -4.570014476776123], [-6.564026832580566, 5.840602874755859], [5.80690860748291, -15.804661750793457], [6.070897579193115, -15.892486572265625], [-2.799269914627075, 11.290719985961914], [8.81879997253418, -15.391891479492188], [3.2392818927764893, -12.738017082214355], [8.597902297973633, -16.748228073120117], [-5.733723163604736, 13.268819808959961], [3.5969126224517822, -15.371042251586914], [-0.36327216029167175, 11.420299530029297], [7.4479475021362305, -17.866186141967773], [8.559122085571289, -18.120506286621094], [7.884365081787109, -17.43072509765625], [-5.835928440093994, 12.71275520324707], [7.7468132972717285, -15.148120880126953], [0.4778123199939728, -13.874699592590332], [0.7836151719093323, -13.841364860534668], [-11.132312774658203, 13.271854400634766], [9.27219295501709, -4.454887866973877], [11.890803337097168, -7.1431989669799805], [10.994674682617188, -4.415791988372803], [13.816943168640137, -23.32559585571289], [12.269401550292969, -22.2780704498291], [-11.327606201171875, 18.763132095336914], [13.477238655090332, -22.07759666442871], [-9.742180824279785, 16.93548011779785], [15.190404891967773, -20.47211265563965], [-12.593544960021973, 15.812295913696289], [17.387557983398438, -17.602256774902344], [-19.2176513671875, 17.443580627441406], [18.013652801513672, -17.46234893798828], [-17.893848419189453, 17.1224422454834], [17.12678337097168, -16.775815963745117], [-19.58188247680664, 14.20638656616211], [-19.84405517578125, 14.694482803344727], [18.58500862121582, -17.655797958374023], [-18.629356384277344, 16.246761322021484], [-18.78302574157715, 17.034317016601562], [17.58125877380371, -19.646516799926758], [-19.644397735595703, 16.19365882873535], [-17.69806671142578, 14.97661304473877], [17.883256912231445, -21.165042877197266], [-22.48428726196289, 13.80306625366211], [12.83708667755127, -20.164230346679688], [13.667695045471191, -20.7757568359375], [-14.71788215637207, 12.05759048461914], [13.20972728729248, -19.28704833984375], [14.717228889465332, -19.001371383666992], [-12.25407886505127, 14.828353881835938], [18.72829246520996, -19.85566520690918], [-21.89811134338379, 14.344428062438965], [2.68109393119812, -21.240442276000977], [7.77978515625, -12.19810676574707], [2.7791683673858643, -21.325172424316406], [1.8740712404251099, -18.53997802734375], [1.1621885299682617, -18.01238250732422], [0.2932403087615967, -21.401752471923828], [3.1044178009033203, -18.004079818725586], [4.312338829040527, 6.1340227127075195], [4.878617763519287, -18.89628028869629], [-6.5645599365234375, -16.40419578552246], [-6.25886869430542, -15.778584480285645], [2.8174326419830322, 4.341481685638428], [10.308004379272461, -10.939872741699219], [9.808964729309082, -12.99828052520752], [7.71671199798584, -9.459614753723145], [0.09302156418561935, 16.85380744934082], [0.3642193078994751, 17.172866821289062], [9.590126037597656, -10.353342056274414], [-1.0554872751235962, 15.162845611572266], [7.129755973815918, -6.968029975891113], [2.7543628215789795, 17.289634704589844], [4.0950140953063965, -14.99138069152832], [-2.421916961669922, 10.682976722717285], [-0.6422308087348938, 8.970520973205566], [-1.258484125137329, 10.598649024963379], [4.147573947906494, -13.274462699890137], [3.5540356636047363, -13.97746753692627], [14.129866600036621, -16.597576141357422], [11.890469551086426, -13.721762657165527], [17.29613494873047, -22.348312377929688], [2.028310775756836, -18.290163040161133], [1.9616256952285767, -19.6536808013916], [0.6372164487838745, -20.2230224609375], [0.08706268668174744, -20.154268264770508], [-0.46472230553627014, -9.106400489807129], [-4.123525619506836, 1.784435749053955], [4.247829437255859, -10.184391021728516], [14.826006889343262, -5.4521965980529785], [-5.853307247161865, 10.368619918823242], [12.02773380279541, -14.810627937316895], [-2.3254153728485107, -10.667677879333496], [0.7768754959106445, 13.06016731262207], [14.469122886657715, -2.4524168968200684], [-5.626254558563232, 17.912477493286133], [10.04112434387207, -11.19831657409668], [-2.344216823577881, 16.20118522644043], [1.2691359519958496, -10.818321228027344], [0.448763906955719, -11.342586517333984], [0.9722110033035278, -10.957661628723145], [-2.8977210521698, 3.4702277183532715], [17.697172164916992, -14.405267715454102], [17.90222930908203, -14.63476848602295], [-14.754473686218262, 11.82380485534668], [-2.621553659439087, -14.05289363861084], [-0.8587245941162109, -13.416378021240234], [-2.04740834236145, -13.88441276550293], [-2.077420711517334, -16.36432647705078], [11.603109359741211, -22.12902069091797], [-12.176800727844238, 18.272537231445312], [-1.746334433555603, -16.398826599121094], [-13.549704551696777, 17.490339279174805], [-6.1357035636901855, -16.041229248046875], [8.191113471984863, 8.577791213989258], [11.02998161315918, -16.765317916870117], [11.191981315612793, -6.028223991394043], [1.4436370134353638, 0.11555667221546173], [6.44291877746582, 11.042287826538086], [-10.460294723510742, 7.035300254821777], [4.437770843505859, 5.661116600036621], [-8.628067970275879, 11.132192611694336], [-0.302293986082077, 4.534879684448242], [0.3108215630054474, 2.484038829803467], [-0.4090122580528259, 4.763835906982422], [15.903703689575195, 1.4979403018951416], [-17.966981887817383, 4.021659851074219], [-12.700716018676758, 6.330888271331787], [-6.600224494934082, 16.183034896850586], [-3.052119731903076, 19.882932662963867], [-7.247598171234131, 17.688579559326172], [-5.434248447418213, 16.922731399536133], [-6.418215274810791, 19.55421257019043], [-3.3509018421173096, 5.573492050170898], [-5.73249626159668, -0.907981276512146], [-7.072018623352051, -0.7453098893165588], [-10.403932571411133, 1.7601311206817627], [-11.538947105407715, 1.1982759237289429], [-7.3325066566467285, -2.550665855407715], [-9.6093168258667, 0.24904301762580872], [-10.104782104492188, 2.0380091667175293], [-9.44797134399414, -3.146425485610962], [-3.7802205085754395, 0.30932289361953735], [-3.7910752296447754, -2.528933048248291], [12.634302139282227, 0.007378539070487022], [-14.98421859741211, -2.4046759605407715], [-3.8332064151763916, 1.946776270866394], [6.563830375671387, -3.526301860809326], [5.987956523895264, 12.603434562683105], [5.007810592651367, 12.286394119262695], [2.813863754272461, 16.668588638305664], [5.091653347015381, 14.155694007873535], [-6.717965602874756, 7.6777143478393555], [2.622093915939331, 13.146973609924316], [5.639578342437744, -2.2472548484802246], [-4.5659499168396, -5.720813274383545], [-2.6364598274230957, 12.400064468383789], [1.1588839292526245, 10.46700382232666], [-6.265298843383789, 12.99887466430664], [3.9573476314544678, 10.191320419311523], [-8.642699241638184, 11.208552360534668], [5.172473430633545, 8.218705177307129], [-11.283001899719238, 18.458269119262695], [-21.610107421875, 15.715566635131836], [-21.047191619873047, 16.887287139892578], [-22.26249885559082, 15.950933456420898], [-19.48531723022461, 18.95429229736328], [-15.858832359313965, 16.20884895324707], [-15.885695457458496, 17.110977172851562], [-11.434294700622559, 14.331023216247559], [-7.0551838874816895, 15.555248260498047], [-2.7049598693847656, 6.148859977722168], [-3.6879665851593018, 8.500997543334961], [1.439259648323059, 7.632535934448242], [2.3372089862823486, 5.79515266418457], [2.575744867324829, 5.494588851928711], [-3.1999166011810303, 15.480402946472168], [-3.0281808376312256, 15.848855018615723], [6.289007663726807, -1.2515705823898315], [3.6156005859375, 6.802223205566406], [8.562573432922363, -2.864785671234131], [-14.091249465942383, 19.616464614868164], [1.1108534336090088, 7.339476108551025], [-2.2193470001220703, -2.1451804637908936], [7.92464542388916, 1.4887747764587402], [5.8134894371032715, 10.52230453491211], [8.045645713806152, 0.6473864316940308], [5.619141578674316, 1.266724705696106], [8.070539474487305, 2.1265792846679688], [-10.618063926696777, 14.22635555267334], [6.863757610321045, -10.482651710510254], [-6.606633186340332, 20.096654891967773], [-1.0168845653533936, 15.225238800048828], [-2.13430118560791, 9.218130111694336], [1.5709013938903809, 9.775604248046875], [0.42325136065483093, 10.482769966125488], [-10.39955997467041, 9.012109756469727], [-2.1284542083740234, 6.868291854858398], [-4.281337261199951, 3.069269895553589], [-10.02079963684082, -6.324427604675293], [0.47906574606895447, 7.10606050491333], [-0.7507361173629761, 9.854399681091309], [-3.666255474090576, 11.533087730407715], [10.81193733215332, 1.257590651512146], [-6.697915077209473, 6.3715715408325195], [7.341037273406982, -2.2076258659362793], [-9.691462516784668, 16.798933029174805], [3.0744619369506836, 14.234716415405273], [-10.347554206848145, 8.642473220825195], [-1.44058358669281, 8.351613998413086], [-15.53148365020752, 14.618461608886719]]}, \"id\": \"el321140224347912416\", \"plugins\": [{\"type\": \"reset\"}, {\"type\": \"zoom\", \"button\": true, \"enabled\": false}, {\"type\": \"boxzoom\", \"button\": true, \"enabled\": false}, {\"type\": \"htmltooltip\", \"id\": \"el321140224179048880\", \"labels\": [\"\", \"\", \"\", \"\", \"\", \"<div class=\\\"tooltip\\\">Sprain of joints and ligaments of other parts of neck</div>\", \"<div class=\\\"tooltip\\\">Sprain of ligaments of lumbar spine</div>\", \"<div class=\\\"tooltip\\\">Other sepsis</div>\", \"<div class=\\\"tooltip\\\">Viral infection of unspecified site</div>\", \"<div class=\\\"tooltip\\\">Dermatophytosis</div>\", \"<div class=\\\"tooltip\\\">Malignant neoplasm of breast</div>\", \"<div class=\\\"tooltip\\\">Malignant neoplasm of breast of unspecified site</div>\", \"<div class=\\\"tooltip\\\">Benign neoplasm of colon, rectum, anus and anal canal</div>\", \"<div class=\\\"tooltip\\\">Leiomyoma of uterus</div>\", \"<div class=\\\"tooltip\\\">Iron deficiency anemia</div>\", \"<div class=\\\"tooltip\\\">Other anemias</div>\", \"<div class=\\\"tooltip\\\">Other disorders of white blood cells</div>\", \"<div class=\\\"tooltip\\\">Other hypothyroidism</div>\", \"<div class=\\\"tooltip\\\">Other nontoxic goiter</div>\", \"<div class=\\\"tooltip\\\">Type 1 diabetes mellitus</div>\", \"<div class=\\\"tooltip\\\">Type 2 diabetes mellitus</div>\", \"<div class=\\\"tooltip\\\">Type 2 diabetes mellitus with neurological complications</div>\", \"<div class=\\\"tooltip\\\">Type 2 diabetes mellitus with other specified complications</div>\", \"<div class=\\\"tooltip\\\">Testicular dysfunction</div>\", \"<div class=\\\"tooltip\\\">Vitamin D deficiency</div>\", \"<div class=\\\"tooltip\\\">Overweight and obesity</div>\", \"<div class=\\\"tooltip\\\">Obesity due to excess calories</div>\", \"<div class=\\\"tooltip\\\">Disorders of lipoprotein metabolism and other lipidemias</div>\", \"<div class=\\\"tooltip\\\">Volume depletion</div>\", \"<div class=\\\"tooltip\\\">Other disorders of fluid, electrolyte and acid-base balance</div>\", \"<div class=\\\"tooltip\\\">Alcohol related disorders</div>\", \"<div class=\\\"tooltip\\\">Alcohol abuse</div>\", \"<div class=\\\"tooltip\\\">Alcohol dependence</div>\", \"<div class=\\\"tooltip\\\">Opioid related disorders</div>\", \"<div class=\\\"tooltip\\\">Cannabis related disorders</div>\", \"<div class=\\\"tooltip\\\">Nicotine dependence</div>\", \"<div class=\\\"tooltip\\\">Nicotine dependence</div>\", \"<div class=\\\"tooltip\\\">Bipolar disorder</div>\", \"<div class=\\\"tooltip\\\">Depressive episode</div>\", \"<div class=\\\"tooltip\\\">Major depressive disorder, recurrent</div>\", \"<div class=\\\"tooltip\\\">Persistent mood [affective] disorders</div>\", \"<div class=\\\"tooltip\\\">Other anxiety disorders</div>\", \"<div class=\\\"tooltip\\\">Reaction to severe stress, and adjustment disorders</div>\", \"<div class=\\\"tooltip\\\">Post-traumatic stress disorder (PTSD)</div>\", \"<div class=\\\"tooltip\\\">Adjustment disorders</div>\", \"<div class=\\\"tooltip\\\">Specific developmental disorders of speech and language</div>\", \"<div class=\\\"tooltip\\\">Attention-deficit hyperactivity disorders</div>\", \"<div class=\\\"tooltip\\\">Conduct disorders</div>\", \"<div class=\\\"tooltip\\\">Epilepsy and recurrent seizures</div>\", \"<div class=\\\"tooltip\\\">Migraine</div>\", \"<div class=\\\"tooltip\\\">Migraine, unspecified</div>\", \"<div class=\\\"tooltip\\\">Other headache syndromes</div>\", \"<div class=\\\"tooltip\\\">Sleep disorders</div>\", \"<div class=\\\"tooltip\\\">Insomnia</div>\", \"<div class=\\\"tooltip\\\">Sleep apnea</div>\", \"<div class=\\\"tooltip\\\">Mononeuropathies of upper limb</div>\", \"<div class=\\\"tooltip\\\">Carpal tunnel syndrome</div>\", \"<div class=\\\"tooltip\\\">Pain, not elsewhere classified</div>\", \"<div class=\\\"tooltip\\\">Chronic pain, not elsewhere classified</div>\", \"<div class=\\\"tooltip\\\">Conjunctivitis</div>\", \"<div class=\\\"tooltip\\\">Age-related cataract</div>\", \"<div class=\\\"tooltip\\\">Age-related nuclear cataract</div>\", \"<div class=\\\"tooltip\\\">Other retinal disorders</div>\", \"<div class=\\\"tooltip\\\">Glaucoma</div>\", \"<div class=\\\"tooltip\\\">Disorders of refraction and accommodation</div>\", \"<div class=\\\"tooltip\\\">Visual disturbances</div>\", \"<div class=\\\"tooltip\\\">Other disorders of external ear</div>\", \"<div class=\\\"tooltip\\\">Impacted cerumen</div>\", \"<div class=\\\"tooltip\\\">Suppurative and unspecified otitis media</div>\", \"<div class=\\\"tooltip\\\">Otitis media, unspecified</div>\", \"<div class=\\\"tooltip\\\">Conductive and sensorineural hearing loss</div>\", \"<div class=\\\"tooltip\\\">Chronic ischemic heart disease</div>\", \"<div class=\\\"tooltip\\\">Atherosclerotic heart disease of native coronary artery</div>\", \"<div class=\\\"tooltip\\\">Atrial fibrillation and flutter</div>\", \"<div class=\\\"tooltip\\\">Unspecified atrial fibrillation and atrial flutter</div>\", \"<div class=\\\"tooltip\\\">Heart failure</div>\", \"<div class=\\\"tooltip\\\">Acute sinusitis</div>\", \"<div class=\\\"tooltip\\\">Acute sinusitis, unspecified</div>\", \"<div class=\\\"tooltip\\\">Acute pharyngitis</div>\", \"<div class=\\\"tooltip\\\">Streptococcal tonsillitis</div>\", \"<div class=\\\"tooltip\\\">Acute upper respiratory infections of multiple and unspecified sites</div>\", \"<div class=\\\"tooltip\\\">Pneumonia, unspecified organism</div>\", \"<div class=\\\"tooltip\\\">Acute bronchitis</div>\", \"<div class=\\\"tooltip\\\">Acute bronchiolitis</div>\", \"<div class=\\\"tooltip\\\">Vasomotor and allergic rhinitis</div>\", \"<div class=\\\"tooltip\\\">Other allergic rhinitis</div>\", \"<div class=\\\"tooltip\\\">Chronic sinusitis</div>\", \"<div class=\\\"tooltip\\\">Other and unspecified disorders of nose and nasal sinuses</div>\", \"<div class=\\\"tooltip\\\">Other specified disorders of nose and nasal sinuses</div>\", \"<div class=\\\"tooltip\\\">Other chronic obstructive pulmonary disease</div>\", \"<div class=\\\"tooltip\\\">Asthma</div>\", \"<div class=\\\"tooltip\\\">Other and unspecified asthma</div>\", \"<div class=\\\"tooltip\\\">Gastro-esophageal reflux disease</div>\", \"<div class=\\\"tooltip\\\">Gastritis and duodenitis</div>\", \"<div class=\\\"tooltip\\\">Gastroduodenitis, unspecified</div>\", \"<div class=\\\"tooltip\\\">Inguinal hernia</div>\", \"<div class=\\\"tooltip\\\">Other and unspecified noninfective gastroenteritis and colitis</div>\", \"<div class=\\\"tooltip\\\">Diverticular disease of intestine</div>\", \"<div class=\\\"tooltip\\\">Diverticular disease of large intestine without perforation or abscess</div>\", \"<div class=\\\"tooltip\\\">Other functional intestinal disorders</div>\", \"<div class=\\\"tooltip\\\">Constipation</div>\", \"<div class=\\\"tooltip\\\">Other diseases of anus and rectum</div>\", \"<div class=\\\"tooltip\\\">Other diseases of intestine</div>\", \"<div class=\\\"tooltip\\\">Hemorrhoids and perianal venous thrombosis</div>\", \"<div class=\\\"tooltip\\\">Other hemorrhoids</div>\", \"<div class=\\\"tooltip\\\">Cholelithiasis</div>\", \"<div class=\\\"tooltip\\\">Cutaneous abscess, furuncle and carbuncle</div>\", \"<div class=\\\"tooltip\\\">Cellulitis and acute lymphangitis</div>\", \"<div class=\\\"tooltip\\\">Cellulitis and acute lymphangitis of other parts of limb</div>\", \"<div class=\\\"tooltip\\\">Other and unspecified dermatitis</div>\", \"<div class=\\\"tooltip\\\">Skin changes due to chronic exposure to nonionizing radiation</div>\", \"<div class=\\\"tooltip\\\">Acne</div>\", \"<div class=\\\"tooltip\\\">Osteoarthritis of hip</div>\", \"<div class=\\\"tooltip\\\">Osteoarthritis of knee</div>\", \"<div class=\\\"tooltip\\\">Unilateral primary osteoarthritis of knee</div>\", \"<div class=\\\"tooltip\\\">Other and unspecified osteoarthritis</div>\", \"<div class=\\\"tooltip\\\">Osteoarthritis, unspecified site</div>\", \"<div class=\\\"tooltip\\\">Other joint disorder, not elsewhere classified</div>\", \"<div class=\\\"tooltip\\\">Pain in joint</div>\", \"<div class=\\\"tooltip\\\">Spondylosis</div>\", \"<div class=\\\"tooltip\\\">Other spondylosis</div>\", \"<div class=\\\"tooltip\\\">Other spondylopathies</div>\", \"<div class=\\\"tooltip\\\">Spinal stenosis</div>\", \"<div class=\\\"tooltip\\\">Cervical disc disorders</div>\", \"<div class=\\\"tooltip\\\">Other cervical disc displacement</div>\", \"<div class=\\\"tooltip\\\">Other cervical disc degeneration</div>\", \"<div class=\\\"tooltip\\\">Thoracic, thoracolumbar, and lumbosacral intervertebral disc disorders</div>\", \"<div class=\\\"tooltip\\\">Other thoracic, thoracolumbar and lumbosacral intervertebral disc displacement</div>\", \"<div class=\\\"tooltip\\\">Other thoracic, thoracolumbar and lumbosacral intervertebral disc degeneration</div>\", \"<div class=\\\"tooltip\\\">Dorsalgia</div>\", \"<div class=\\\"tooltip\\\">Radiculopathy</div>\", \"<div class=\\\"tooltip\\\">Sciatica</div>\", \"<div class=\\\"tooltip\\\">Other disorders of muscle</div>\", \"<div class=\\\"tooltip\\\">Other specified disorders of muscle</div>\", \"<div class=\\\"tooltip\\\">Synovitis and tenosynovitis</div>\", \"<div class=\\\"tooltip\\\">Shoulder lesions</div>\", \"<div class=\\\"tooltip\\\">Bursitis of shoulder</div>\", \"<div class=\\\"tooltip\\\">Other enthesopathies</div>\", \"<div class=\\\"tooltip\\\">Other and unspecified soft tissue disorders, not elsewhere classified</div>\", \"<div class=\\\"tooltip\\\">Pain in limb, hand, foot, fingers and toes</div>\", \"<div class=\\\"tooltip\\\">Biomechanical lesions, not elsewhere classified</div>\", \"<div class=\\\"tooltip\\\">Segmental and somatic dysfunction</div>\", \"<div class=\\\"tooltip\\\">Obstructive and reflux uropathy</div>\", \"<div class=\\\"tooltip\\\">Chronic kidney disease (CKD)</div>\", \"<div class=\\\"tooltip\\\">Calculus of kidney and ureter</div>\", \"<div class=\\\"tooltip\\\">Cystitis</div>\", \"<div class=\\\"tooltip\\\">Other disorders of urinary system</div>\", \"<div class=\\\"tooltip\\\">Benign prostatic hyperplasia</div>\", \"<div class=\\\"tooltip\\\">Other inflammation of vagina and vulva</div>\", \"<div class=\\\"tooltip\\\">Other and unspecified ovarian cysts</div>\", \"<div class=\\\"tooltip\\\">Excessive, frequent and irregular menstruation</div>\", \"<div class=\\\"tooltip\\\">Supervision of high risk pregnancy</div>\", \"<div class=\\\"tooltip\\\">Other maternal diseases classifiable elsewhere but complicating pregnancy, childbirth and the puerperium</div>\", \"<div class=\\\"tooltip\\\">Endocrine, nutritional and metabolic diseases complicating pregnancy, childbirth and the puerperium</div>\", \"<div class=\\\"tooltip\\\">Abnormalities of heart beat</div>\", \"<div class=\\\"tooltip\\\">Abnormal blood-pressure reading, without diagnosis</div>\", \"<div class=\\\"tooltip\\\">Abnormalities of breathing</div>\", \"<div class=\\\"tooltip\\\">Dyspnea</div>\", \"<div class=\\\"tooltip\\\">Other abnormalities of breathing</div>\", \"<div class=\\\"tooltip\\\">Pain in throat and chest</div>\", \"<div class=\\\"tooltip\\\">Other chest pain</div>\", \"<div class=\\\"tooltip\\\">Other symptoms and signs involving the circulatory and respiratory system</div>\", \"<div class=\\\"tooltip\\\">Asphyxia and hypoxemia</div>\", \"<div class=\\\"tooltip\\\">Abdominal and pelvic pain</div>\", \"<div class=\\\"tooltip\\\">Pain localized to upper abdomen</div>\", \"<div class=\\\"tooltip\\\">Pain localized to other parts of lower abdomen</div>\", \"<div class=\\\"tooltip\\\">Other abdominal pain</div>\", \"<div class=\\\"tooltip\\\">Nausea and vomiting</div>\", \"<div class=\\\"tooltip\\\">Other symptoms and signs involving the digestive system and abdomen</div>\", \"<div class=\\\"tooltip\\\">Disturbances of skin sensation</div>\", \"<div class=\\\"tooltip\\\">Localized swelling, mass and lump of skin and subcutaneous tissue</div>\", \"<div class=\\\"tooltip\\\">Other symptoms and signs involving the nervous and musculoskeletal systems</div>\", \"<div class=\\\"tooltip\\\">Pain associated with micturition</div>\", \"<div class=\\\"tooltip\\\">Hematuria</div>\", \"<div class=\\\"tooltip\\\">Polyuria</div>\", \"<div class=\\\"tooltip\\\">Other and unspecified symptoms and signs involving the genitourinary system</div>\", \"<div class=\\\"tooltip\\\">Other symptoms and signs involving cognitive functions and awareness</div>\", \"<div class=\\\"tooltip\\\">Other symptoms and signs involving cognitive functions and awareness</div>\", \"<div class=\\\"tooltip\\\">Fever of other and unknown origin</div>\", \"<div class=\\\"tooltip\\\">Malaise and fatigue</div>\", \"<div class=\\\"tooltip\\\">Other malaise and fatigue</div>\", \"<div class=\\\"tooltip\\\">Edema, not elsewhere classified</div>\", \"<div class=\\\"tooltip\\\">Lack of expected normal physiological development in childhood and adults</div>\", \"<div class=\\\"tooltip\\\">Other general symptoms and signs</div>\", \"<div class=\\\"tooltip\\\">Elevated blood glucose level</div>\", \"<div class=\\\"tooltip\\\">Abnormal glucose</div>\", \"<div class=\\\"tooltip\\\">Abnormal results of function studies</div>\", \"<div class=\\\"tooltip\\\">Abnormal results of cardiovascular function studies</div>\", \"<div class=\\\"tooltip\\\">Superficial injury of head</div>\", \"<div class=\\\"tooltip\\\">Open wound of head</div>\", \"<div class=\\\"tooltip\\\">Other and unspecified injuries of head</div>\", \"<div class=\\\"tooltip\\\">Unspecified injury of face and head</div>\", \"<div class=\\\"tooltip\\\">Dislocation and sprain of joints and ligaments at neck level</div>\", \"<div class=\\\"tooltip\\\">Other and unspecified injuries of abdomen, lower back, pelvis and external genitals</div>\", \"<div class=\\\"tooltip\\\">Sprain of shoulder joint</div>\", \"<div class=\\\"tooltip\\\">Fracture of forearm</div>\", \"<div class=\\\"tooltip\\\">Open wound of wrist, hand and fingers</div>\", \"<div class=\\\"tooltip\\\">Fracture at wrist and hand level</div>\", \"<div class=\\\"tooltip\\\">Fracture of lower leg, including ankle</div>\", \"<div class=\\\"tooltip\\\">Dislocation and sprain of joints and ligaments of knee</div>\", \"<div class=\\\"tooltip\\\">Tear of meniscus, current injury</div>\", \"<div class=\\\"tooltip\\\">Dislocation and sprain of joints and ligaments at ankle, foot and toe level</div>\", \"<div class=\\\"tooltip\\\">Injury of unspecified muscle and tendon at ankle and foot level</div>\", \"<div class=\\\"tooltip\\\">Weeks of gestation</div>\", \"<div class=\\\"tooltip\\\">Single liveborn infant, born in hospital</div>\", \"<div class=\\\"tooltip\\\">Other postprocedural states</div>\", \"<div class=\\\"tooltip\\\">Viral warts</div>\", \"<div class=\\\"tooltip\\\">Human immunodeficiency virus [HIV] disease</div>\", \"<div class=\\\"tooltip\\\">Other viral agents as the cause of diseases classified elsewhere</div>\", \"<div class=\\\"tooltip\\\">Malignant neoplasm of prostate</div>\", \"<div class=\\\"tooltip\\\">Leiomyoma of uterus, unspecified</div>\", \"<div class=\\\"tooltip\\\">Neoplasm of uncertain behavior of skin</div>\", \"<div class=\\\"tooltip\\\">Iron deficiency anemia, unspecified</div>\", \"<div class=\\\"tooltip\\\">Acute posthemorrhagic anemia</div>\", \"<div class=\\\"tooltip\\\">Anemia, unspecified</div>\", \"<div class=\\\"tooltip\\\">Hypothyroidism, unspecified</div>\", \"<div class=\\\"tooltip\\\">Type 2 diabetes mellitus without complications</div>\", \"<div class=\\\"tooltip\\\">Testicular hypofunction</div>\", \"<div class=\\\"tooltip\\\">Vitamin D deficiency, unspecified</div>\", \"<div class=\\\"tooltip\\\">Obesity, unspecified</div>\", \"<div class=\\\"tooltip\\\">Pure hypercholesterolemia</div>\", \"<div class=\\\"tooltip\\\">Mixed hyperlipidemia</div>\", \"<div class=\\\"tooltip\\\">Hyperlipidemia, unspecified</div>\", \"<div class=\\\"tooltip\\\">Hypokalemia</div>\", \"<div class=\\\"tooltip\\\">Unspecified psychosis not due to a substance or known physiological condition</div>\", \"<div class=\\\"tooltip\\\">Bipolar disorder, unspecified</div>\", \"<div class=\\\"tooltip\\\">Major depressive disorder, single episode, unspecified</div>\", \"<div class=\\\"tooltip\\\">Dysthymic disorder</div>\", \"<div class=\\\"tooltip\\\">Unspecified mood [affective] disorder</div>\", \"<div class=\\\"tooltip\\\">Generalized anxiety disorder</div>\", \"<div class=\\\"tooltip\\\">Anxiety disorder, unspecified</div>\", \"<div class=\\\"tooltip\\\">Attention-deficit hyperactivity disorder, unspecified type</div>\", \"<div class=\\\"tooltip\\\">Parkinson's disease</div>\", \"<div class=\\\"tooltip\\\">Multiple sclerosis</div>\", \"<div class=\\\"tooltip\\\">Essential (primary) hypertension</div>\", \"<div class=\\\"tooltip\\\">Heart failure, unspecified</div>\", \"<div class=\\\"tooltip\\\">Other specified cerebrovascular diseases</div>\", \"<div class=\\\"tooltip\\\">Acute nasopharyngitis [common cold]</div>\", \"<div class=\\\"tooltip\\\">Acute pharyngitis, unspecified</div>\", \"<div class=\\\"tooltip\\\">Acute upper respiratory infection, unspecified</div>\", \"<div class=\\\"tooltip\\\">Pneumonia, unspecified organism</div>\", \"<div class=\\\"tooltip\\\">Acute bronchitis, unspecified</div>\", \"<div class=\\\"tooltip\\\">Allergic rhinitis due to pollen</div>\", \"<div class=\\\"tooltip\\\">Chronic sinusitis, unspecified</div>\", \"<div class=\\\"tooltip\\\">Bronchitis, not specified as acute or chronic</div>\", \"<div class=\\\"tooltip\\\">Chronic obstructive pulmonary disease, unspecified</div>\", \"<div class=\\\"tooltip\\\">Gastro-esophageal reflux disease without esophagitis</div>\", \"<div class=\\\"tooltip\\\">Noninfective gastroenteritis and colitis, unspecified</div>\", \"<div class=\\\"tooltip\\\">Polyp of colon</div>\", \"<div class=\\\"tooltip\\\">Unspecified contact dermatitis, unspecified cause</div>\", \"<div class=\\\"tooltip\\\">Actinic keratosis</div>\", \"<div class=\\\"tooltip\\\">Other acne</div>\", \"<div class=\\\"tooltip\\\">Osteoarthritis of knee, unspecified</div>\", \"<div class=\\\"tooltip\\\">Cervicalgia</div>\", \"<div class=\\\"tooltip\\\">Low back pain</div>\", \"<div class=\\\"tooltip\\\">Pain in thoracic spine</div>\", \"<div class=\\\"tooltip\\\">Dorsalgia, unspecified</div>\", \"<div class=\\\"tooltip\\\">Neuralgia and neuritis, unspecified</div>\", \"<div class=\\\"tooltip\\\">Fibromyalgia</div>\", \"<div class=\\\"tooltip\\\">Other specified soft tissue disorders</div>\", \"<div class=\\\"tooltip\\\">Disorder of cartilage, unspecified</div>\", \"<div class=\\\"tooltip\\\">Acute kidney failure, unspecified</div>\", \"<div class=\\\"tooltip\\\">Calculus of kidney</div>\", \"<div class=\\\"tooltip\\\">Urinary tract infection, site not specified</div>\", \"<div class=\\\"tooltip\\\">Subacute and chronic vulvitis</div>\", \"<div class=\\\"tooltip\\\">Other specified noninflammatory disorders of vagina</div>\", \"<div class=\\\"tooltip\\\">Bradycardia, unspecified</div>\", \"<div class=\\\"tooltip\\\">Palpitations</div>\", \"<div class=\\\"tooltip\\\">Cough</div>\", \"<div class=\\\"tooltip\\\">Pelvic and perineal pain</div>\", \"<div class=\\\"tooltip\\\">Rash and other nonspecific skin eruption</div>\", \"<div class=\\\"tooltip\\\">Difficulty in walking, not elsewhere classified</div>\", \"<div class=\\\"tooltip\\\">Painful micturition, unspecified</div>\", \"<div class=\\\"tooltip\\\">Unspecified urinary incontinence</div>\", \"<div class=\\\"tooltip\\\">Dizziness and giddiness</div>\", \"<div class=\\\"tooltip\\\">Fever, unspecified</div>\", \"<div class=\\\"tooltip\\\">Headache</div>\", \"<div class=\\\"tooltip\\\">Pain, unspecified</div>\", \"<div class=\\\"tooltip\\\">Syncope and collapse</div>\", \"<div class=\\\"tooltip\\\">Edema, unspecified</div>\", \"<div class=\\\"tooltip\\\">Abnormal findings on diagnostic imaging of lung</div>\", \"<div class=\\\"tooltip\\\">Hypertensive crisis, unspecified</div>\", \"<div class=\\\"tooltip\\\">Chest pain, unspecified</div>\", \"<div class=\\\"tooltip\\\">Nausea</div>\", \"<div class=\\\"tooltip\\\">Vomiting</div>\", \"<div class=\\\"tooltip\\\">Diarrhea, unspecified</div>\", \"<div class=\\\"tooltip\\\">Benign prostatic hyperplasia without lower urinary tract symptoms</div>\", \"<div class=\\\"tooltip\\\">Dehydration</div>\", \"<div class=\\\"tooltip\\\">Unspecified convulsions</div>\", \"<div class=\\\"tooltip\\\">Chronic iridocyclitis, unspecified eye</div>\", \"<div class=\\\"tooltip\\\">Frequency of micturition</div>\", \"<div class=\\\"tooltip\\\">Unspecified abdominal pain</div>\", \"<div class=\\\"tooltip\\\">Dysphagia</div>\", \"<div class=\\\"tooltip\\\">Acute necrotizing hemorrhagic encephalopathy, unspecified</div>\", \"<div class=\\\"tooltip\\\">Mild intermittent asthma</div>\", \"<div class=\\\"tooltip\\\">Influenza due to unidentified influenza virus with unspecified type of pneumonia</div>\", \"<div class=\\\"tooltip\\\">Arthropathy, unspecified</div>\", \"<div class=\\\"tooltip\\\">Allergic rhinitis, unspecified</div>\", \"<div class=\\\"tooltip\\\">Benign prostatic hyperplasia with lower urinary tract symptoms</div>\", \"<div class=\\\"tooltip\\\">Nausea with vomiting, unspecified</div>\", \"<div class=\\\"tooltip\\\">Unspecified disturbances of skin sensation</div>\"], \"targets\": null, \"hoffset\": 0, \"voffset\": 10}]});\n",
              "   }(mpld3);\n",
              "}else if(typeof define === \"function\" && define.amd){\n",
              "   // require.js is available: use it to load d3/mpld3\n",
              "   require.config({paths: {d3: \"https://d3js.org/d3.v5\"}});\n",
              "   require([\"d3\"], function(d3){\n",
              "      window.d3 = d3;\n",
              "      mpld3_load_lib(\"https://mpld3.github.io/js/mpld3.v0.5.9.js\", function(){\n",
              "         \n",
              "    mpld3.register_plugin(\"htmltooltip\", HtmlTooltipPlugin);\n",
              "    HtmlTooltipPlugin.prototype = Object.create(mpld3.Plugin.prototype);\n",
              "    HtmlTooltipPlugin.prototype.constructor = HtmlTooltipPlugin;\n",
              "    HtmlTooltipPlugin.prototype.requiredProps = [\"id\"];\n",
              "    HtmlTooltipPlugin.prototype.defaultProps = {labels:null,\n",
              "                                                target:null,\n",
              "                                                hoffset:0,\n",
              "                                                voffset:10,\n",
              "                                                targets:null};\n",
              "    function HtmlTooltipPlugin(fig, props){\n",
              "        mpld3.Plugin.call(this, fig, props);\n",
              "    };\n",
              "\n",
              "    HtmlTooltipPlugin.prototype.draw = function(){\n",
              "        var obj = mpld3.get_element(this.props.id);\n",
              "        var labels = this.props.labels;\n",
              "        var targets = this.props.targets;\n",
              "        var tooltip = d3.select(\"body\").append(\"div\")\n",
              "            .attr(\"class\", \"mpld3-tooltip\")\n",
              "            .style(\"position\", \"absolute\")\n",
              "            .style(\"z-index\", \"10\")\n",
              "            .style(\"visibility\", \"hidden\");\n",
              "\n",
              "        obj.elements()\n",
              "            .on(\"mouseover\", function(d, i){\n",
              "                tooltip.html(labels[i])\n",
              "                    .style(\"visibility\", \"visible\");\n",
              "            })\n",
              "            .on(\"mousemove\", function(d, i){\n",
              "                tooltip\n",
              "                .style(\"top\", d3.event.pageY + this.props.voffset + \"px\")\n",
              "                .style(\"left\",d3.event.pageX + this.props.hoffset + \"px\");\n",
              "            }.bind(this))\n",
              "            .on(\"mousedown.callout\", function(d, i){\n",
              "                window.open(targets[i],\"_blank\");\n",
              "            })\n",
              "            .on(\"mouseout\", function(d, i){\n",
              "                tooltip.style(\"visibility\", \"hidden\");\n",
              "            });\n",
              "    };\n",
              "    \n",
              "         mpld3.draw_figure(\"fig_el3211402243479124167748556814\", {\"width\": 1000.0, \"height\": 400.0, \"axes\": [{\"bbox\": [0.125, 0.10999999999999999, 0.775, 0.77], \"xlim\": [-24.60175256729126, 21.982484149932862], \"ylim\": [-25.496708393096924, 22.267767429351807], \"xdomain\": [-24.60175256729126, 21.982484149932862], \"ydomain\": [-25.496708393096924, 22.267767429351807], \"xscale\": \"linear\", \"yscale\": \"linear\", \"axes\": [{\"position\": \"bottom\", \"nticks\": 7, \"tickvalues\": null, \"tickformat_formatter\": \"\", \"tickformat\": null, \"scale\": \"linear\", \"fontsize\": 10.0, \"grid\": {\"gridOn\": false}, \"visible\": true}, {\"position\": \"left\", \"nticks\": 7, \"tickvalues\": null, \"tickformat_formatter\": \"\", \"tickformat\": null, \"scale\": \"linear\", \"fontsize\": 10.0, \"grid\": {\"gridOn\": false}, \"visible\": true}], \"axesbg\": \"#FFFFFF\", \"axesbgalpha\": null, \"zoomable\": true, \"id\": \"el321140224347902144\", \"lines\": [], \"paths\": [], \"markers\": [], \"texts\": [], \"collections\": [{\"offsets\": \"data01\", \"xindex\": 0, \"yindex\": 1, \"paths\": [[[[0.0, -0.5], [0.13260155, -0.5], [0.25978993539242673, -0.44731684579412084], [0.3535533905932738, -0.3535533905932738], [0.44731684579412084, -0.25978993539242673], [0.5, -0.13260155], [0.5, 0.0], [0.5, 0.13260155], [0.44731684579412084, 0.25978993539242673], [0.3535533905932738, 0.3535533905932738], [0.25978993539242673, 0.44731684579412084], [0.13260155, 0.5], [0.0, 0.5], [-0.13260155, 0.5], [-0.25978993539242673, 0.44731684579412084], [-0.3535533905932738, 0.3535533905932738], [-0.44731684579412084, 0.25978993539242673], [-0.5, 0.13260155], [-0.5, 0.0], [-0.5, -0.13260155], [-0.44731684579412084, -0.25978993539242673], [-0.3535533905932738, -0.3535533905932738], [-0.25978993539242673, -0.44731684579412084], [-0.13260155, -0.5], [0.0, -0.5]], [\"M\", \"C\", \"C\", \"C\", \"C\", \"C\", \"C\", \"C\", \"C\", \"Z\"]]], \"pathtransforms\": [[8.333333333333334, 0.0, 0.0, 8.333333333333334, 0.0, 0.0]], \"alphas\": [null], \"edgecolors\": [\"#7F00FF\", \"#7F00FF\", \"#7F00FF\", \"#7F00FF\", \"#7F00FF\", \"#7F00FF\", \"#7F00FF\", \"#7F00FF\", \"#7F00FF\", \"#7F00FF\", \"#7F00FF\", \"#7F00FF\", \"#7F00FF\", \"#7F00FF\", \"#FF0000\", \"#FF0000\", \"#7F00FF\", \"#7F00FF\", \"#7F00FF\", \"#FF0000\", \"#FF0000\", \"#FF0000\", \"#FF0000\", \"#7F00FF\", \"#7F00FF\", \"#7F00FF\", \"#7F00FF\", \"#7F00FF\", \"#7F00FF\", \"#7F00FF\", \"#7F00FF\", \"#7F00FF\", \"#7F00FF\", \"#7F00FF\", \"#7F00FF\", \"#7F00FF\", \"#7F00FF\", \"#FF0000\", \"#7F00FF\", \"#7F00FF\", \"#7F00FF\", \"#7F00FF\", \"#7F00FF\", \"#7F00FF\", \"#7F00FF\", \"#7F00FF\", \"#7F00FF\", \"#7F00FF\", \"#7F00FF\", \"#7F00FF\", \"#7F00FF\", \"#7F00FF\", \"#7F00FF\", \"#7F00FF\", \"#7F00FF\", \"#7F00FF\", \"#7F00FF\", \"#7F00FF\", \"#7F00FF\", \"#7F00FF\", \"#7F00FF\", \"#7F00FF\", \"#7F00FF\", \"#7F00FF\", \"#7F00FF\", \"#7F00FF\", \"#7F00FF\", \"#7F00FF\", \"#FF0000\", \"#FF0000\", \"#7F00FF\", \"#7F00FF\", \"#7F00FF\", \"#7F00FF\", \"#7F00FF\", \"#7F00FF\", \"#7F00FF\", \"#7F00FF\", \"#7F00FF\", \"#7F00FF\", \"#7F00FF\", \"#7F00FF\", \"#FF0000\", \"#7F00FF\", \"#7F00FF\", \"#7F00FF\", \"#7F00FF\", \"#7F00FF\", \"#7F00FF\", \"#7F00FF\", \"#7F00FF\", \"#7F00FF\", \"#7F00FF\", \"#7F00FF\", \"#7F00FF\", \"#7F00FF\", \"#7F00FF\", \"#7F00FF\", \"#7F00FF\", \"#7F00FF\", \"#7F00FF\", \"#7F00FF\", \"#7F00FF\", \"#7F00FF\", \"#7F00FF\", \"#7F00FF\", \"#7F00FF\", \"#7F00FF\", \"#7F00FF\", \"#7F00FF\", \"#7F00FF\", \"#7F00FF\", \"#7F00FF\", \"#7F00FF\", \"#7F00FF\", \"#7F00FF\", \"#7F00FF\", \"#7F00FF\", \"#7F00FF\", \"#7F00FF\", \"#7F00FF\", \"#7F00FF\", \"#7F00FF\", \"#7F00FF\", \"#7F00FF\", \"#7F00FF\", \"#7F00FF\", \"#7F00FF\", \"#7F00FF\", \"#7F00FF\", \"#7F00FF\", \"#7F00FF\", \"#7F00FF\", \"#7F00FF\", \"#7F00FF\", \"#7F00FF\", \"#7F00FF\", \"#7F00FF\", \"#7F00FF\", \"#7F00FF\", \"#7F00FF\", \"#7F00FF\", \"#7F00FF\", \"#7F00FF\", \"#7F00FF\", \"#7F00FF\", \"#7F00FF\", \"#7F00FF\", \"#7F00FF\", \"#7F00FF\", \"#7F00FF\", \"#7F00FF\", \"#7F00FF\", \"#7F00FF\", \"#7F00FF\", \"#7F00FF\", \"#7F00FF\", \"#7F00FF\", \"#7F00FF\", \"#7F00FF\", \"#7F00FF\", \"#7F00FF\", \"#7F00FF\", \"#7F00FF\", \"#7F00FF\", \"#7F00FF\", \"#7F00FF\", \"#7F00FF\", \"#7F00FF\", \"#7F00FF\", \"#7F00FF\", \"#7F00FF\", \"#7F00FF\", \"#7F00FF\", \"#7F00FF\", \"#7F00FF\", \"#7F00FF\", \"#7F00FF\", \"#7F00FF\", \"#7F00FF\", \"#7F00FF\", \"#7F00FF\", \"#7F00FF\", \"#7F00FF\", \"#7F00FF\", \"#7F00FF\", \"#7F00FF\", \"#7F00FF\", \"#7F00FF\", \"#7F00FF\", \"#7F00FF\", \"#7F00FF\", \"#7F00FF\", \"#7F00FF\", \"#7F00FF\", \"#7F00FF\", \"#7F00FF\", \"#7F00FF\", \"#7F00FF\", \"#7F00FF\", \"#7F00FF\", \"#7F00FF\", \"#7F00FF\", \"#7F00FF\", \"#7F00FF\", \"#7F00FF\", \"#7F00FF\", \"#7F00FF\", \"#7F00FF\", \"#7F00FF\", \"#7F00FF\", \"#7F00FF\", \"#FF0000\", \"#FF0000\", \"#FF0000\", \"#7F00FF\", \"#FF0000\", \"#7F00FF\", \"#7F00FF\", \"#7F00FF\", \"#7F00FF\", \"#7F00FF\", \"#7F00FF\", \"#7F00FF\", \"#7F00FF\", \"#FF0000\", \"#7F00FF\", \"#7F00FF\", \"#7F00FF\", \"#7F00FF\", \"#7F00FF\", \"#7F00FF\", \"#7F00FF\", \"#7F00FF\", \"#7F00FF\", \"#7F00FF\", \"#7F00FF\", \"#7F00FF\", \"#7F00FF\", \"#7F00FF\", \"#7F00FF\", \"#FF0000\", \"#7F00FF\", \"#7F00FF\", \"#FF0000\", \"#7F00FF\", \"#7F00FF\", \"#7F00FF\", \"#7F00FF\", \"#7F00FF\", \"#7F00FF\", \"#7F00FF\", \"#7F00FF\", \"#7F00FF\", \"#7F00FF\", \"#7F00FF\", \"#7F00FF\", \"#7F00FF\", \"#7F00FF\", \"#7F00FF\", \"#7F00FF\", \"#7F00FF\", \"#7F00FF\", \"#7F00FF\", \"#7F00FF\", \"#7F00FF\", \"#7F00FF\", \"#7F00FF\", \"#7F00FF\", \"#7F00FF\", \"#7F00FF\", \"#7F00FF\", \"#7F00FF\", \"#7F00FF\", \"#7F00FF\", \"#7F00FF\", \"#7F00FF\", \"#7F00FF\", \"#7F00FF\", \"#7F00FF\", \"#7F00FF\", \"#7F00FF\", \"#7F00FF\", \"#7F00FF\", \"#7F00FF\", \"#7F00FF\", \"#7F00FF\", \"#7F00FF\", \"#7F00FF\", \"#7F00FF\", \"#7F00FF\", \"#7F00FF\", \"#7F00FF\", \"#7F00FF\", \"#7F00FF\", \"#7F00FF\", \"#7F00FF\", \"#7F00FF\", \"#7F00FF\", \"#7F00FF\", \"#7F00FF\"], \"facecolors\": [\"#7F00FF\", \"#7F00FF\", \"#7F00FF\", \"#7F00FF\", \"#7F00FF\", \"#7F00FF\", \"#7F00FF\", \"#7F00FF\", \"#7F00FF\", \"#7F00FF\", \"#7F00FF\", \"#7F00FF\", \"#7F00FF\", \"#7F00FF\", \"#FF0000\", \"#FF0000\", \"#7F00FF\", \"#7F00FF\", \"#7F00FF\", \"#FF0000\", \"#FF0000\", \"#FF0000\", \"#FF0000\", \"#7F00FF\", \"#7F00FF\", \"#7F00FF\", \"#7F00FF\", \"#7F00FF\", \"#7F00FF\", \"#7F00FF\", \"#7F00FF\", \"#7F00FF\", \"#7F00FF\", \"#7F00FF\", \"#7F00FF\", \"#7F00FF\", \"#7F00FF\", \"#FF0000\", \"#7F00FF\", \"#7F00FF\", \"#7F00FF\", \"#7F00FF\", \"#7F00FF\", \"#7F00FF\", \"#7F00FF\", \"#7F00FF\", \"#7F00FF\", \"#7F00FF\", \"#7F00FF\", \"#7F00FF\", \"#7F00FF\", \"#7F00FF\", \"#7F00FF\", \"#7F00FF\", \"#7F00FF\", \"#7F00FF\", \"#7F00FF\", \"#7F00FF\", \"#7F00FF\", \"#7F00FF\", \"#7F00FF\", \"#7F00FF\", \"#7F00FF\", \"#7F00FF\", \"#7F00FF\", \"#7F00FF\", \"#7F00FF\", \"#7F00FF\", \"#FF0000\", \"#FF0000\", \"#7F00FF\", \"#7F00FF\", \"#7F00FF\", \"#7F00FF\", \"#7F00FF\", \"#7F00FF\", \"#7F00FF\", \"#7F00FF\", \"#7F00FF\", \"#7F00FF\", \"#7F00FF\", \"#7F00FF\", \"#FF0000\", \"#7F00FF\", \"#7F00FF\", \"#7F00FF\", \"#7F00FF\", \"#7F00FF\", \"#7F00FF\", \"#7F00FF\", \"#7F00FF\", \"#7F00FF\", \"#7F00FF\", \"#7F00FF\", \"#7F00FF\", \"#7F00FF\", \"#7F00FF\", \"#7F00FF\", \"#7F00FF\", \"#7F00FF\", \"#7F00FF\", \"#7F00FF\", \"#7F00FF\", \"#7F00FF\", \"#7F00FF\", \"#7F00FF\", \"#7F00FF\", \"#7F00FF\", \"#7F00FF\", \"#7F00FF\", \"#7F00FF\", \"#7F00FF\", \"#7F00FF\", \"#7F00FF\", \"#7F00FF\", \"#7F00FF\", \"#7F00FF\", \"#7F00FF\", \"#7F00FF\", \"#7F00FF\", \"#7F00FF\", \"#7F00FF\", \"#7F00FF\", \"#7F00FF\", \"#7F00FF\", \"#7F00FF\", \"#7F00FF\", \"#7F00FF\", \"#7F00FF\", \"#7F00FF\", \"#7F00FF\", \"#7F00FF\", \"#7F00FF\", \"#7F00FF\", \"#7F00FF\", \"#7F00FF\", \"#7F00FF\", \"#7F00FF\", \"#7F00FF\", \"#7F00FF\", \"#7F00FF\", \"#7F00FF\", \"#7F00FF\", \"#7F00FF\", \"#7F00FF\", \"#7F00FF\", \"#7F00FF\", \"#7F00FF\", \"#7F00FF\", \"#7F00FF\", \"#7F00FF\", \"#7F00FF\", \"#7F00FF\", \"#7F00FF\", \"#7F00FF\", \"#7F00FF\", \"#7F00FF\", \"#7F00FF\", \"#7F00FF\", \"#7F00FF\", \"#7F00FF\", \"#7F00FF\", \"#7F00FF\", \"#7F00FF\", \"#7F00FF\", \"#7F00FF\", \"#7F00FF\", \"#7F00FF\", \"#7F00FF\", \"#7F00FF\", \"#7F00FF\", \"#7F00FF\", \"#7F00FF\", \"#7F00FF\", \"#7F00FF\", \"#7F00FF\", \"#7F00FF\", \"#7F00FF\", \"#7F00FF\", \"#7F00FF\", \"#7F00FF\", \"#7F00FF\", \"#7F00FF\", \"#7F00FF\", \"#7F00FF\", \"#7F00FF\", \"#7F00FF\", \"#7F00FF\", \"#7F00FF\", \"#7F00FF\", \"#7F00FF\", \"#7F00FF\", \"#7F00FF\", \"#7F00FF\", \"#7F00FF\", \"#7F00FF\", \"#7F00FF\", \"#7F00FF\", \"#7F00FF\", \"#7F00FF\", \"#7F00FF\", \"#7F00FF\", \"#7F00FF\", \"#7F00FF\", \"#7F00FF\", \"#7F00FF\", \"#7F00FF\", \"#7F00FF\", \"#7F00FF\", \"#7F00FF\", \"#7F00FF\", \"#7F00FF\", \"#FF0000\", \"#FF0000\", \"#FF0000\", \"#7F00FF\", \"#FF0000\", \"#7F00FF\", \"#7F00FF\", \"#7F00FF\", \"#7F00FF\", \"#7F00FF\", \"#7F00FF\", \"#7F00FF\", \"#7F00FF\", \"#FF0000\", \"#7F00FF\", \"#7F00FF\", \"#7F00FF\", \"#7F00FF\", \"#7F00FF\", \"#7F00FF\", \"#7F00FF\", \"#7F00FF\", \"#7F00FF\", \"#7F00FF\", \"#7F00FF\", \"#7F00FF\", \"#7F00FF\", \"#7F00FF\", \"#7F00FF\", \"#FF0000\", \"#7F00FF\", \"#7F00FF\", \"#FF0000\", \"#7F00FF\", \"#7F00FF\", \"#7F00FF\", \"#7F00FF\", \"#7F00FF\", \"#7F00FF\", \"#7F00FF\", \"#7F00FF\", \"#7F00FF\", \"#7F00FF\", \"#7F00FF\", \"#7F00FF\", \"#7F00FF\", \"#7F00FF\", \"#7F00FF\", \"#7F00FF\", \"#7F00FF\", \"#7F00FF\", \"#7F00FF\", \"#7F00FF\", \"#7F00FF\", \"#7F00FF\", \"#7F00FF\", \"#7F00FF\", \"#7F00FF\", \"#7F00FF\", \"#7F00FF\", \"#7F00FF\", \"#7F00FF\", \"#7F00FF\", \"#7F00FF\", \"#7F00FF\", \"#7F00FF\", \"#7F00FF\", \"#7F00FF\", \"#7F00FF\", \"#7F00FF\", \"#7F00FF\", \"#7F00FF\", \"#7F00FF\", \"#7F00FF\", \"#7F00FF\", \"#7F00FF\", \"#7F00FF\", \"#7F00FF\", \"#7F00FF\", \"#7F00FF\", \"#7F00FF\", \"#7F00FF\", \"#7F00FF\", \"#7F00FF\", \"#7F00FF\", \"#7F00FF\", \"#7F00FF\", \"#7F00FF\", \"#7F00FF\"], \"edgewidths\": [1.0], \"offsetcoordinates\": \"data\", \"pathcoordinates\": \"display\", \"zorder\": 1, \"id\": \"el321140224179048880\"}], \"images\": [], \"sharex\": [], \"sharey\": []}], \"data\": {\"data01\": [[3.34719181060791, 0.6105183959007263], [3.674755811691284, -0.9447815418243408], [1.4145134687423706, -2.413965940475464], [3.363046884536743, -0.752531886100769], [1.4137376546859741, -2.386838912963867], [-18.44879150390625, 13.089099884033203], [-18.04693603515625, 13.310247421264648], [6.546633720397949, -12.123919486999512], [3.300483226776123, -9.966586112976074], [9.845844268798828, -5.419911861419678], [-1.0948892831802368, -5.128264904022217], [-1.1855216026306152, -4.593842029571533], [8.794230461120605, -17.24558448791504], [5.370364189147949, -18.8160400390625], [6.911796569824219, -21.00015640258789], [6.757262706756592, -21.130212783813477], [6.012974262237549, -12.775596618652344], [15.85680103302002, 0.9258955717086792], [12.299788475036621, -12.579419136047363], [-18.089218139648438, 2.1219701766967773], [-18.216150283813477, 2.9971187114715576], [-16.948238372802734, 5.036821365356445], [-17.37258529663086, 4.80008602142334], [-12.997611999511719, 5.911106586456299], [14.89272689819336, -3.4739902019500732], [13.212000846862793, -2.751955270767212], [-2.7611382007598877, 19.970552444458008], [13.957478523254395, -1.5772494077682495], [4.481585502624512, -11.997724533081055], [7.148038387298584, -13.111786842346191], [-5.7847394943237305, -9.714871406555176], [-6.887569904327393, 1.414172649383545], [-6.793659687042236, 1.1840565204620361], [-6.678079605102539, -10.992372512817383], [-6.415404796600342, -9.037179946899414], [-4.69730806350708, -9.24609661102295], [-7.149524211883545, 2.683530330657959], [-7.470329284667969, -10.250401496887207], [19.7813663482666, -6.348714828491211], [19.570253372192383, -7.357484817504883], [-7.988364219665527, -6.548893928527832], [19.865018844604492, -5.9991302490234375], [18.6202449798584, -7.056422710418701], [-8.09422779083252, -1.0826822519302368], [-9.994607925415039, -1.0370811223983765], [-2.379666328430176, -10.752082824707031], [-9.042591094970703, -4.868899345397949], [-8.925374984741211, -6.2795305252075195], [-1.1256020069122314, -8.62698745727539], [-0.7227954864501953, -0.21657632291316986], [-1.2689604759216309, 0.7463845610618591], [16.538705825805664, -13.22298526763916], [16.415790557861328, -6.890252113342285], [-9.71668529510498, 3.1858458518981934], [-0.2729325592517853, 19.500839233398438], [14.083597183227539, -16.97512435913086], [-15.472020149230957, 14.165297508239746], [16.522371292114258, -18.914518356323242], [-18.598419189453125, 19.728958129882812], [3.4314072132110596, -6.9076666831970215], [14.472322463989258, -10.305191040039062], [-7.898653030395508, 13.387557029724121], [14.160412788391113, -10.750964164733887], [14.278014183044434, -9.554374694824219], [13.037147521972656, -9.305809020996094], [12.761999130249023, -9.106142044067383], [9.00917911529541, -7.738712310791016], [3.2652382850646973, 11.382458686828613], [3.3006465435028076, -8.087587356567383], [4.850927829742432, 11.461389541625977], [9.165332794189453, -7.737051010131836], [-16.83408546447754, -3.8146350383758545], [-16.672527313232422, -2.8610262870788574], [-14.48539924621582, -4.562570095062256], [-14.230226516723633, -3.4160492420196533], [-15.237611770629883, -4.791201591491699], [5.316251277923584, -7.777571678161621], [4.43245267868042, 13.595227241516113], [3.995776891708374, -9.321526527404785], [6.653173923492432, 12.34643268585205], [3.898076057434082, -8.386918067932129], [6.282740116119385, -10.433452606201172], [5.638856410980225, -8.312883377075195], [2.0589029788970947, -8.058206558227539], [4.42861795425415, -6.047674179077148], [-6.48864221572876, 7.673881530761719], [6.29763650894165, -6.1262640953063965], [6.5974016189575195, -6.435317516326904], [2.625497341156006, 12.780449867248535], [-4.3275604248046875, -6.275763511657715], [4.175043106079102, -4.570014476776123], [-6.564026832580566, 5.840602874755859], [5.80690860748291, -15.804661750793457], [6.070897579193115, -15.892486572265625], [-2.799269914627075, 11.290719985961914], [8.81879997253418, -15.391891479492188], [3.2392818927764893, -12.738017082214355], [8.597902297973633, -16.748228073120117], [-5.733723163604736, 13.268819808959961], [3.5969126224517822, -15.371042251586914], [-0.36327216029167175, 11.420299530029297], [7.4479475021362305, -17.866186141967773], [8.559122085571289, -18.120506286621094], [7.884365081787109, -17.43072509765625], [-5.835928440093994, 12.71275520324707], [7.7468132972717285, -15.148120880126953], [0.4778123199939728, -13.874699592590332], [0.7836151719093323, -13.841364860534668], [-11.132312774658203, 13.271854400634766], [9.27219295501709, -4.454887866973877], [11.890803337097168, -7.1431989669799805], [10.994674682617188, -4.415791988372803], [13.816943168640137, -23.32559585571289], [12.269401550292969, -22.2780704498291], [-11.327606201171875, 18.763132095336914], [13.477238655090332, -22.07759666442871], [-9.742180824279785, 16.93548011779785], [15.190404891967773, -20.47211265563965], [-12.593544960021973, 15.812295913696289], [17.387557983398438, -17.602256774902344], [-19.2176513671875, 17.443580627441406], [18.013652801513672, -17.46234893798828], [-17.893848419189453, 17.1224422454834], [17.12678337097168, -16.775815963745117], [-19.58188247680664, 14.20638656616211], [-19.84405517578125, 14.694482803344727], [18.58500862121582, -17.655797958374023], [-18.629356384277344, 16.246761322021484], [-18.78302574157715, 17.034317016601562], [17.58125877380371, -19.646516799926758], [-19.644397735595703, 16.19365882873535], [-17.69806671142578, 14.97661304473877], [17.883256912231445, -21.165042877197266], [-22.48428726196289, 13.80306625366211], [12.83708667755127, -20.164230346679688], [13.667695045471191, -20.7757568359375], [-14.71788215637207, 12.05759048461914], [13.20972728729248, -19.28704833984375], [14.717228889465332, -19.001371383666992], [-12.25407886505127, 14.828353881835938], [18.72829246520996, -19.85566520690918], [-21.89811134338379, 14.344428062438965], [2.68109393119812, -21.240442276000977], [7.77978515625, -12.19810676574707], [2.7791683673858643, -21.325172424316406], [1.8740712404251099, -18.53997802734375], [1.1621885299682617, -18.01238250732422], [0.2932403087615967, -21.401752471923828], [3.1044178009033203, -18.004079818725586], [4.312338829040527, 6.1340227127075195], [4.878617763519287, -18.89628028869629], [-6.5645599365234375, -16.40419578552246], [-6.25886869430542, -15.778584480285645], [2.8174326419830322, 4.341481685638428], [10.308004379272461, -10.939872741699219], [9.808964729309082, -12.99828052520752], [7.71671199798584, -9.459614753723145], [0.09302156418561935, 16.85380744934082], [0.3642193078994751, 17.172866821289062], [9.590126037597656, -10.353342056274414], [-1.0554872751235962, 15.162845611572266], [7.129755973815918, -6.968029975891113], [2.7543628215789795, 17.289634704589844], [4.0950140953063965, -14.99138069152832], [-2.421916961669922, 10.682976722717285], [-0.6422308087348938, 8.970520973205566], [-1.258484125137329, 10.598649024963379], [4.147573947906494, -13.274462699890137], [3.5540356636047363, -13.97746753692627], [14.129866600036621, -16.597576141357422], [11.890469551086426, -13.721762657165527], [17.29613494873047, -22.348312377929688], [2.028310775756836, -18.290163040161133], [1.9616256952285767, -19.6536808013916], [0.6372164487838745, -20.2230224609375], [0.08706268668174744, -20.154268264770508], [-0.46472230553627014, -9.106400489807129], [-4.123525619506836, 1.784435749053955], [4.247829437255859, -10.184391021728516], [14.826006889343262, -5.4521965980529785], [-5.853307247161865, 10.368619918823242], [12.02773380279541, -14.810627937316895], [-2.3254153728485107, -10.667677879333496], [0.7768754959106445, 13.06016731262207], [14.469122886657715, -2.4524168968200684], [-5.626254558563232, 17.912477493286133], [10.04112434387207, -11.19831657409668], [-2.344216823577881, 16.20118522644043], [1.2691359519958496, -10.818321228027344], [0.448763906955719, -11.342586517333984], [0.9722110033035278, -10.957661628723145], [-2.8977210521698, 3.4702277183532715], [17.697172164916992, -14.405267715454102], [17.90222930908203, -14.63476848602295], [-14.754473686218262, 11.82380485534668], [-2.621553659439087, -14.05289363861084], [-0.8587245941162109, -13.416378021240234], [-2.04740834236145, -13.88441276550293], [-2.077420711517334, -16.36432647705078], [11.603109359741211, -22.12902069091797], [-12.176800727844238, 18.272537231445312], [-1.746334433555603, -16.398826599121094], [-13.549704551696777, 17.490339279174805], [-6.1357035636901855, -16.041229248046875], [8.191113471984863, 8.577791213989258], [11.02998161315918, -16.765317916870117], [11.191981315612793, -6.028223991394043], [1.4436370134353638, 0.11555667221546173], [6.44291877746582, 11.042287826538086], [-10.460294723510742, 7.035300254821777], [4.437770843505859, 5.661116600036621], [-8.628067970275879, 11.132192611694336], [-0.302293986082077, 4.534879684448242], [0.3108215630054474, 2.484038829803467], [-0.4090122580528259, 4.763835906982422], [15.903703689575195, 1.4979403018951416], [-17.966981887817383, 4.021659851074219], [-12.700716018676758, 6.330888271331787], [-6.600224494934082, 16.183034896850586], [-3.052119731903076, 19.882932662963867], [-7.247598171234131, 17.688579559326172], [-5.434248447418213, 16.922731399536133], [-6.418215274810791, 19.55421257019043], [-3.3509018421173096, 5.573492050170898], [-5.73249626159668, -0.907981276512146], [-7.072018623352051, -0.7453098893165588], [-10.403932571411133, 1.7601311206817627], [-11.538947105407715, 1.1982759237289429], [-7.3325066566467285, -2.550665855407715], [-9.6093168258667, 0.24904301762580872], [-10.104782104492188, 2.0380091667175293], [-9.44797134399414, -3.146425485610962], [-3.7802205085754395, 0.30932289361953735], [-3.7910752296447754, -2.528933048248291], [12.634302139282227, 0.007378539070487022], [-14.98421859741211, -2.4046759605407715], [-3.8332064151763916, 1.946776270866394], [6.563830375671387, -3.526301860809326], [5.987956523895264, 12.603434562683105], [5.007810592651367, 12.286394119262695], [2.813863754272461, 16.668588638305664], [5.091653347015381, 14.155694007873535], [-6.717965602874756, 7.6777143478393555], [2.622093915939331, 13.146973609924316], [5.639578342437744, -2.2472548484802246], [-4.5659499168396, -5.720813274383545], [-2.6364598274230957, 12.400064468383789], [1.1588839292526245, 10.46700382232666], [-6.265298843383789, 12.99887466430664], [3.9573476314544678, 10.191320419311523], [-8.642699241638184, 11.208552360534668], [5.172473430633545, 8.218705177307129], [-11.283001899719238, 18.458269119262695], [-21.610107421875, 15.715566635131836], [-21.047191619873047, 16.887287139892578], [-22.26249885559082, 15.950933456420898], [-19.48531723022461, 18.95429229736328], [-15.858832359313965, 16.20884895324707], [-15.885695457458496, 17.110977172851562], [-11.434294700622559, 14.331023216247559], [-7.0551838874816895, 15.555248260498047], [-2.7049598693847656, 6.148859977722168], [-3.6879665851593018, 8.500997543334961], [1.439259648323059, 7.632535934448242], [2.3372089862823486, 5.79515266418457], [2.575744867324829, 5.494588851928711], [-3.1999166011810303, 15.480402946472168], [-3.0281808376312256, 15.848855018615723], [6.289007663726807, -1.2515705823898315], [3.6156005859375, 6.802223205566406], [8.562573432922363, -2.864785671234131], [-14.091249465942383, 19.616464614868164], [1.1108534336090088, 7.339476108551025], [-2.2193470001220703, -2.1451804637908936], [7.92464542388916, 1.4887747764587402], [5.8134894371032715, 10.52230453491211], [8.045645713806152, 0.6473864316940308], [5.619141578674316, 1.266724705696106], [8.070539474487305, 2.1265792846679688], [-10.618063926696777, 14.22635555267334], [6.863757610321045, -10.482651710510254], [-6.606633186340332, 20.096654891967773], [-1.0168845653533936, 15.225238800048828], [-2.13430118560791, 9.218130111694336], [1.5709013938903809, 9.775604248046875], [0.42325136065483093, 10.482769966125488], [-10.39955997467041, 9.012109756469727], [-2.1284542083740234, 6.868291854858398], [-4.281337261199951, 3.069269895553589], [-10.02079963684082, -6.324427604675293], [0.47906574606895447, 7.10606050491333], [-0.7507361173629761, 9.854399681091309], [-3.666255474090576, 11.533087730407715], [10.81193733215332, 1.257590651512146], [-6.697915077209473, 6.3715715408325195], [7.341037273406982, -2.2076258659362793], [-9.691462516784668, 16.798933029174805], [3.0744619369506836, 14.234716415405273], [-10.347554206848145, 8.642473220825195], [-1.44058358669281, 8.351613998413086], [-15.53148365020752, 14.618461608886719]]}, \"id\": \"el321140224347912416\", \"plugins\": [{\"type\": \"reset\"}, {\"type\": \"zoom\", \"button\": true, \"enabled\": false}, {\"type\": \"boxzoom\", \"button\": true, \"enabled\": false}, {\"type\": \"htmltooltip\", \"id\": \"el321140224179048880\", \"labels\": [\"\", \"\", \"\", \"\", \"\", \"<div class=\\\"tooltip\\\">Sprain of joints and ligaments of other parts of neck</div>\", \"<div class=\\\"tooltip\\\">Sprain of ligaments of lumbar spine</div>\", \"<div class=\\\"tooltip\\\">Other sepsis</div>\", \"<div class=\\\"tooltip\\\">Viral infection of unspecified site</div>\", \"<div class=\\\"tooltip\\\">Dermatophytosis</div>\", \"<div class=\\\"tooltip\\\">Malignant neoplasm of breast</div>\", \"<div class=\\\"tooltip\\\">Malignant neoplasm of breast of unspecified site</div>\", \"<div class=\\\"tooltip\\\">Benign neoplasm of colon, rectum, anus and anal canal</div>\", \"<div class=\\\"tooltip\\\">Leiomyoma of uterus</div>\", \"<div class=\\\"tooltip\\\">Iron deficiency anemia</div>\", \"<div class=\\\"tooltip\\\">Other anemias</div>\", \"<div class=\\\"tooltip\\\">Other disorders of white blood cells</div>\", \"<div class=\\\"tooltip\\\">Other hypothyroidism</div>\", \"<div class=\\\"tooltip\\\">Other nontoxic goiter</div>\", \"<div class=\\\"tooltip\\\">Type 1 diabetes mellitus</div>\", \"<div class=\\\"tooltip\\\">Type 2 diabetes mellitus</div>\", \"<div class=\\\"tooltip\\\">Type 2 diabetes mellitus with neurological complications</div>\", \"<div class=\\\"tooltip\\\">Type 2 diabetes mellitus with other specified complications</div>\", \"<div class=\\\"tooltip\\\">Testicular dysfunction</div>\", \"<div class=\\\"tooltip\\\">Vitamin D deficiency</div>\", \"<div class=\\\"tooltip\\\">Overweight and obesity</div>\", \"<div class=\\\"tooltip\\\">Obesity due to excess calories</div>\", \"<div class=\\\"tooltip\\\">Disorders of lipoprotein metabolism and other lipidemias</div>\", \"<div class=\\\"tooltip\\\">Volume depletion</div>\", \"<div class=\\\"tooltip\\\">Other disorders of fluid, electrolyte and acid-base balance</div>\", \"<div class=\\\"tooltip\\\">Alcohol related disorders</div>\", \"<div class=\\\"tooltip\\\">Alcohol abuse</div>\", \"<div class=\\\"tooltip\\\">Alcohol dependence</div>\", \"<div class=\\\"tooltip\\\">Opioid related disorders</div>\", \"<div class=\\\"tooltip\\\">Cannabis related disorders</div>\", \"<div class=\\\"tooltip\\\">Nicotine dependence</div>\", \"<div class=\\\"tooltip\\\">Nicotine dependence</div>\", \"<div class=\\\"tooltip\\\">Bipolar disorder</div>\", \"<div class=\\\"tooltip\\\">Depressive episode</div>\", \"<div class=\\\"tooltip\\\">Major depressive disorder, recurrent</div>\", \"<div class=\\\"tooltip\\\">Persistent mood [affective] disorders</div>\", \"<div class=\\\"tooltip\\\">Other anxiety disorders</div>\", \"<div class=\\\"tooltip\\\">Reaction to severe stress, and adjustment disorders</div>\", \"<div class=\\\"tooltip\\\">Post-traumatic stress disorder (PTSD)</div>\", \"<div class=\\\"tooltip\\\">Adjustment disorders</div>\", \"<div class=\\\"tooltip\\\">Specific developmental disorders of speech and language</div>\", \"<div class=\\\"tooltip\\\">Attention-deficit hyperactivity disorders</div>\", \"<div class=\\\"tooltip\\\">Conduct disorders</div>\", \"<div class=\\\"tooltip\\\">Epilepsy and recurrent seizures</div>\", \"<div class=\\\"tooltip\\\">Migraine</div>\", \"<div class=\\\"tooltip\\\">Migraine, unspecified</div>\", \"<div class=\\\"tooltip\\\">Other headache syndromes</div>\", \"<div class=\\\"tooltip\\\">Sleep disorders</div>\", \"<div class=\\\"tooltip\\\">Insomnia</div>\", \"<div class=\\\"tooltip\\\">Sleep apnea</div>\", \"<div class=\\\"tooltip\\\">Mononeuropathies of upper limb</div>\", \"<div class=\\\"tooltip\\\">Carpal tunnel syndrome</div>\", \"<div class=\\\"tooltip\\\">Pain, not elsewhere classified</div>\", \"<div class=\\\"tooltip\\\">Chronic pain, not elsewhere classified</div>\", \"<div class=\\\"tooltip\\\">Conjunctivitis</div>\", \"<div class=\\\"tooltip\\\">Age-related cataract</div>\", \"<div class=\\\"tooltip\\\">Age-related nuclear cataract</div>\", \"<div class=\\\"tooltip\\\">Other retinal disorders</div>\", \"<div class=\\\"tooltip\\\">Glaucoma</div>\", \"<div class=\\\"tooltip\\\">Disorders of refraction and accommodation</div>\", \"<div class=\\\"tooltip\\\">Visual disturbances</div>\", \"<div class=\\\"tooltip\\\">Other disorders of external ear</div>\", \"<div class=\\\"tooltip\\\">Impacted cerumen</div>\", \"<div class=\\\"tooltip\\\">Suppurative and unspecified otitis media</div>\", \"<div class=\\\"tooltip\\\">Otitis media, unspecified</div>\", \"<div class=\\\"tooltip\\\">Conductive and sensorineural hearing loss</div>\", \"<div class=\\\"tooltip\\\">Chronic ischemic heart disease</div>\", \"<div class=\\\"tooltip\\\">Atherosclerotic heart disease of native coronary artery</div>\", \"<div class=\\\"tooltip\\\">Atrial fibrillation and flutter</div>\", \"<div class=\\\"tooltip\\\">Unspecified atrial fibrillation and atrial flutter</div>\", \"<div class=\\\"tooltip\\\">Heart failure</div>\", \"<div class=\\\"tooltip\\\">Acute sinusitis</div>\", \"<div class=\\\"tooltip\\\">Acute sinusitis, unspecified</div>\", \"<div class=\\\"tooltip\\\">Acute pharyngitis</div>\", \"<div class=\\\"tooltip\\\">Streptococcal tonsillitis</div>\", \"<div class=\\\"tooltip\\\">Acute upper respiratory infections of multiple and unspecified sites</div>\", \"<div class=\\\"tooltip\\\">Pneumonia, unspecified organism</div>\", \"<div class=\\\"tooltip\\\">Acute bronchitis</div>\", \"<div class=\\\"tooltip\\\">Acute bronchiolitis</div>\", \"<div class=\\\"tooltip\\\">Vasomotor and allergic rhinitis</div>\", \"<div class=\\\"tooltip\\\">Other allergic rhinitis</div>\", \"<div class=\\\"tooltip\\\">Chronic sinusitis</div>\", \"<div class=\\\"tooltip\\\">Other and unspecified disorders of nose and nasal sinuses</div>\", \"<div class=\\\"tooltip\\\">Other specified disorders of nose and nasal sinuses</div>\", \"<div class=\\\"tooltip\\\">Other chronic obstructive pulmonary disease</div>\", \"<div class=\\\"tooltip\\\">Asthma</div>\", \"<div class=\\\"tooltip\\\">Other and unspecified asthma</div>\", \"<div class=\\\"tooltip\\\">Gastro-esophageal reflux disease</div>\", \"<div class=\\\"tooltip\\\">Gastritis and duodenitis</div>\", \"<div class=\\\"tooltip\\\">Gastroduodenitis, unspecified</div>\", \"<div class=\\\"tooltip\\\">Inguinal hernia</div>\", \"<div class=\\\"tooltip\\\">Other and unspecified noninfective gastroenteritis and colitis</div>\", \"<div class=\\\"tooltip\\\">Diverticular disease of intestine</div>\", \"<div class=\\\"tooltip\\\">Diverticular disease of large intestine without perforation or abscess</div>\", \"<div class=\\\"tooltip\\\">Other functional intestinal disorders</div>\", \"<div class=\\\"tooltip\\\">Constipation</div>\", \"<div class=\\\"tooltip\\\">Other diseases of anus and rectum</div>\", \"<div class=\\\"tooltip\\\">Other diseases of intestine</div>\", \"<div class=\\\"tooltip\\\">Hemorrhoids and perianal venous thrombosis</div>\", \"<div class=\\\"tooltip\\\">Other hemorrhoids</div>\", \"<div class=\\\"tooltip\\\">Cholelithiasis</div>\", \"<div class=\\\"tooltip\\\">Cutaneous abscess, furuncle and carbuncle</div>\", \"<div class=\\\"tooltip\\\">Cellulitis and acute lymphangitis</div>\", \"<div class=\\\"tooltip\\\">Cellulitis and acute lymphangitis of other parts of limb</div>\", \"<div class=\\\"tooltip\\\">Other and unspecified dermatitis</div>\", \"<div class=\\\"tooltip\\\">Skin changes due to chronic exposure to nonionizing radiation</div>\", \"<div class=\\\"tooltip\\\">Acne</div>\", \"<div class=\\\"tooltip\\\">Osteoarthritis of hip</div>\", \"<div class=\\\"tooltip\\\">Osteoarthritis of knee</div>\", \"<div class=\\\"tooltip\\\">Unilateral primary osteoarthritis of knee</div>\", \"<div class=\\\"tooltip\\\">Other and unspecified osteoarthritis</div>\", \"<div class=\\\"tooltip\\\">Osteoarthritis, unspecified site</div>\", \"<div class=\\\"tooltip\\\">Other joint disorder, not elsewhere classified</div>\", \"<div class=\\\"tooltip\\\">Pain in joint</div>\", \"<div class=\\\"tooltip\\\">Spondylosis</div>\", \"<div class=\\\"tooltip\\\">Other spondylosis</div>\", \"<div class=\\\"tooltip\\\">Other spondylopathies</div>\", \"<div class=\\\"tooltip\\\">Spinal stenosis</div>\", \"<div class=\\\"tooltip\\\">Cervical disc disorders</div>\", \"<div class=\\\"tooltip\\\">Other cervical disc displacement</div>\", \"<div class=\\\"tooltip\\\">Other cervical disc degeneration</div>\", \"<div class=\\\"tooltip\\\">Thoracic, thoracolumbar, and lumbosacral intervertebral disc disorders</div>\", \"<div class=\\\"tooltip\\\">Other thoracic, thoracolumbar and lumbosacral intervertebral disc displacement</div>\", \"<div class=\\\"tooltip\\\">Other thoracic, thoracolumbar and lumbosacral intervertebral disc degeneration</div>\", \"<div class=\\\"tooltip\\\">Dorsalgia</div>\", \"<div class=\\\"tooltip\\\">Radiculopathy</div>\", \"<div class=\\\"tooltip\\\">Sciatica</div>\", \"<div class=\\\"tooltip\\\">Other disorders of muscle</div>\", \"<div class=\\\"tooltip\\\">Other specified disorders of muscle</div>\", \"<div class=\\\"tooltip\\\">Synovitis and tenosynovitis</div>\", \"<div class=\\\"tooltip\\\">Shoulder lesions</div>\", \"<div class=\\\"tooltip\\\">Bursitis of shoulder</div>\", \"<div class=\\\"tooltip\\\">Other enthesopathies</div>\", \"<div class=\\\"tooltip\\\">Other and unspecified soft tissue disorders, not elsewhere classified</div>\", \"<div class=\\\"tooltip\\\">Pain in limb, hand, foot, fingers and toes</div>\", \"<div class=\\\"tooltip\\\">Biomechanical lesions, not elsewhere classified</div>\", \"<div class=\\\"tooltip\\\">Segmental and somatic dysfunction</div>\", \"<div class=\\\"tooltip\\\">Obstructive and reflux uropathy</div>\", \"<div class=\\\"tooltip\\\">Chronic kidney disease (CKD)</div>\", \"<div class=\\\"tooltip\\\">Calculus of kidney and ureter</div>\", \"<div class=\\\"tooltip\\\">Cystitis</div>\", \"<div class=\\\"tooltip\\\">Other disorders of urinary system</div>\", \"<div class=\\\"tooltip\\\">Benign prostatic hyperplasia</div>\", \"<div class=\\\"tooltip\\\">Other inflammation of vagina and vulva</div>\", \"<div class=\\\"tooltip\\\">Other and unspecified ovarian cysts</div>\", \"<div class=\\\"tooltip\\\">Excessive, frequent and irregular menstruation</div>\", \"<div class=\\\"tooltip\\\">Supervision of high risk pregnancy</div>\", \"<div class=\\\"tooltip\\\">Other maternal diseases classifiable elsewhere but complicating pregnancy, childbirth and the puerperium</div>\", \"<div class=\\\"tooltip\\\">Endocrine, nutritional and metabolic diseases complicating pregnancy, childbirth and the puerperium</div>\", \"<div class=\\\"tooltip\\\">Abnormalities of heart beat</div>\", \"<div class=\\\"tooltip\\\">Abnormal blood-pressure reading, without diagnosis</div>\", \"<div class=\\\"tooltip\\\">Abnormalities of breathing</div>\", \"<div class=\\\"tooltip\\\">Dyspnea</div>\", \"<div class=\\\"tooltip\\\">Other abnormalities of breathing</div>\", \"<div class=\\\"tooltip\\\">Pain in throat and chest</div>\", \"<div class=\\\"tooltip\\\">Other chest pain</div>\", \"<div class=\\\"tooltip\\\">Other symptoms and signs involving the circulatory and respiratory system</div>\", \"<div class=\\\"tooltip\\\">Asphyxia and hypoxemia</div>\", \"<div class=\\\"tooltip\\\">Abdominal and pelvic pain</div>\", \"<div class=\\\"tooltip\\\">Pain localized to upper abdomen</div>\", \"<div class=\\\"tooltip\\\">Pain localized to other parts of lower abdomen</div>\", \"<div class=\\\"tooltip\\\">Other abdominal pain</div>\", \"<div class=\\\"tooltip\\\">Nausea and vomiting</div>\", \"<div class=\\\"tooltip\\\">Other symptoms and signs involving the digestive system and abdomen</div>\", \"<div class=\\\"tooltip\\\">Disturbances of skin sensation</div>\", \"<div class=\\\"tooltip\\\">Localized swelling, mass and lump of skin and subcutaneous tissue</div>\", \"<div class=\\\"tooltip\\\">Other symptoms and signs involving the nervous and musculoskeletal systems</div>\", \"<div class=\\\"tooltip\\\">Pain associated with micturition</div>\", \"<div class=\\\"tooltip\\\">Hematuria</div>\", \"<div class=\\\"tooltip\\\">Polyuria</div>\", \"<div class=\\\"tooltip\\\">Other and unspecified symptoms and signs involving the genitourinary system</div>\", \"<div class=\\\"tooltip\\\">Other symptoms and signs involving cognitive functions and awareness</div>\", \"<div class=\\\"tooltip\\\">Other symptoms and signs involving cognitive functions and awareness</div>\", \"<div class=\\\"tooltip\\\">Fever of other and unknown origin</div>\", \"<div class=\\\"tooltip\\\">Malaise and fatigue</div>\", \"<div class=\\\"tooltip\\\">Other malaise and fatigue</div>\", \"<div class=\\\"tooltip\\\">Edema, not elsewhere classified</div>\", \"<div class=\\\"tooltip\\\">Lack of expected normal physiological development in childhood and adults</div>\", \"<div class=\\\"tooltip\\\">Other general symptoms and signs</div>\", \"<div class=\\\"tooltip\\\">Elevated blood glucose level</div>\", \"<div class=\\\"tooltip\\\">Abnormal glucose</div>\", \"<div class=\\\"tooltip\\\">Abnormal results of function studies</div>\", \"<div class=\\\"tooltip\\\">Abnormal results of cardiovascular function studies</div>\", \"<div class=\\\"tooltip\\\">Superficial injury of head</div>\", \"<div class=\\\"tooltip\\\">Open wound of head</div>\", \"<div class=\\\"tooltip\\\">Other and unspecified injuries of head</div>\", \"<div class=\\\"tooltip\\\">Unspecified injury of face and head</div>\", \"<div class=\\\"tooltip\\\">Dislocation and sprain of joints and ligaments at neck level</div>\", \"<div class=\\\"tooltip\\\">Other and unspecified injuries of abdomen, lower back, pelvis and external genitals</div>\", \"<div class=\\\"tooltip\\\">Sprain of shoulder joint</div>\", \"<div class=\\\"tooltip\\\">Fracture of forearm</div>\", \"<div class=\\\"tooltip\\\">Open wound of wrist, hand and fingers</div>\", \"<div class=\\\"tooltip\\\">Fracture at wrist and hand level</div>\", \"<div class=\\\"tooltip\\\">Fracture of lower leg, including ankle</div>\", \"<div class=\\\"tooltip\\\">Dislocation and sprain of joints and ligaments of knee</div>\", \"<div class=\\\"tooltip\\\">Tear of meniscus, current injury</div>\", \"<div class=\\\"tooltip\\\">Dislocation and sprain of joints and ligaments at ankle, foot and toe level</div>\", \"<div class=\\\"tooltip\\\">Injury of unspecified muscle and tendon at ankle and foot level</div>\", \"<div class=\\\"tooltip\\\">Weeks of gestation</div>\", \"<div class=\\\"tooltip\\\">Single liveborn infant, born in hospital</div>\", \"<div class=\\\"tooltip\\\">Other postprocedural states</div>\", \"<div class=\\\"tooltip\\\">Viral warts</div>\", \"<div class=\\\"tooltip\\\">Human immunodeficiency virus [HIV] disease</div>\", \"<div class=\\\"tooltip\\\">Other viral agents as the cause of diseases classified elsewhere</div>\", \"<div class=\\\"tooltip\\\">Malignant neoplasm of prostate</div>\", \"<div class=\\\"tooltip\\\">Leiomyoma of uterus, unspecified</div>\", \"<div class=\\\"tooltip\\\">Neoplasm of uncertain behavior of skin</div>\", \"<div class=\\\"tooltip\\\">Iron deficiency anemia, unspecified</div>\", \"<div class=\\\"tooltip\\\">Acute posthemorrhagic anemia</div>\", \"<div class=\\\"tooltip\\\">Anemia, unspecified</div>\", \"<div class=\\\"tooltip\\\">Hypothyroidism, unspecified</div>\", \"<div class=\\\"tooltip\\\">Type 2 diabetes mellitus without complications</div>\", \"<div class=\\\"tooltip\\\">Testicular hypofunction</div>\", \"<div class=\\\"tooltip\\\">Vitamin D deficiency, unspecified</div>\", \"<div class=\\\"tooltip\\\">Obesity, unspecified</div>\", \"<div class=\\\"tooltip\\\">Pure hypercholesterolemia</div>\", \"<div class=\\\"tooltip\\\">Mixed hyperlipidemia</div>\", \"<div class=\\\"tooltip\\\">Hyperlipidemia, unspecified</div>\", \"<div class=\\\"tooltip\\\">Hypokalemia</div>\", \"<div class=\\\"tooltip\\\">Unspecified psychosis not due to a substance or known physiological condition</div>\", \"<div class=\\\"tooltip\\\">Bipolar disorder, unspecified</div>\", \"<div class=\\\"tooltip\\\">Major depressive disorder, single episode, unspecified</div>\", \"<div class=\\\"tooltip\\\">Dysthymic disorder</div>\", \"<div class=\\\"tooltip\\\">Unspecified mood [affective] disorder</div>\", \"<div class=\\\"tooltip\\\">Generalized anxiety disorder</div>\", \"<div class=\\\"tooltip\\\">Anxiety disorder, unspecified</div>\", \"<div class=\\\"tooltip\\\">Attention-deficit hyperactivity disorder, unspecified type</div>\", \"<div class=\\\"tooltip\\\">Parkinson's disease</div>\", \"<div class=\\\"tooltip\\\">Multiple sclerosis</div>\", \"<div class=\\\"tooltip\\\">Essential (primary) hypertension</div>\", \"<div class=\\\"tooltip\\\">Heart failure, unspecified</div>\", \"<div class=\\\"tooltip\\\">Other specified cerebrovascular diseases</div>\", \"<div class=\\\"tooltip\\\">Acute nasopharyngitis [common cold]</div>\", \"<div class=\\\"tooltip\\\">Acute pharyngitis, unspecified</div>\", \"<div class=\\\"tooltip\\\">Acute upper respiratory infection, unspecified</div>\", \"<div class=\\\"tooltip\\\">Pneumonia, unspecified organism</div>\", \"<div class=\\\"tooltip\\\">Acute bronchitis, unspecified</div>\", \"<div class=\\\"tooltip\\\">Allergic rhinitis due to pollen</div>\", \"<div class=\\\"tooltip\\\">Chronic sinusitis, unspecified</div>\", \"<div class=\\\"tooltip\\\">Bronchitis, not specified as acute or chronic</div>\", \"<div class=\\\"tooltip\\\">Chronic obstructive pulmonary disease, unspecified</div>\", \"<div class=\\\"tooltip\\\">Gastro-esophageal reflux disease without esophagitis</div>\", \"<div class=\\\"tooltip\\\">Noninfective gastroenteritis and colitis, unspecified</div>\", \"<div class=\\\"tooltip\\\">Polyp of colon</div>\", \"<div class=\\\"tooltip\\\">Unspecified contact dermatitis, unspecified cause</div>\", \"<div class=\\\"tooltip\\\">Actinic keratosis</div>\", \"<div class=\\\"tooltip\\\">Other acne</div>\", \"<div class=\\\"tooltip\\\">Osteoarthritis of knee, unspecified</div>\", \"<div class=\\\"tooltip\\\">Cervicalgia</div>\", \"<div class=\\\"tooltip\\\">Low back pain</div>\", \"<div class=\\\"tooltip\\\">Pain in thoracic spine</div>\", \"<div class=\\\"tooltip\\\">Dorsalgia, unspecified</div>\", \"<div class=\\\"tooltip\\\">Neuralgia and neuritis, unspecified</div>\", \"<div class=\\\"tooltip\\\">Fibromyalgia</div>\", \"<div class=\\\"tooltip\\\">Other specified soft tissue disorders</div>\", \"<div class=\\\"tooltip\\\">Disorder of cartilage, unspecified</div>\", \"<div class=\\\"tooltip\\\">Acute kidney failure, unspecified</div>\", \"<div class=\\\"tooltip\\\">Calculus of kidney</div>\", \"<div class=\\\"tooltip\\\">Urinary tract infection, site not specified</div>\", \"<div class=\\\"tooltip\\\">Subacute and chronic vulvitis</div>\", \"<div class=\\\"tooltip\\\">Other specified noninflammatory disorders of vagina</div>\", \"<div class=\\\"tooltip\\\">Bradycardia, unspecified</div>\", \"<div class=\\\"tooltip\\\">Palpitations</div>\", \"<div class=\\\"tooltip\\\">Cough</div>\", \"<div class=\\\"tooltip\\\">Pelvic and perineal pain</div>\", \"<div class=\\\"tooltip\\\">Rash and other nonspecific skin eruption</div>\", \"<div class=\\\"tooltip\\\">Difficulty in walking, not elsewhere classified</div>\", \"<div class=\\\"tooltip\\\">Painful micturition, unspecified</div>\", \"<div class=\\\"tooltip\\\">Unspecified urinary incontinence</div>\", \"<div class=\\\"tooltip\\\">Dizziness and giddiness</div>\", \"<div class=\\\"tooltip\\\">Fever, unspecified</div>\", \"<div class=\\\"tooltip\\\">Headache</div>\", \"<div class=\\\"tooltip\\\">Pain, unspecified</div>\", \"<div class=\\\"tooltip\\\">Syncope and collapse</div>\", \"<div class=\\\"tooltip\\\">Edema, unspecified</div>\", \"<div class=\\\"tooltip\\\">Abnormal findings on diagnostic imaging of lung</div>\", \"<div class=\\\"tooltip\\\">Hypertensive crisis, unspecified</div>\", \"<div class=\\\"tooltip\\\">Chest pain, unspecified</div>\", \"<div class=\\\"tooltip\\\">Nausea</div>\", \"<div class=\\\"tooltip\\\">Vomiting</div>\", \"<div class=\\\"tooltip\\\">Diarrhea, unspecified</div>\", \"<div class=\\\"tooltip\\\">Benign prostatic hyperplasia without lower urinary tract symptoms</div>\", \"<div class=\\\"tooltip\\\">Dehydration</div>\", \"<div class=\\\"tooltip\\\">Unspecified convulsions</div>\", \"<div class=\\\"tooltip\\\">Chronic iridocyclitis, unspecified eye</div>\", \"<div class=\\\"tooltip\\\">Frequency of micturition</div>\", \"<div class=\\\"tooltip\\\">Unspecified abdominal pain</div>\", \"<div class=\\\"tooltip\\\">Dysphagia</div>\", \"<div class=\\\"tooltip\\\">Acute necrotizing hemorrhagic encephalopathy, unspecified</div>\", \"<div class=\\\"tooltip\\\">Mild intermittent asthma</div>\", \"<div class=\\\"tooltip\\\">Influenza due to unidentified influenza virus with unspecified type of pneumonia</div>\", \"<div class=\\\"tooltip\\\">Arthropathy, unspecified</div>\", \"<div class=\\\"tooltip\\\">Allergic rhinitis, unspecified</div>\", \"<div class=\\\"tooltip\\\">Benign prostatic hyperplasia with lower urinary tract symptoms</div>\", \"<div class=\\\"tooltip\\\">Nausea with vomiting, unspecified</div>\", \"<div class=\\\"tooltip\\\">Unspecified disturbances of skin sensation</div>\"], \"targets\": null, \"hoffset\": 0, \"voffset\": 10}]});\n",
              "      });\n",
              "    });\n",
              "}else{\n",
              "    // require.js not available: dynamically load d3 & mpld3\n",
              "    mpld3_load_lib(\"https://d3js.org/d3.v5.js\", function(){\n",
              "         mpld3_load_lib(\"https://mpld3.github.io/js/mpld3.v0.5.9.js\", function(){\n",
              "                 \n",
              "    mpld3.register_plugin(\"htmltooltip\", HtmlTooltipPlugin);\n",
              "    HtmlTooltipPlugin.prototype = Object.create(mpld3.Plugin.prototype);\n",
              "    HtmlTooltipPlugin.prototype.constructor = HtmlTooltipPlugin;\n",
              "    HtmlTooltipPlugin.prototype.requiredProps = [\"id\"];\n",
              "    HtmlTooltipPlugin.prototype.defaultProps = {labels:null,\n",
              "                                                target:null,\n",
              "                                                hoffset:0,\n",
              "                                                voffset:10,\n",
              "                                                targets:null};\n",
              "    function HtmlTooltipPlugin(fig, props){\n",
              "        mpld3.Plugin.call(this, fig, props);\n",
              "    };\n",
              "\n",
              "    HtmlTooltipPlugin.prototype.draw = function(){\n",
              "        var obj = mpld3.get_element(this.props.id);\n",
              "        var labels = this.props.labels;\n",
              "        var targets = this.props.targets;\n",
              "        var tooltip = d3.select(\"body\").append(\"div\")\n",
              "            .attr(\"class\", \"mpld3-tooltip\")\n",
              "            .style(\"position\", \"absolute\")\n",
              "            .style(\"z-index\", \"10\")\n",
              "            .style(\"visibility\", \"hidden\");\n",
              "\n",
              "        obj.elements()\n",
              "            .on(\"mouseover\", function(d, i){\n",
              "                tooltip.html(labels[i])\n",
              "                    .style(\"visibility\", \"visible\");\n",
              "            })\n",
              "            .on(\"mousemove\", function(d, i){\n",
              "                tooltip\n",
              "                .style(\"top\", d3.event.pageY + this.props.voffset + \"px\")\n",
              "                .style(\"left\",d3.event.pageX + this.props.hoffset + \"px\");\n",
              "            }.bind(this))\n",
              "            .on(\"mousedown.callout\", function(d, i){\n",
              "                window.open(targets[i],\"_blank\");\n",
              "            })\n",
              "            .on(\"mouseout\", function(d, i){\n",
              "                tooltip.style(\"visibility\", \"hidden\");\n",
              "            });\n",
              "    };\n",
              "    \n",
              "                 mpld3.draw_figure(\"fig_el3211402243479124167748556814\", {\"width\": 1000.0, \"height\": 400.0, \"axes\": [{\"bbox\": [0.125, 0.10999999999999999, 0.775, 0.77], \"xlim\": [-24.60175256729126, 21.982484149932862], \"ylim\": [-25.496708393096924, 22.267767429351807], \"xdomain\": [-24.60175256729126, 21.982484149932862], \"ydomain\": [-25.496708393096924, 22.267767429351807], \"xscale\": \"linear\", \"yscale\": \"linear\", \"axes\": [{\"position\": \"bottom\", \"nticks\": 7, \"tickvalues\": null, \"tickformat_formatter\": \"\", \"tickformat\": null, \"scale\": \"linear\", \"fontsize\": 10.0, \"grid\": {\"gridOn\": false}, \"visible\": true}, {\"position\": \"left\", \"nticks\": 7, \"tickvalues\": null, \"tickformat_formatter\": \"\", \"tickformat\": null, \"scale\": \"linear\", \"fontsize\": 10.0, \"grid\": {\"gridOn\": false}, \"visible\": true}], \"axesbg\": \"#FFFFFF\", \"axesbgalpha\": null, \"zoomable\": true, \"id\": \"el321140224347902144\", \"lines\": [], \"paths\": [], \"markers\": [], \"texts\": [], \"collections\": [{\"offsets\": \"data01\", \"xindex\": 0, \"yindex\": 1, \"paths\": [[[[0.0, -0.5], [0.13260155, -0.5], [0.25978993539242673, -0.44731684579412084], [0.3535533905932738, -0.3535533905932738], [0.44731684579412084, -0.25978993539242673], [0.5, -0.13260155], [0.5, 0.0], [0.5, 0.13260155], [0.44731684579412084, 0.25978993539242673], [0.3535533905932738, 0.3535533905932738], [0.25978993539242673, 0.44731684579412084], [0.13260155, 0.5], [0.0, 0.5], [-0.13260155, 0.5], [-0.25978993539242673, 0.44731684579412084], [-0.3535533905932738, 0.3535533905932738], [-0.44731684579412084, 0.25978993539242673], [-0.5, 0.13260155], [-0.5, 0.0], [-0.5, -0.13260155], [-0.44731684579412084, -0.25978993539242673], [-0.3535533905932738, -0.3535533905932738], [-0.25978993539242673, -0.44731684579412084], [-0.13260155, -0.5], [0.0, -0.5]], [\"M\", \"C\", \"C\", \"C\", \"C\", \"C\", \"C\", \"C\", \"C\", \"Z\"]]], \"pathtransforms\": [[8.333333333333334, 0.0, 0.0, 8.333333333333334, 0.0, 0.0]], \"alphas\": [null], \"edgecolors\": [\"#7F00FF\", \"#7F00FF\", \"#7F00FF\", \"#7F00FF\", \"#7F00FF\", \"#7F00FF\", \"#7F00FF\", \"#7F00FF\", \"#7F00FF\", \"#7F00FF\", \"#7F00FF\", \"#7F00FF\", \"#7F00FF\", \"#7F00FF\", \"#FF0000\", \"#FF0000\", \"#7F00FF\", \"#7F00FF\", \"#7F00FF\", \"#FF0000\", \"#FF0000\", \"#FF0000\", \"#FF0000\", \"#7F00FF\", \"#7F00FF\", \"#7F00FF\", \"#7F00FF\", \"#7F00FF\", \"#7F00FF\", \"#7F00FF\", \"#7F00FF\", \"#7F00FF\", \"#7F00FF\", \"#7F00FF\", \"#7F00FF\", \"#7F00FF\", \"#7F00FF\", \"#FF0000\", \"#7F00FF\", \"#7F00FF\", \"#7F00FF\", \"#7F00FF\", \"#7F00FF\", \"#7F00FF\", \"#7F00FF\", \"#7F00FF\", \"#7F00FF\", \"#7F00FF\", \"#7F00FF\", \"#7F00FF\", \"#7F00FF\", \"#7F00FF\", \"#7F00FF\", \"#7F00FF\", \"#7F00FF\", \"#7F00FF\", \"#7F00FF\", \"#7F00FF\", \"#7F00FF\", \"#7F00FF\", \"#7F00FF\", \"#7F00FF\", \"#7F00FF\", \"#7F00FF\", \"#7F00FF\", \"#7F00FF\", \"#7F00FF\", \"#7F00FF\", \"#FF0000\", \"#FF0000\", \"#7F00FF\", \"#7F00FF\", \"#7F00FF\", \"#7F00FF\", \"#7F00FF\", \"#7F00FF\", \"#7F00FF\", \"#7F00FF\", \"#7F00FF\", \"#7F00FF\", \"#7F00FF\", \"#7F00FF\", \"#FF0000\", \"#7F00FF\", \"#7F00FF\", \"#7F00FF\", \"#7F00FF\", \"#7F00FF\", \"#7F00FF\", \"#7F00FF\", \"#7F00FF\", \"#7F00FF\", \"#7F00FF\", \"#7F00FF\", \"#7F00FF\", \"#7F00FF\", \"#7F00FF\", \"#7F00FF\", \"#7F00FF\", \"#7F00FF\", \"#7F00FF\", \"#7F00FF\", \"#7F00FF\", \"#7F00FF\", \"#7F00FF\", \"#7F00FF\", \"#7F00FF\", \"#7F00FF\", \"#7F00FF\", \"#7F00FF\", \"#7F00FF\", \"#7F00FF\", \"#7F00FF\", \"#7F00FF\", \"#7F00FF\", \"#7F00FF\", \"#7F00FF\", \"#7F00FF\", \"#7F00FF\", \"#7F00FF\", \"#7F00FF\", \"#7F00FF\", \"#7F00FF\", \"#7F00FF\", \"#7F00FF\", \"#7F00FF\", \"#7F00FF\", \"#7F00FF\", \"#7F00FF\", \"#7F00FF\", \"#7F00FF\", \"#7F00FF\", \"#7F00FF\", \"#7F00FF\", \"#7F00FF\", \"#7F00FF\", \"#7F00FF\", \"#7F00FF\", \"#7F00FF\", \"#7F00FF\", \"#7F00FF\", \"#7F00FF\", \"#7F00FF\", \"#7F00FF\", \"#7F00FF\", \"#7F00FF\", \"#7F00FF\", \"#7F00FF\", \"#7F00FF\", \"#7F00FF\", \"#7F00FF\", \"#7F00FF\", \"#7F00FF\", \"#7F00FF\", \"#7F00FF\", \"#7F00FF\", \"#7F00FF\", \"#7F00FF\", \"#7F00FF\", \"#7F00FF\", \"#7F00FF\", \"#7F00FF\", \"#7F00FF\", \"#7F00FF\", \"#7F00FF\", \"#7F00FF\", \"#7F00FF\", \"#7F00FF\", \"#7F00FF\", \"#7F00FF\", \"#7F00FF\", \"#7F00FF\", \"#7F00FF\", \"#7F00FF\", \"#7F00FF\", \"#7F00FF\", \"#7F00FF\", \"#7F00FF\", \"#7F00FF\", \"#7F00FF\", \"#7F00FF\", \"#7F00FF\", \"#7F00FF\", \"#7F00FF\", \"#7F00FF\", \"#7F00FF\", \"#7F00FF\", \"#7F00FF\", \"#7F00FF\", \"#7F00FF\", \"#7F00FF\", \"#7F00FF\", \"#7F00FF\", \"#7F00FF\", \"#7F00FF\", \"#7F00FF\", \"#7F00FF\", \"#7F00FF\", \"#7F00FF\", \"#7F00FF\", \"#7F00FF\", \"#7F00FF\", \"#7F00FF\", \"#7F00FF\", \"#7F00FF\", \"#7F00FF\", \"#7F00FF\", \"#7F00FF\", \"#7F00FF\", \"#7F00FF\", \"#7F00FF\", \"#7F00FF\", \"#FF0000\", \"#FF0000\", \"#FF0000\", \"#7F00FF\", \"#FF0000\", \"#7F00FF\", \"#7F00FF\", \"#7F00FF\", \"#7F00FF\", \"#7F00FF\", \"#7F00FF\", \"#7F00FF\", \"#7F00FF\", \"#FF0000\", \"#7F00FF\", \"#7F00FF\", \"#7F00FF\", \"#7F00FF\", \"#7F00FF\", \"#7F00FF\", \"#7F00FF\", \"#7F00FF\", \"#7F00FF\", \"#7F00FF\", \"#7F00FF\", \"#7F00FF\", \"#7F00FF\", \"#7F00FF\", \"#7F00FF\", \"#FF0000\", \"#7F00FF\", \"#7F00FF\", \"#FF0000\", \"#7F00FF\", \"#7F00FF\", \"#7F00FF\", \"#7F00FF\", \"#7F00FF\", \"#7F00FF\", \"#7F00FF\", \"#7F00FF\", \"#7F00FF\", \"#7F00FF\", \"#7F00FF\", \"#7F00FF\", \"#7F00FF\", \"#7F00FF\", \"#7F00FF\", \"#7F00FF\", \"#7F00FF\", \"#7F00FF\", \"#7F00FF\", \"#7F00FF\", \"#7F00FF\", \"#7F00FF\", \"#7F00FF\", \"#7F00FF\", \"#7F00FF\", \"#7F00FF\", \"#7F00FF\", \"#7F00FF\", \"#7F00FF\", \"#7F00FF\", \"#7F00FF\", \"#7F00FF\", \"#7F00FF\", \"#7F00FF\", \"#7F00FF\", \"#7F00FF\", \"#7F00FF\", \"#7F00FF\", \"#7F00FF\", \"#7F00FF\", \"#7F00FF\", \"#7F00FF\", \"#7F00FF\", \"#7F00FF\", \"#7F00FF\", \"#7F00FF\", \"#7F00FF\", \"#7F00FF\", \"#7F00FF\", \"#7F00FF\", \"#7F00FF\", \"#7F00FF\", \"#7F00FF\", \"#7F00FF\", \"#7F00FF\", \"#7F00FF\"], \"facecolors\": [\"#7F00FF\", \"#7F00FF\", \"#7F00FF\", \"#7F00FF\", \"#7F00FF\", \"#7F00FF\", \"#7F00FF\", \"#7F00FF\", \"#7F00FF\", \"#7F00FF\", \"#7F00FF\", \"#7F00FF\", \"#7F00FF\", \"#7F00FF\", \"#FF0000\", \"#FF0000\", \"#7F00FF\", \"#7F00FF\", \"#7F00FF\", \"#FF0000\", \"#FF0000\", \"#FF0000\", \"#FF0000\", \"#7F00FF\", \"#7F00FF\", \"#7F00FF\", \"#7F00FF\", \"#7F00FF\", \"#7F00FF\", \"#7F00FF\", \"#7F00FF\", \"#7F00FF\", \"#7F00FF\", \"#7F00FF\", \"#7F00FF\", \"#7F00FF\", \"#7F00FF\", \"#FF0000\", \"#7F00FF\", \"#7F00FF\", \"#7F00FF\", \"#7F00FF\", \"#7F00FF\", \"#7F00FF\", \"#7F00FF\", \"#7F00FF\", \"#7F00FF\", \"#7F00FF\", \"#7F00FF\", \"#7F00FF\", \"#7F00FF\", \"#7F00FF\", \"#7F00FF\", \"#7F00FF\", \"#7F00FF\", \"#7F00FF\", \"#7F00FF\", \"#7F00FF\", \"#7F00FF\", \"#7F00FF\", \"#7F00FF\", \"#7F00FF\", \"#7F00FF\", \"#7F00FF\", \"#7F00FF\", \"#7F00FF\", \"#7F00FF\", \"#7F00FF\", \"#FF0000\", \"#FF0000\", \"#7F00FF\", \"#7F00FF\", \"#7F00FF\", \"#7F00FF\", \"#7F00FF\", \"#7F00FF\", \"#7F00FF\", \"#7F00FF\", \"#7F00FF\", \"#7F00FF\", \"#7F00FF\", \"#7F00FF\", \"#FF0000\", \"#7F00FF\", \"#7F00FF\", \"#7F00FF\", \"#7F00FF\", \"#7F00FF\", \"#7F00FF\", \"#7F00FF\", \"#7F00FF\", \"#7F00FF\", \"#7F00FF\", \"#7F00FF\", \"#7F00FF\", \"#7F00FF\", \"#7F00FF\", \"#7F00FF\", \"#7F00FF\", \"#7F00FF\", \"#7F00FF\", \"#7F00FF\", \"#7F00FF\", \"#7F00FF\", \"#7F00FF\", \"#7F00FF\", \"#7F00FF\", \"#7F00FF\", \"#7F00FF\", \"#7F00FF\", \"#7F00FF\", \"#7F00FF\", \"#7F00FF\", \"#7F00FF\", \"#7F00FF\", \"#7F00FF\", \"#7F00FF\", \"#7F00FF\", \"#7F00FF\", \"#7F00FF\", \"#7F00FF\", \"#7F00FF\", \"#7F00FF\", \"#7F00FF\", \"#7F00FF\", \"#7F00FF\", \"#7F00FF\", \"#7F00FF\", \"#7F00FF\", \"#7F00FF\", \"#7F00FF\", \"#7F00FF\", \"#7F00FF\", \"#7F00FF\", \"#7F00FF\", \"#7F00FF\", \"#7F00FF\", \"#7F00FF\", \"#7F00FF\", \"#7F00FF\", \"#7F00FF\", \"#7F00FF\", \"#7F00FF\", \"#7F00FF\", \"#7F00FF\", \"#7F00FF\", \"#7F00FF\", \"#7F00FF\", \"#7F00FF\", \"#7F00FF\", \"#7F00FF\", \"#7F00FF\", \"#7F00FF\", \"#7F00FF\", \"#7F00FF\", \"#7F00FF\", \"#7F00FF\", \"#7F00FF\", \"#7F00FF\", \"#7F00FF\", \"#7F00FF\", \"#7F00FF\", \"#7F00FF\", \"#7F00FF\", \"#7F00FF\", \"#7F00FF\", \"#7F00FF\", \"#7F00FF\", \"#7F00FF\", \"#7F00FF\", \"#7F00FF\", \"#7F00FF\", \"#7F00FF\", \"#7F00FF\", \"#7F00FF\", \"#7F00FF\", \"#7F00FF\", \"#7F00FF\", \"#7F00FF\", \"#7F00FF\", \"#7F00FF\", \"#7F00FF\", \"#7F00FF\", \"#7F00FF\", \"#7F00FF\", \"#7F00FF\", \"#7F00FF\", \"#7F00FF\", \"#7F00FF\", \"#7F00FF\", \"#7F00FF\", \"#7F00FF\", \"#7F00FF\", \"#7F00FF\", \"#7F00FF\", \"#7F00FF\", \"#7F00FF\", \"#7F00FF\", \"#7F00FF\", \"#7F00FF\", \"#7F00FF\", \"#7F00FF\", \"#7F00FF\", \"#7F00FF\", \"#7F00FF\", \"#7F00FF\", \"#7F00FF\", \"#7F00FF\", \"#7F00FF\", \"#7F00FF\", \"#7F00FF\", \"#7F00FF\", \"#FF0000\", \"#FF0000\", \"#FF0000\", \"#7F00FF\", \"#FF0000\", \"#7F00FF\", \"#7F00FF\", \"#7F00FF\", \"#7F00FF\", \"#7F00FF\", \"#7F00FF\", \"#7F00FF\", \"#7F00FF\", \"#FF0000\", \"#7F00FF\", \"#7F00FF\", \"#7F00FF\", \"#7F00FF\", \"#7F00FF\", \"#7F00FF\", \"#7F00FF\", \"#7F00FF\", \"#7F00FF\", \"#7F00FF\", \"#7F00FF\", \"#7F00FF\", \"#7F00FF\", \"#7F00FF\", \"#7F00FF\", \"#FF0000\", \"#7F00FF\", \"#7F00FF\", \"#FF0000\", \"#7F00FF\", \"#7F00FF\", \"#7F00FF\", \"#7F00FF\", \"#7F00FF\", \"#7F00FF\", \"#7F00FF\", \"#7F00FF\", \"#7F00FF\", \"#7F00FF\", \"#7F00FF\", \"#7F00FF\", \"#7F00FF\", \"#7F00FF\", \"#7F00FF\", \"#7F00FF\", \"#7F00FF\", \"#7F00FF\", \"#7F00FF\", \"#7F00FF\", \"#7F00FF\", \"#7F00FF\", \"#7F00FF\", \"#7F00FF\", \"#7F00FF\", \"#7F00FF\", \"#7F00FF\", \"#7F00FF\", \"#7F00FF\", \"#7F00FF\", \"#7F00FF\", \"#7F00FF\", \"#7F00FF\", \"#7F00FF\", \"#7F00FF\", \"#7F00FF\", \"#7F00FF\", \"#7F00FF\", \"#7F00FF\", \"#7F00FF\", \"#7F00FF\", \"#7F00FF\", \"#7F00FF\", \"#7F00FF\", \"#7F00FF\", \"#7F00FF\", \"#7F00FF\", \"#7F00FF\", \"#7F00FF\", \"#7F00FF\", \"#7F00FF\", \"#7F00FF\", \"#7F00FF\", \"#7F00FF\", \"#7F00FF\", \"#7F00FF\"], \"edgewidths\": [1.0], \"offsetcoordinates\": \"data\", \"pathcoordinates\": \"display\", \"zorder\": 1, \"id\": \"el321140224179048880\"}], \"images\": [], \"sharex\": [], \"sharey\": []}], \"data\": {\"data01\": [[3.34719181060791, 0.6105183959007263], [3.674755811691284, -0.9447815418243408], [1.4145134687423706, -2.413965940475464], [3.363046884536743, -0.752531886100769], [1.4137376546859741, -2.386838912963867], [-18.44879150390625, 13.089099884033203], [-18.04693603515625, 13.310247421264648], [6.546633720397949, -12.123919486999512], [3.300483226776123, -9.966586112976074], [9.845844268798828, -5.419911861419678], [-1.0948892831802368, -5.128264904022217], [-1.1855216026306152, -4.593842029571533], [8.794230461120605, -17.24558448791504], [5.370364189147949, -18.8160400390625], [6.911796569824219, -21.00015640258789], [6.757262706756592, -21.130212783813477], [6.012974262237549, -12.775596618652344], [15.85680103302002, 0.9258955717086792], [12.299788475036621, -12.579419136047363], [-18.089218139648438, 2.1219701766967773], [-18.216150283813477, 2.9971187114715576], [-16.948238372802734, 5.036821365356445], [-17.37258529663086, 4.80008602142334], [-12.997611999511719, 5.911106586456299], [14.89272689819336, -3.4739902019500732], [13.212000846862793, -2.751955270767212], [-2.7611382007598877, 19.970552444458008], [13.957478523254395, -1.5772494077682495], [4.481585502624512, -11.997724533081055], [7.148038387298584, -13.111786842346191], [-5.7847394943237305, -9.714871406555176], [-6.887569904327393, 1.414172649383545], [-6.793659687042236, 1.1840565204620361], [-6.678079605102539, -10.992372512817383], [-6.415404796600342, -9.037179946899414], [-4.69730806350708, -9.24609661102295], [-7.149524211883545, 2.683530330657959], [-7.470329284667969, -10.250401496887207], [19.7813663482666, -6.348714828491211], [19.570253372192383, -7.357484817504883], [-7.988364219665527, -6.548893928527832], [19.865018844604492, -5.9991302490234375], [18.6202449798584, -7.056422710418701], [-8.09422779083252, -1.0826822519302368], [-9.994607925415039, -1.0370811223983765], [-2.379666328430176, -10.752082824707031], [-9.042591094970703, -4.868899345397949], [-8.925374984741211, -6.2795305252075195], [-1.1256020069122314, -8.62698745727539], [-0.7227954864501953, -0.21657632291316986], [-1.2689604759216309, 0.7463845610618591], [16.538705825805664, -13.22298526763916], [16.415790557861328, -6.890252113342285], [-9.71668529510498, 3.1858458518981934], [-0.2729325592517853, 19.500839233398438], [14.083597183227539, -16.97512435913086], [-15.472020149230957, 14.165297508239746], [16.522371292114258, -18.914518356323242], [-18.598419189453125, 19.728958129882812], [3.4314072132110596, -6.9076666831970215], [14.472322463989258, -10.305191040039062], [-7.898653030395508, 13.387557029724121], [14.160412788391113, -10.750964164733887], [14.278014183044434, -9.554374694824219], [13.037147521972656, -9.305809020996094], [12.761999130249023, -9.106142044067383], [9.00917911529541, -7.738712310791016], [3.2652382850646973, 11.382458686828613], [3.3006465435028076, -8.087587356567383], [4.850927829742432, 11.461389541625977], [9.165332794189453, -7.737051010131836], [-16.83408546447754, -3.8146350383758545], [-16.672527313232422, -2.8610262870788574], [-14.48539924621582, -4.562570095062256], [-14.230226516723633, -3.4160492420196533], [-15.237611770629883, -4.791201591491699], [5.316251277923584, -7.777571678161621], [4.43245267868042, 13.595227241516113], [3.995776891708374, -9.321526527404785], [6.653173923492432, 12.34643268585205], [3.898076057434082, -8.386918067932129], [6.282740116119385, -10.433452606201172], [5.638856410980225, -8.312883377075195], [2.0589029788970947, -8.058206558227539], [4.42861795425415, -6.047674179077148], [-6.48864221572876, 7.673881530761719], [6.29763650894165, -6.1262640953063965], [6.5974016189575195, -6.435317516326904], [2.625497341156006, 12.780449867248535], [-4.3275604248046875, -6.275763511657715], [4.175043106079102, -4.570014476776123], [-6.564026832580566, 5.840602874755859], [5.80690860748291, -15.804661750793457], [6.070897579193115, -15.892486572265625], [-2.799269914627075, 11.290719985961914], [8.81879997253418, -15.391891479492188], [3.2392818927764893, -12.738017082214355], [8.597902297973633, -16.748228073120117], [-5.733723163604736, 13.268819808959961], [3.5969126224517822, -15.371042251586914], [-0.36327216029167175, 11.420299530029297], [7.4479475021362305, -17.866186141967773], [8.559122085571289, -18.120506286621094], [7.884365081787109, -17.43072509765625], [-5.835928440093994, 12.71275520324707], [7.7468132972717285, -15.148120880126953], [0.4778123199939728, -13.874699592590332], [0.7836151719093323, -13.841364860534668], [-11.132312774658203, 13.271854400634766], [9.27219295501709, -4.454887866973877], [11.890803337097168, -7.1431989669799805], [10.994674682617188, -4.415791988372803], [13.816943168640137, -23.32559585571289], [12.269401550292969, -22.2780704498291], [-11.327606201171875, 18.763132095336914], [13.477238655090332, -22.07759666442871], [-9.742180824279785, 16.93548011779785], [15.190404891967773, -20.47211265563965], [-12.593544960021973, 15.812295913696289], [17.387557983398438, -17.602256774902344], [-19.2176513671875, 17.443580627441406], [18.013652801513672, -17.46234893798828], [-17.893848419189453, 17.1224422454834], [17.12678337097168, -16.775815963745117], [-19.58188247680664, 14.20638656616211], [-19.84405517578125, 14.694482803344727], [18.58500862121582, -17.655797958374023], [-18.629356384277344, 16.246761322021484], [-18.78302574157715, 17.034317016601562], [17.58125877380371, -19.646516799926758], [-19.644397735595703, 16.19365882873535], [-17.69806671142578, 14.97661304473877], [17.883256912231445, -21.165042877197266], [-22.48428726196289, 13.80306625366211], [12.83708667755127, -20.164230346679688], [13.667695045471191, -20.7757568359375], [-14.71788215637207, 12.05759048461914], [13.20972728729248, -19.28704833984375], [14.717228889465332, -19.001371383666992], [-12.25407886505127, 14.828353881835938], [18.72829246520996, -19.85566520690918], [-21.89811134338379, 14.344428062438965], [2.68109393119812, -21.240442276000977], [7.77978515625, -12.19810676574707], [2.7791683673858643, -21.325172424316406], [1.8740712404251099, -18.53997802734375], [1.1621885299682617, -18.01238250732422], [0.2932403087615967, -21.401752471923828], [3.1044178009033203, -18.004079818725586], [4.312338829040527, 6.1340227127075195], [4.878617763519287, -18.89628028869629], [-6.5645599365234375, -16.40419578552246], [-6.25886869430542, -15.778584480285645], [2.8174326419830322, 4.341481685638428], [10.308004379272461, -10.939872741699219], [9.808964729309082, -12.99828052520752], [7.71671199798584, -9.459614753723145], [0.09302156418561935, 16.85380744934082], [0.3642193078994751, 17.172866821289062], [9.590126037597656, -10.353342056274414], [-1.0554872751235962, 15.162845611572266], [7.129755973815918, -6.968029975891113], [2.7543628215789795, 17.289634704589844], [4.0950140953063965, -14.99138069152832], [-2.421916961669922, 10.682976722717285], [-0.6422308087348938, 8.970520973205566], [-1.258484125137329, 10.598649024963379], [4.147573947906494, -13.274462699890137], [3.5540356636047363, -13.97746753692627], [14.129866600036621, -16.597576141357422], [11.890469551086426, -13.721762657165527], [17.29613494873047, -22.348312377929688], [2.028310775756836, -18.290163040161133], [1.9616256952285767, -19.6536808013916], [0.6372164487838745, -20.2230224609375], [0.08706268668174744, -20.154268264770508], [-0.46472230553627014, -9.106400489807129], [-4.123525619506836, 1.784435749053955], [4.247829437255859, -10.184391021728516], [14.826006889343262, -5.4521965980529785], [-5.853307247161865, 10.368619918823242], [12.02773380279541, -14.810627937316895], [-2.3254153728485107, -10.667677879333496], [0.7768754959106445, 13.06016731262207], [14.469122886657715, -2.4524168968200684], [-5.626254558563232, 17.912477493286133], [10.04112434387207, -11.19831657409668], [-2.344216823577881, 16.20118522644043], [1.2691359519958496, -10.818321228027344], [0.448763906955719, -11.342586517333984], [0.9722110033035278, -10.957661628723145], [-2.8977210521698, 3.4702277183532715], [17.697172164916992, -14.405267715454102], [17.90222930908203, -14.63476848602295], [-14.754473686218262, 11.82380485534668], [-2.621553659439087, -14.05289363861084], [-0.8587245941162109, -13.416378021240234], [-2.04740834236145, -13.88441276550293], [-2.077420711517334, -16.36432647705078], [11.603109359741211, -22.12902069091797], [-12.176800727844238, 18.272537231445312], [-1.746334433555603, -16.398826599121094], [-13.549704551696777, 17.490339279174805], [-6.1357035636901855, -16.041229248046875], [8.191113471984863, 8.577791213989258], [11.02998161315918, -16.765317916870117], [11.191981315612793, -6.028223991394043], [1.4436370134353638, 0.11555667221546173], [6.44291877746582, 11.042287826538086], [-10.460294723510742, 7.035300254821777], [4.437770843505859, 5.661116600036621], [-8.628067970275879, 11.132192611694336], [-0.302293986082077, 4.534879684448242], [0.3108215630054474, 2.484038829803467], [-0.4090122580528259, 4.763835906982422], [15.903703689575195, 1.4979403018951416], [-17.966981887817383, 4.021659851074219], [-12.700716018676758, 6.330888271331787], [-6.600224494934082, 16.183034896850586], [-3.052119731903076, 19.882932662963867], [-7.247598171234131, 17.688579559326172], [-5.434248447418213, 16.922731399536133], [-6.418215274810791, 19.55421257019043], [-3.3509018421173096, 5.573492050170898], [-5.73249626159668, -0.907981276512146], [-7.072018623352051, -0.7453098893165588], [-10.403932571411133, 1.7601311206817627], [-11.538947105407715, 1.1982759237289429], [-7.3325066566467285, -2.550665855407715], [-9.6093168258667, 0.24904301762580872], [-10.104782104492188, 2.0380091667175293], [-9.44797134399414, -3.146425485610962], [-3.7802205085754395, 0.30932289361953735], [-3.7910752296447754, -2.528933048248291], [12.634302139282227, 0.007378539070487022], [-14.98421859741211, -2.4046759605407715], [-3.8332064151763916, 1.946776270866394], [6.563830375671387, -3.526301860809326], [5.987956523895264, 12.603434562683105], [5.007810592651367, 12.286394119262695], [2.813863754272461, 16.668588638305664], [5.091653347015381, 14.155694007873535], [-6.717965602874756, 7.6777143478393555], [2.622093915939331, 13.146973609924316], [5.639578342437744, -2.2472548484802246], [-4.5659499168396, -5.720813274383545], [-2.6364598274230957, 12.400064468383789], [1.1588839292526245, 10.46700382232666], [-6.265298843383789, 12.99887466430664], [3.9573476314544678, 10.191320419311523], [-8.642699241638184, 11.208552360534668], [5.172473430633545, 8.218705177307129], [-11.283001899719238, 18.458269119262695], [-21.610107421875, 15.715566635131836], [-21.047191619873047, 16.887287139892578], [-22.26249885559082, 15.950933456420898], [-19.48531723022461, 18.95429229736328], [-15.858832359313965, 16.20884895324707], [-15.885695457458496, 17.110977172851562], [-11.434294700622559, 14.331023216247559], [-7.0551838874816895, 15.555248260498047], [-2.7049598693847656, 6.148859977722168], [-3.6879665851593018, 8.500997543334961], [1.439259648323059, 7.632535934448242], [2.3372089862823486, 5.79515266418457], [2.575744867324829, 5.494588851928711], [-3.1999166011810303, 15.480402946472168], [-3.0281808376312256, 15.848855018615723], [6.289007663726807, -1.2515705823898315], [3.6156005859375, 6.802223205566406], [8.562573432922363, -2.864785671234131], [-14.091249465942383, 19.616464614868164], [1.1108534336090088, 7.339476108551025], [-2.2193470001220703, -2.1451804637908936], [7.92464542388916, 1.4887747764587402], [5.8134894371032715, 10.52230453491211], [8.045645713806152, 0.6473864316940308], [5.619141578674316, 1.266724705696106], [8.070539474487305, 2.1265792846679688], [-10.618063926696777, 14.22635555267334], [6.863757610321045, -10.482651710510254], [-6.606633186340332, 20.096654891967773], [-1.0168845653533936, 15.225238800048828], [-2.13430118560791, 9.218130111694336], [1.5709013938903809, 9.775604248046875], [0.42325136065483093, 10.482769966125488], [-10.39955997467041, 9.012109756469727], [-2.1284542083740234, 6.868291854858398], [-4.281337261199951, 3.069269895553589], [-10.02079963684082, -6.324427604675293], [0.47906574606895447, 7.10606050491333], [-0.7507361173629761, 9.854399681091309], [-3.666255474090576, 11.533087730407715], [10.81193733215332, 1.257590651512146], [-6.697915077209473, 6.3715715408325195], [7.341037273406982, -2.2076258659362793], [-9.691462516784668, 16.798933029174805], [3.0744619369506836, 14.234716415405273], [-10.347554206848145, 8.642473220825195], [-1.44058358669281, 8.351613998413086], [-15.53148365020752, 14.618461608886719]]}, \"id\": \"el321140224347912416\", \"plugins\": [{\"type\": \"reset\"}, {\"type\": \"zoom\", \"button\": true, \"enabled\": false}, {\"type\": \"boxzoom\", \"button\": true, \"enabled\": false}, {\"type\": \"htmltooltip\", \"id\": \"el321140224179048880\", \"labels\": [\"\", \"\", \"\", \"\", \"\", \"<div class=\\\"tooltip\\\">Sprain of joints and ligaments of other parts of neck</div>\", \"<div class=\\\"tooltip\\\">Sprain of ligaments of lumbar spine</div>\", \"<div class=\\\"tooltip\\\">Other sepsis</div>\", \"<div class=\\\"tooltip\\\">Viral infection of unspecified site</div>\", \"<div class=\\\"tooltip\\\">Dermatophytosis</div>\", \"<div class=\\\"tooltip\\\">Malignant neoplasm of breast</div>\", \"<div class=\\\"tooltip\\\">Malignant neoplasm of breast of unspecified site</div>\", \"<div class=\\\"tooltip\\\">Benign neoplasm of colon, rectum, anus and anal canal</div>\", \"<div class=\\\"tooltip\\\">Leiomyoma of uterus</div>\", \"<div class=\\\"tooltip\\\">Iron deficiency anemia</div>\", \"<div class=\\\"tooltip\\\">Other anemias</div>\", \"<div class=\\\"tooltip\\\">Other disorders of white blood cells</div>\", \"<div class=\\\"tooltip\\\">Other hypothyroidism</div>\", \"<div class=\\\"tooltip\\\">Other nontoxic goiter</div>\", \"<div class=\\\"tooltip\\\">Type 1 diabetes mellitus</div>\", \"<div class=\\\"tooltip\\\">Type 2 diabetes mellitus</div>\", \"<div class=\\\"tooltip\\\">Type 2 diabetes mellitus with neurological complications</div>\", \"<div class=\\\"tooltip\\\">Type 2 diabetes mellitus with other specified complications</div>\", \"<div class=\\\"tooltip\\\">Testicular dysfunction</div>\", \"<div class=\\\"tooltip\\\">Vitamin D deficiency</div>\", \"<div class=\\\"tooltip\\\">Overweight and obesity</div>\", \"<div class=\\\"tooltip\\\">Obesity due to excess calories</div>\", \"<div class=\\\"tooltip\\\">Disorders of lipoprotein metabolism and other lipidemias</div>\", \"<div class=\\\"tooltip\\\">Volume depletion</div>\", \"<div class=\\\"tooltip\\\">Other disorders of fluid, electrolyte and acid-base balance</div>\", \"<div class=\\\"tooltip\\\">Alcohol related disorders</div>\", \"<div class=\\\"tooltip\\\">Alcohol abuse</div>\", \"<div class=\\\"tooltip\\\">Alcohol dependence</div>\", \"<div class=\\\"tooltip\\\">Opioid related disorders</div>\", \"<div class=\\\"tooltip\\\">Cannabis related disorders</div>\", \"<div class=\\\"tooltip\\\">Nicotine dependence</div>\", \"<div class=\\\"tooltip\\\">Nicotine dependence</div>\", \"<div class=\\\"tooltip\\\">Bipolar disorder</div>\", \"<div class=\\\"tooltip\\\">Depressive episode</div>\", \"<div class=\\\"tooltip\\\">Major depressive disorder, recurrent</div>\", \"<div class=\\\"tooltip\\\">Persistent mood [affective] disorders</div>\", \"<div class=\\\"tooltip\\\">Other anxiety disorders</div>\", \"<div class=\\\"tooltip\\\">Reaction to severe stress, and adjustment disorders</div>\", \"<div class=\\\"tooltip\\\">Post-traumatic stress disorder (PTSD)</div>\", \"<div class=\\\"tooltip\\\">Adjustment disorders</div>\", \"<div class=\\\"tooltip\\\">Specific developmental disorders of speech and language</div>\", \"<div class=\\\"tooltip\\\">Attention-deficit hyperactivity disorders</div>\", \"<div class=\\\"tooltip\\\">Conduct disorders</div>\", \"<div class=\\\"tooltip\\\">Epilepsy and recurrent seizures</div>\", \"<div class=\\\"tooltip\\\">Migraine</div>\", \"<div class=\\\"tooltip\\\">Migraine, unspecified</div>\", \"<div class=\\\"tooltip\\\">Other headache syndromes</div>\", \"<div class=\\\"tooltip\\\">Sleep disorders</div>\", \"<div class=\\\"tooltip\\\">Insomnia</div>\", \"<div class=\\\"tooltip\\\">Sleep apnea</div>\", \"<div class=\\\"tooltip\\\">Mononeuropathies of upper limb</div>\", \"<div class=\\\"tooltip\\\">Carpal tunnel syndrome</div>\", \"<div class=\\\"tooltip\\\">Pain, not elsewhere classified</div>\", \"<div class=\\\"tooltip\\\">Chronic pain, not elsewhere classified</div>\", \"<div class=\\\"tooltip\\\">Conjunctivitis</div>\", \"<div class=\\\"tooltip\\\">Age-related cataract</div>\", \"<div class=\\\"tooltip\\\">Age-related nuclear cataract</div>\", \"<div class=\\\"tooltip\\\">Other retinal disorders</div>\", \"<div class=\\\"tooltip\\\">Glaucoma</div>\", \"<div class=\\\"tooltip\\\">Disorders of refraction and accommodation</div>\", \"<div class=\\\"tooltip\\\">Visual disturbances</div>\", \"<div class=\\\"tooltip\\\">Other disorders of external ear</div>\", \"<div class=\\\"tooltip\\\">Impacted cerumen</div>\", \"<div class=\\\"tooltip\\\">Suppurative and unspecified otitis media</div>\", \"<div class=\\\"tooltip\\\">Otitis media, unspecified</div>\", \"<div class=\\\"tooltip\\\">Conductive and sensorineural hearing loss</div>\", \"<div class=\\\"tooltip\\\">Chronic ischemic heart disease</div>\", \"<div class=\\\"tooltip\\\">Atherosclerotic heart disease of native coronary artery</div>\", \"<div class=\\\"tooltip\\\">Atrial fibrillation and flutter</div>\", \"<div class=\\\"tooltip\\\">Unspecified atrial fibrillation and atrial flutter</div>\", \"<div class=\\\"tooltip\\\">Heart failure</div>\", \"<div class=\\\"tooltip\\\">Acute sinusitis</div>\", \"<div class=\\\"tooltip\\\">Acute sinusitis, unspecified</div>\", \"<div class=\\\"tooltip\\\">Acute pharyngitis</div>\", \"<div class=\\\"tooltip\\\">Streptococcal tonsillitis</div>\", \"<div class=\\\"tooltip\\\">Acute upper respiratory infections of multiple and unspecified sites</div>\", \"<div class=\\\"tooltip\\\">Pneumonia, unspecified organism</div>\", \"<div class=\\\"tooltip\\\">Acute bronchitis</div>\", \"<div class=\\\"tooltip\\\">Acute bronchiolitis</div>\", \"<div class=\\\"tooltip\\\">Vasomotor and allergic rhinitis</div>\", \"<div class=\\\"tooltip\\\">Other allergic rhinitis</div>\", \"<div class=\\\"tooltip\\\">Chronic sinusitis</div>\", \"<div class=\\\"tooltip\\\">Other and unspecified disorders of nose and nasal sinuses</div>\", \"<div class=\\\"tooltip\\\">Other specified disorders of nose and nasal sinuses</div>\", \"<div class=\\\"tooltip\\\">Other chronic obstructive pulmonary disease</div>\", \"<div class=\\\"tooltip\\\">Asthma</div>\", \"<div class=\\\"tooltip\\\">Other and unspecified asthma</div>\", \"<div class=\\\"tooltip\\\">Gastro-esophageal reflux disease</div>\", \"<div class=\\\"tooltip\\\">Gastritis and duodenitis</div>\", \"<div class=\\\"tooltip\\\">Gastroduodenitis, unspecified</div>\", \"<div class=\\\"tooltip\\\">Inguinal hernia</div>\", \"<div class=\\\"tooltip\\\">Other and unspecified noninfective gastroenteritis and colitis</div>\", \"<div class=\\\"tooltip\\\">Diverticular disease of intestine</div>\", \"<div class=\\\"tooltip\\\">Diverticular disease of large intestine without perforation or abscess</div>\", \"<div class=\\\"tooltip\\\">Other functional intestinal disorders</div>\", \"<div class=\\\"tooltip\\\">Constipation</div>\", \"<div class=\\\"tooltip\\\">Other diseases of anus and rectum</div>\", \"<div class=\\\"tooltip\\\">Other diseases of intestine</div>\", \"<div class=\\\"tooltip\\\">Hemorrhoids and perianal venous thrombosis</div>\", \"<div class=\\\"tooltip\\\">Other hemorrhoids</div>\", \"<div class=\\\"tooltip\\\">Cholelithiasis</div>\", \"<div class=\\\"tooltip\\\">Cutaneous abscess, furuncle and carbuncle</div>\", \"<div class=\\\"tooltip\\\">Cellulitis and acute lymphangitis</div>\", \"<div class=\\\"tooltip\\\">Cellulitis and acute lymphangitis of other parts of limb</div>\", \"<div class=\\\"tooltip\\\">Other and unspecified dermatitis</div>\", \"<div class=\\\"tooltip\\\">Skin changes due to chronic exposure to nonionizing radiation</div>\", \"<div class=\\\"tooltip\\\">Acne</div>\", \"<div class=\\\"tooltip\\\">Osteoarthritis of hip</div>\", \"<div class=\\\"tooltip\\\">Osteoarthritis of knee</div>\", \"<div class=\\\"tooltip\\\">Unilateral primary osteoarthritis of knee</div>\", \"<div class=\\\"tooltip\\\">Other and unspecified osteoarthritis</div>\", \"<div class=\\\"tooltip\\\">Osteoarthritis, unspecified site</div>\", \"<div class=\\\"tooltip\\\">Other joint disorder, not elsewhere classified</div>\", \"<div class=\\\"tooltip\\\">Pain in joint</div>\", \"<div class=\\\"tooltip\\\">Spondylosis</div>\", \"<div class=\\\"tooltip\\\">Other spondylosis</div>\", \"<div class=\\\"tooltip\\\">Other spondylopathies</div>\", \"<div class=\\\"tooltip\\\">Spinal stenosis</div>\", \"<div class=\\\"tooltip\\\">Cervical disc disorders</div>\", \"<div class=\\\"tooltip\\\">Other cervical disc displacement</div>\", \"<div class=\\\"tooltip\\\">Other cervical disc degeneration</div>\", \"<div class=\\\"tooltip\\\">Thoracic, thoracolumbar, and lumbosacral intervertebral disc disorders</div>\", \"<div class=\\\"tooltip\\\">Other thoracic, thoracolumbar and lumbosacral intervertebral disc displacement</div>\", \"<div class=\\\"tooltip\\\">Other thoracic, thoracolumbar and lumbosacral intervertebral disc degeneration</div>\", \"<div class=\\\"tooltip\\\">Dorsalgia</div>\", \"<div class=\\\"tooltip\\\">Radiculopathy</div>\", \"<div class=\\\"tooltip\\\">Sciatica</div>\", \"<div class=\\\"tooltip\\\">Other disorders of muscle</div>\", \"<div class=\\\"tooltip\\\">Other specified disorders of muscle</div>\", \"<div class=\\\"tooltip\\\">Synovitis and tenosynovitis</div>\", \"<div class=\\\"tooltip\\\">Shoulder lesions</div>\", \"<div class=\\\"tooltip\\\">Bursitis of shoulder</div>\", \"<div class=\\\"tooltip\\\">Other enthesopathies</div>\", \"<div class=\\\"tooltip\\\">Other and unspecified soft tissue disorders, not elsewhere classified</div>\", \"<div class=\\\"tooltip\\\">Pain in limb, hand, foot, fingers and toes</div>\", \"<div class=\\\"tooltip\\\">Biomechanical lesions, not elsewhere classified</div>\", \"<div class=\\\"tooltip\\\">Segmental and somatic dysfunction</div>\", \"<div class=\\\"tooltip\\\">Obstructive and reflux uropathy</div>\", \"<div class=\\\"tooltip\\\">Chronic kidney disease (CKD)</div>\", \"<div class=\\\"tooltip\\\">Calculus of kidney and ureter</div>\", \"<div class=\\\"tooltip\\\">Cystitis</div>\", \"<div class=\\\"tooltip\\\">Other disorders of urinary system</div>\", \"<div class=\\\"tooltip\\\">Benign prostatic hyperplasia</div>\", \"<div class=\\\"tooltip\\\">Other inflammation of vagina and vulva</div>\", \"<div class=\\\"tooltip\\\">Other and unspecified ovarian cysts</div>\", \"<div class=\\\"tooltip\\\">Excessive, frequent and irregular menstruation</div>\", \"<div class=\\\"tooltip\\\">Supervision of high risk pregnancy</div>\", \"<div class=\\\"tooltip\\\">Other maternal diseases classifiable elsewhere but complicating pregnancy, childbirth and the puerperium</div>\", \"<div class=\\\"tooltip\\\">Endocrine, nutritional and metabolic diseases complicating pregnancy, childbirth and the puerperium</div>\", \"<div class=\\\"tooltip\\\">Abnormalities of heart beat</div>\", \"<div class=\\\"tooltip\\\">Abnormal blood-pressure reading, without diagnosis</div>\", \"<div class=\\\"tooltip\\\">Abnormalities of breathing</div>\", \"<div class=\\\"tooltip\\\">Dyspnea</div>\", \"<div class=\\\"tooltip\\\">Other abnormalities of breathing</div>\", \"<div class=\\\"tooltip\\\">Pain in throat and chest</div>\", \"<div class=\\\"tooltip\\\">Other chest pain</div>\", \"<div class=\\\"tooltip\\\">Other symptoms and signs involving the circulatory and respiratory system</div>\", \"<div class=\\\"tooltip\\\">Asphyxia and hypoxemia</div>\", \"<div class=\\\"tooltip\\\">Abdominal and pelvic pain</div>\", \"<div class=\\\"tooltip\\\">Pain localized to upper abdomen</div>\", \"<div class=\\\"tooltip\\\">Pain localized to other parts of lower abdomen</div>\", \"<div class=\\\"tooltip\\\">Other abdominal pain</div>\", \"<div class=\\\"tooltip\\\">Nausea and vomiting</div>\", \"<div class=\\\"tooltip\\\">Other symptoms and signs involving the digestive system and abdomen</div>\", \"<div class=\\\"tooltip\\\">Disturbances of skin sensation</div>\", \"<div class=\\\"tooltip\\\">Localized swelling, mass and lump of skin and subcutaneous tissue</div>\", \"<div class=\\\"tooltip\\\">Other symptoms and signs involving the nervous and musculoskeletal systems</div>\", \"<div class=\\\"tooltip\\\">Pain associated with micturition</div>\", \"<div class=\\\"tooltip\\\">Hematuria</div>\", \"<div class=\\\"tooltip\\\">Polyuria</div>\", \"<div class=\\\"tooltip\\\">Other and unspecified symptoms and signs involving the genitourinary system</div>\", \"<div class=\\\"tooltip\\\">Other symptoms and signs involving cognitive functions and awareness</div>\", \"<div class=\\\"tooltip\\\">Other symptoms and signs involving cognitive functions and awareness</div>\", \"<div class=\\\"tooltip\\\">Fever of other and unknown origin</div>\", \"<div class=\\\"tooltip\\\">Malaise and fatigue</div>\", \"<div class=\\\"tooltip\\\">Other malaise and fatigue</div>\", \"<div class=\\\"tooltip\\\">Edema, not elsewhere classified</div>\", \"<div class=\\\"tooltip\\\">Lack of expected normal physiological development in childhood and adults</div>\", \"<div class=\\\"tooltip\\\">Other general symptoms and signs</div>\", \"<div class=\\\"tooltip\\\">Elevated blood glucose level</div>\", \"<div class=\\\"tooltip\\\">Abnormal glucose</div>\", \"<div class=\\\"tooltip\\\">Abnormal results of function studies</div>\", \"<div class=\\\"tooltip\\\">Abnormal results of cardiovascular function studies</div>\", \"<div class=\\\"tooltip\\\">Superficial injury of head</div>\", \"<div class=\\\"tooltip\\\">Open wound of head</div>\", \"<div class=\\\"tooltip\\\">Other and unspecified injuries of head</div>\", \"<div class=\\\"tooltip\\\">Unspecified injury of face and head</div>\", \"<div class=\\\"tooltip\\\">Dislocation and sprain of joints and ligaments at neck level</div>\", \"<div class=\\\"tooltip\\\">Other and unspecified injuries of abdomen, lower back, pelvis and external genitals</div>\", \"<div class=\\\"tooltip\\\">Sprain of shoulder joint</div>\", \"<div class=\\\"tooltip\\\">Fracture of forearm</div>\", \"<div class=\\\"tooltip\\\">Open wound of wrist, hand and fingers</div>\", \"<div class=\\\"tooltip\\\">Fracture at wrist and hand level</div>\", \"<div class=\\\"tooltip\\\">Fracture of lower leg, including ankle</div>\", \"<div class=\\\"tooltip\\\">Dislocation and sprain of joints and ligaments of knee</div>\", \"<div class=\\\"tooltip\\\">Tear of meniscus, current injury</div>\", \"<div class=\\\"tooltip\\\">Dislocation and sprain of joints and ligaments at ankle, foot and toe level</div>\", \"<div class=\\\"tooltip\\\">Injury of unspecified muscle and tendon at ankle and foot level</div>\", \"<div class=\\\"tooltip\\\">Weeks of gestation</div>\", \"<div class=\\\"tooltip\\\">Single liveborn infant, born in hospital</div>\", \"<div class=\\\"tooltip\\\">Other postprocedural states</div>\", \"<div class=\\\"tooltip\\\">Viral warts</div>\", \"<div class=\\\"tooltip\\\">Human immunodeficiency virus [HIV] disease</div>\", \"<div class=\\\"tooltip\\\">Other viral agents as the cause of diseases classified elsewhere</div>\", \"<div class=\\\"tooltip\\\">Malignant neoplasm of prostate</div>\", \"<div class=\\\"tooltip\\\">Leiomyoma of uterus, unspecified</div>\", \"<div class=\\\"tooltip\\\">Neoplasm of uncertain behavior of skin</div>\", \"<div class=\\\"tooltip\\\">Iron deficiency anemia, unspecified</div>\", \"<div class=\\\"tooltip\\\">Acute posthemorrhagic anemia</div>\", \"<div class=\\\"tooltip\\\">Anemia, unspecified</div>\", \"<div class=\\\"tooltip\\\">Hypothyroidism, unspecified</div>\", \"<div class=\\\"tooltip\\\">Type 2 diabetes mellitus without complications</div>\", \"<div class=\\\"tooltip\\\">Testicular hypofunction</div>\", \"<div class=\\\"tooltip\\\">Vitamin D deficiency, unspecified</div>\", \"<div class=\\\"tooltip\\\">Obesity, unspecified</div>\", \"<div class=\\\"tooltip\\\">Pure hypercholesterolemia</div>\", \"<div class=\\\"tooltip\\\">Mixed hyperlipidemia</div>\", \"<div class=\\\"tooltip\\\">Hyperlipidemia, unspecified</div>\", \"<div class=\\\"tooltip\\\">Hypokalemia</div>\", \"<div class=\\\"tooltip\\\">Unspecified psychosis not due to a substance or known physiological condition</div>\", \"<div class=\\\"tooltip\\\">Bipolar disorder, unspecified</div>\", \"<div class=\\\"tooltip\\\">Major depressive disorder, single episode, unspecified</div>\", \"<div class=\\\"tooltip\\\">Dysthymic disorder</div>\", \"<div class=\\\"tooltip\\\">Unspecified mood [affective] disorder</div>\", \"<div class=\\\"tooltip\\\">Generalized anxiety disorder</div>\", \"<div class=\\\"tooltip\\\">Anxiety disorder, unspecified</div>\", \"<div class=\\\"tooltip\\\">Attention-deficit hyperactivity disorder, unspecified type</div>\", \"<div class=\\\"tooltip\\\">Parkinson's disease</div>\", \"<div class=\\\"tooltip\\\">Multiple sclerosis</div>\", \"<div class=\\\"tooltip\\\">Essential (primary) hypertension</div>\", \"<div class=\\\"tooltip\\\">Heart failure, unspecified</div>\", \"<div class=\\\"tooltip\\\">Other specified cerebrovascular diseases</div>\", \"<div class=\\\"tooltip\\\">Acute nasopharyngitis [common cold]</div>\", \"<div class=\\\"tooltip\\\">Acute pharyngitis, unspecified</div>\", \"<div class=\\\"tooltip\\\">Acute upper respiratory infection, unspecified</div>\", \"<div class=\\\"tooltip\\\">Pneumonia, unspecified organism</div>\", \"<div class=\\\"tooltip\\\">Acute bronchitis, unspecified</div>\", \"<div class=\\\"tooltip\\\">Allergic rhinitis due to pollen</div>\", \"<div class=\\\"tooltip\\\">Chronic sinusitis, unspecified</div>\", \"<div class=\\\"tooltip\\\">Bronchitis, not specified as acute or chronic</div>\", \"<div class=\\\"tooltip\\\">Chronic obstructive pulmonary disease, unspecified</div>\", \"<div class=\\\"tooltip\\\">Gastro-esophageal reflux disease without esophagitis</div>\", \"<div class=\\\"tooltip\\\">Noninfective gastroenteritis and colitis, unspecified</div>\", \"<div class=\\\"tooltip\\\">Polyp of colon</div>\", \"<div class=\\\"tooltip\\\">Unspecified contact dermatitis, unspecified cause</div>\", \"<div class=\\\"tooltip\\\">Actinic keratosis</div>\", \"<div class=\\\"tooltip\\\">Other acne</div>\", \"<div class=\\\"tooltip\\\">Osteoarthritis of knee, unspecified</div>\", \"<div class=\\\"tooltip\\\">Cervicalgia</div>\", \"<div class=\\\"tooltip\\\">Low back pain</div>\", \"<div class=\\\"tooltip\\\">Pain in thoracic spine</div>\", \"<div class=\\\"tooltip\\\">Dorsalgia, unspecified</div>\", \"<div class=\\\"tooltip\\\">Neuralgia and neuritis, unspecified</div>\", \"<div class=\\\"tooltip\\\">Fibromyalgia</div>\", \"<div class=\\\"tooltip\\\">Other specified soft tissue disorders</div>\", \"<div class=\\\"tooltip\\\">Disorder of cartilage, unspecified</div>\", \"<div class=\\\"tooltip\\\">Acute kidney failure, unspecified</div>\", \"<div class=\\\"tooltip\\\">Calculus of kidney</div>\", \"<div class=\\\"tooltip\\\">Urinary tract infection, site not specified</div>\", \"<div class=\\\"tooltip\\\">Subacute and chronic vulvitis</div>\", \"<div class=\\\"tooltip\\\">Other specified noninflammatory disorders of vagina</div>\", \"<div class=\\\"tooltip\\\">Bradycardia, unspecified</div>\", \"<div class=\\\"tooltip\\\">Palpitations</div>\", \"<div class=\\\"tooltip\\\">Cough</div>\", \"<div class=\\\"tooltip\\\">Pelvic and perineal pain</div>\", \"<div class=\\\"tooltip\\\">Rash and other nonspecific skin eruption</div>\", \"<div class=\\\"tooltip\\\">Difficulty in walking, not elsewhere classified</div>\", \"<div class=\\\"tooltip\\\">Painful micturition, unspecified</div>\", \"<div class=\\\"tooltip\\\">Unspecified urinary incontinence</div>\", \"<div class=\\\"tooltip\\\">Dizziness and giddiness</div>\", \"<div class=\\\"tooltip\\\">Fever, unspecified</div>\", \"<div class=\\\"tooltip\\\">Headache</div>\", \"<div class=\\\"tooltip\\\">Pain, unspecified</div>\", \"<div class=\\\"tooltip\\\">Syncope and collapse</div>\", \"<div class=\\\"tooltip\\\">Edema, unspecified</div>\", \"<div class=\\\"tooltip\\\">Abnormal findings on diagnostic imaging of lung</div>\", \"<div class=\\\"tooltip\\\">Hypertensive crisis, unspecified</div>\", \"<div class=\\\"tooltip\\\">Chest pain, unspecified</div>\", \"<div class=\\\"tooltip\\\">Nausea</div>\", \"<div class=\\\"tooltip\\\">Vomiting</div>\", \"<div class=\\\"tooltip\\\">Diarrhea, unspecified</div>\", \"<div class=\\\"tooltip\\\">Benign prostatic hyperplasia without lower urinary tract symptoms</div>\", \"<div class=\\\"tooltip\\\">Dehydration</div>\", \"<div class=\\\"tooltip\\\">Unspecified convulsions</div>\", \"<div class=\\\"tooltip\\\">Chronic iridocyclitis, unspecified eye</div>\", \"<div class=\\\"tooltip\\\">Frequency of micturition</div>\", \"<div class=\\\"tooltip\\\">Unspecified abdominal pain</div>\", \"<div class=\\\"tooltip\\\">Dysphagia</div>\", \"<div class=\\\"tooltip\\\">Acute necrotizing hemorrhagic encephalopathy, unspecified</div>\", \"<div class=\\\"tooltip\\\">Mild intermittent asthma</div>\", \"<div class=\\\"tooltip\\\">Influenza due to unidentified influenza virus with unspecified type of pneumonia</div>\", \"<div class=\\\"tooltip\\\">Arthropathy, unspecified</div>\", \"<div class=\\\"tooltip\\\">Allergic rhinitis, unspecified</div>\", \"<div class=\\\"tooltip\\\">Benign prostatic hyperplasia with lower urinary tract symptoms</div>\", \"<div class=\\\"tooltip\\\">Nausea with vomiting, unspecified</div>\", \"<div class=\\\"tooltip\\\">Unspecified disturbances of skin sensation</div>\"], \"targets\": null, \"hoffset\": 0, \"voffset\": 10}]});\n",
              "            })\n",
              "         });\n",
              "}\n",
              "</script>"
            ]
          },
          "metadata": {},
          "execution_count": 27
        }
      ]
    },
    {
      "cell_type": "markdown",
      "source": [
        "#### Model hyper-parameters optimization"
      ],
      "metadata": {
        "id": "9C0vKTTI0Zgk"
      }
    },
    {
      "cell_type": "code",
      "source": [
        "! pip install --quiet optuna\n",
        "! pip install --quiet optuna-dashboard\n",
        "# optuna-dashboard sqlite:///db.sqlite3"
      ],
      "metadata": {
        "id": "DUtzQ2CGzyuD",
        "colab": {
          "base_uri": "https://localhost:8080/"
        },
        "outputId": "71d8b8ec-9480-4332-8581-ec5b7e441df4"
      },
      "execution_count": 28,
      "outputs": [
        {
          "output_type": "stream",
          "name": "stdout",
          "text": [
            "\u001b[2K     \u001b[90m━━━━━━━━━━━━━━━━━━━━━━━━━━━━━━━━━━━━━━━\u001b[0m \u001b[32m365.7/365.7 kB\u001b[0m \u001b[31m7.5 MB/s\u001b[0m eta \u001b[36m0:00:00\u001b[0m\n",
            "\u001b[2K     \u001b[90m━━━━━━━━━━━━━━━━━━━━━━━━━━━━━━━━━━━━━━\u001b[0m \u001b[32m212.9/212.9 kB\u001b[0m \u001b[31m21.8 MB/s\u001b[0m eta \u001b[36m0:00:00\u001b[0m\n",
            "\u001b[2K     \u001b[90m━━━━━━━━━━━━━━━━━━━━━━━━━━━━━━━━━━━━━━━━\u001b[0m \u001b[32m78.7/78.7 kB\u001b[0m \u001b[31m8.6 MB/s\u001b[0m eta \u001b[36m0:00:00\u001b[0m\n",
            "\u001b[2K     \u001b[90m━━━━━━━━━━━━━━━━━━━━━━━━━━━━━━━━━━━━━━━━\u001b[0m \u001b[32m4.3/4.3 MB\u001b[0m \u001b[31m31.4 MB/s\u001b[0m eta \u001b[36m0:00:00\u001b[0m\n",
            "\u001b[2K     \u001b[90m━━━━━━━━━━━━━━━━━━━━━━━━━━━━━━━━━━━━━━━━\u001b[0m \u001b[32m90.2/90.2 kB\u001b[0m \u001b[31m8.2 MB/s\u001b[0m eta \u001b[36m0:00:00\u001b[0m\n",
            "\u001b[?25h"
          ]
        }
      ]
    },
    {
      "cell_type": "code",
      "source": [
        "import optuna\n",
        "\n",
        "def define_model(trial: optuna.trial.Trial, config):\n",
        "  conf = BertConfig.BertConfig(config)\n",
        "  model = MLM.BertForMaskedLM(conf)\n",
        "  return model\n",
        "\n",
        "def define_optimizer(trial: optuna.trial.Trial, model):\n",
        "  lr = trial.suggest_loguniform(\"lr\", 1e-5, 1e-1)\n",
        "  optimizer = torch.optim.Adam(model.parameters(), lr=lr)\n",
        "  return optimizer\n",
        "\n",
        "def get_config_with_trial_params(trial: optuna.trial.Trial ):\n",
        "    # Define model config parameters\n",
        "    num_hidden_layers =  trial.suggest_int('num_hidden_layers', 2, 6)  \n",
        "    #num_attention_heads = trial.suggest_int('num_attention_heads', 3, 12)\n",
        "    #hidden_size = num_hidden_layers * num_attention_heads * model_config[\"intermediate_size\"]\n",
        "\n",
        "    # Create model config\n",
        "    config = model_config.copy()\n",
        "    config[\"num_hidden_layers\"] = num_hidden_layers\n",
        "    #config[\"num_attention_heads\"] = num_attention_heads\n",
        "    #config[\"hidden_size\"] = hidden_size\n",
        "\n",
        "    return config\n",
        "\n",
        "def objective(trial):\n",
        "    \n",
        "    # Define model config parameters\n",
        "    config = get_config_with_trial_params(trial)\n",
        "\n",
        "    # Define optimizer parameters\n",
        "    lr = trial.suggest_float(\"lr\", 1e-5, 1e-1, log=True)\n",
        "    optimizer_params= {\n",
        "        'lr': lr,\n",
        "        'warmup_proportion': 0.1,\n",
        "        'weight_decay': 0.01\n",
        "    }\n",
        "        \n",
        "    # Define model\n",
        "    model = define_model(trial, config)\n",
        "    optimizer = adam(params=list(model.named_parameters()), config=optimizer_params)\n",
        "     \n",
        "    # Train model\n",
        "    model.train()\n",
        "    tr_loss=0\n",
        "\n",
        "    for step, batch in enumerate(train_loader):\n",
        "      optimizer.zero_grad()\n",
        "      \n",
        "      token_ids, age_ids, posi_ids, segment_ids, attMask, masked_label = batch\n",
        "\n",
        "      # Call MLM Model\n",
        "      loss, pred, label = model(token_ids, age_ids, segment_ids, posi_ids,\n",
        "                                attention_mask=attMask, \n",
        "                                masked_lm_labels=masked_label)\n",
        "    \n",
        "      loss.backward()\n",
        "      optimizer.step()\n",
        "      tr_loss += loss.item()\n",
        "\n",
        "    data_len = len(train_loader)\n",
        "    loss = tr_loss/data_len\n",
        "    return cal_acc(label, pred)\n",
        "\n",
        "    #if trial.should_prune():\n",
        "    #    raise optuna.exceptions.TrialPruned()\n",
        "\n",
        "if optane_hyper_param_tunning:\n",
        "  study = optuna.create_study(direction='maximize')\n",
        "  study.optimize(objective, n_trials=10)\n",
        "\n",
        "  trial = study.best_trial\n",
        "\n",
        "  print('Accuracy: {}'.format(trial.value))\n",
        "  print(\"Best hyperparameters: {}\".format(trial.params))\n"
      ],
      "metadata": {
        "id": "0MX0ekQM0qxr"
      },
      "execution_count": 29,
      "outputs": []
    }
  ],
  "metadata": {
    "accelerator": "GPU",
    "colab": {
      "provenance": []
    },
    "gpuClass": "standard",
    "kernelspec": {
      "display_name": "Python 3",
      "language": "python",
      "name": "python3"
    },
    "language_info": {
      "codemirror_mode": {
        "name": "ipython",
        "version": 3
      },
      "file_extension": ".py",
      "mimetype": "text/x-python",
      "name": "python",
      "nbconvert_exporter": "python",
      "pygments_lexer": "ipython3",
      "version": "3.9.11"
    },
    "orig_nbformat": 4,
    "vscode": {
      "interpreter": {
        "hash": "81794d4967e6c3204c66dcd87b604927b115b27c00565d3d43f05ba2f3a2cb0d"
      }
    }
  },
  "nbformat": 4,
  "nbformat_minor": 0
}