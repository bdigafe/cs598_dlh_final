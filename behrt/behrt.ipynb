{
  "cells": [
    {
      "cell_type": "markdown",
      "metadata": {
        "id": "VDIyndGVBJZh"
      },
      "source": [
        "### Project: Application of BERT to Electronic Health Records to predit the next diagnosis"
      ]
    },
    {
      "attachments": {},
      "cell_type": "markdown",
      "metadata": {
        "id": "qtTLL2DrBJZk"
      },
      "source": [
        "#### Define the source data\n",
        "In this section we the syntethic data obtained from the Medysin website. For this project, we use the outpatient data. The site also provided synthetic data for ICU. Download access was provided by the TA. Please check post # in campuswire. The data is available as a set of CSV files, each describing different aspects of EHR.\n",
        "\n",
        "**persons.csv**: List of patients.\n",
        "\n",
        "![image.png](attachment:image.png)\n",
        "\n",
        "**visit.occurence**: List of patients' visits and high level details of each visit. The visit id uniquely identifies each record. The patient id field defines the patient from the patients file.\n",
        "\n",
        "![image.png](attachment:image-2.png)\n",
        "\n",
        "**conditions_occurence**: List the disease occurrence (diagnoses) for each visit, which indirectly relates the patient.\n",
        "\n",
        "![image.png](attachment:image-3.png)\n"
      ]
    },
    {
      "attachments": {},
      "cell_type": "markdown",
      "metadata": {
        "id": "9SAOGkOIBJZl"
      },
      "source": [
        "#### Data entity diagram\n",
        "The following figure shows the entity-relationship of the three main data tables after removing data columns that are not useful for this project because they are not present (always blank) or have the same value for all the records.\n",
        "\n",
        "![image.png](attachment:image-2.png)\n"
      ]
    },
    {
      "cell_type": "code",
      "execution_count": 3,
      "metadata": {},
      "outputs": [],
      "source": [
        "local_mode = True\n"
      ]
    },
    {
      "cell_type": "code",
      "execution_count": 4,
      "metadata": {
        "colab": {
          "base_uri": "https://localhost:8080/"
        },
        "id": "gCUA0c8cBgHD",
        "outputId": "9e8d6d80-f871-4a52-cc9e-fabf398b38eb"
      },
      "outputs": [],
      "source": [
        "if not local_mode:\n",
        "    from google.colab import drive\n",
        "    drive.mount('/content/gdrive')\n",
        "\n",
        "    !cp -r gdrive/MyDrive/behrt/data data/\n",
        "    !cp -r gdrive/MyDrive/behrt/commons commons/\n",
        "    !cp -r gdrive/MyDrive/behrt/models models/"
      ]
    },
    {
      "cell_type": "code",
      "execution_count": 34,
      "metadata": {
        "id": "IayjuaWgBJZm"
      },
      "outputs": [],
      "source": [
        "import os\n",
        "import pdb\n",
        "import sys\n",
        "import time\n",
        "import pickle\n",
        "import random\n",
        "import numpy as np\n",
        "import torch\n",
        "from torch import nn\n",
        "import torch.nn.functional as F\n",
        "import commons.utils as utils\n",
        "\n",
        "# set random seed for reproducibility\n",
        "seed = 123\n",
        "random.seed(seed)\n",
        "np.random.seed(seed)\n",
        "torch.manual_seed(seed)\n",
        "torch.use_deterministic_algorithms(True)\n",
        "os.environ['PYTHONASHSEED'] = str(seed)\n",
        "\n",
        "global_params = {\n",
        "    'device': 'cuda' if torch.cuda.is_available() else 'cpu',\n",
        "    'max_seq_len': 256,\n",
        "    'max_age' : 110,\n",
        "    'age_month' : 1,\n",
        "    'min_visit': 5,\n",
        "\n",
        "    'batch_size': 64, #128,\n",
        "    'num_epochs': 5,\n",
        "    'gradient_accumulation_steps': 1,\n",
        "    'training_sample': 1000,\n",
        "    \n",
        "    # Bert model parameters to fine-tune\n",
        "    'attention_heads': 6, #12,\n",
        "    'num_hidden_layers': 3, #6,\n",
        "    'hidden_size': 72 #288\n",
        "}\n",
        "\n",
        "optim_param = {\n",
        "    'lr': 3e-5,\n",
        "    'warmup_proportion': 0.1,\n",
        "    'weight_decay': 0.01\n",
        "}\n",
        "\n",
        "file_config = {\n",
        "    'vocab': ('C:/Birhanu/Education/UIL/cs598/Final/data/' if local_mode else 'data/') + 'condition_codes.pkl',\n",
        "    'data': ('C:/Birhanu/Education/UIL/cs598/Final/data/' if local_mode else 'data/') + 'conditions.pkl',\n",
        "    'ages': ('C:/Birhanu/Education/UIL/cs598/Final/data/' if local_mode else 'data/') + 'ages.pkl',\n",
        "    \n",
        "    'model_path': 'C:/Birhanu/Education/UIL/cs598/Final/saved_models/' if local_mode else 'data/',  # where to save model\n",
        "    'model_name': 'mlm128',  # model name\n",
        "    'log_file_name': 'log',  # log path\n",
        "}\n"
      ]
    },
    {
      "cell_type": "code",
      "execution_count": 6,
      "metadata": {
        "colab": {
          "base_uri": "https://localhost:8080/"
        },
        "id": "6v2r6vexFttq",
        "outputId": "3c9d914d-7a2f-49e9-e8a8-aa48d571b8c0"
      },
      "outputs": [
        {
          "name": "stdout",
          "output_type": "stream",
          "text": [
            "cpu\n"
          ]
        }
      ],
      "source": [
        "print(global_params[\"device\"])"
      ]
    },
    {
      "cell_type": "code",
      "execution_count": 7,
      "metadata": {
        "id": "AkM2z7YqH0K6"
      },
      "outputs": [],
      "source": [
        "os.environ[\"CUBLAS_WORKSPACE_CONFIG\"]=\":4096:8\""
      ]
    },
    {
      "attachments": {},
      "cell_type": "markdown",
      "metadata": {
        "id": "Tt_kVGeZBJZo"
      },
      "source": [
        "#### Load pre-processed data\n",
        "Data has been pre-processed and saved as pkl file.\n",
        "\n",
        "- conditions_seqs = [pid, [conditions]]\n",
        "- condition_codes = [code, frequency_count]\n",
        "- ages = [pid, [age for each condition]]"
      ]
    },
    {
      "cell_type": "code",
      "execution_count": 22,
      "metadata": {
        "colab": {
          "base_uri": "https://localhost:8080/"
        },
        "id": "Hf_4wsLcBJZo",
        "outputId": "1f83167d-5f79-4b65-88d9-ff376d10a36b"
      },
      "outputs": [
        {
          "name": "stdout",
          "output_type": "stream",
          "text": [
            "Condition sequences: \n",
            "      pid                                         conditions\n",
            "0  176101  [1572199, SEP, 35207924, SEP, 35209141, SEP, 1...\n",
            "1  176102  [35207924, 35211387, SEP, 1569634, SEP, 157606...\n",
            "2  176103  [1570669, SEP, 1570669, SEP, 35208969, SEP, 35...\n",
            "3  176104  [35208969, SEP, 35208968, 35208969, SEP, 35208...\n",
            "4  176105  [1568078, 1569178, 1572190, 1572239, SEP, 1568...\n",
            "Age sequences:\n",
            "      pid                                               ages\n",
            "0  176101  [947, 947, 947, 947, 949, 949, 949, 949, 949, ...\n",
            "1  176102  [230, 230, 230, 262, 262, 263, 263, 267, 267, ...\n",
            "2  176103           [664, 664, 666, 666, 672, 672, 684, 684]\n",
            "3  176104  [623, 623, 623, 623, 623, 623, 623, 623, 625, ...\n",
            "4  176105  [683, 683, 683, 683, 683, 684, 684, 684, 689, ...\n",
            "Condition codes:\n",
            "  condition                                     condition_name  counts\n",
            "0     10851  Sprain of joints and ligaments of other parts ...    4323\n",
            "1     11803                Sprain of ligaments of lumbar spine    4293\n",
            "2   1567286                                       Other sepsis    3217\n",
            "3   1567391                Viral infection of unspecified site    4177\n",
            "4   1567392                                    Dermatophytosis    4198\n"
          ]
        }
      ],
      "source": [
        "# Load pickle files\n",
        "conditions_seqs = pickle.load(open(file_config[\"data\"], 'rb'))\n",
        "age_seqs = pickle.load(open(file_config[\"ages\"], 'rb'))\n",
        "condition_codes = pickle.load(open(file_config[\"vocab\"], 'rb'))\n",
        "\n",
        "print(f\"Condition sequences: \\n{conditions_seqs.head()}\")\n",
        "print(f\"Age sequences:\\n{age_seqs.head()}\")\n",
        "print(f\"Condition codes:\\n{condition_codes.head()}\")\n",
        "\n",
        "# convert to numpy array\n",
        "conditions_seqs = np.array(conditions_seqs[\"conditions\"])\n",
        "age_seqs = np.array(age_seqs[\"ages\"])\n",
        "\n",
        "# Keep only a small size for training\n",
        "if (global_params[\"training_sample\"] > 0):\n",
        "    conditions_seqs = conditions_seqs[:global_params[\"training_sample\"]]\n",
        "    age_seqs = age_seqs[:global_params[\"training_sample\"]]\n"
      ]
    },
    {
      "cell_type": "code",
      "execution_count": 23,
      "metadata": {
        "colab": {
          "base_uri": "https://localhost:8080/"
        },
        "id": "Qn4L91F9BJZp",
        "outputId": "b88d834e-4385-46f9-eee9-999e6d4f571a"
      },
      "outputs": [
        {
          "name": "stdout",
          "output_type": "stream",
          "text": [
            "Number of patients: 2000\n",
            "Max number of code sequences: 388\n",
            "Max number of age sequences: 388\n"
          ]
        }
      ],
      "source": [
        "# Get the max number of visits per patient for all patients\n",
        "max_code_seqs = np.max([len(seq) for seq in conditions_seqs])\n",
        "max_age_seqs = np.max([len(seq) for seq in age_seqs])\n",
        "\n",
        "# Inspect sequence data\n",
        "print(f\"Number of patients: {len(conditions_seqs)}\")\n",
        "print(f\"Max number of code sequences: {max_code_seqs}\")\n",
        "print(f\"Max number of age sequences: {max_age_seqs}\")\n",
        "\n"
      ]
    },
    {
      "attachments": {},
      "cell_type": "markdown",
      "metadata": {},
      "source": [
        "#### Build ageVocab\n",
        "This allows conversion between a person's age to an index or an index to age."
      ]
    },
    {
      "cell_type": "code",
      "execution_count": 24,
      "metadata": {},
      "outputs": [],
      "source": [
        "age2idx, idx2age = utils.age_vocab(max_age=110, mon=global_params[\"age_month\"])\n",
        "\n",
        "ageVocab = {\n",
        "    'token2idx': age2idx,\n",
        "    'idx2token': idx2age\n",
        "}\n",
        "\n",
        "assert ageVocab['token2idx'][\"30\"] == 32\n",
        "assert ageVocab['idx2token'][30] == \"28\""
      ]
    },
    {
      "cell_type": "markdown",
      "metadata": {
        "id": "8LbMHMCUBJZs"
      },
      "source": [
        "#### Build code from/to index vocab for condition codes\n",
        "The vocab will be used to convert from/to condition codes and indexes.\n",
        "All the diagnosis codes are loaded from the diag_codes.pkl file."
      ]
    },
    {
      "cell_type": "code",
      "execution_count": 25,
      "metadata": {
        "colab": {
          "base_uri": "https://localhost:8080/"
        },
        "id": "OLHZ-XR6BJZt",
        "outputId": "8dce8f14-778f-49c5-ee6a-6d18b449cb1d"
      },
      "outputs": [
        {
          "name": "stdout",
          "output_type": "stream",
          "text": [
            "10851\n"
          ]
        }
      ],
      "source": [
        "conditionsVocab = utils.get_codes_vocab(file_config['vocab'])\n",
        "\n",
        "print(conditionsVocab['idx2token'][5])\n",
        "\n",
        "assert conditionsVocab['idx2token'][5] == \"10851\"\n",
        "assert conditionsVocab['token2idx'][\"10851\"] == 5\n"
      ]
    },
    {
      "cell_type": "markdown",
      "metadata": {
        "id": "FzuVtN-QBJZt"
      },
      "source": [
        "### View distribution of condition codes.\n",
        "We removed conditions with less than 3000 ocurrences but it is good to see the prevalence of the remaining conditions."
      ]
    },
    {
      "cell_type": "code",
      "execution_count": 12,
      "metadata": {
        "colab": {
          "base_uri": "https://localhost:8080/"
        },
        "id": "HSIB0ZzmCpEt",
        "outputId": "7fa81296-e337-45d2-da3d-1a15ee7cfbee"
      },
      "outputs": [],
      "source": [
        "if not local_mode:\n",
        "    %pip install mplcursors"
      ]
    },
    {
      "cell_type": "code",
      "execution_count": 26,
      "metadata": {
        "colab": {
          "base_uri": "https://localhost:8080/",
          "height": 445
        },
        "id": "oG3EbfukBJZt",
        "outputId": "9373c516-9ceb-4238-d614-c5f60924575f"
      },
      "outputs": [
        {
          "data": {
            "image/png": "[encoded data removed]",
            "text/plain": [
              "<Figure size 720x360 with 1 Axes>"
            ]
          },
          "metadata": {},
          "output_type": "display_data"
        }
      ],
      "source": [
        "from matplotlib import pyplot as plt\n",
        "import mplcursors\n",
        "\n",
        "fig, ax = plt.subplots(figsize=(10, 5))\n",
        "scatter = ax.scatter(condition_codes.index, condition_codes[\"counts\"])\n",
        "\n",
        "mplcursor = mplcursors.cursor(scatter, hover=True)\n",
        "mplcursor.connect(\"add\", lambda sel: sel.annotation.set_text(\n",
        "    condition_codes[sel.target.index][\"condition\"]))\n",
        "\n",
        "\n",
        "plt.show()\n"
      ]
    },
    {
      "cell_type": "markdown",
      "metadata": {
        "id": "PoZN0AE7BJZv"
      },
      "source": [
        "### Create a collate function to flatten the diagnosis codes\n",
        "\n",
        "The seqs data has the following format: \n",
        "[pid, vid, [diagnosis codes]]"
      ]
    },
    {
      "cell_type": "code",
      "execution_count": 27,
      "metadata": {
        "id": "s-7Pm0UgBJZv"
      },
      "outputs": [],
      "source": [
        "class Collator:\n",
        "\n",
        "    def __call__(self, data):\n",
        "        \"\"\"\n",
        "            Arguments:\n",
        "                data: a list of samples fetched from 'MLMDataset'\n",
        "\n",
        "            Outputs:\n",
        "                code_seqs: a tensor of shape (# patients, len(condition_codes))\n",
        "                age_seqs: A tensor of shape(# patients, max_age)\n",
        "        \"\"\"\n",
        "        pass\n",
        "\n",
        "collate_fn = Collator()\n"
      ]
    },
    {
      "attachments": {},
      "cell_type": "markdown",
      "metadata": {
        "id": "6Fv7Z3nHBJZv"
      },
      "source": [
        "### Define custom dataset"
      ]
    },
    {
      "cell_type": "code",
      "execution_count": 28,
      "metadata": {
        "id": "eJiaH88IBJZw"
      },
      "outputs": [],
      "source": [
        "from torch.utils.data.dataset import Dataset\n",
        "import numpy as np\n",
        "import torch\n",
        "\n",
        "\n",
        "class MLMDataset(Dataset):\n",
        "    \"\"\"\n",
        "        Dataloader for MLM task. \n",
        "        The input is a list of tokens specified by datafrmae and the output is a list of tokens with masking.\n",
        "        The output is used to train the model to predict the masked tokens.\n",
        "\n",
        "        The dataloaer will return the following:\n",
        "            code: list = list of tokens\n",
        "            age: list = list of age of the patient\n",
        "           \n",
        "            position: list = list of position indexes\n",
        "            segmentation: list = list of segment indexes\n",
        "            mask: list = list of mask indexes  (1 indicate the token is masked)\n",
        "            label: list = list of label indexes (the label is the index of the token in the original tokens)\n",
        "\n",
        "        the input dataframe must have the following columns:\n",
        "            code: list = list of tokens\n",
        "            age: list = list of age of the patient\n",
        "\n",
        "    \"\"\"\n",
        "\n",
        "    def __init__(self, code_seqs, age_seqs, token2idx, age2idx, max_len, code='code', age='age'):\n",
        "        self.max_len = max_len\n",
        "\n",
        "        self.code_seqs = code_seqs\n",
        "        self.age_seqs = age_seqs\n",
        "\n",
        "        self.token2idx = token2idx\n",
        "        self.age2idx = age2idx\n",
        "\n",
        "    def __getitem__(self, index):\n",
        "        \"\"\"\n",
        "        return: age, code, position, segmentation, mask, label\n",
        "        \"\"\"\n",
        "\n",
        "        # extract data\n",
        "        code_tokens = self.code_seqs[index][(-self.max_len+1):]\n",
        "        age_tokens = self.age_seqs[index][(-self.max_len+1):]\n",
        "\n",
        "        # avoid data cut with first element to be 'SEP'\n",
        "        if code_tokens[0] != 'CLS':\n",
        "            code_tokens = np.append(np.array(['CLS']), code_tokens)\n",
        "            age_tokens = np.append(age_tokens[0], age_tokens)\n",
        "\n",
        "        # mask 0:len(code) to 1, padding to be 0\n",
        "        mask = np.ones(self.max_len)\n",
        "        mask[len(code_tokens):] = 0\n",
        "        num_tokens = len(code_tokens)\n",
        "\n",
        "        # Get index for Unknown symbol and Pad symbol\n",
        "        pad_symbol = self.token2idx.get('PAD')\n",
        "\n",
        "        # Pad age sequences\n",
        "        age_tokens = utils.seq_padding(age_tokens, self.max_len, token2idx=self.age2idx)\n",
        "\n",
        "        # Masking: get masked code and label. Token -> Index\n",
        "        out_tokens, label = utils.random_mask(code_tokens, token2idx=self.token2idx)\n",
        "        code_tokens = utils.seq_padding(code_tokens, self.max_len)\n",
        "\n",
        "        # get the number of masked tokens\n",
        "        #n_mask = (torch.tensor(label) != -1).sum().item()\n",
        "        #print(f\"Index: {index}, Total: {num_tokens}, Masked tokens: {n_mask}, Percentage: {n_mask/num_tokens*100:.2f}%\")\n",
        "\n",
        "        # Additinal embeddings Position and Segment)\n",
        "        position = utils.position_idx(code_tokens)\n",
        "        segment = utils.index_seg(code_tokens)\n",
        "\n",
        "        # Pad tokens and lables\n",
        "        out_tokens = utils.seq_padding(out_tokens, self.max_len, symbol=pad_symbol)\n",
        "        label = utils.seq_padding(label, self.max_len, symbol=-1)     \n",
        "\n",
        "        return  torch.LongTensor(out_tokens), \\\n",
        "                torch.LongTensor(age_tokens), \\\n",
        "                torch.LongTensor(position), \\\n",
        "                torch.LongTensor(segment), \\\n",
        "                torch.LongTensor(mask), \\\n",
        "                torch.LongTensor(label)\n",
        "\n",
        "    def __len__(self):\n",
        "        return len(self.code_seqs)\n"
      ]
    },
    {
      "cell_type": "code",
      "execution_count": 29,
      "metadata": {
        "colab": {
          "base_uri": "https://localhost:8080/"
        },
        "id": "N2ooyo2FBJZx",
        "outputId": "e9d96302-47d7-4ba5-d325-e94b3d58b86a"
      },
      "outputs": [
        {
          "name": "stdout",
          "output_type": "stream",
          "text": [
            "Length dataset: 2000\n",
            "\n",
            "UNK\n"
          ]
        }
      ],
      "source": [
        "\n",
        "token2idx = conditionsVocab[\"token2idx\"]\n",
        "age2idx = ageVocab[\"token2idx\"]\n",
        "\n",
        "dataset = MLMDataset(conditions_seqs, age_seqs, token2idx,age2idx, max_len=global_params['max_seq_len'])\n",
        "\n",
        "print(f\"Length dataset: {len(dataset)}\\n\")\n",
        "\n",
        "if (global_params[\"training_sample\"] > 0):\n",
        "    assert len(\n",
        "        dataset) == global_params[\"training_sample\"], \"The number of records is not correct\"\n",
        "else:\n",
        "    assert len(dataset) == 54498, \"The number of records is not correct\"\n",
        "\n",
        "print(conditionsVocab[\"idx2token\"][4])"
      ]
    },
    {
      "cell_type": "code",
      "execution_count": 30,
      "metadata": {
        "colab": {
          "base_uri": "https://localhost:8080/"
        },
        "id": "UgGDNTlxBJZx",
        "outputId": "053e2209-b519-40d9-92b2-7e1440a52865"
      },
      "outputs": [
        {
          "name": "stdout",
          "output_type": "stream",
          "text": [
            "Input:\n",
            " tensor([  0, 254,   1, 133,   1, 133, 281, 133,   1, 133,   1, 133,   1, 133,\n",
            "          1, 133, 292,   1, 116, 133])\n",
            "\n",
            "Age:\n",
            "tensor([397, 397, 397, 411, 411, 412, 412, 412, 412, 412, 412, 412, 412, 412,\n",
            "        412, 412, 412, 412, 412, 412])\n",
            "\n",
            "Positions:\n",
            "tensor([0, 0, 0, 1, 1, 2, 2, 3, 3, 4, 4, 5, 5, 6, 6, 7, 7, 7, 8, 8])\n",
            "\n",
            "Segments:\n",
            "tensor([0, 0, 0, 1, 1, 0, 0, 1, 1, 0, 0, 1, 1, 0, 0, 1, 1, 1, 0, 0])\n",
            "\n",
            "tensor([1, 1, 1, 1, 1, 1, 1, 1, 1, 1])\n",
            "tensor([-1, -1, -1, -1, -1, -1,  1, -1, -1, -1])\n",
            "0 == CLS\n",
            "1 == SEP\n",
            "2 == PAD\n",
            "3 == MASK\n",
            "4 == UNK\n",
            "tensor([  3, 238, 275,   1,  96,   1, 203,   1,  78, 163])\n"
          ]
        }
      ],
      "source": [
        "# Test batch data\n",
        "from torch.utils.data import DataLoader\n",
        "\n",
        "def inspect_batch():\n",
        "    dataset = MLMDataset(conditions_seqs, age_seqs, token2idx, age2idx, max_len=global_params['max_seq_len'])\n",
        "    train_loader = DataLoader(dataset=dataset, batch_size=global_params['batch_size'], shuffle=False)\n",
        "    loader_iter = iter(train_loader)\n",
        "    batch = next(loader_iter)\n",
        "\n",
        "    batch = tuple(t.to(global_params['device']) for t in batch)\n",
        "    input_ids, age_ids, posi_ids, segment_ids, attMask, masked_label = batch\n",
        "    \n",
        "    # Token codes\n",
        "    p = 10\n",
        "    print(f\"Input:\\n {input_ids[p, 0:20]}\\n\")\n",
        "    print(f\"Age:\\n{age_ids[p, 0:20]}\\n\")\n",
        "    print(f\"Positions:\\n{posi_ids[p, 0:20]}\\n\")\n",
        "    print(f\"Segments:\\n{segment_ids[p, 0:20]}\\n\")\n",
        "\n",
        "    print(attMask[p, 0:10])\n",
        "    print(masked_label[p, 0:10])\n",
        "\n",
        "    # Coditions vocab\n",
        "    for i in range(5):\n",
        "      print(f\"{i} == {conditionsVocab['idx2token'][i]}\")\n",
        "\n",
        "    # Display input ids for the 2nd record in the batch\n",
        "    print(input_ids[1, 0:10])\n",
        "\n",
        "inspect_batch()\n",
        "     "
      ]
    },
    {
      "cell_type": "code",
      "execution_count": 31,
      "metadata": {
        "id": "4Np8-oq3BJZy"
      },
      "outputs": [],
      "source": [
        "from torch.utils.data import DataLoader\n",
        "\n",
        "train_loader = DataLoader(dataset=dataset, batch_size=global_params['batch_size'], shuffle=True)\n",
        "\n",
        "loader_iter = iter(train_loader)\n",
        "code_tokens, age_tokens, position, segment, mask, label = next(loader_iter)\n",
        "\n",
        "assert code_tokens.shape == (global_params['batch_size'], global_params['max_seq_len'])\n",
        "assert age_tokens.shape == (global_params['batch_size'], global_params['max_seq_len'])\n",
        "assert position.shape == (global_params['batch_size'], global_params['max_seq_len'])\n",
        "assert segment.shape == (global_params['batch_size'], global_params['max_seq_len'])\n"
      ]
    },
    {
      "attachments": {},
      "cell_type": "markdown",
      "metadata": {
        "id": "oks1uW0PBJZy"
      },
      "source": [
        "### Pre-taining BEHRT"
      ]
    },
    {
      "attachments": {},
      "cell_type": "markdown",
      "metadata": {},
      "source": [
        "##### Define BERT model configuration"
      ]
    },
    {
      "cell_type": "code",
      "execution_count": 35,
      "metadata": {
        "id": "8u9Mihm3BJZy"
      },
      "outputs": [],
      "source": [
        "model_config = {\n",
        "    # number of disease + symbols for word embedding\n",
        "    'vocab_size': len(conditionsVocab['token2idx'].keys()),\n",
        "\n",
        "    # word embedding and seg embedding hidden size  \n",
        "    'hidden_size': global_params['hidden_size'],\n",
        "\n",
        "    # number of vocab for seg embedding\n",
        "    'seg_vocab_size': 2,  \n",
        "\n",
        "    # number of vocab for age embedding\n",
        "    'age_vocab_size': len(ageVocab['token2idx'].keys()),\n",
        "    \n",
        "    # maximum number of tokens\n",
        "    'max_position_embedding': global_params['max_seq_len'],\n",
        "\n",
        "    # dropout rate\n",
        "    'hidden_dropout_prob': 0.1, \n",
        "\n",
        "    # number of multi-head attention layers required\n",
        "    'num_hidden_layers': global_params['num_hidden_layers'] ,  \n",
        "\n",
        "    # number of attention heads\n",
        "    'num_attention_heads': global_params['attention_heads'], \n",
        "\n",
        "    # multi-head attention dropout rate\n",
        "    'attention_probs_dropout_prob': 0.1,  \n",
        "\n",
        "    # the size of the \"intermediate\" layer in the transformer encoder\n",
        "    'intermediate_size': 512,\n",
        "\n",
        "    # The non-linear activation function in the encoder and the pooler \"gelu\", 'relu', 'swish' are supported\n",
        "    'hidden_act': 'gelu',\n",
        "\n",
        "    # The layer normalization epsilon\n",
        "    'initializer_range': 0.02, \n",
        "}"
      ]
    },
    {
      "cell_type": "code",
      "execution_count": 36,
      "metadata": {
        "colab": {
          "base_uri": "https://localhost:8080/"
        },
        "id": "1WzYah5mDSyp",
        "outputId": "1dfe5b6a-4699-48ef-d813-0a804e47b264"
      },
      "outputs": [],
      "source": [
        "if not local_mode:\n",
        "    %pip install pytorch_pretrained_bert"
      ]
    },
    {
      "cell_type": "code",
      "execution_count": 37,
      "metadata": {
        "colab": {
          "base_uri": "https://localhost:8080/"
        },
        "id": "EpqTOfkfBJZz",
        "outputId": "6750740c-4439-4a73-f8f7-8a7b82fcbeb9"
      },
      "outputs": [
        {
          "data": {
            "text/plain": [
              "BertForMaskedLM(\n",
              "  (bert): BertModel(\n",
              "    (embeddings): BertEmbeddings(\n",
              "      (word_embeddings): Embedding(301, 72)\n",
              "      (segment_embeddings): Embedding(2, 72)\n",
              "      (age_embeddings): Embedding(1322, 72)\n",
              "      (posi_embeddings): Embedding(256, 72)\n",
              "      (LayerNorm): BertLayerNorm()\n",
              "      (dropout): Dropout(p=0.1, inplace=False)\n",
              "    )\n",
              "    (encoder): BertEncoder(\n",
              "      (layer): ModuleList(\n",
              "        (0): BertLayer(\n",
              "          (attention): BertAttention(\n",
              "            (self): BertSelfAttention(\n",
              "              (query): Linear(in_features=72, out_features=72, bias=True)\n",
              "              (key): Linear(in_features=72, out_features=72, bias=True)\n",
              "              (value): Linear(in_features=72, out_features=72, bias=True)\n",
              "              (dropout): Dropout(p=0.1, inplace=False)\n",
              "            )\n",
              "            (output): BertSelfOutput(\n",
              "              (dense): Linear(in_features=72, out_features=72, bias=True)\n",
              "              (LayerNorm): BertLayerNorm()\n",
              "              (dropout): Dropout(p=0.1, inplace=False)\n",
              "            )\n",
              "          )\n",
              "          (intermediate): BertIntermediate(\n",
              "            (dense): Linear(in_features=72, out_features=512, bias=True)\n",
              "          )\n",
              "          (output): BertOutput(\n",
              "            (dense): Linear(in_features=512, out_features=72, bias=True)\n",
              "            (LayerNorm): BertLayerNorm()\n",
              "            (dropout): Dropout(p=0.1, inplace=False)\n",
              "          )\n",
              "        )\n",
              "        (1): BertLayer(\n",
              "          (attention): BertAttention(\n",
              "            (self): BertSelfAttention(\n",
              "              (query): Linear(in_features=72, out_features=72, bias=True)\n",
              "              (key): Linear(in_features=72, out_features=72, bias=True)\n",
              "              (value): Linear(in_features=72, out_features=72, bias=True)\n",
              "              (dropout): Dropout(p=0.1, inplace=False)\n",
              "            )\n",
              "            (output): BertSelfOutput(\n",
              "              (dense): Linear(in_features=72, out_features=72, bias=True)\n",
              "              (LayerNorm): BertLayerNorm()\n",
              "              (dropout): Dropout(p=0.1, inplace=False)\n",
              "            )\n",
              "          )\n",
              "          (intermediate): BertIntermediate(\n",
              "            (dense): Linear(in_features=72, out_features=512, bias=True)\n",
              "          )\n",
              "          (output): BertOutput(\n",
              "            (dense): Linear(in_features=512, out_features=72, bias=True)\n",
              "            (LayerNorm): BertLayerNorm()\n",
              "            (dropout): Dropout(p=0.1, inplace=False)\n",
              "          )\n",
              "        )\n",
              "        (2): BertLayer(\n",
              "          (attention): BertAttention(\n",
              "            (self): BertSelfAttention(\n",
              "              (query): Linear(in_features=72, out_features=72, bias=True)\n",
              "              (key): Linear(in_features=72, out_features=72, bias=True)\n",
              "              (value): Linear(in_features=72, out_features=72, bias=True)\n",
              "              (dropout): Dropout(p=0.1, inplace=False)\n",
              "            )\n",
              "            (output): BertSelfOutput(\n",
              "              (dense): Linear(in_features=72, out_features=72, bias=True)\n",
              "              (LayerNorm): BertLayerNorm()\n",
              "              (dropout): Dropout(p=0.1, inplace=False)\n",
              "            )\n",
              "          )\n",
              "          (intermediate): BertIntermediate(\n",
              "            (dense): Linear(in_features=72, out_features=512, bias=True)\n",
              "          )\n",
              "          (output): BertOutput(\n",
              "            (dense): Linear(in_features=512, out_features=72, bias=True)\n",
              "            (LayerNorm): BertLayerNorm()\n",
              "            (dropout): Dropout(p=0.1, inplace=False)\n",
              "          )\n",
              "        )\n",
              "      )\n",
              "    )\n",
              "    (pooler): BertPooler(\n",
              "      (dense): Linear(in_features=72, out_features=72, bias=True)\n",
              "      (activation): Tanh()\n",
              "    )\n",
              "  )\n",
              "  (cls): BertOnlyMLMHead(\n",
              "    (predictions): BertLMPredictionHead(\n",
              "      (transform): BertPredictionHeadTransform(\n",
              "        (dense): Linear(in_features=72, out_features=72, bias=True)\n",
              "        (LayerNorm): BertLayerNorm()\n",
              "      )\n",
              "      (decoder): Linear(in_features=72, out_features=301, bias=False)\n",
              "    )\n",
              "  )\n",
              ")"
            ]
          },
          "execution_count": 37,
          "metadata": {},
          "output_type": "execute_result"
        }
      ],
      "source": [
        "import models\n",
        "import pytorch_pretrained_bert as Bert\n",
        "import sklearn.metrics as skm\n",
        "\n",
        "import models.BertConfig as BertConfig\n",
        "import models.MLM as MLM\n",
        "from models.optimizer import adam\n",
        "\n",
        "conf = BertConfig.BertConfig(model_config)\n",
        "model = MLM.BertForMaskedLM(conf)\n",
        "model"
      ]
    },
    {
      "cell_type": "code",
      "execution_count": 38,
      "metadata": {
        "colab": {
          "base_uri": "https://localhost:8080/"
        },
        "id": "T3UBaFLSBJZz",
        "outputId": "c9335e90-5f2d-4822-cccc-b5de26f0ef8f"
      },
      "outputs": [
        {
          "name": "stderr",
          "output_type": "stream",
          "text": [
            "t_total value of -1 results in schedule not being applied\n"
          ]
        }
      ],
      "source": [
        "model = model.to(global_params['device'])\n",
        "optim = adam(params=list(model.named_parameters()), config=optim_param)\n"
      ]
    },
    {
      "cell_type": "code",
      "execution_count": 39,
      "metadata": {
        "id": "Ra0pTkvhBJZ0"
      },
      "outputs": [],
      "source": [
        "def cal_acc(label, pred):\n",
        "    logs = nn.LogSoftmax()\n",
        "    \n",
        "    label = label.cpu().numpy()\n",
        "\n",
        "    # Exclude tokens that were not masked\n",
        "    ind = np.where(label != -1)[0]\n",
        "\n",
        "    # Get True label\n",
        "    truelabel = label[ind]\n",
        "\n",
        "    # Get the true prediction\n",
        "    truepred = pred.detach().cpu().numpy()\n",
        "    truepred = truepred[ind]\n",
        "    truepred = logs(torch.tensor(truepred))\n",
        "    outs = [np.argmax(pred_x) for pred_x in truepred.numpy()]\n",
        "\n",
        "    # Calculate precision\n",
        "    precision = skm.precision_score(truelabel, outs, average='micro')\n",
        "\n",
        "    return precision\n"
      ]
    },
    {
      "cell_type": "code",
      "execution_count": 40,
      "metadata": {
        "id": "uhPjyDWwBJZ1"
      },
      "outputs": [],
      "source": [
        "def train(e, loader):\n",
        "    tr_loss = 0\n",
        "    temp_loss = 0\n",
        "    nb_tr_examples, nb_tr_steps = 0, 0\n",
        "    cnt = 0\n",
        "    start = time.time()\n",
        "\n",
        "    for step, batch in enumerate(loader):\n",
        "        cnt += 1\n",
        "        batch = tuple(t.to(global_params['device']) for t in batch)\n",
        "        token_ids, age_ids, posi_ids, segment_ids, attMask, masked_label = batch\n",
        "\n",
        "        # Call Bert Model\n",
        "        loss, pred, label= model(token_ids, age_ids, segment_ids, posi_ids,attention_mask=attMask, masked_lm_labels=masked_label)\n",
        "\n",
        "        if global_params['gradient_accumulation_steps'] > 1:\n",
        "            loss = loss/global_params['gradient_accumulation_steps']\n",
        "            \n",
        "        loss.backward()\n",
        "\n",
        "        temp_loss += loss.item()\n",
        "        tr_loss += loss.item()\n",
        "\n",
        "        # TBD: Remove? They are not used anywhere\n",
        "        nb_tr_examples += token_ids.size(0)\n",
        "        nb_tr_steps += 1\n",
        "\n",
        "        if step % 200 == 0:\n",
        "            print(\"epoch: {}\\t| cnt: {}\\t|Loss: {}\\t| precision: {:.4f}\\t| time: {:.2f}\".format(\n",
        "                e, cnt, temp_loss/200, cal_acc(label, pred), time.time()-start))\n",
        "            temp_loss = 0\n",
        "            start = time.time()\n",
        "\n",
        "        if (step + 1) % global_params['gradient_accumulation_steps'] == 0:\n",
        "            optim.step()\n",
        "            optim.zero_grad()\n",
        "\n",
        "    print(\"** ** * Saving fine - tuned model ** ** * \")\n",
        "    model_to_save = model.module if hasattr(model, 'module') else model  # Only save the model it-self\n",
        "    \n",
        "    utils.create_folder(file_config['model_path'])\n",
        "    output_model_file = os.path.join(file_config['model_path'], file_config['model_name'] +'.pt')\n",
        "    torch.save(model_to_save.state_dict(), output_model_file)\n",
        "        \n",
        "    cost = time.time() - start\n",
        "    return tr_loss, cost"
      ]
    },
    {
      "attachments": {},
      "cell_type": "markdown",
      "metadata": {},
      "source": [
        "#### Train MLM model\n",
        "Train model, get token embeddings and save to disk."
      ]
    },
    {
      "cell_type": "code",
      "execution_count": 41,
      "metadata": {
        "colab": {
          "base_uri": "https://localhost:8080/",
          "height": 1000
        },
        "id": "o-Vx6GbZBJZ1",
        "outputId": "b0ad21a1-27fc-40a9-91eb-d4c352cd5b56"
      },
      "outputs": [
        {
          "name": "stdout",
          "output_type": "stream",
          "text": [
            "epoch\tloss\ttime\n",
            "\n"
          ]
        },
        {
          "name": "stderr",
          "output_type": "stream",
          "text": [
            "C:\\Users\\birhanu.digafe\\AppData\\Local\\Temp\\ipykernel_15848\\939496931.py:15: UserWarning: Implicit dimension choice for log_softmax has been deprecated. Change the call to include dim=X as an argument.\n",
            "  truepred = logs(torch.tensor(truepred))\n",
            "c:\\Python39\\lib\\site-packages\\pytorch_pretrained_bert\\optimization.py:275: UserWarning: This overload of add_ is deprecated:\n",
            "\tadd_(Number alpha, Tensor other)\n",
            "Consider using one of the following signatures instead:\n",
            "\tadd_(Tensor other, *, Number alpha) (Triggered internally at C:\\actions-runner\\_work\\pytorch\\pytorch\\builder\\windows\\pytorch\\torch\\csrc\\utils\\python_arg_parser.cpp:1420.)\n",
            "  next_m.mul_(beta1).add_(1 - beta1, grad)\n"
          ]
        },
        {
          "name": "stdout",
          "output_type": "stream",
          "text": [
            "epoch: 0\t| cnt: 1\t|Loss: 0.002889216423034668\t| precision: 0.0019\t| time: 9.65\n",
            "** ** * Saving fine - tuned model ** ** * \n"
          ]
        },
        {
          "name": "stderr",
          "output_type": "stream",
          "text": [
            "C:\\Users\\birhanu.digafe\\AppData\\Local\\Temp\\ipykernel_15848\\939496931.py:15: UserWarning: Implicit dimension choice for log_softmax has been deprecated. Change the call to include dim=X as an argument.\n",
            "  truepred = logs(torch.tensor(truepred))\n"
          ]
        },
        {
          "name": "stdout",
          "output_type": "stream",
          "text": [
            "epoch: 1\t| cnt: 1\t|Loss: 0.0026372926235198975\t| precision: 0.3666\t| time: 9.21\n",
            "** ** * Saving fine - tuned model ** ** * \n"
          ]
        },
        {
          "name": "stderr",
          "output_type": "stream",
          "text": [
            "C:\\Users\\birhanu.digafe\\AppData\\Local\\Temp\\ipykernel_15848\\939496931.py:15: UserWarning: Implicit dimension choice for log_softmax has been deprecated. Change the call to include dim=X as an argument.\n",
            "  truepred = logs(torch.tensor(truepred))\n"
          ]
        },
        {
          "name": "stdout",
          "output_type": "stream",
          "text": [
            "epoch: 2\t| cnt: 1\t|Loss: 0.002478182077407837\t| precision: 0.3714\t| time: 11.95\n",
            "** ** * Saving fine - tuned model ** ** * \n"
          ]
        },
        {
          "name": "stderr",
          "output_type": "stream",
          "text": [
            "C:\\Users\\birhanu.digafe\\AppData\\Local\\Temp\\ipykernel_15848\\939496931.py:15: UserWarning: Implicit dimension choice for log_softmax has been deprecated. Change the call to include dim=X as an argument.\n",
            "  truepred = logs(torch.tensor(truepred))\n"
          ]
        },
        {
          "name": "stdout",
          "output_type": "stream",
          "text": [
            "epoch: 3\t| cnt: 1\t|Loss: 0.002415282726287842\t| precision: 0.3713\t| time: 10.69\n",
            "** ** * Saving fine - tuned model ** ** * \n"
          ]
        },
        {
          "name": "stderr",
          "output_type": "stream",
          "text": [
            "C:\\Users\\birhanu.digafe\\AppData\\Local\\Temp\\ipykernel_15848\\939496931.py:15: UserWarning: Implicit dimension choice for log_softmax has been deprecated. Change the call to include dim=X as an argument.\n",
            "  truepred = logs(torch.tensor(truepred))\n"
          ]
        },
        {
          "name": "stdout",
          "output_type": "stream",
          "text": [
            "epoch: 4\t| cnt: 1\t|Loss: 0.0023393056392669678\t| precision: 0.3846\t| time: 10.99\n",
            "** ** * Saving fine - tuned model ** ** * \n"
          ]
        }
      ],
      "source": [
        "f = open(os.path.join(file_config['model_path'],file_config['log_file_name']), \"w\")\n",
        "print('{}\\t{}\\t{}\\n'.format('epoch', 'loss', 'time'))\n",
        "\n",
        "model.train(True)\n",
        "\n",
        "for e in range(global_params[\"num_epochs\"]):\n",
        "    loss, time_cost = train(e, train_loader)\n",
        "    data_len = len(train_loader)\n",
        "    loss = loss/data_len\n",
        "\n",
        "    f.write('{}\\t{}\\t{}\\n'.format(e, loss, time_cost))\n",
        "f.close()\n"
      ]
    },
    {
      "cell_type": "markdown",
      "metadata": {},
      "source": [
        "#### Reload the model from disk"
      ]
    },
    {
      "cell_type": "code",
      "execution_count": null,
      "metadata": {},
      "outputs": [],
      "source": [
        "output_model_file = os.path.join(file_config['model_path'], file_config['model_name']) + '.pt'\n",
        "model.eval()\n",
        "\n",
        "data = torch.load(output_model_file, map_location='cpu')\n",
        "print(data.keys())\n",
        "word_embedding = data['bert.embeddings.word_embeddings.weight']\n",
        "print(word_embedding.shape)\n"
      ]
    },
    {
      "cell_type": "markdown",
      "metadata": {},
      "source": [
        "#### Map the word embedding to the original vocab in 2D space"
      ]
    },
    {
      "cell_type": "code",
      "execution_count": null,
      "metadata": {},
      "outputs": [],
      "source": [
        "from sklearn.cluster import KMeans\n",
        "from sklearn.decomposition import PCA\n",
        "import mpld3\n",
        "\n",
        "# This does not work when wrapped inside a function\n",
        "# Reduce dimensions 301 -> 2\n",
        "data = word_embedding\n",
        "pca = PCA(n_components=2).fit_transform(data)\n",
        "kmeans = KMeans(n_clusters=20, n_init=1)\n",
        "kmeans.fit(pca)\n",
        "\n",
        "# Obtain labels for each point to use as a color\n",
        "x = pca[:, 0]\n",
        "y = pca[:, 1]\n",
        "c = kmeans.predict(np.c_[x, y])\n",
        "\n",
        "# plot\n",
        "fig = plt.figure( figsize=(15,8), facecolor=\"white\", edgecolor='white')\n",
        "ax = fig.add_subplot()\n",
        "scatter = ax.scatter(x, y, c=c, cmap='rainbow')\n",
        "ax.set_facecolor(\"white\")\n",
        "plt.rcParams['axes.facecolor'] = 'gray'\n",
        "\n",
        "# Create the tooltip\n",
        "labels = []\n",
        "for i in range(5, len(x)):\n",
        "    code = conditionsVocab[\"idx2token\"][i]\n",
        "    label = condition_codes[condition_codes[\"condition\"] == str(code)][\"condition_name\"].values[0]\n",
        "    labels.append(label)\n",
        "\n",
        "tooltip = mpld3.plugins.PointLabelTooltip(scatter, labels=labels)\n",
        "\n",
        "# Add the tooltip to the plot\n",
        "mpld3.plugins.connect(fig, tooltip )\n",
        "\n",
        "# Display the plot\n",
        "mpld3.display()\n"
      ]
    }
  ],
  "metadata": {
    "accelerator": "GPU",
    "colab": {
      "provenance": []
    },
    "gpuClass": "standard",
    "kernelspec": {
      "display_name": "Python 3",
      "language": "python",
      "name": "python3"
    },
    "language_info": {
      "codemirror_mode": {
        "name": "ipython",
        "version": 3
      },
      "file_extension": ".py",
      "mimetype": "text/x-python",
      "name": "python",
      "nbconvert_exporter": "python",
      "pygments_lexer": "ipython3",
      "version": "3.9.11"
    },
    "orig_nbformat": 4,
    "vscode": {
      "interpreter": {
        "hash": "81794d4967e6c3204c66dcd87b604927b115b27c00565d3d43f05ba2f3a2cb0d"
      }
    }
  },
  "nbformat": 4,
  "nbformat_minor": 0
}
