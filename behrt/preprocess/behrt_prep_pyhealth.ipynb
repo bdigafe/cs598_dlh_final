{
 "cells": [
  {
   "cell_type": "code",
   "execution_count": 11,
   "metadata": {},
   "outputs": [],
   "source": [
    "import os\n",
    "from typing import Optional, List, Dict, Tuple, Union\n",
    "\n",
    "import pandas as pd\n",
    "from tqdm import tqdm\n",
    "\n",
    "from pyhealth.data import Event, Visit, Patient\n",
    "from pyhealth.datasets import BaseDataset\n",
    "from pyhealth.datasets.utils import strptime\n",
    "\n",
    "import  omop\n",
    "\n",
    "DATA_PATH = 'C:/Birhanu/Education/UIL/cs598/Final/data/'\n",
    "\n",
    "dataset = omop.OMOPDataset(\n",
    "    root=DATA_PATH,\n",
    "    tables=[\"condition_occurrence\"],\n",
    "    dev=True,\n",
    "    refresh_cache=False,\n",
    ")"
   ]
  },
  {
   "cell_type": "code",
   "execution_count": 12,
   "metadata": {},
   "outputs": [
    {
     "name": "stdout",
     "output_type": "stream",
     "text": [
      "\n",
      "Statistics of base dataset (dev=True):\n",
      "\t- Dataset: OMOPDataset\n",
      "\t- Number of patients: 1000\n",
      "\t- Number of visits: 60257\n",
      "\t- Number of visits per patient: 60.2570\n",
      "\t- Number of events per visit in condition_occurrence: 1.5698\n",
      "\n",
      "Patient dob: 1912-03-20 00:00:00\n",
      "First visit date: 1991-03-01 00:00:00\n",
      "Diagnosis codes: Event from patient 176101 visit 3537739:\n",
      "\t- Code: 1572199\n",
      "\t- Table: condition_occurrence\n",
      "\t- Vocabulary: CONDITION_CONCEPT_ID\n",
      "\t- Timestamp: None\n"
     ]
    }
   ],
   "source": [
    "dataset.stat()\n",
    "\n",
    "print(f\"Patient dob: {dataset.patients['176101'].birth_datetime}\")\n",
    "print(\n",
    "    f\"First visit date: {dataset.patients['176101'].visits['3537739'].encounter_time}\")\n",
    "print(\n",
    "    f\"Diagnosis codes: {dataset.patients['176101'].visits['3537739'].get_event_list('condition_occurrence')[0]}\")\n"
   ]
  }
 ],
 "metadata": {
  "kernelspec": {
   "display_name": "Python 3",
   "language": "python",
   "name": "python3"
  },
  "language_info": {
   "codemirror_mode": {
    "name": "ipython",
    "version": 3
   },
   "file_extension": ".py",
   "mimetype": "text/x-python",
   "name": "python",
   "nbconvert_exporter": "python",
   "pygments_lexer": "ipython3",
   "version": "3.9.11"
  },
  "orig_nbformat": 4,
  "vscode": {
   "interpreter": {
    "hash": "81794d4967e6c3204c66dcd87b604927b115b27c00565d3d43f05ba2f3a2cb0d"
   }
  }
 },
 "nbformat": 4,
 "nbformat_minor": 2
}
